{
 "cells": [
  {
   "cell_type": "markdown",
   "id": "a9722fea-7375-40cd-be0d-91abd54100a6",
   "metadata": {},
   "source": [
    "# Post processing scraped data\n",
    "\n",
    "This notebook processes the scraped data from Portal de la Reserca to create the Nodelist and Edgelist to plot in Gephi."
   ]
  },
  {
   "cell_type": "markdown",
   "id": "9d27f59b-cfdd-4f38-bcf0-38e4e5e44cd1",
   "metadata": {},
   "source": [
    "# Import modules"
   ]
  },
  {
   "cell_type": "code",
   "execution_count": 11,
   "id": "553d9af1-da9d-4718-b27a-45d4ef954fac",
   "metadata": {},
   "outputs": [],
   "source": [
    "import numpy as np\n",
    "import pandas as pd\n",
    "from ast import literal_eval"
   ]
  },
  {
   "cell_type": "markdown",
   "id": "7cd1a8a1-7f01-4a1c-9a2a-a547fde491bc",
   "metadata": {},
   "source": [
    "# Get researchers of interest"
   ]
  },
  {
   "cell_type": "code",
   "execution_count": 12,
   "id": "638ed263-ec72-4ffc-8980-74abcfdc0398",
   "metadata": {},
   "outputs": [],
   "source": [
    "res_df = pd.read_csv('./data/nodelist.csv')\n",
    "res_df_IGTP = res_df.loc[res_df['institution'] == 'IGTP']\n",
    "res_IGTP = res_df_IGTP['id'].unique()"
   ]
  },
  {
   "cell_type": "markdown",
   "id": "ae84a20d-e53d-44ef-8531-9acea4b5b4c8",
   "metadata": {
    "tags": []
   },
   "source": [
    "# Get edgelist"
   ]
  },
  {
   "cell_type": "code",
   "execution_count": 13,
   "id": "fafc0784-e9ed-4ffb-89ce-1024f95b3a21",
   "metadata": {
    "tags": []
   },
   "outputs": [],
   "source": [
    "# papers0_df = pd.read_csv('./data/papers_0.csv')\n",
    "# papers1_df = pd.read_csv('./data/papers_1.csv')\n",
    "# papers_df = papers0_df.append(papers1_df)\n",
    "# papers_df = papers_df.drop_duplicates()\n",
    "# papers_df.to_csv('./data/papers.csv', index=False)"
   ]
  },
  {
   "cell_type": "code",
   "execution_count": 16,
   "id": "bd169c8c-c782-41ca-bb57-b23543694331",
   "metadata": {},
   "outputs": [],
   "source": [
    "# papers_df = pd.read_csv('./data/papers.csv')"
   ]
  },
  {
   "cell_type": "code",
   "execution_count": 17,
   "id": "b4a6af0d-cb75-4703-bcf7-33bf743823e7",
   "metadata": {},
   "outputs": [],
   "source": [
    "# papers_df_backup = papers_df.copy()\n",
    "papers_df = papers_df_backup.copy()"
   ]
  },
  {
   "cell_type": "markdown",
   "id": "b6fecb30-b056-4f94-8c79-a9f8081f0b30",
   "metadata": {},
   "source": [
    "# Merge"
   ]
  },
  {
   "cell_type": "code",
   "execution_count": 18,
   "id": "504256bd-9cbb-47e4-9e1f-d217663f8079",
   "metadata": {
    "tags": []
   },
   "outputs": [],
   "source": [
    "def convert_to_list(x):\n",
    "    \"\"\"Convert string column to list\"\"\"\n",
    "    try:\n",
    "        result = literal_eval(x)\n",
    "    except ValueError:\n",
    "        result = np.nan\n",
    "    return result\n",
    "\n",
    "# Convert strings to list of coauthors\n",
    "papers_df['orcids'] = papers_df['orcids'].apply(lambda x: convert_to_list(x))\n",
    "\n",
    "def belongs_to_list(row, df):\n",
    "    try:\n",
    "        result = bool(set(row['orcids']) & set(df))\n",
    "    except TypeError:\n",
    "        result = False\n",
    "    return result\n",
    "\n",
    "# Identify authors in institution\n",
    "mask = papers_df.apply(lambda x: belongs_to_list(x, res_IGTP), axis=1)\n",
    "\n",
    "selected_df = papers_df[mask]"
   ]
  },
  {
   "cell_type": "code",
   "execution_count": null,
   "id": "2c22db2b-39a2-4f9c-be62-3353ff86998d",
   "metadata": {},
   "outputs": [],
   "source": [
    "# Save papers of IGTP researchers\n",
    "# selected_df.to_csv('./data/nodelist_IGTP.csv', index=None)"
   ]
  },
  {
   "cell_type": "markdown",
   "id": "fb671d0f-1814-4fca-98ba-a5f9b0dc5a38",
   "metadata": {},
   "source": [
    "# Todo\n",
    "1. Create boolean vector P for each paper of len(authors) that identifies coauthors.\n",
    "2. Create boolean vector C of coauthor focus. inner(C,P) = 1 if there is collaboration."
   ]
  },
  {
   "cell_type": "markdown",
   "id": "4cc37593-b67a-45ea-9189-2df47ac18cc1",
   "metadata": {},
   "source": [
    "### Create bollean vector P for each paper"
   ]
  },
  {
   "cell_type": "code",
   "execution_count": 19,
   "id": "9eee08e0-9305-45ed-9dac-a42b44fd59b8",
   "metadata": {},
   "outputs": [],
   "source": [
    "# Load papers\n",
    "selected_df = pd.read_csv('./data/nodelist_IGTP.csv', converters = {'orcids': eval})\n",
    "\n",
    "# selected_df['orcids'] = selected_df['orcids'].apply(lambda x: convert_to_list(x))\n",
    "\n",
    "# Test with n papers for debugging (max 2800)\n",
    "n = 100\n",
    "selected_df = selected_df[:n]\n",
    "\n",
    "# Get papers column\n",
    "papers = selected_df['orcids'].copy()\n",
    "papers = papers.reset_index(drop=True)\n",
    "\n",
    "# Get unique list of authors from papers\n",
    "authors_index = list(set(papers.sum()))\n",
    "authors_index.sort()\n",
    "\n",
    "# Create boolean matrix with papers\n",
    "paper_bool_df = pd.DataFrame(columns=authors_index, index=range(len(papers)))\n",
    "\n",
    "for i, paper in enumerate(papers):\n",
    "    paper_bool_df.loc[i,:] = 0\n",
    "    for orcid in paper:\n",
    "        paper_bool_df.loc[i,orcid] = 1"
   ]
  },
  {
   "cell_type": "markdown",
   "id": "5ff6c5a5-158e-448c-91be-70471e0033bb",
   "metadata": {},
   "source": [
    "### Create boolean matrix of coauthor combinations"
   ]
  },
  {
   "cell_type": "code",
   "execution_count": 21,
   "id": "8ec9920b-43a9-4101-a691-a5d9648bf48c",
   "metadata": {},
   "outputs": [],
   "source": [
    "# Create papers matrix in numpy\n",
    "papers_mat = paper_bool_df.to_numpy()\n",
    "\n",
    "# Creation collaboration vector to store results\n",
    "n_authors = len(authors_index)\n",
    "collabs = np.zeros(shape=(n_authors*n_authors))\n",
    "\n",
    "# Main loop to calculate collaborations\n",
    "# Initialize matrix\n",
    "C = np.identity(n_authors)\n",
    "    \n",
    "for i in range(1, n_authors-1): #last author loop is unnecessary\n",
    "    print(f\"Progress: {i/(n_authors-2)*100:.0f}%.\", end=\"\\r\")\n",
    "    \n",
    "    # Main inner product\n",
    "    result = np.dot(papers_mat, C)\n",
    "\n",
    "    # Calculate number of collaborations\n",
    "    result = result-1\n",
    "    result = result.clip(0)\n",
    "    collabs_author = result.sum(axis=0)\n",
    "\n",
    "    # Store in collabs vector\n",
    "    collabs[i*n_authors:(i+1)*n_authors] = collabs_author\n",
    "\n",
    "    # Update combination matrix for next loop\n",
    "    C[i] = 0\n",
    "    C[i+1] = 1\n",
    "    # Set columns\n",
    "    for j in range(i+1):\n",
    "        C[:,j] = 0"
   ]
  },
  {
   "cell_type": "code",
   "execution_count": 68,
   "id": "08ebacb9-41cb-44fb-88dc-5685fea41fc3",
   "metadata": {},
   "outputs": [
    {
     "data": {
      "text/plain": [
       "591.0"
      ]
     },
     "execution_count": 68,
     "metadata": {},
     "output_type": "execute_result"
    }
   ],
   "source": [
    "collabs.sum()"
   ]
  },
  {
   "cell_type": "code",
   "execution_count": null,
   "id": "59517d51-4128-42d6-b083-66211ca000f6",
   "metadata": {},
   "outputs": [],
   "source": [
    "# Save collaborations\n",
    "outfile = pd.DataFrame(links)\n",
    "outfile.to_csv('./data/edgelist_IGTP.csv')"
   ]
  },
  {
   "cell_type": "markdown",
   "id": "702b8ee5-40ee-44ef-88bc-3e66cd462249",
   "metadata": {},
   "source": [
    "# EXTRA CODE"
   ]
  }
 ],
 "metadata": {
  "kernelspec": {
   "display_name": "Python 3 (ipykernel)",
   "language": "python",
   "name": "python3"
  },
  "language_info": {
   "codemirror_mode": {
    "name": "ipython",
    "version": 3
   },
   "file_extension": ".py",
   "mimetype": "text/x-python",
   "name": "python",
   "nbconvert_exporter": "python",
   "pygments_lexer": "ipython3",
   "version": "3.9.6"
  }
 },
 "nbformat": 4,
 "nbformat_minor": 5
}
