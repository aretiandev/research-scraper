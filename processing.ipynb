{
 "cells": [
  {
   "cell_type": "markdown",
   "id": "a9722fea-7375-40cd-be0d-91abd54100a6",
   "metadata": {},
   "source": [
    "# Post processing scraped data\n",
    "\n",
    "This notebook processes the scraped data from Portal de la Reserca to create the Nodelist and Edgelist to plot in Gephi."
   ]
  },
  {
   "cell_type": "markdown",
   "id": "9d27f59b-cfdd-4f38-bcf0-38e4e5e44cd1",
   "metadata": {},
   "source": [
    "# Import modules"
   ]
  },
  {
   "cell_type": "code",
   "execution_count": 16,
   "id": "553d9af1-da9d-4718-b27a-45d4ef954fac",
   "metadata": {},
   "outputs": [],
   "source": [
    "import numpy as np\n",
    "import pandas as pd\n",
    "from ast import literal_eval"
   ]
  },
  {
   "cell_type": "markdown",
   "id": "7cd1a8a1-7f01-4a1c-9a2a-a547fde491bc",
   "metadata": {},
   "source": [
    "# Get researchers of interest"
   ]
  },
  {
   "cell_type": "code",
   "execution_count": 17,
   "id": "638ed263-ec72-4ffc-8980-74abcfdc0398",
   "metadata": {},
   "outputs": [],
   "source": [
    "res_df = pd.read_csv('./data/nodelist.csv')\n",
    "res_df_IGTP = res_df.loc[res_df['institution'] == 'IGTP']\n",
    "res_IGTP = res_df_IGTP['id'].unique()"
   ]
  },
  {
   "cell_type": "markdown",
   "id": "ae84a20d-e53d-44ef-8531-9acea4b5b4c8",
   "metadata": {
    "tags": []
   },
   "source": [
    "# Get edgelist"
   ]
  },
  {
   "cell_type": "code",
   "execution_count": 18,
   "id": "fafc0784-e9ed-4ffb-89ce-1024f95b3a21",
   "metadata": {
    "tags": []
   },
   "outputs": [],
   "source": [
    "# papers0_df = pd.read_csv('./data/papers_0.csv')\n",
    "# papers1_df = pd.read_csv('./data/papers_1.csv')\n",
    "# papers_df = papers0_df.append(papers1_df)\n",
    "# papers_df = papers_df.drop_duplicates()\n",
    "# papers_df.to_csv('./data/papers.csv', index=False)"
   ]
  },
  {
   "cell_type": "code",
   "execution_count": 19,
   "id": "bd169c8c-c782-41ca-bb57-b23543694331",
   "metadata": {},
   "outputs": [],
   "source": [
    "papers_df = pd.read_csv('./data/papers.csv')"
   ]
  },
  {
   "cell_type": "code",
   "execution_count": 22,
   "id": "b4a6af0d-cb75-4703-bcf7-33bf743823e7",
   "metadata": {},
   "outputs": [],
   "source": [
    "# papers_df_backup = papers_df.copy()\n",
    "papers_df = papers_df_backup.copy()"
   ]
  },
  {
   "cell_type": "markdown",
   "id": "b6fecb30-b056-4f94-8c79-a9f8081f0b30",
   "metadata": {},
   "source": [
    "# Merge"
   ]
  },
  {
   "cell_type": "code",
   "execution_count": 23,
   "id": "8ab29683-b030-4c6c-8cbd-f5ccf4e54ff7",
   "metadata": {
    "tags": []
   },
   "outputs": [],
   "source": [
    "# Convert strings to lists\n",
    "def convert_to_list(x):\n",
    "    try:\n",
    "        result = literal_eval(x)\n",
    "    except ValueError:\n",
    "        result = np.nan\n",
    "    return result\n",
    "\n",
    "papers_df['orcids'] = papers_df['orcids'].apply(lambda x: convert_to_list(x))\n",
    "\n",
    "# Check if any coauthor is in institution\n",
    "def belongs_to_list(row, df):\n",
    "    try:\n",
    "        result = bool(set(row['orcids']) & set(df))\n",
    "    except TypeError:\n",
    "        result = False\n",
    "    return result\n",
    "\n",
    "mask = papers_df.apply(lambda x: belongs_to_list(x, res_IGTP), axis=1)\n",
    "\n",
    "selected_df = papers_df[mask]"
   ]
  },
  {
   "cell_type": "markdown",
   "id": "fb671d0f-1814-4fca-98ba-a5f9b0dc5a38",
   "metadata": {},
   "source": [
    "# Todo\n",
    "1. Create boolean vector P for each paper of len(authors) that identifies coauthors.\n",
    "2. Create boolean vector C of coauthor focus. inner(C,P) = 1 if there is collaboration."
   ]
  },
  {
   "cell_type": "markdown",
   "id": "4cc37593-b67a-45ea-9189-2df47ac18cc1",
   "metadata": {},
   "source": [
    "### Create bollean vector P for each paper"
   ]
  },
  {
   "cell_type": "code",
   "execution_count": 135,
   "id": "953b3f5c-d2ef-41e8-b807-63b88a6e7da2",
   "metadata": {},
   "outputs": [],
   "source": [
    "# Test with n authors for debugging\n",
    "# n = 5"
   ]
  },
  {
   "cell_type": "code",
   "execution_count": 157,
   "id": "e7472737-841c-46a9-b271-0f76a2172d7e",
   "metadata": {
    "tags": []
   },
   "outputs": [],
   "source": [
    "# Get papers of authors in instutition\n",
    "papers = selected_df['orcids'].copy()"
   ]
  },
  {
   "cell_type": "code",
   "execution_count": 158,
   "id": "115004bf-51b8-44b3-af8e-48291073e4d5",
   "metadata": {
    "tags": []
   },
   "outputs": [],
   "source": [
    "# Create subselection for debugging\n",
    "# papers = papers[:n]"
   ]
  },
  {
   "cell_type": "code",
   "execution_count": 159,
   "id": "910df6ad-e75d-4e4a-940b-baa085c92653",
   "metadata": {
    "tags": []
   },
   "outputs": [],
   "source": [
    "papers = papers.reset_index(drop=True)"
   ]
  },
  {
   "cell_type": "code",
   "execution_count": 160,
   "id": "5b8719c1-7871-43ac-a35c-11173fb30ab3",
   "metadata": {
    "tags": []
   },
   "outputs": [],
   "source": [
    "# Get unique list of authors\n",
    "authors_index = list(set(papers.sum()))\n",
    "authors_index.sort()"
   ]
  },
  {
   "cell_type": "code",
   "execution_count": 161,
   "id": "03633127-6b16-4da4-bf93-bb771b773dec",
   "metadata": {},
   "outputs": [],
   "source": [
    "# Create boolean matrix with papers\n",
    "paper_bool_df = pd.DataFrame(index=authors_index)"
   ]
  },
  {
   "cell_type": "code",
   "execution_count": 162,
   "id": "4519ff67-fff7-4c75-a663-af4fef6279de",
   "metadata": {},
   "outputs": [
    {
     "name": "stderr",
     "output_type": "stream",
     "text": [
      "/opt/conda/lib/python3.9/site-packages/pandas/core/indexing.py:1667: PerformanceWarning: DataFrame is highly fragmented.  This is usually the result of calling `frame.insert` many times, which has poor performance.  Consider joining all columns at once using pd.concat(axis=1) instead.  To get a de-fragmented frame, use `newframe = frame.copy()`\n",
      "  self.obj[key] = value\n"
     ]
    }
   ],
   "source": [
    "for i, paper in enumerate(papers):\n",
    "    paper_bool_df.loc[:,i] = 0\n",
    "    for orcid in paper:\n",
    "        paper_bool_df.loc[orcid, i] = 1"
   ]
  },
  {
   "cell_type": "markdown",
   "id": "5ff6c5a5-158e-448c-91be-70471e0033bb",
   "metadata": {},
   "source": [
    "### Create boolean matrix of coauthor combinations"
   ]
  },
  {
   "cell_type": "code",
   "execution_count": 163,
   "id": "86be4586-de97-4429-b6dd-26d258449d5d",
   "metadata": {},
   "outputs": [],
   "source": [
    "# Identify coauthors of the first paper\n",
    "# paper = paper_bool_df[[0]].values.flatten()\n",
    "# np.where(paper == 1)"
   ]
  },
  {
   "cell_type": "code",
   "execution_count": 164,
   "id": "5c319ded-a737-4dd1-9aaf-ca9073d587c0",
   "metadata": {},
   "outputs": [],
   "source": [
    "# Create custom vector to check\n",
    "# C = np.zeros(len(authors_index))\n",
    "# C[61] = 1\n",
    "# C[97] = 1"
   ]
  },
  {
   "cell_type": "code",
   "execution_count": 165,
   "id": "e208135b-917e-4b18-bb79-21f1254d88b0",
   "metadata": {},
   "outputs": [],
   "source": [
    "# Check inner product\n",
    "# paper.dot(C)"
   ]
  },
  {
   "cell_type": "code",
   "execution_count": 166,
   "id": "8b0f2db4-a456-470d-a399-c291440b2cea",
   "metadata": {},
   "outputs": [],
   "source": [
    "# M = np.zeros((3,9))"
   ]
  },
  {
   "cell_type": "code",
   "execution_count": 167,
   "id": "761db512-8383-4e4a-9a51-3f117e0a5bab",
   "metadata": {},
   "outputs": [],
   "source": [
    "# M[:,:3] = np.identity(3)"
   ]
  },
  {
   "cell_type": "code",
   "execution_count": null,
   "id": "10d7232d-48c0-4586-ae12-41ec29003c43",
   "metadata": {
    "tags": []
   },
   "outputs": [
    {
     "name": "stdout",
     "output_type": "stream",
     "text": [
      "Progress: 6%.\r"
     ]
    }
   ],
   "source": [
    "# n = 4\n",
    "n = len(authors_index)\n",
    "\n",
    "combinations_mat = np.zeros((n,n*n))\n",
    "\n",
    "# Creation combination matrix\n",
    "C0 = np.identity(n)\n",
    "for i in range(n):\n",
    "    print(f\"Progress: {i/n*100:.0f}%.\", end=\"\\r\")\n",
    "    C = C0\n",
    "    # Set rows\n",
    "    C[i] = 1\n",
    "    if i>=1:\n",
    "        C[i-1] = 0\n",
    "    # Set columns\n",
    "        for j in range(i):\n",
    "            C[:,j] = 0\n",
    "        \n",
    "    combinations_mat[:,i*n:(i+1)*n] = C\n",
    "        \n",
    "    C0 = C"
   ]
  },
  {
   "cell_type": "code",
   "execution_count": null,
   "id": "eb223eff-b0e8-4877-b8ba-cdfc54e3c28b",
   "metadata": {},
   "outputs": [],
   "source": [
    "combinations_mat"
   ]
  },
  {
   "cell_type": "code",
   "execution_count": null,
   "id": "ed386503-29ea-4c22-9d5f-6bfe1081f3be",
   "metadata": {},
   "outputs": [],
   "source": [
    "papers_mat = paper_bool_df.to_numpy()"
   ]
  },
  {
   "cell_type": "code",
   "execution_count": null,
   "id": "23a2df27-1f36-466b-be24-2f37dcd2c5ce",
   "metadata": {},
   "outputs": [],
   "source": [
    "result = np.dot(papers_mat, combinations_mat)"
   ]
  },
  {
   "cell_type": "code",
   "execution_count": null,
   "id": "b7d9a903-e748-498a-8fc1-12b4c95f42c0",
   "metadata": {},
   "outputs": [],
   "source": [
    "papers_mat.shape"
   ]
  },
  {
   "cell_type": "code",
   "execution_count": null,
   "id": "e6dc116d-7cd8-4ecd-aaff-d7ba24655005",
   "metadata": {},
   "outputs": [],
   "source": [
    "combinations_mat.shape"
   ]
  },
  {
   "cell_type": "code",
   "execution_count": null,
   "id": "c6f35ae9-824f-48d9-94a3-157792efd714",
   "metadata": {},
   "outputs": [],
   "source": [
    "result = result-1\n",
    "result = result.clip(0)\n",
    "links = result.sum(axis=1)"
   ]
  },
  {
   "cell_type": "code",
   "execution_count": null,
   "id": "c5067615-b09d-4adb-9cdb-e81e1755e42f",
   "metadata": {},
   "outputs": [],
   "source": [
    "links"
   ]
  },
  {
   "cell_type": "code",
   "execution_count": 1,
   "id": "9511eacc-d331-4ba1-85e0-e6be5d46f0d1",
   "metadata": {},
   "outputs": [],
   "source": [
    "# links"
   ]
  },
  {
   "cell_type": "code",
   "execution_count": 2,
   "id": "d780cdbb-5258-48c1-b377-526956ff7bc7",
   "metadata": {},
   "outputs": [],
   "source": [
    "# paper_bool_df"
   ]
  },
  {
   "cell_type": "code",
   "execution_count": 3,
   "id": "bcb37b1a-cee0-4b35-8488-458c69f36ec7",
   "metadata": {},
   "outputs": [],
   "source": [
    "# papers_test = np.array([[1,1,0,0],[1,1,0,0], [1,0,1,0]])"
   ]
  },
  {
   "cell_type": "code",
   "execution_count": 4,
   "id": "7c5d1638-e3a7-4586-ba3a-27b2391df0ee",
   "metadata": {},
   "outputs": [],
   "source": [
    "# papers_test"
   ]
  },
  {
   "cell_type": "code",
   "execution_count": 5,
   "id": "b9a288f4-af0d-4480-b46c-647b7eaaa305",
   "metadata": {},
   "outputs": [],
   "source": [
    "# result = np.dot(papers_test, M)\n",
    "# result"
   ]
  },
  {
   "cell_type": "code",
   "execution_count": 6,
   "id": "c355595c-1814-44fe-b1f6-d1f7b11dd935",
   "metadata": {},
   "outputs": [],
   "source": [
    "# result = result-1\n",
    "# result"
   ]
  },
  {
   "cell_type": "code",
   "execution_count": 7,
   "id": "9c1fd045-d586-49d2-aa98-0db5171d6557",
   "metadata": {},
   "outputs": [],
   "source": [
    "# result = result.clip(0)\n",
    "# result"
   ]
  },
  {
   "cell_type": "code",
   "execution_count": 8,
   "id": "e74da4e1-b0b9-4615-80b4-0866a365b90a",
   "metadata": {},
   "outputs": [],
   "source": [
    "# result.sum(axis=0)"
   ]
  },
  {
   "cell_type": "code",
   "execution_count": 9,
   "id": "e41bbf0c-32dc-44b7-8cc7-147e68557f60",
   "metadata": {},
   "outputs": [],
   "source": [
    "# max(result-1,0)"
   ]
  },
  {
   "cell_type": "code",
   "execution_count": 416,
   "id": "dee7add5-15af-4362-ae77-51aa5ebeec3b",
   "metadata": {},
   "outputs": [
    {
     "data": {
      "text/plain": [
       "(4, 4)"
      ]
     },
     "execution_count": 416,
     "metadata": {},
     "output_type": "execute_result"
    }
   ],
   "source": [
    "# C0.shape"
   ]
  },
  {
   "cell_type": "code",
   "execution_count": 10,
   "id": "50d7bab5-75c5-45b8-a3c3-633ba14d1966",
   "metadata": {},
   "outputs": [],
   "source": [
    "# C1 = np.identity(4)\n",
    "# C[0] = 1\n",
    "\n",
    "# C2 = np.identity(4)\n",
    "# C2[1]=1\n",
    "# C2[:,0]=0\n",
    "# C2\n",
    "\n",
    "# C3 = C2\n",
    "# C3[1] = 0\n",
    "# C3[2] = 1\n",
    "# C3[:,0]=0\n",
    "# C3[:,1]=0\n",
    "# C3"
   ]
  },
  {
   "cell_type": "code",
   "execution_count": 12,
   "id": "8e7a7dea-d5d5-4d66-82e5-b9907e9b3e2c",
   "metadata": {},
   "outputs": [],
   "source": [
    "# np.hstack((C, C))"
   ]
  },
  {
   "cell_type": "code",
   "execution_count": 13,
   "id": "a2630693-8b5a-44a2-bce0-1aa363547b34",
   "metadata": {},
   "outputs": [],
   "source": [
    "# for i in range(len(authors_index):\n",
    "    # for j in "
   ]
  },
  {
   "cell_type": "code",
   "execution_count": 14,
   "id": "beddeb75-4ed1-495b-af94-bf83bf6612ba",
   "metadata": {},
   "outputs": [],
   "source": [
    "# authors_index"
   ]
  },
  {
   "cell_type": "markdown",
   "id": "5f42c077-fb16-411b-b24f-343ced5a72fc",
   "metadata": {},
   "source": [
    "# Loop over papers to create edgelist"
   ]
  },
  {
   "cell_type": "code",
   "execution_count": null,
   "id": "a890b922-f3ba-4ccd-9ab6-ec5f78c3e8f7",
   "metadata": {},
   "outputs": [],
   "source": []
  },
  {
   "cell_type": "markdown",
   "id": "f9df90ff-9ba5-41ab-a727-35d0b68b436c",
   "metadata": {},
   "source": [
    "# EXTRA CODE"
   ]
  },
  {
   "cell_type": "code",
   "execution_count": null,
   "id": "1bea7913-70eb-4757-81ec-db049740f9c8",
   "metadata": {},
   "outputs": [],
   "source": []
  },
  {
   "cell_type": "code",
   "execution_count": 249,
   "id": "b76d4d58-1acb-4d27-9124-0c294215d111",
   "metadata": {},
   "outputs": [
    {
     "data": {
      "text/plain": [
       "list"
      ]
     },
     "execution_count": 249,
     "metadata": {},
     "output_type": "execute_result"
    }
   ],
   "source": [
    "type(authors_index)\n"
   ]
  },
  {
   "cell_type": "code",
   "execution_count": 251,
   "id": "99d5d72c-636d-4b52-a04e-59d983638a8d",
   "metadata": {},
   "outputs": [
    {
     "data": {
      "text/plain": [
       "2808"
      ]
     },
     "execution_count": 251,
     "metadata": {},
     "output_type": "execute_result"
    }
   ],
   "source": [
    "len(authors_index)"
   ]
  },
  {
   "cell_type": "code",
   "execution_count": 241,
   "id": "c52f7a00-4741-41a3-b7d8-76c5cb780ecb",
   "metadata": {},
   "outputs": [],
   "source": [
    "mylist = authors_index[:10]"
   ]
  },
  {
   "cell_type": "code",
   "execution_count": 242,
   "id": "61bddde0-2938-4f62-ab98-67714d59138e",
   "metadata": {},
   "outputs": [
    {
     "data": {
      "text/plain": [
       "['0000-0001-5515-3854',\n",
       " '0000-0002-7422-5240',\n",
       " '0000-0002-9872-7835',\n",
       " '0000-0001-9007-0085',\n",
       " '0000-0002-8608-3278',\n",
       " '0000-0003-3735-0779',\n",
       " '0000-0002-2438-0779',\n",
       " '0000-0001-6014-2180',\n",
       " '0000-0002-1907-5323',\n",
       " '0000-0001-7223-7611']"
      ]
     },
     "execution_count": 242,
     "metadata": {},
     "output_type": "execute_result"
    }
   ],
   "source": [
    "mylist"
   ]
  },
  {
   "cell_type": "code",
   "execution_count": 244,
   "id": "b0df99ae-7b53-4b2f-b643-6d68cae0a709",
   "metadata": {},
   "outputs": [],
   "source": [
    "mylist.sort()"
   ]
  },
  {
   "cell_type": "code",
   "execution_count": 246,
   "id": "e82d852c-b2af-4147-9e72-22b118fc7b1f",
   "metadata": {},
   "outputs": [],
   "source": [
    "# sort(mylist)\n",
    "cars = ['Ford', 'BMW', 'Volvo']\n",
    "\n",
    "cars.sort(reverse=True)\n"
   ]
  },
  {
   "cell_type": "code",
   "execution_count": 247,
   "id": "d783cd4d-824a-47a0-9e81-e895bc4ccc73",
   "metadata": {},
   "outputs": [
    {
     "data": {
      "text/plain": [
       "['Volvo', 'Ford', 'BMW']"
      ]
     },
     "execution_count": 247,
     "metadata": {},
     "output_type": "execute_result"
    }
   ],
   "source": [
    "cars"
   ]
  },
  {
   "cell_type": "code",
   "execution_count": null,
   "id": "a1825b78-04da-46f5-ad8d-8ae3f7731945",
   "metadata": {},
   "outputs": [],
   "source": []
  }
 ],
 "metadata": {
  "kernelspec": {
   "display_name": "Python 3 (ipykernel)",
   "language": "python",
   "name": "python3"
  },
  "language_info": {
   "codemirror_mode": {
    "name": "ipython",
    "version": 3
   },
   "file_extension": ".py",
   "mimetype": "text/x-python",
   "name": "python",
   "nbconvert_exporter": "python",
   "pygments_lexer": "ipython3",
   "version": "3.9.6"
  }
 },
 "nbformat": 4,
 "nbformat_minor": 5
}
