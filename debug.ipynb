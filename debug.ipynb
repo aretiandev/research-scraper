{
 "cells": [
  {
   "cell_type": "markdown",
   "id": "606b03fa-86d4-4e0b-893e-080d96e50aaa",
   "metadata": {},
   "source": [
    "# Debug Scraper"
   ]
  },
  {
   "cell_type": "markdown",
   "id": "77e00729-86eb-4308-a396-3a68d854177a",
   "metadata": {},
   "source": [
    "## Test scrape()"
   ]
  },
  {
   "cell_type": "code",
   "execution_count": null,
   "id": "33ff9c31-ce72-4621-9377-bb2f4b538fd8",
   "metadata": {
    "tags": []
   },
   "outputs": [],
   "source": [
    "from requests_html import AsyncHTMLSession\n",
    "\n",
    "url1 = 'https://portalrecerca.csuc.cat/simple-search?query=&location=crisrp&filter_field_1=resourcetype&filter_type_1=equals&filter_value_1=Researchers&filter_field_2=&filter_type_2=&filter_value_2=&sort_by=crisrp.fullName_sort&order=asc&rpp=300&etal=0&start=5400'\n",
    "url2 = 'https://portalrecerca.csuc.cat/simple-search?query=&location=crisrp&filter_field_1=resourcetype&filter_type_1=equals&filter_value_1=Researchers&filter_field_2=&filter_type_2=&filter_value_2=&sort_by=crisrp.fullName_sort&order=asc&rpp=300&etal=0&start=5700'\n",
    "batch = [url1,url2]\n",
    "\n",
    "items = 'author_links'\n",
    "\n",
    "async def main():\n",
    "    s = AsyncHTMLSession()\n",
    "    tasks = (scrape_url(s, url, items=items) for url in batch)\n",
    "    batch_result = await asyncio.gather(*tasks)\n",
    "\n",
    "await main()"
   ]
  },
  {
   "cell_type": "markdown",
   "id": "be7bd151-6606-4481-8d7a-1a39560f7c98",
   "metadata": {},
   "source": [
    "## Custom Test"
   ]
  },
  {
   "cell_type": "code",
   "execution_count": null,
   "id": "450b9046-25c8-4973-9cdc-c7e1818decf7",
   "metadata": {
    "tags": []
   },
   "outputs": [],
   "source": [
    "# Custom test script to show different results between JupyterLab and python script\n",
    "from src.test_single import test_scrape\n",
    "test_scrape()"
   ]
  },
  {
   "cell_type": "markdown",
   "id": "825016ef-f2ab-48eb-b54c-f63cd9843652",
   "metadata": {},
   "source": [
    "## Test scrape_authors"
   ]
  },
  {
   "cell_type": "markdown",
   "id": "140b61b0-2483-4c2f-8c97-795cf4ffd486",
   "metadata": {},
   "source": [
    "### From script"
   ]
  },
  {
   "cell_type": "code",
   "execution_count": null,
   "id": "53c47626-16e9-446a-bbb2-95992a030f03",
   "metadata": {
    "tags": []
   },
   "outputs": [],
   "source": [
    "from src.test_scrape import test_scrape_authors\n",
    "\n",
    "await test_scrape_authors()"
   ]
  },
  {
   "cell_type": "markdown",
   "id": "3550024d-c64c-46b9-ba8f-245dbe6475bf",
   "metadata": {},
   "source": [
    "### From Snakefile"
   ]
  },
  {
   "cell_type": "code",
   "execution_count": 1,
   "id": "54e3204f-3aa0-4e00-b5b8-c961514422e5",
   "metadata": {},
   "outputs": [
    {
     "name": "stdout",
     "output_type": "stream",
     "text": [
      "Scraping authors from Portal de la Reserca.\n",
      "Saving results to data/nodes_20220309_test.csv.\n",
      "Scraping authors from 5,800 URLs in 58 batches of 100, starting at 13,100.\n",
      "Progress: 2% (1/58). URLs: 0-99. Batch time: 11.96s. Time left: 0h11m34s.\r"
     ]
    },
    {
     "ename": "CancelledError",
     "evalue": "",
     "output_type": "error",
     "traceback": [
      "\u001b[0;31m---------------------------------------------------------------------------\u001b[0m",
      "\u001b[0;31mCancelledError\u001b[0m                            Traceback (most recent call last)",
      "\u001b[0;32m~/work/src/helpers.py\u001b[0m in \u001b[0;36mretry_url\u001b[0;34m(s, url, attempts)\u001b[0m\n\u001b[1;32m     29\u001b[0m         \u001b[0;32mtry\u001b[0m\u001b[0;34m:\u001b[0m\u001b[0;34m\u001b[0m\u001b[0;34m\u001b[0m\u001b[0m\n\u001b[0;32m---> 30\u001b[0;31m             \u001b[0mr\u001b[0m \u001b[0;34m=\u001b[0m \u001b[0;32mawait\u001b[0m \u001b[0ms\u001b[0m\u001b[0;34m.\u001b[0m\u001b[0mget\u001b[0m\u001b[0;34m(\u001b[0m\u001b[0murl\u001b[0m\u001b[0;34m)\u001b[0m\u001b[0;34m\u001b[0m\u001b[0;34m\u001b[0m\u001b[0m\n\u001b[0m\u001b[1;32m     31\u001b[0m             \u001b[0;32mbreak\u001b[0m\u001b[0;34m\u001b[0m\u001b[0;34m\u001b[0m\u001b[0m\n",
      "\u001b[0;31mCancelledError\u001b[0m: ",
      "\nDuring handling of the above exception, another exception occurred:\n",
      "\u001b[0;31mCancelledError\u001b[0m                            Traceback (most recent call last)",
      "\u001b[0;31mCancelledError\u001b[0m: ",
      "\nDuring handling of the above exception, another exception occurred:\n",
      "\u001b[0;31mCancelledError\u001b[0m                            Traceback (most recent call last)",
      "\u001b[0;32m/tmp/ipykernel_4864/2194111415.py\u001b[0m in \u001b[0;36m<module>\u001b[0;34m\u001b[0m\n\u001b[1;32m     15\u001b[0m \u001b[0mbatch_size\u001b[0m \u001b[0;34m=\u001b[0m \u001b[0;36m100\u001b[0m\u001b[0;34m\u001b[0m\u001b[0;34m\u001b[0m\u001b[0m\n\u001b[1;32m     16\u001b[0m \u001b[0mout_file\u001b[0m \u001b[0;34m=\u001b[0m \u001b[0;34mf'data/nodes_{date_today}_test.csv'\u001b[0m\u001b[0;34m\u001b[0m\u001b[0;34m\u001b[0m\u001b[0m\n\u001b[0;32m---> 17\u001b[0;31m \u001b[0;32mawait\u001b[0m \u001b[0mscrape\u001b[0m\u001b[0;34m(\u001b[0m\u001b[0mitems\u001b[0m\u001b[0;34m=\u001b[0m\u001b[0mitems\u001b[0m\u001b[0;34m,\u001b[0m \u001b[0murls\u001b[0m\u001b[0;34m=\u001b[0m\u001b[0murls\u001b[0m\u001b[0;34m,\u001b[0m \u001b[0mstart_pos\u001b[0m\u001b[0;34m=\u001b[0m\u001b[0mstart_pos\u001b[0m\u001b[0;34m,\u001b[0m \u001b[0mbatch_size\u001b[0m\u001b[0;34m=\u001b[0m\u001b[0mbatch_size\u001b[0m\u001b[0;34m,\u001b[0m \u001b[0mout_file\u001b[0m\u001b[0;34m=\u001b[0m\u001b[0mout_file\u001b[0m\u001b[0;34m)\u001b[0m\u001b[0;34m\u001b[0m\u001b[0;34m\u001b[0m\u001b[0m\n\u001b[0m",
      "\u001b[0;32m~/work/src/helpers.py\u001b[0m in \u001b[0;36mscrape\u001b[0;34m(items, urls, start_pos, n_pages, batch_size, out_file)\u001b[0m\n\u001b[1;32m    576\u001b[0m         \u001b[0mt1\u001b[0m \u001b[0;34m=\u001b[0m \u001b[0mtime\u001b[0m\u001b[0;34m.\u001b[0m\u001b[0mperf_counter\u001b[0m\u001b[0;34m(\u001b[0m\u001b[0;34m)\u001b[0m\u001b[0;34m\u001b[0m\u001b[0;34m\u001b[0m\u001b[0m\n\u001b[1;32m    577\u001b[0m         \u001b[0mtasks\u001b[0m \u001b[0;34m=\u001b[0m \u001b[0;34m(\u001b[0m\u001b[0mscrape_url\u001b[0m\u001b[0;34m(\u001b[0m\u001b[0ms\u001b[0m\u001b[0;34m,\u001b[0m \u001b[0murl\u001b[0m\u001b[0;34m,\u001b[0m \u001b[0mitems\u001b[0m\u001b[0;34m=\u001b[0m\u001b[0mitems\u001b[0m\u001b[0;34m)\u001b[0m \u001b[0;32mfor\u001b[0m \u001b[0murl\u001b[0m \u001b[0;32min\u001b[0m \u001b[0mbatch\u001b[0m\u001b[0;34m)\u001b[0m\u001b[0;34m\u001b[0m\u001b[0;34m\u001b[0m\u001b[0m\n\u001b[0;32m--> 578\u001b[0;31m         \u001b[0mbatch_result\u001b[0m \u001b[0;34m=\u001b[0m \u001b[0;32mawait\u001b[0m \u001b[0masyncio\u001b[0m\u001b[0;34m.\u001b[0m\u001b[0mgather\u001b[0m\u001b[0;34m(\u001b[0m\u001b[0;34m*\u001b[0m\u001b[0mtasks\u001b[0m\u001b[0;34m)\u001b[0m\u001b[0;34m\u001b[0m\u001b[0;34m\u001b[0m\u001b[0m\n\u001b[0m\u001b[1;32m    579\u001b[0m         \u001b[0mt2\u001b[0m \u001b[0;34m=\u001b[0m \u001b[0mtime\u001b[0m\u001b[0;34m.\u001b[0m\u001b[0mperf_counter\u001b[0m\u001b[0;34m(\u001b[0m\u001b[0;34m)\u001b[0m\u001b[0;34m\u001b[0m\u001b[0;34m\u001b[0m\u001b[0m\n\u001b[1;32m    580\u001b[0m \u001b[0;34m\u001b[0m\u001b[0m\n",
      "\u001b[0;31mCancelledError\u001b[0m: "
     ]
    }
   ],
   "source": [
    "import pandas as pd\n",
    "from datetime import date\n",
    "import asyncio\n",
    "from src.helpers import scrape\n",
    "\n",
    "date_today = date.today().strftime(\"%Y%m%d\")\n",
    "\n",
    "author_urls = pd.read_csv(f'data/author_urls_{date_today}.csv')\n",
    "author_urls = list(author_urls['0'])\n",
    "url_root = 'https://portalrecerca.csuc.cat'\n",
    "urls = [url_root + url for url in author_urls]\n",
    "\n",
    "items = 'authors'\n",
    "start_pos = 13100\n",
    "batch_size = 100\n",
    "out_file = f'data/nodes_{date_today}_test.csv'\n",
    "await scrape(items=items, urls=urls, start_pos=start_pos, batch_size=batch_size, out_file=out_file)"
   ]
  },
  {
   "cell_type": "code",
   "execution_count": null,
   "id": "00a26869-7537-4bf3-bb24-75187d40b4de",
   "metadata": {
    "collapsed": true,
    "jupyter": {
     "outputs_hidden": true
    },
    "tags": []
   },
   "outputs": [
    {
     "name": "stdout",
     "output_type": "stream",
     "text": [
      "Debug: Penalba Morenilla, Anna\n",
      "Debug: 0000-0002-0241-2602\n",
      "Debug: Vall d'Hebron Institut de Recerca\n",
      "Debug: Peñaloza Salazar, Claudia Jeannette\n",
      "Debug: 0000-0003-1200-5936\n",
      "Debug: Universitat de Barcelona\n",
      "Debug: Peñalver Cabre, Alexandre\n",
      "Debug: 0000-0001-7860-8380\n",
      "Debug: Universitat de Barcelona\n",
      "Debug: Penalver Rojo, Domingo\n",
      "Debug: 0000-0001-5468-3546\n",
      "Debug: Centre Internacional de Mètodes Numèrics a l’Enginyeria\n",
      "Debug: Peñaranda Tomas, Vanessa\n",
      "Debug: 0000-0001-7026-5416\n",
      "Debug: Universitat de Barcelona\n",
      "Debug: Penadés Rubio, Rafael\n",
      "Debug: 0000-0002-1564-3717\n",
      "Debug: Institut d’Investigacions Biomèdiques August Pi i Sunyer\n",
      "Debug: Peñarrocha Diago, Miguel\n",
      "Debug: 0000-0002-8407-7982\n",
      "Debug: Institut d'Investigació Biomèdica de Bellvitge\n",
      "Debug: Peñarroja Cabañero, Vicente\n",
      "Debug: 0000-0001-6827-2086\n",
      "Debug: Universitat Oberta de Catalunya\n",
      "Debug: Peng, Lucheng\n",
      "Debug: 0000-0002-4015-4114\n",
      "Debug: Fundació Institut de Ciències Fotòniques\n",
      "Debug: Peñate González, Lissethe\n",
      "Debug: 0000-0001-7306-4804\n",
      "Debug: Universitat Internacional de Catalunya\n",
      "Debug: Peñin Llobell, Alberto\n",
      "Debug: 0000-0002-5099-8644\n",
      "Debug: Universitat Politècnica de Catalunya\n",
      "Debug: Penas Perez, Clara\n",
      "Debug: 0000-0003-0554-3832\n",
      "Debug: Universitat Autònoma de Barcelona\n",
      "Debug: Penin Mosquera, Rosa Maria\n",
      "Debug: 0000-0001-6330-4018\n",
      "Debug: Institut d'Investigació Biomèdica de Bellvitge\n",
      "Debug: Penelo Werner, Eva\n",
      "Debug: 0000-0001-6796-7660\n",
      "Debug: Universitat Autònoma de Barcelona\n",
      "Debug: Penta, Antonio\n",
      "Debug: 0000-0003-3796-8245\n",
      "Debug: Universitat Pompeu Fabra\n",
      "Debug: Peñuelas Reixach, Josep\n",
      "Debug: 0000-0002-7215-0150\n",
      "Debug: ['Universitat Autònoma de Barcelona', 'Centre de Recerca Ecològica i Aplicacions Forestals']\n",
      "Debug: Pepió Vilaubí, Josep Maria\n",
      "Debug: 0000-0002-1895-3956\n",
      "Debug: Institut de Recerca Germans Trias i Pujol\n",
      "Debug: Pera Blanco, Guillem ok\n",
      "Debug: 0000-0003-3188-7268\n",
      "Debug: Institut de Recerca Germans Trias i Pujol\n",
      "Debug: Peñuelas Peñarroya, Núria\n",
      "Debug: 0000-0001-6443-9790\n",
      "Debug: Vall d'Hebron Institut de Recerca\n",
      "Debug: Pera Fabregas, Juan\n",
      "Debug: 0000-0003-3916-606X\n",
      "Debug: Institut d'Investigació Biomèdica de Bellvitge\n",
      "Debug: Pera Román, Manuel Ramón\n",
      "Debug: 0000-0002-9449-1810\n",
      "Debug: Institut Hospital del Mar d'Investigacions Mèdiques\n",
      "Debug: Pera Román, Miguel\n",
      "Debug: 0000-0001-7764-6481\n",
      "Debug: Institut Hospital del Mar d'Investigacions Mèdiques\n",
      "Debug: Pera Alvarez, Joan\n",
      "Debug: 0000-0002-7252-8205\n",
      "Debug: Institut de Recerca i Tecnologia Agroalimentàries\n",
      "Debug: Peracaula Bosch, Marta\n",
      "Debug: 0000-0003-0871-6583\n",
      "Debug: Universitat de Girona\n",
      "Debug: Peracaula Miro, Rosa\n",
      "Debug: 0000-0003-3513-524X\n",
      "Debug: Universitat de Girona\n",
      "Debug: Peraire Ardèvol, Mariona\n",
      "Debug: 0000-0003-1859-5471\n",
      "Debug: ['Universitat de Barcelona', \"Institut d'Investigació Biomèdica de Bellvitge\"]\n",
      "Debug: Peral Millan, Mireia\n",
      "Debug: 0000-0001-8026-2753\n",
      "Debug: Universitat de Barcelona\n",
      "Debug: Peral Perez, Jose\n",
      "Debug: 0000-0001-9574-6347\n",
      "Debug: Universitat Autònoma de Barcelona\n",
      "Debug: Peraire, Joaquim\n",
      "Debug: 0000-0001-7808-5479\n",
      "Debug: [\"Institut d'Investigació Sanitària Pere Virgili\", 'Universitat Rovira i Virgili']\n",
      "Debug: Perales Lorente, Jose Francisco\n",
      "Debug: 0000-0003-4977-5707\n",
      "Debug: Universitat Politècnica de Catalunya\n",
      "Debug: Perales Garcia, Cristina\n",
      "Debug: 0000-0003-2937-2468\n",
      "Debug: Universitat Pompeu Fabra\n",
      "Debug: Perales Viejo, Celia Belen\n",
      "Debug: 0000-0003-1618-1937\n",
      "Debug: Vall d'Hebron Institut de Recerca\n",
      "Debug: Perales Losa, Jose Carlos\n",
      "Debug: 0000-0001-7363-2226\n",
      "Debug: Institut d'Investigació Biomèdica de Bellvitge\n",
      "Debug: Peralta Uroz, Carmen\n",
      "Debug: 0000-0002-5767-0676\n",
      "Debug: ['Institut d’Investigacions Biomèdiques August Pi i Sunyer', \"Institut d'Investigació Sanitària Pere Virgili\", 'Universitat Internacional de Catalunya']\n",
      "Debug: Peralta Garcia, Lidia\n",
      "Debug: 0000-0003-2934-0108\n",
      "Debug: Universitat Autònoma de Barcelona\n",
      "Debug: Peralvarez Marin, Alejandro\n",
      "Debug: 0000-0002-3457-0875\n",
      "Debug: Universitat Autònoma de Barcelona\n",
      "Debug: Peralta Moncusi, Silvia\n",
      "Debug: 0000-0001-6301-1987\n",
      "Debug: Institut de Recerca Biomèdica de Lleida – Fundació Dr. Pifarré\n",
      "Debug: Peran Rafart, Martin\n",
      "Debug: 0000-0001-8075-7158\n",
      "Debug: Universitat de Barcelona\n",
      "Debug: Peralvarez, Mariano\n",
      "Debug: 0000-0002-9566-0639\n",
      "Debug: Fundació Institut de Recerca en Energia de Catalunya\n",
      "Debug: Peralta Ramos, Jorge\n",
      "Debug: 0000-0002-0497-8642\n",
      "Debug: Universitat Ramon Llull\n",
      "Debug: Perapoch López, Josep\n",
      "Debug: 0000-0002-1754-6814\n",
      "Debug: Vall d'Hebron Institut de Recerca\n",
      "Debug: Percastre Mendizabal, Salvador José\n",
      "Debug: 0000-0002-5947-5102\n",
      "Debug: Universitat de Lleida\n",
      "Debug: Perarnau Llobet, Guillem\n",
      "Debug: 0000-0002-1953-9511\n",
      "Debug: Universitat Politècnica de Catalunya\n",
      "Debug: Perdiguer Florido, Eva\n",
      "Debug: 0000-0001-5160-8153\n",
      "Debug: Universitat Internacional de Catalunya\n",
      "Debug: Perdiguero Santamaria, Eusebio\n",
      "Debug: 0000-0003-3529-8989\n",
      "Debug: ['Universitat Pompeu Fabra', 'Institut de Recerca Germans Trias i Pujol']\n",
      "Debug: Perdiguero Garcia, Jordi\n",
      "Debug: 0000-0003-0562-4181\n",
      "Debug: Universitat Autònoma de Barcelona\n",
      "Debug: Perceval Verde, Jose Maria\n",
      "Debug: 0000-0001-9769-7235\n",
      "Debug: Universitat Autònoma de Barcelona\n",
      "Debug: Perat Benavides, Jose Ignacio\n",
      "Debug: 0000-0003-2785-6864\n",
      "Debug: Universitat Politècnica de Catalunya\n",
      "Debug: Perdikos, Filippos Giannis\n",
      "Debug: 0000-0002-3268-6356\n",
      "Debug: Institut Català de Nanociència i Nanotecnologia\n",
      "Debug: Perea Muñoz, Eva\n",
      "Debug: 0000-0003-2443-8392\n",
      "Debug: Universitat Abat Oliba CEU\n",
      "Debug: Perea Ortueta, Marta\n",
      "Debug: 0000-0003-4401-9160\n",
      "Debug: Vall d'Hebron Institut de Recerca\n",
      "Debug: Perea Palazón, Rosario Jesús\n",
      "Debug: 0000-0003-0916-6931\n",
      "Debug: Institut d’Investigacions Biomèdiques August Pi i Sunyer\n",
      "Debug: Pereda Beltran, Noemí\n",
      "Debug: 0000-0001-5329-9323\n",
      "Debug: Universitat de Barcelona\n",
      "Debug: Pereira Dos Santos, Cristina Maria\n",
      "Debug: 0000-0002-7014-8014\n",
      "Debug: Universitat Autònoma de Barcelona\n",
      "Debug: Perea Sabater, Maria Pilar\n",
      "Debug: 0000-0001-5846-0593\n",
      "Debug: Universitat de Barcelona\n",
      "Debug: Pereira Lopes, Tania Maria\n",
      "Debug: 0000-0003-1681-2436\n",
      "Debug: Institut de Recerca Biomèdica de Lleida – Fundació Dr. Pifarré\n",
      "Debug: Pereira Andrade, Edilene\n",
      "Debug: 0000-0001-8910-4911\n",
      "Debug: ['Institut de Recerca i Tecnologia Agroalimentàries', 'Universitat Rovira i Virgili']\n",
      "Debug: Pereira Puigvert, Silvia\n",
      "Debug: 0000-0002-8142-1506\n",
      "Debug: Universitat de Girona\n",
      "Debug: Perelló Carbonell, Rafael\n",
      "Debug: 0000-0003-2275-0753\n",
      "Debug: Institut d’Investigacions Biomèdiques August Pi i Sunyer\n",
      "Debug: Pereira Rodríguez, Jose Antonio\n",
      "Debug: 0000-0003-2457-6955\n",
      "Debug: ['Universitat Pompeu Fabra', \"Institut Hospital del Mar d'Investigacions Mèdiques\"]\n",
      "Debug: Perelló Carrascosa, Manel\n",
      "Debug: 0000-0003-1859-5279\n",
      "Debug: Vall d'Hebron Institut de Recerca\n",
      "Debug: Perelló Juan, Mª Antonia\n",
      "Debug: 0000-0003-4137-8790\n",
      "Debug: Institut d'Investigació Biomèdica de Bellvitge\n",
      "Debug: Perello, Catalina\n",
      "Debug: 0000-0003-4662-7880\n",
      "Debug: Centre de Recerca en Agrigenòmica\n",
      "Debug: Perello Palou, Josep\n",
      "Debug: 0000-0001-8533-6539\n",
      "Debug: Universitat de Barcelona\n",
      "Debug: Perellón Alfonso, Ruben\n",
      "Debug: 0000-0001-8647-3703\n",
      "Debug: Institut d’Investigacions Biomèdiques August Pi i Sunyer\n",
      "Debug: Perello Muntan, Jordi\n",
      "Debug: 0000-0001-6563-2664\n",
      "Debug: Universitat Politècnica de Catalunya\n",
      "Debug: Peremiquel Lluch, Francisco\n",
      "Debug: 0000-0002-2902-3658\n",
      "Debug: Universitat Politècnica de Catalunya\n",
      "Debug: Perera Domenech, Francesc\n",
      "Debug: 0000-0002-4669-4736\n",
      "Debug: Universitat Autònoma de Barcelona\n",
      "Debug: Perera Bel, Julia\n",
      "Debug: 0000-0002-6809-132X\n",
      "Debug: Institut Hospital del Mar d'Investigacions Mèdiques\n",
      "Debug: Perera Parramon, Joan\n",
      "Debug: 0000-0002-7340-1767\n",
      "Debug: Universitat de Barcelona\n",
      "Debug: Perera Lluna, Alexandre\n",
      "Debug: 0000-0001-6427-851X\n",
      "Debug: Universitat Politècnica de Catalunya\n",
      "Debug: Perera Izquierdo, Santiago\n",
      "Debug: 0000-0002-3007-6941\n",
      "Debug: Universitat de Girona\n",
      "Debug: Pereyra Acha, Eduardo\n",
      "Debug: 0000-0001-5394-2999\n",
      "Debug: Institut de Recerca Biomèdica de Lleida – Fundació Dr. Pifarré\n",
      "Debug: Peres Cajias, José Alejandro\n",
      "Debug: 0000-0002-9516-6825\n",
      "Debug: Universitat de Barcelona\n",
      "Debug: Perez Albarracin, Gloria\n",
      "Debug: 0000-0001-6653-3393\n",
      "Debug: ['Universitat Pompeu Fabra', 'Institut de Recerca Hospital de Sant Pau – IIB Sant Pau']\n",
      "Debug: Perez Albert, Maria Yolanda\n",
      "Debug: 0000-0003-1634-4986\n",
      "Debug: Universitat Rovira i Virgili\n",
      "Debug: Perez Altable, Laura\n",
      "Debug: 0000-0003-3114-6371\n",
      "Debug: Universitat Pompeu Fabra\n",
      "Debug: Pérez Álvarez, Lucía\n",
      "Debug: 0000-0002-6116-3343\n",
      "Debug: Universitat de Lleida\n",
      "Debug: Perez Amill, Lorena\n",
      "Debug: 0000-0003-0674-4660\n",
      "Debug: Institut d’Investigacions Biomèdiques August Pi i Sunyer\n",
      "Debug: Perez Amodio, Soledad Graciela\n",
      "Debug: 0000-0001-6825-0194\n",
      "Debug: ['Universitat Politècnica de Catalunya', 'Institut de Bioenginyeria de Catalunya']\n",
      "Debug: Perez Antoñanzas, Roman\n",
      "Debug: 0000-0002-0823-2303\n",
      "Debug: Universitat Internacional de Catalunya\n",
      "Debug: Perez Alvarez, Nuria\n",
      "Debug: 0000-0001-6582-1553\n",
      "Debug: ['Universitat Politècnica de Catalunya', 'Institut de Recerca Germans Trias i Pujol']\n",
      "Debug: Pérez Bellmunt, Albert\n",
      "Debug: 0000-0002-5607-0708\n",
      "Debug: Universitat Internacional de Catalunya\n",
      "Debug: Perez Aparicio, Alicia\n",
      "Debug: 0000-0001-5722-6148\n",
      "Debug: Universitat de Lleida\n",
      "Debug: Pérez Amorós, Francisco\n",
      "Debug: 0000-0003-0803-9578\n",
      "Debug: Universitat Autònoma de Barcelona\n",
      "Debug: Perez Batlle, Marcos\n",
      "Debug: 0000-0002-5480-6478\n",
      "Debug: Universitat Politècnica de Catalunya\n",
      "Debug: Perez Benavente, Maria Asuncion\n",
      "Debug: 0000-0003-1872-9003\n",
      "Debug: [\"Vall d'Hebron Institut de Recerca\", 'Universitat Autònoma de Barcelona']\n",
      "Debug: Perez Bellido, Alexis\n",
      "Debug: 0000-0002-5027-9455\n",
      "Debug: Universitat de Barcelona\n"
     ]
    }
   ],
   "source": [
    "mydict = {'name':'fernando', 'age':35}\n",
    "print(mydict.keys())\n",
    "for k,v in mydict.items():\n",
    "    print(k,v)"
   ]
  },
  {
   "cell_type": "code",
   "execution_count": 2,
   "id": "1cfde032-159b-46ed-8e08-8dd2c60431f2",
   "metadata": {},
   "outputs": [
    {
     "ename": "NameError",
     "evalue": "name 'result' is not defined",
     "output_type": "error",
     "traceback": [
      "\u001b[0;31m---------------------------------------------------------------------------\u001b[0m",
      "\u001b[0;31mNameError\u001b[0m                                 Traceback (most recent call last)",
      "\u001b[0;32m/tmp/ipykernel_4662/3946177353.py\u001b[0m in \u001b[0;36m<module>\u001b[0;34m\u001b[0m\n\u001b[0;32m----> 1\u001b[0;31m \u001b[0mresult\u001b[0m\u001b[0;34m[\u001b[0m\u001b[0;34m'hello'\u001b[0m\u001b[0;34m]\u001b[0m\u001b[0;34m=\u001b[0m\u001b[0;34m'world'\u001b[0m\u001b[0;34m\u001b[0m\u001b[0;34m\u001b[0m\u001b[0m\n\u001b[0m",
      "\u001b[0;31mNameError\u001b[0m: name 'result' is not defined"
     ]
    }
   ],
   "source": [
    "result['hello']='world'"
   ]
  },
  {
   "cell_type": "code",
   "execution_count": null,
   "id": "5e58c356-0f79-4dfe-9772-c2330a3dde10",
   "metadata": {},
   "outputs": [],
   "source": []
  },
  {
   "cell_type": "markdown",
   "id": "bdb9655a-f812-45ae-8ed4-7013f27644e9",
   "metadata": {},
   "source": [
    "# Debugging pandas read_html"
   ]
  },
  {
   "cell_type": "code",
   "execution_count": 6,
   "id": "ebcc99ab-a074-493f-b7d6-ce5b475d66ec",
   "metadata": {},
   "outputs": [],
   "source": [
    "# Delete this\n",
    "import pandas as pd\n",
    "df = pd.read_csv('data/author_data_20220311.csv')\n",
    "df = df.rename(columns={'project':'projects', 'group':'groups'})\n",
    "df.to_csv('data/author_data_20220311_2.csv', index=None)"
   ]
  },
  {
   "cell_type": "code",
   "execution_count": 47,
   "id": "1f8769fe-816e-4bad-a7a0-4cef671889f8",
   "metadata": {},
   "outputs": [],
   "source": [
    "import pandas as pd\n",
    "from requests_html import HTMLSession"
   ]
  },
  {
   "cell_type": "code",
   "execution_count": 48,
   "id": "a12fc998-3a1c-4954-b2f1-8d2c11e380ea",
   "metadata": {},
   "outputs": [],
   "source": [
    "url = 'https://portalrecerca.csuc.cat/cris/ou/ou167744?onlytab=true&locale=en'\n",
    "url = 'https://portalrecerca.csuc.cat/cris/project/pj3453346?onlytab=true&locale=en'"
   ]
  },
  {
   "cell_type": "code",
   "execution_count": 49,
   "id": "9871488d-7ca1-40ac-b10a-03ed8b10b07a",
   "metadata": {},
   "outputs": [],
   "source": [
    "session = HTMLSession()\n",
    "r = session.get(url)"
   ]
  },
  {
   "cell_type": "code",
   "execution_count": 51,
   "id": "8ef8e76e-520d-4919-b033-11c0be462cb0",
   "metadata": {},
   "outputs": [
    {
     "data": {
      "text/plain": [
       "1"
      ]
     },
     "execution_count": 51,
     "metadata": {},
     "output_type": "execute_result"
    }
   ],
   "source": [
    "tables_lst = pd.read_html(r.text)\n",
    "len(tables_lst)"
   ]
  },
  {
   "cell_type": "code",
   "execution_count": 53,
   "id": "4d19f244-d12f-46bf-8a0a-c53eb02481bf",
   "metadata": {},
   "outputs": [
    {
     "data": {
      "text/plain": [
       "{'Title': 'Modelizacion atmosferica y tecnicas LIDAR para el estudio del transporte de contaminantes en atmosferas urbanas. Aplicacion al entorno urbano de Barcelona. Sistemas LIDAR (Radar Laser)',\n",
       " 'Official code': 'AMB96-1144-0O2-02',\n",
       " 'URL': 'http://futur.upc.edu/1692739',\n",
       " 'Start date': '01-07-1996',\n",
       " 'End date': '01-06-1999',\n",
       " 'Universities or CERCA centres': 'Universitat Politècnica de Catalunya'}"
      ]
     },
     "execution_count": 53,
     "metadata": {},
     "output_type": "execute_result"
    }
   ],
   "source": [
    "table = tables_lst[0].set_index(0).to_dict()[1]\n",
    "table"
   ]
  },
  {
   "cell_type": "code",
   "execution_count": 46,
   "id": "26a7bcb4-2a36-4201-bb7a-6aeb85c9904c",
   "metadata": {},
   "outputs": [
    {
     "data": {
      "text/plain": [
       "{'title': 'Modelizacion atmosferica y tecnicas LIDAR para el estudio del transporte de contaminantes en atmosferas urbanas. Aplicacion al entorno urbano de Barcelona. Sistemas LIDAR (Radar Laser)',\n",
       " 'code': 'AMB96-1144-0O2-02',\n",
       " 'url': 'http://futur.upc.edu/1692739',\n",
       " 'start_date': '01-07-1996',\n",
       " 'end_date': '01-06-1999',\n",
       " 'institution': 'Universitat PolitÃ¨cnica de Catalunya'}"
      ]
     },
     "execution_count": 46,
     "metadata": {},
     "output_type": "execute_result"
    }
   ],
   "source": [
    "attr_keys = {'name':'Name', 'acronym':'Acronym','institution':'Universities or CERCA centres'}\n",
    "attr_keys = {\n",
    "    'title':'Title', \n",
    "    'code':'Official code',\n",
    "    'url':'URL',\n",
    "    'start_date':'Start date',\n",
    "    'end_date':'End date',\n",
    "    'institution':'Universities or CERCA centres'}\n",
    "\n",
    "result = {attr_name:table[table_key] for attr_name,table_key in attr_keys.items()}\n",
    "result"
   ]
  },
  {
   "cell_type": "code",
   "execution_count": null,
   "id": "c042ff23-abba-4840-a025-1206a9de89ac",
   "metadata": {},
   "outputs": [],
   "source": [
    "{k for k,v in result.items()}"
   ]
  },
  {
   "cell_type": "code",
   "execution_count": 17,
   "id": "0d562136-135f-4be8-b4b1-4c81912d2560",
   "metadata": {},
   "outputs": [
    {
     "data": {
      "text/plain": [
       "{0: {0: 'Name', 1: 'Acronym', 2: 'URL', 3: 'Universities or CERCA centres'},\n",
       " 1: {0: '(MC)2 - UPC Mecanica de Medios Continuos y Computacional',\n",
       "  1: '(MC)2 - UPC',\n",
       "  2: 'https://futur.upc.edu/%28MC%292+-+UPC',\n",
       "  3: 'Universitat PolitÃ¨cnica de Catalunya'}}"
      ]
     },
     "execution_count": 17,
     "metadata": {},
     "output_type": "execute_result"
    }
   ],
   "source": [
    "mydf[0].to_dict()"
   ]
  },
  {
   "cell_type": "code",
   "execution_count": 11,
   "id": "8bd202ee-9759-4c57-a1de-adbd39306998",
   "metadata": {},
   "outputs": [
    {
     "data": {
      "text/plain": [
       "1"
      ]
     },
     "execution_count": 11,
     "metadata": {},
     "output_type": "execute_result"
    }
   ],
   "source": [
    "len(df)"
   ]
  },
  {
   "cell_type": "code",
   "execution_count": 41,
   "id": "38ed7276-f589-4da2-bbef-ab6607fc4b8e",
   "metadata": {},
   "outputs": [
    {
     "data": {
      "text/html": [
       "<div>\n",
       "<style scoped>\n",
       "    .dataframe tbody tr th:only-of-type {\n",
       "        vertical-align: middle;\n",
       "    }\n",
       "\n",
       "    .dataframe tbody tr th {\n",
       "        vertical-align: top;\n",
       "    }\n",
       "\n",
       "    .dataframe thead th {\n",
       "        text-align: right;\n",
       "    }\n",
       "</style>\n",
       "<table border=\"1\" class=\"dataframe\">\n",
       "  <thead>\n",
       "    <tr style=\"text-align: right;\">\n",
       "      <th></th>\n",
       "      <th>0</th>\n",
       "      <th>1</th>\n",
       "    </tr>\n",
       "  </thead>\n",
       "  <tbody>\n",
       "    <tr>\n",
       "      <th>0</th>\n",
       "      <td>Title</td>\n",
       "      <td>Modelizacion atmosferica y tecnicas LIDAR para...</td>\n",
       "    </tr>\n",
       "    <tr>\n",
       "      <th>1</th>\n",
       "      <td>Official code</td>\n",
       "      <td>AMB96-1144-0O2-02</td>\n",
       "    </tr>\n",
       "    <tr>\n",
       "      <th>2</th>\n",
       "      <td>URL</td>\n",
       "      <td>http://futur.upc.edu/1692739</td>\n",
       "    </tr>\n",
       "    <tr>\n",
       "      <th>3</th>\n",
       "      <td>Start date</td>\n",
       "      <td>01-07-1996</td>\n",
       "    </tr>\n",
       "    <tr>\n",
       "      <th>4</th>\n",
       "      <td>End date</td>\n",
       "      <td>01-06-1999</td>\n",
       "    </tr>\n",
       "    <tr>\n",
       "      <th>5</th>\n",
       "      <td>Universities or CERCA centres</td>\n",
       "      <td>Universitat PolitÃ¨cnica de Catalunya</td>\n",
       "    </tr>\n",
       "  </tbody>\n",
       "</table>\n",
       "</div>"
      ],
      "text/plain": [
       "                               0  \\\n",
       "0                          Title   \n",
       "1                  Official code   \n",
       "2                            URL   \n",
       "3                     Start date   \n",
       "4                       End date   \n",
       "5  Universities or CERCA centres   \n",
       "\n",
       "                                                   1  \n",
       "0  Modelizacion atmosferica y tecnicas LIDAR para...  \n",
       "1                                  AMB96-1144-0O2-02  \n",
       "2                       http://futur.upc.edu/1692739  \n",
       "3                                         01-07-1996  \n",
       "4                                         01-06-1999  \n",
       "5              Universitat PolitÃ¨cnica de Catalunya  "
      ]
     },
     "execution_count": 41,
     "metadata": {},
     "output_type": "execute_result"
    }
   ],
   "source": [
    "url = 'https://portalrecerca.csuc.cat/cris/ou/ou167744/researchersorg.html?onlytab=true&locale=en'\n",
    "tables = pd.read_html(url)\n",
    "tables[0]"
   ]
  },
  {
   "cell_type": "code",
   "execution_count": 42,
   "id": "2e7f9906-09f3-478d-af18-84b20bcdfa3d",
   "metadata": {},
   "outputs": [
    {
     "data": {
      "text/plain": [
       "1"
      ]
     },
     "execution_count": 42,
     "metadata": {},
     "output_type": "execute_result"
    }
   ],
   "source": [
    "len(tables)"
   ]
  },
  {
   "cell_type": "code",
   "execution_count": 39,
   "id": "91210ef8-753c-43e7-97a5-c321115abf8b",
   "metadata": {},
   "outputs": [
    {
     "data": {
      "text/plain": [
       "['UPC, CIMNE']"
      ]
     },
     "execution_count": 39,
     "metadata": {},
     "output_type": "execute_result"
    }
   ],
   "source": [
    "tables[0]['Fullname'].to_list()\n",
    "tables[0]['Universities or CERCA centres'].to_list()"
   ]
  },
  {
   "cell_type": "code",
   "execution_count": 40,
   "id": "91907b5a-5653-4a06-9ef2-ead6eeb4f5f4",
   "metadata": {},
   "outputs": [
    {
     "data": {
      "text/plain": [
       "[nan,\n",
       " nan,\n",
       " nan,\n",
       " 'UPC, CIMNE',\n",
       " nan,\n",
       " 'UPC, CIMNE',\n",
       " 'UPC, CIMNE',\n",
       " 'UPC',\n",
       " 'UPC, UIC, CIMNE',\n",
       " 'UPC, CIMNE',\n",
       " 'UPC, CIMNE',\n",
       " nan,\n",
       " 'UPC, CIMNE',\n",
       " nan,\n",
       " nan,\n",
       " 'UPC, CIMNE',\n",
       " nan,\n",
       " 'UPC',\n",
       " 'UPC',\n",
       " 'UPC, CIMNE',\n",
       " nan,\n",
       " nan,\n",
       " nan,\n",
       " nan,\n",
       " nan,\n",
       " 'UPC, CIMNE',\n",
       " 'UPC',\n",
       " 'UPC, CIMNE',\n",
       " nan,\n",
       " 'UPC, CIMNE',\n",
       " nan,\n",
       " nan,\n",
       " 'UPC, CIMNE',\n",
       " nan,\n",
       " nan,\n",
       " nan,\n",
       " nan,\n",
       " nan,\n",
       " 'UPC, CIMNE',\n",
       " nan,\n",
       " nan,\n",
       " 'UPC, CIMNE',\n",
       " nan,\n",
       " nan,\n",
       " nan,\n",
       " nan]"
      ]
     },
     "execution_count": 40,
     "metadata": {},
     "output_type": "execute_result"
    }
   ],
   "source": [
    "tables[1]['Fullname'].to_list()\n",
    "tables[1]['Universities or CERCA centres'].to_list()"
   ]
  },
  {
   "cell_type": "code",
   "execution_count": null,
   "id": "80d35ef8-e92c-4e06-bf2b-695384b81a8a",
   "metadata": {},
   "outputs": [],
   "source": [
    "# Get max pages"
   ]
  },
  {
   "cell_type": "code",
   "execution_count": 1,
   "id": "a049623b-a14f-4b8e-85d3-6aa9d6232280",
   "metadata": {},
   "outputs": [],
   "source": [
    "from src.scrape import get_max_pages"
   ]
  },
  {
   "cell_type": "code",
   "execution_count": null,
   "id": "a4ebc2e2-90eb-426a-9f3d-78c6aa524d16",
   "metadata": {},
   "outputs": [],
   "source": []
  },
  {
   "cell_type": "code",
   "execution_count": null,
   "id": "595166ae-9015-4796-b69f-4d95c5189cb5",
   "metadata": {},
   "outputs": [],
   "source": []
  }
 ],
 "metadata": {
  "kernelspec": {
   "display_name": "Python 3 (ipykernel)",
   "language": "python",
   "name": "python3"
  },
  "language_info": {
   "codemirror_mode": {
    "name": "ipython",
    "version": 3
   },
   "file_extension": ".py",
   "mimetype": "text/x-python",
   "name": "python",
   "nbconvert_exporter": "python",
   "pygments_lexer": "ipython3",
   "version": "3.9.6"
  }
 },
 "nbformat": 4,
 "nbformat_minor": 5
}
