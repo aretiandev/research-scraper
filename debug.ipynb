{
 "cells": [
  {
   "cell_type": "markdown",
   "id": "606b03fa-86d4-4e0b-893e-080d96e50aaa",
   "metadata": {},
   "source": [
    "# Debug Scraper"
   ]
  },
  {
   "cell_type": "markdown",
   "id": "77e00729-86eb-4308-a396-3a68d854177a",
   "metadata": {},
   "source": [
    "## Test scrape()"
   ]
  },
  {
   "cell_type": "code",
   "execution_count": null,
   "id": "33ff9c31-ce72-4621-9377-bb2f4b538fd8",
   "metadata": {
    "tags": []
   },
   "outputs": [],
   "source": [
    "from requests_html import AsyncHTMLSession\n",
    "\n",
    "url1 = 'https://portalrecerca.csuc.cat/simple-search?query=&location=crisrp&filter_field_1=resourcetype&filter_type_1=equals&filter_value_1=Researchers&filter_field_2=&filter_type_2=&filter_value_2=&sort_by=crisrp.fullName_sort&order=asc&rpp=300&etal=0&start=5400'\n",
    "url2 = 'https://portalrecerca.csuc.cat/simple-search?query=&location=crisrp&filter_field_1=resourcetype&filter_type_1=equals&filter_value_1=Researchers&filter_field_2=&filter_type_2=&filter_value_2=&sort_by=crisrp.fullName_sort&order=asc&rpp=300&etal=0&start=5700'\n",
    "batch = [url1,url2]\n",
    "\n",
    "items = 'author_links'\n",
    "\n",
    "async def main():\n",
    "    s = AsyncHTMLSession()\n",
    "    tasks = (scrape_url(s, url, items=items) for url in batch)\n",
    "    batch_result = await asyncio.gather(*tasks)\n",
    "\n",
    "await main()"
   ]
  },
  {
   "cell_type": "markdown",
   "id": "be7bd151-6606-4481-8d7a-1a39560f7c98",
   "metadata": {},
   "source": [
    "## Custom Test"
   ]
  },
  {
   "cell_type": "code",
   "execution_count": 2,
   "id": "450b9046-25c8-4973-9cdc-c7e1818decf7",
   "metadata": {
    "collapsed": true,
    "jupyter": {
     "outputs_hidden": true
    },
    "tags": []
   },
   "outputs": [
    {
     "name": "stdout",
     "output_type": "stream",
     "text": [
      "# Request #\n",
      "Headers: {'User-Agent': 'Mozilla/5.0 (Macintosh; Intel Mac OS X 10_12_6) AppleWebKit/603.3.8 (KHTML, like Gecko) Version/10.1.2 Safari/603.3.8', 'Accept-Encoding': 'gzip, deflate, br', 'Accept': '*/*', 'Connection': 'keep-alive'}.\n",
      "HTML length: 766,329.\n",
      "\n",
      "# Parsing #\n",
      "Table length: 9,389.\n",
      "Number of rows: 300.\n",
      "Row length: 28.\n",
      "Name cell length: 66.\n",
      "ORCID obtained from cell: /orcid/0000-0001-8203-2951.\n",
      "Row length: 27.\n",
      "Name cell length: 63.\n",
      "ORCID obtained from cell: /orcid/0000-0002-3794-2224.\n",
      "Row length: 42.\n",
      "Name cell length: 68.\n",
      "ORCID obtained from cell: /orcid/0000-0003-1657-4714.\n",
      "Row length: 35.\n",
      "Name cell length: 72.\n",
      "ORCID obtained from cell: /orcid/0000-0002-4456-4890.\n",
      "Row length: 27.\n",
      "Name cell length: 64.\n",
      "ORCID obtained from cell: /orcid/0000-0003-1642-2809.\n",
      "Row length: 30.\n",
      "Name cell length: 67.\n",
      "ORCID obtained from cell: /orcid/0000-0003-4894-6260.\n",
      "Row length: 26.\n",
      "['/orcid/0000-0001-8203-2951', '/orcid/0000-0002-3794-2224', '/orcid/0000-0003-1657-4714', '/orcid/0000-0002-4456-4890', '/orcid/0000-0003-1642-2809', '/orcid/0000-0003-4894-6260']\n"
     ]
    }
   ],
   "source": [
    "# Custom test script to show different results between JupyterLab and python script\n",
    "from src.test_single import test_scrape\n",
    "test_scrape()"
   ]
  },
  {
   "cell_type": "markdown",
   "id": "825016ef-f2ab-48eb-b54c-f63cd9843652",
   "metadata": {},
   "source": [
    "## Test scrape_authors"
   ]
  },
  {
   "cell_type": "code",
   "execution_count": 1,
   "id": "53c47626-16e9-446a-bbb2-95992a030f03",
   "metadata": {},
   "outputs": [
    {
     "name": "stdout",
     "output_type": "stream",
     "text": [
      "Scraping authors from Portal de la Reserca.\n",
      "Saving results to ./data/nodes_20220309.csv.\n",
      "Scraping authors from 18,900 URLs in 189 batches of 100, starting at 0.\n",
      "{'Surnames, Name': 'Aasen, Trond', 'Signature': 'Aasen, Trond', 'e/a': '', 'ORCID': '0000-0003-0763-2695', 'Universities or CERCA centres': \"Vall d'Hebron Institut de Recerca\"}\n",
      "{'Surnames, Name': 'Abad Capa, Jorge', 'Signature': 'Abad Capa, Jorge', 'e/a': '', 'ORCID': '0000-0002-8129-7859', 'Universities or CERCA centres': 'Universitat Autònoma de Barcelona'}\n",
      "{'Surnames, Name': 'Abad Lázaro, Aina', 'Signature': 'Abad Lázaro, Aina', 'e/a': '', 'ORCID': '0000-0003-0260-9170', 'Universities or CERCA centres': 'Institut de Bioenginyeria de Catalunya'}\n",
      "{'Surnames, Name': 'Abad Calvo, Pilar', 'Signature': 'Abad Calvo, Pilar', 'ORCID': '0000-0002-6078-0956', 'Universities or CERCA centres': 'Institut de Recerca Germans Trias i Pujol'}\n",
      "{'Surnames, Name': 'Abad Cuñado, Vanessa', 'Signature': 'Abad Cuñado, Vanessa', 'e/a': '', 'ORCID': '0000-0003-4265-1656', 'Universities or CERCA centres': 'Universitat Autònoma de Barcelona'}\n",
      "{'Surnames, Name': 'Abad Morejón de Girón, F. Xavier', 'Signature': 'Xavier Abad, F', 'e/a': '', 'ORCID': '0000-0003-1818-1236', 'Universities or CERCA centres': ['Institut de Recerca i Tecnologia Agroalimentàries', 'Universitat Autònoma de Barcelona']}\n",
      "{'Surnames, Name': 'Abad Roldan, Manuel David', 'Signature': 'Abad Roldan, Manuel David', 'e/a': '', 'ORCID': '0000-0002-5935-5709', 'Universities or CERCA centres': 'Universitat Ramon Llull'}\n",
      "{'Surnames, Name': 'Abad Puente, Jesus', 'Signature': 'Abad, J.', 'e/a': '', 'ORCID': '0000-0003-1447-2087', 'Universities or CERCA centres': 'Universitat Politècnica de Catalunya'}\n",
      "{'Surnames, Name': 'Abad Torrent, Ana Maria', 'Signature': 'Abad Torrent, Ana Maria', 'e/a': '', 'ORCID': '0000-0002-5448-0113', 'Universities or CERCA centres': \"Vall d'Hebron Institut de Recerca\"}\n",
      "{'Surnames, Name': 'Abadal Berini, Gabriel', 'Signature': 'Abadal Berini, Gabriel', 'e/a': '', 'ORCID': '0000-0002-6380-4298', 'Universities or CERCA centres': 'Universitat Autònoma de Barcelona'}\n",
      "{'Surnames, Name': 'Abadal Cavalle, Sergi', 'Signature': 'S. Abadal', 'e/a': '', 'ORCID': '0000-0003-0941-0260', 'Universities or CERCA centres': 'Universitat Politècnica de Catalunya'}\n",
      "{'Surnames, Name': 'Abadal Falgueras, Ernest', 'Signature': 'Abadal Falgueras, Ernest', 'e/a': '', 'ORCID': '0000-0002-9151-6437', 'Universities or CERCA centres': 'Universitat de Barcelona'}\n",
      "{'Surnames, Name': 'Abadias Sero, Ma. Isabel', 'Signature': 'Abadias M.', 'e/a': '', 'ORCID': '0000-0003-0113-8979', 'Universities or CERCA centres': 'Institut de Recerca i Tecnologia Agroalimentàries'}\n",
      "{'Surnames, Name': 'Abaie Shoushtary, Mojtaba', 'Signature': 'Abaie, M.', 'e/a': '', 'ORCID': '0000-0003-2377-6939', 'Universities or CERCA centres': 'Universitat Politècnica de Catalunya'}\n",
      "{'Surnames, Name': 'Abades Porcel, Mercedes', 'Signature': 'Abades Porcel, Mercedes', 'e/a': '', 'ORCID': '0000-0002-8130-0640', 'Universities or CERCA centres': 'Institut de Recerca Hospital de Sant Pau – IIB Sant Pau'}\n",
      "{'Surnames, Name': 'Abajo del Rincon, Maria Soraya', 'Signature': 'Abajo del Rincon, Maria Soraya', 'e/a': '', 'ORCID': '0000-0002-3629-8625', 'Universities or CERCA centres': 'Institut de Recerca Biomèdica de Lleida – Fundació Dr. Pifarré'}\n",
      "{'Surnames, Name': 'Abadia Naudi, Sixte', 'Signature': 'Abadia Naudi, Sixte', 'e/a': '', 'ORCID': '0000-0002-1576-7592', 'Universities or CERCA centres': 'Universitat Ramon Llull'}\n",
      "{'Surnames, Name': 'Abarca Salat, M. Lourdes', 'Signature': 'Abarca Salat, M. Lourdes', 'e/a': '', 'ORCID': '0000-0002-4151-0758', 'Universities or CERCA centres': 'Universitat Autònoma de Barcelona'}\n",
      "{'Surnames, Name': 'Abanco Martinez de Arenzana, Claudia', 'Signature': 'Abanco Martinez de Arenzana, Claudia', 'e/a': '', 'ORCID': '0000-0002-2169-5409', 'Universities or CERCA centres': 'Universitat de Barcelona'}\n",
      "{'Surnames, Name': 'Abarca Vilchez, Luis', 'Signature': 'Abarca Vilchez, Luis', 'e/a': '', 'ORCID': '0000-0003-0271-0359', 'Universities or CERCA centres': \"Vall d'Hebron Institut de Recerca\"}\n",
      "{'Surnames, Name': 'Abarrategui Garrido, Cynthia', 'Signature': 'Abarrategui Garrido, Cintia', 'e/a': '', 'ORCID': '0000-0002-5356-7030', 'Universities or CERCA centres': 'Barcelona Institute for Global Health'}\n",
      "{'Surnames, Name': 'Abasolo Olaortua, Ibane', 'Signature': 'Abasolo Olaortua, Ibane', 'e/a': '', 'ORCID': '0000-0001-5970-6276', 'Universities or CERCA centres': \"Vall d'Hebron Institut de Recerca\"}\n",
      "{'Surnames, Name': 'Abbasi, Hooman', 'Signature': 'Abbasi, H.', 'e/a': '', 'ORCID': '0000-0001-5167-4126', 'Universities or CERCA centres': 'Universitat Politècnica de Catalunya'}\n",
      "{'Surnames, Name': 'Abdelnasser Mohamed Mahmoud, Mohamed', 'Signature': 'Abdelnasser Mohamed Mahmoud, Mohamed', 'e/a': '', 'ORCID': '0000-0002-1074-2441', 'Universities or CERCA centres': 'Universitat Rovira i Virgili'}\n",
      "{'Surnames, Name': 'Abdi, Yaghoub', 'Signature': 'Abdi, Yaghoub', 'e/a': '', 'ORCID': '0000-0002-7551-3068', 'Universities or CERCA centres': 'Universitat Rovira i Virgili'}\n",
      "{'Surnames, Name': 'Abdelsalam, Mohamed', 'Signature': 'Abdelsalam, Mohamed', 'e/a': '', 'ORCID': '0000-0001-9920-1520', 'Universities or CERCA centres': 'Institut de Recerca Biomèdica de Barcelona'}\n",
      "{'Surnames, Name': 'Abat, Alfonsina', 'Signature': 'Abat, Alfonsina', 'e/a': '', 'ORCID': '0000-0001-8012-4772', 'Universities or CERCA centres': 'Universitat Rovira i Virgili'}\n",
      "{'Surnames, Name': 'Abbate, Stefano', 'Signature': 'Abbate S.', 'e/a': '', 'ORCID': '0000-0002-1844-422X', 'Universities or CERCA centres': 'Universitat Abat Oliba CEU'}\n",
      "{'Surnames, Name': 'Abegón Novella, Marta', 'Signature': 'Abegón Novella, Marta', 'e/a': '', 'ORCID': '0000-0002-4417-821X', 'Universities or CERCA centres': 'Universitat de Barcelona'}\n",
      "{'Surnames, Name': 'Abella Ametller, Carles', 'Signature': 'Abella Ametller, Carles', 'e/a': '', 'ORCID': '0000-0001-9672-9119', 'Universities or CERCA centres': 'Universitat de Girona'}\n",
      "{'Surnames, Name': 'Abdullah, Saad', 'Signature': 'Abdullah, Saad', 'e/a': '', 'ORCID': '0000-0002-8760-8427', 'Universities or CERCA centres': 'Fundació Institut de Ciències Fotòniques'}\n",
      "{'Surnames, Name': 'Abella Monreal, Eugenia', 'Signature': 'Abella, E', 'e/a': '', 'ORCID': '0000-0001-9605-8458', 'Universities or CERCA centres': \"Institut Hospital del Mar d'Investigacions Mèdiques\"}\n",
      "{'Surnames, Name': 'Abella Sans, Francesc', 'Signature': 'Abella Sans, F', 'e/a': '', 'ORCID': '0000-0002-3500-3039', 'Universities or CERCA centres': 'Universitat Internacional de Catalunya'}\n",
      "{'Surnames, Name': 'Abella, Juan', 'Signature': 'Abella, J.', 'e/a': '', 'ORCID': '0000-0002-3433-6093', 'Universities or CERCA centres': 'Institut Català de Paleontologia Miquel Crusafont'}\n",
      "{'Surnames, Name': 'Abellà Iglesias, Jordi', 'Signature': 'Abellà Iglesias, Jordi', 'e/a': '', 'ORCID': '0000-0002-5854-7514', 'Universities or CERCA centres': 'Universitat Ramon Llull'}\n",
      "{'Surnames, Name': 'Abella, Raül Felipe', 'Signature': 'Abella, Raül Felipe', 'e/a': '', 'ORCID': '0000-0002-9209-9970', 'Universities or CERCA centres': \"Vall d'Hebron Institut de Recerca\"}\n",
      "{'Surnames, Name': 'Abella Pérez, Elena', 'Signature': 'Abella Pérez, Elena', 'e/a': '', 'ORCID': '0000-0001-7041-7109', 'Universities or CERCA centres': 'Universitat de Vic - Universitat Central de Catalunya'}\n",
      "{'Surnames, Name': 'Abellan Rodenas, Antonio', 'Signature': 'Abellan Rodenas, Antonio', 'e/a': '', 'ORCID': '0000-0002-1748-7105', 'Universities or CERCA centres': ['Universitat de Lleida', 'Institut de Recerca Biomèdica de Lleida – Fundació Dr. Pifarré']}\n",
      "{'Surnames, Name': 'Abella Pons, Francesc', 'Signature': 'Abella Pons, Francesc', 'e/a': '', 'ORCID': '0000-0002-8393-0144', 'Universities or CERCA centres': ['Universitat de Lleida', 'Institut de Recerca Biomèdica de Lleida – Fundació Dr. Pifarré']}\n",
      "{'Surnames, Name': 'Abello Gamazo, Alberto', 'Signature': 'Abello, A.', 'e/a': '', 'ORCID': '0000-0002-3223-2186', 'Universities or CERCA centres': 'Universitat Politècnica de Catalunya'}\n",
      "{'Surnames, Name': 'Abello Pla, Ana María', 'Signature': 'Abello Pla, Ana María', 'e/a': '', 'ORCID': '0000-0002-8381-846X', 'Universities or CERCA centres': 'Universitat de Vic - Universitat Central de Catalunya'}\n",
      "{'Surnames, Name': 'Abellana Sangra, Rosa Mari', 'Signature': 'Abellana Sangra, Rosa Mari', 'e/a': '', 'ORCID': '0000-0003-4487-4431', 'Universities or CERCA centres': ['Universitat de Barcelona', 'Institut de Recerca Germans Trias i Pujol']}\n",
      "{'Surnames, Name': 'Abellaneda Perez, Kilian Amadeus', 'Signature': 'Abellaneda Perez, Kilian Amadeus', 'e/a': '', 'ORCID': '0000-0001-6447-1248', 'Universities or CERCA centres': ['Institut d’Investigacions Biomèdiques August Pi i Sunyer', 'Universitat de Barcelona']}\n"
     ]
    },
    {
     "ename": "CancelledError",
     "evalue": "",
     "output_type": "error",
     "traceback": [
      "\u001b[0;31m---------------------------------------------------------------------------\u001b[0m",
      "\u001b[0;31mCancelledError\u001b[0m                            Traceback (most recent call last)",
      "\u001b[0;31mCancelledError\u001b[0m: ",
      "\nDuring handling of the above exception, another exception occurred:\n",
      "\u001b[0;31mCancelledError\u001b[0m                            Traceback (most recent call last)",
      "\u001b[0;32m/tmp/ipykernel_427/828754157.py\u001b[0m in \u001b[0;36m<module>\u001b[0;34m\u001b[0m\n\u001b[1;32m      1\u001b[0m \u001b[0;32mfrom\u001b[0m \u001b[0msrc\u001b[0m\u001b[0;34m.\u001b[0m\u001b[0mtest_scrape\u001b[0m \u001b[0;32mimport\u001b[0m \u001b[0mtest_scrape_authors\u001b[0m\u001b[0;34m\u001b[0m\u001b[0;34m\u001b[0m\u001b[0m\n\u001b[1;32m      2\u001b[0m \u001b[0;34m\u001b[0m\u001b[0m\n\u001b[0;32m----> 3\u001b[0;31m \u001b[0;32mawait\u001b[0m \u001b[0mtest_scrape_authors\u001b[0m\u001b[0;34m(\u001b[0m\u001b[0;34m)\u001b[0m\u001b[0;34m\u001b[0m\u001b[0;34m\u001b[0m\u001b[0m\n\u001b[0m",
      "\u001b[0;32m~/work/src/test_scrape.py\u001b[0m in \u001b[0;36mtest_scrape_authors\u001b[0;34m()\u001b[0m\n\u001b[1;32m     33\u001b[0m     \u001b[0mbatch_size\u001b[0m \u001b[0;34m=\u001b[0m \u001b[0;36m100\u001b[0m\u001b[0;34m\u001b[0m\u001b[0;34m\u001b[0m\u001b[0m\n\u001b[1;32m     34\u001b[0m     \u001b[0mout_file\u001b[0m \u001b[0;34m=\u001b[0m \u001b[0;34mf'./data/nodes_{date_today}.csv'\u001b[0m\u001b[0;34m\u001b[0m\u001b[0;34m\u001b[0m\u001b[0m\n\u001b[0;32m---> 35\u001b[0;31m     \u001b[0;32mreturn\u001b[0m \u001b[0;32mawait\u001b[0m \u001b[0mscrape\u001b[0m\u001b[0;34m(\u001b[0m\u001b[0mitems\u001b[0m\u001b[0;34m=\u001b[0m\u001b[0mitems\u001b[0m\u001b[0;34m,\u001b[0m \u001b[0murls\u001b[0m\u001b[0;34m=\u001b[0m\u001b[0murls\u001b[0m\u001b[0;34m,\u001b[0m \u001b[0mbatch_size\u001b[0m\u001b[0;34m=\u001b[0m\u001b[0mbatch_size\u001b[0m\u001b[0;34m,\u001b[0m \u001b[0mout_file\u001b[0m\u001b[0;34m=\u001b[0m\u001b[0mout_file\u001b[0m\u001b[0;34m)\u001b[0m\u001b[0;34m\u001b[0m\u001b[0;34m\u001b[0m\u001b[0m\n\u001b[0m\u001b[1;32m     36\u001b[0m \u001b[0;34m\u001b[0m\u001b[0m\n\u001b[1;32m     37\u001b[0m \u001b[0;34m\u001b[0m\u001b[0m\n",
      "\u001b[0;32m~/work/src/helpers.py\u001b[0m in \u001b[0;36mscrape\u001b[0;34m(items, urls, start_pos, n_pages, batch_size, out_file)\u001b[0m\n\u001b[1;32m    579\u001b[0m         \u001b[0mt1\u001b[0m \u001b[0;34m=\u001b[0m \u001b[0mtime\u001b[0m\u001b[0;34m.\u001b[0m\u001b[0mperf_counter\u001b[0m\u001b[0;34m(\u001b[0m\u001b[0;34m)\u001b[0m\u001b[0;34m\u001b[0m\u001b[0;34m\u001b[0m\u001b[0m\n\u001b[1;32m    580\u001b[0m         \u001b[0mtasks\u001b[0m \u001b[0;34m=\u001b[0m \u001b[0;34m(\u001b[0m\u001b[0mscrape_url\u001b[0m\u001b[0;34m(\u001b[0m\u001b[0ms\u001b[0m\u001b[0;34m,\u001b[0m \u001b[0murl\u001b[0m\u001b[0;34m,\u001b[0m \u001b[0mitems\u001b[0m\u001b[0;34m=\u001b[0m\u001b[0mitems\u001b[0m\u001b[0;34m)\u001b[0m \u001b[0;32mfor\u001b[0m \u001b[0murl\u001b[0m \u001b[0;32min\u001b[0m \u001b[0mbatch\u001b[0m\u001b[0;34m)\u001b[0m\u001b[0;34m\u001b[0m\u001b[0;34m\u001b[0m\u001b[0m\n\u001b[0;32m--> 581\u001b[0;31m         \u001b[0mbatch_result\u001b[0m \u001b[0;34m=\u001b[0m \u001b[0;32mawait\u001b[0m \u001b[0masyncio\u001b[0m\u001b[0;34m.\u001b[0m\u001b[0mgather\u001b[0m\u001b[0;34m(\u001b[0m\u001b[0;34m*\u001b[0m\u001b[0mtasks\u001b[0m\u001b[0;34m)\u001b[0m\u001b[0;34m\u001b[0m\u001b[0;34m\u001b[0m\u001b[0m\n\u001b[0m\u001b[1;32m    582\u001b[0m         \u001b[0mt2\u001b[0m \u001b[0;34m=\u001b[0m \u001b[0mtime\u001b[0m\u001b[0;34m.\u001b[0m\u001b[0mperf_counter\u001b[0m\u001b[0;34m(\u001b[0m\u001b[0;34m)\u001b[0m\u001b[0;34m\u001b[0m\u001b[0;34m\u001b[0m\u001b[0m\n\u001b[1;32m    583\u001b[0m \u001b[0;34m\u001b[0m\u001b[0m\n",
      "\u001b[0;31mCancelledError\u001b[0m: "
     ]
    }
   ],
   "source": [
    "from src.test_scrape import test_scrape_authors\n",
    "\n",
    "await test_scrape_authors()"
   ]
  },
  {
   "cell_type": "code",
   "execution_count": null,
   "id": "54e3204f-3aa0-4e00-b5b8-c961514422e5",
   "metadata": {},
   "outputs": [],
   "source": []
  }
 ],
 "metadata": {
  "kernelspec": {
   "display_name": "Python 3 (ipykernel)",
   "language": "python",
   "name": "python3"
  },
  "language_info": {
   "codemirror_mode": {
    "name": "ipython",
    "version": 3
   },
   "file_extension": ".py",
   "mimetype": "text/x-python",
   "name": "python",
   "nbconvert_exporter": "python",
   "pygments_lexer": "ipython3",
   "version": "3.9.6"
  }
 },
 "nbformat": 4,
 "nbformat_minor": 5
}
