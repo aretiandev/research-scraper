{
 "cells": [
  {
   "cell_type": "markdown",
   "id": "96c8447c-f9bf-4d12-923c-df0eb6452710",
   "metadata": {},
   "source": [
    "# Add group names to nodes"
   ]
  },
  {
   "cell_type": "markdown",
   "id": "f937052b-d964-42dc-844b-53e23fe8d4d3",
   "metadata": {
    "tags": []
   },
   "source": [
    "# Load modules"
   ]
  },
  {
   "cell_type": "code",
   "execution_count": 26,
   "id": "a2dd0aa5-8790-404e-93af-789f7b176406",
   "metadata": {
    "tags": []
   },
   "outputs": [],
   "source": [
    "import pandas as pd"
   ]
  },
  {
   "cell_type": "markdown",
   "id": "710e127a-d918-473f-97db-4ecbdf5d635b",
   "metadata": {
    "tags": []
   },
   "source": [
    "# Load data"
   ]
  },
  {
   "cell_type": "code",
   "execution_count": 27,
   "id": "4d51a57f-fd61-4244-a51b-258058aca01e",
   "metadata": {
    "tags": []
   },
   "outputs": [],
   "source": [
    "df = pd.read_csv(\"../data/20240317/20240317_nodes_UPC_EETAC.csv\")\n",
    "df_groups = pd.read_csv(\"../data/20240317/20240317_group_data_UPC.csv\")"
   ]
  },
  {
   "cell_type": "code",
   "execution_count": 28,
   "id": "47befd02-c7c5-4d0d-89af-06af30584a90",
   "metadata": {
    "tags": []
   },
   "outputs": [
    {
     "data": {
      "text/html": [
       "<div>\n",
       "<style scoped>\n",
       "    .dataframe tbody tr th:only-of-type {\n",
       "        vertical-align: middle;\n",
       "    }\n",
       "\n",
       "    .dataframe tbody tr th {\n",
       "        vertical-align: top;\n",
       "    }\n",
       "\n",
       "    .dataframe thead th {\n",
       "        text-align: right;\n",
       "    }\n",
       "</style>\n",
       "<table border=\"1\" class=\"dataframe\">\n",
       "  <thead>\n",
       "    <tr style=\"text-align: right;\">\n",
       "      <th></th>\n",
       "      <th>label</th>\n",
       "      <th>id</th>\n",
       "      <th>department</th>\n",
       "      <th>institution</th>\n",
       "      <th>projects</th>\n",
       "      <th>groups</th>\n",
       "      <th>n_publications</th>\n",
       "      <th>n_projects</th>\n",
       "      <th>n_groups</th>\n",
       "      <th>EETAC</th>\n",
       "    </tr>\n",
       "  </thead>\n",
       "  <tbody>\n",
       "    <tr>\n",
       "      <th>0</th>\n",
       "      <td>Abad Puente, Jesus</td>\n",
       "      <td>0000-0003-1447-2087</td>\n",
       "      <td>Departament d'Organitzacio d'Empreses</td>\n",
       "      <td>UPC</td>\n",
       "      <td>[]</td>\n",
       "      <td>['/sgr/2017SGR1167']</td>\n",
       "      <td>23.0</td>\n",
       "      <td>2</td>\n",
       "      <td>20</td>\n",
       "      <td>0</td>\n",
       "    </tr>\n",
       "    <tr>\n",
       "      <th>1</th>\n",
       "      <td>Abadal Cavalle, Sergi</td>\n",
       "      <td>0000-0003-0941-0260</td>\n",
       "      <td>Departament d'Arquitectura de Computadors</td>\n",
       "      <td>UPC</td>\n",
       "      <td>['/cris/project/pj3439865', '/cris/project/pj3...</td>\n",
       "      <td>['/sgr/2017SGR1037']</td>\n",
       "      <td>156.0</td>\n",
       "      <td>297</td>\n",
       "      <td>20</td>\n",
       "      <td>0</td>\n",
       "    </tr>\n",
       "    <tr>\n",
       "      <th>2</th>\n",
       "      <td>Abaie Shoushtary, Mojtaba</td>\n",
       "      <td>0000-0003-2377-6939</td>\n",
       "      <td>Departament d'Arquitectura de Computadors</td>\n",
       "      <td>UPC</td>\n",
       "      <td>['/cris/project/pj3451874', '/cris/project/pj3...</td>\n",
       "      <td>[]</td>\n",
       "      <td>0.0</td>\n",
       "      <td>54</td>\n",
       "      <td>2</td>\n",
       "      <td>0</td>\n",
       "    </tr>\n",
       "    <tr>\n",
       "      <th>3</th>\n",
       "      <td>Abbasi, Hooman</td>\n",
       "      <td>0000-0001-5167-4126</td>\n",
       "      <td>Departament de Ciencia i Enginyeria de Materials</td>\n",
       "      <td>UPC</td>\n",
       "      <td>['/cris/project/pj3437360', '/cris/project/pj3...</td>\n",
       "      <td>['/sgr/2017SGR0913']</td>\n",
       "      <td>36.0</td>\n",
       "      <td>81</td>\n",
       "      <td>20</td>\n",
       "      <td>0</td>\n",
       "    </tr>\n",
       "    <tr>\n",
       "      <th>4</th>\n",
       "      <td>Abello Gamazo, Alberto</td>\n",
       "      <td>0000-0002-3223-2186</td>\n",
       "      <td>Departament d'Enginyeria de Serveis i Sistemes...</td>\n",
       "      <td>UPC</td>\n",
       "      <td>['/cris/project/pj3441292', '/cris/project/pj3...</td>\n",
       "      <td>[]</td>\n",
       "      <td>194.0</td>\n",
       "      <td>540</td>\n",
       "      <td>2</td>\n",
       "      <td>0</td>\n",
       "    </tr>\n",
       "  </tbody>\n",
       "</table>\n",
       "</div>"
      ],
      "text/plain": [
       "                       label                   id   \n",
       "0         Abad Puente, Jesus  0000-0003-1447-2087  \\\n",
       "1      Abadal Cavalle, Sergi  0000-0003-0941-0260   \n",
       "2  Abaie Shoushtary, Mojtaba  0000-0003-2377-6939   \n",
       "3             Abbasi, Hooman  0000-0001-5167-4126   \n",
       "4     Abello Gamazo, Alberto  0000-0002-3223-2186   \n",
       "\n",
       "                                          department institution   \n",
       "0              Departament d'Organitzacio d'Empreses         UPC  \\\n",
       "1          Departament d'Arquitectura de Computadors         UPC   \n",
       "2          Departament d'Arquitectura de Computadors         UPC   \n",
       "3   Departament de Ciencia i Enginyeria de Materials         UPC   \n",
       "4  Departament d'Enginyeria de Serveis i Sistemes...         UPC   \n",
       "\n",
       "                                            projects                groups   \n",
       "0                                                 []  ['/sgr/2017SGR1167']  \\\n",
       "1  ['/cris/project/pj3439865', '/cris/project/pj3...  ['/sgr/2017SGR1037']   \n",
       "2  ['/cris/project/pj3451874', '/cris/project/pj3...                    []   \n",
       "3  ['/cris/project/pj3437360', '/cris/project/pj3...  ['/sgr/2017SGR0913']   \n",
       "4  ['/cris/project/pj3441292', '/cris/project/pj3...                    []   \n",
       "\n",
       "   n_publications  n_projects  n_groups  EETAC  \n",
       "0            23.0           2        20      0  \n",
       "1           156.0         297        20      0  \n",
       "2             0.0          54         2      0  \n",
       "3            36.0          81        20      0  \n",
       "4           194.0         540         2      0  "
      ]
     },
     "execution_count": 28,
     "metadata": {},
     "output_type": "execute_result"
    }
   ],
   "source": [
    "df.head()"
   ]
  },
  {
   "cell_type": "code",
   "execution_count": 31,
   "id": "23fa5efc-e8e0-4925-a680-65f1479c0c49",
   "metadata": {
    "tags": []
   },
   "outputs": [],
   "source": [
    "import ast"
   ]
  },
  {
   "cell_type": "code",
   "execution_count": 32,
   "id": "a34cc760-de1f-4dde-988a-a97970de757c",
   "metadata": {
    "tags": []
   },
   "outputs": [],
   "source": [
    "# Function to map URL stems to group names\n",
    "def map_url_to_name(url_list):\n",
    "    url_list = ast.literal_eval(url_list)\n",
    "    group_names = []\n",
    "    for url in url_list:\n",
    "        for index, row in df_groups.iterrows():\n",
    "            if url == row['url_stem']:\n",
    "                group_names.append(row['name'])\n",
    "                break  # Once found, no need to continue searching\n",
    "    return group_names"
   ]
  },
  {
   "cell_type": "code",
   "execution_count": 33,
   "id": "48b8cab1-f6d7-453e-8b26-31e90b85db38",
   "metadata": {
    "tags": []
   },
   "outputs": [],
   "source": [
    "# Apply the function to each row in df_nodes\n",
    "df['group_names'] = df['groups'].apply(map_url_to_name)"
   ]
  },
  {
   "cell_type": "code",
   "execution_count": 54,
   "id": "184be39b-1140-44b7-b4bc-e933c00e08e7",
   "metadata": {
    "tags": []
   },
   "outputs": [
    {
     "data": {
      "text/plain": [
       "0"
      ]
     },
     "execution_count": 54,
     "metadata": {},
     "output_type": "execute_result"
    }
   ],
   "source": [
    "def check_notnull(x):\n",
    "    if x == []:\n",
    "        return False\n",
    "    return True\n",
    "\n",
    "df[\"group_names\"].apply(check_notnull).sum()\n",
    "    "
   ]
  },
  {
   "cell_type": "code",
   "execution_count": null,
   "id": "5f4b0d18-df63-4669-8af6-853d907d0ad9",
   "metadata": {},
   "outputs": [],
   "source": [
    "# Check institutions contained in the dataset"
   ]
  },
  {
   "cell_type": "code",
   "execution_count": 6,
   "id": "a2eff502-1f29-4844-8462-bb593f72bb2a",
   "metadata": {
    "tags": []
   },
   "outputs": [],
   "source": [
    "from ast import literal_eval"
   ]
  },
  {
   "cell_type": "code",
   "execution_count": 11,
   "id": "3e594b6f-4351-4bb5-a895-f20c73a69e38",
   "metadata": {
    "tags": []
   },
   "outputs": [
    {
     "data": {
      "text/plain": [
       "0        None\n",
       "1        None\n",
       "2        None\n",
       "3        None\n",
       "4        None\n",
       "         ... \n",
       "20252    None\n",
       "20253    None\n",
       "20254    None\n",
       "20255    None\n",
       "20256    None\n",
       "Name: institution, Length: 20257, dtype: object"
      ]
     },
     "execution_count": 11,
     "metadata": {},
     "output_type": "execute_result"
    }
   ],
   "source": [
    "myset = set()\n",
    "\n",
    "def add_inst(x):\n",
    "    x = literal_eval(x)\n",
    "    # print(x)\n",
    "    myset.update(x)\n",
    "    \n",
    "df[\"institution\"].apply(add_inst)"
   ]
  },
  {
   "cell_type": "code",
   "execution_count": 12,
   "id": "ca1ab5e8-d835-4396-9a32-b7cff87ac6a9",
   "metadata": {
    "tags": []
   },
   "outputs": [
    {
     "data": {
      "text/plain": [
       "{'Agrotecnio',\n",
       " 'CED',\n",
       " 'CIMNE',\n",
       " 'CREAF',\n",
       " 'CREI',\n",
       " 'CRG',\n",
       " 'CRM 332',\n",
       " 'CTFC',\n",
       " 'CTTC',\n",
       " 'CVC',\n",
       " 'ICN2',\n",
       " 'ICP',\n",
       " 'IDIBGI',\n",
       " 'IEEC',\n",
       " 'IFAE',\n",
       " 'IGTP',\n",
       " 'IISPV',\n",
       " 'IJC',\n",
       " 'IRBBarcelona',\n",
       " 'IRBLleida',\n",
       " 'IREC',\n",
       " 'IRTA',\n",
       " 'UAB',\n",
       " 'UAO',\n",
       " 'UB',\n",
       " 'UIC',\n",
       " 'UOC',\n",
       " 'UPC',\n",
       " 'UPF',\n",
       " 'URL',\n",
       " 'URV',\n",
       " 'UVic-UCC',\n",
       " 'UdG',\n",
       " 'UdL',\n",
       " 'VHIR',\n",
       " 'null'}"
      ]
     },
     "execution_count": 12,
     "metadata": {},
     "output_type": "execute_result"
    }
   ],
   "source": [
    "myset"
   ]
  },
  {
   "cell_type": "code",
   "execution_count": 4,
   "id": "b8997bbe-f68a-4fd0-aa9c-a734f6f5e1b1",
   "metadata": {
    "tags": []
   },
   "outputs": [
    {
     "data": {
      "text/plain": [
       "0                             ['UPC']\n",
       "1                                  []\n",
       "2                      ['UAB', 'UAB']\n",
       "3                        ['UB', 'UB']\n",
       "4                              ['UB']\n",
       "                     ...             \n",
       "20252                              []\n",
       "20253                        ['CTTC']\n",
       "20254    ['UdL', 'UdL', 'Agrotecnio']\n",
       "20255                ['URV', 'IISPV']\n",
       "20256                    ['UVic-UCC']\n",
       "Name: institution, Length: 20257, dtype: object"
      ]
     },
     "execution_count": 4,
     "metadata": {},
     "output_type": "execute_result"
    }
   ],
   "source": [
    "df[\"institution\"]"
   ]
  },
  {
   "cell_type": "code",
   "execution_count": 3,
   "id": "28ac481a-3739-42de-92a1-f26b69e2f13c",
   "metadata": {
    "tags": []
   },
   "outputs": [
    {
     "data": {
      "text/html": [
       "<div>\n",
       "<style scoped>\n",
       "    .dataframe tbody tr th:only-of-type {\n",
       "        vertical-align: middle;\n",
       "    }\n",
       "\n",
       "    .dataframe tbody tr th {\n",
       "        vertical-align: top;\n",
       "    }\n",
       "\n",
       "    .dataframe thead th {\n",
       "        text-align: right;\n",
       "    }\n",
       "</style>\n",
       "<table border=\"1\" class=\"dataframe\">\n",
       "  <thead>\n",
       "    <tr style=\"text-align: right;\">\n",
       "      <th></th>\n",
       "      <th>label</th>\n",
       "      <th>id</th>\n",
       "      <th>institution_2</th>\n",
       "      <th>department</th>\n",
       "      <th>institution</th>\n",
       "      <th>projects</th>\n",
       "      <th>groups</th>\n",
       "      <th>url</th>\n",
       "      <th>error</th>\n",
       "      <th>status_description</th>\n",
       "    </tr>\n",
       "  </thead>\n",
       "  <tbody>\n",
       "    <tr>\n",
       "      <th>0</th>\n",
       "      <td>Turmo Coderque, Jose</td>\n",
       "      <td>0000-0001-5001-2438</td>\n",
       "      <td>Universitat Politècnica de Catalunya</td>\n",
       "      <td>[\"Departament d'Enginyeria Civil i Ambiental\"]</td>\n",
       "      <td>['UPC']</td>\n",
       "      <td>['/cris/project/pj3562159', '/cris/project/pj3...</td>\n",
       "      <td>['/sgr/2017SGR1481']</td>\n",
       "      <td>https://portalrecerca.csuc.cat/orcid/0000-0001...</td>\n",
       "      <td>NaN</td>\n",
       "      <td>NaN</td>\n",
       "    </tr>\n",
       "    <tr>\n",
       "      <th>1</th>\n",
       "      <td>Perramon Costa, Jordi</td>\n",
       "      <td>0000-0001-5002-2505</td>\n",
       "      <td>Universitat Pompeu Fabra</td>\n",
       "      <td>[]</td>\n",
       "      <td>[]</td>\n",
       "      <td>[]</td>\n",
       "      <td>['/cris/ou/ou174056']</td>\n",
       "      <td>https://portalrecerca.csuc.cat/orcid/0000-0001...</td>\n",
       "      <td>NaN</td>\n",
       "      <td>NaN</td>\n",
       "    </tr>\n",
       "    <tr>\n",
       "      <th>2</th>\n",
       "      <td>Oller Guzman, Joan</td>\n",
       "      <td>0000-0001-5002-4914</td>\n",
       "      <td>Universitat Autònoma de Barcelona</td>\n",
       "      <td>['Centre d`Estudis de Patrimoni arqueològic CE...</td>\n",
       "      <td>['UAB', 'UAB']</td>\n",
       "      <td>['/cris/project/pj3584119', '/cris/project/pj3...</td>\n",
       "      <td>['/sgr/2017SGR0658']</td>\n",
       "      <td>https://portalrecerca.csuc.cat/orcid/0000-0001...</td>\n",
       "      <td>NaN</td>\n",
       "      <td>NaN</td>\n",
       "    </tr>\n",
       "    <tr>\n",
       "      <th>3</th>\n",
       "      <td>Viladomat Meya, Francisco</td>\n",
       "      <td>0000-0001-5003-0230</td>\n",
       "      <td>Universitat de Barcelona</td>\n",
       "      <td>['Departament de Biologia, Sanitat i Medi Ambi...</td>\n",
       "      <td>['UB', 'UB']</td>\n",
       "      <td>['/cris/project/pj3586295', '/cris/project/pj3...</td>\n",
       "      <td>['/sgr/2017SGR0604']</td>\n",
       "      <td>https://portalrecerca.csuc.cat/orcid/0000-0001...</td>\n",
       "      <td>NaN</td>\n",
       "      <td>NaN</td>\n",
       "    </tr>\n",
       "    <tr>\n",
       "      <th>4</th>\n",
       "      <td>Carbonell Guberna, Jaume</td>\n",
       "      <td>0000-0001-5004-2215</td>\n",
       "      <td>Universitat de Barcelona</td>\n",
       "      <td>[\"Departament d'Història de l'Art\"]</td>\n",
       "      <td>['UB']</td>\n",
       "      <td>['/cris/project/pj3566496', '/cris/project/pj3...</td>\n",
       "      <td>['/sgr/2017SGR0075']</td>\n",
       "      <td>https://portalrecerca.csuc.cat/orcid/0000-0001...</td>\n",
       "      <td>NaN</td>\n",
       "      <td>NaN</td>\n",
       "    </tr>\n",
       "  </tbody>\n",
       "</table>\n",
       "</div>"
      ],
      "text/plain": [
       "                       label                   id   \n",
       "0       Turmo Coderque, Jose  0000-0001-5001-2438  \\\n",
       "1      Perramon Costa, Jordi  0000-0001-5002-2505   \n",
       "2         Oller Guzman, Joan  0000-0001-5002-4914   \n",
       "3  Viladomat Meya, Francisco  0000-0001-5003-0230   \n",
       "4   Carbonell Guberna, Jaume  0000-0001-5004-2215   \n",
       "\n",
       "                          institution_2   \n",
       "0  Universitat Politècnica de Catalunya  \\\n",
       "1              Universitat Pompeu Fabra   \n",
       "2     Universitat Autònoma de Barcelona   \n",
       "3              Universitat de Barcelona   \n",
       "4              Universitat de Barcelona   \n",
       "\n",
       "                                          department     institution   \n",
       "0     [\"Departament d'Enginyeria Civil i Ambiental\"]         ['UPC']  \\\n",
       "1                                                 []              []   \n",
       "2  ['Centre d`Estudis de Patrimoni arqueològic CE...  ['UAB', 'UAB']   \n",
       "3  ['Departament de Biologia, Sanitat i Medi Ambi...    ['UB', 'UB']   \n",
       "4                [\"Departament d'Història de l'Art\"]          ['UB']   \n",
       "\n",
       "                                            projects                 groups   \n",
       "0  ['/cris/project/pj3562159', '/cris/project/pj3...   ['/sgr/2017SGR1481']  \\\n",
       "1                                                 []  ['/cris/ou/ou174056']   \n",
       "2  ['/cris/project/pj3584119', '/cris/project/pj3...   ['/sgr/2017SGR0658']   \n",
       "3  ['/cris/project/pj3586295', '/cris/project/pj3...   ['/sgr/2017SGR0604']   \n",
       "4  ['/cris/project/pj3566496', '/cris/project/pj3...   ['/sgr/2017SGR0075']   \n",
       "\n",
       "                                                 url error status_description  \n",
       "0  https://portalrecerca.csuc.cat/orcid/0000-0001...   NaN                NaN  \n",
       "1  https://portalrecerca.csuc.cat/orcid/0000-0001...   NaN                NaN  \n",
       "2  https://portalrecerca.csuc.cat/orcid/0000-0001...   NaN                NaN  \n",
       "3  https://portalrecerca.csuc.cat/orcid/0000-0001...   NaN                NaN  \n",
       "4  https://portalrecerca.csuc.cat/orcid/0000-0001...   NaN                NaN  "
      ]
     },
     "execution_count": 3,
     "metadata": {},
     "output_type": "execute_result"
    }
   ],
   "source": [
    "df.head()"
   ]
  },
  {
   "cell_type": "code",
   "execution_count": null,
   "id": "e213aa4c-3cce-40e9-8abc-a282c31943a7",
   "metadata": {},
   "outputs": [],
   "source": []
  }
 ],
 "metadata": {
  "kernelspec": {
   "display_name": "Python 3 (ipykernel)",
   "language": "python",
   "name": "python3"
  },
  "language_info": {
   "codemirror_mode": {
    "name": "ipython",
    "version": 3
   },
   "file_extension": ".py",
   "mimetype": "text/x-python",
   "name": "python",
   "nbconvert_exporter": "python",
   "pygments_lexer": "ipython3",
   "version": "3.10.11"
  }
 },
 "nbformat": 4,
 "nbformat_minor": 5
}
