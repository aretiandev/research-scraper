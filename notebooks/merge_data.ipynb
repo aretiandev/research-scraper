{
 "cells": [
  {
   "cell_type": "markdown",
   "id": "fdaa7400-6ac6-4ae5-b5a6-624300d7f44d",
   "metadata": {},
   "source": [
    "# Merge data for Gauthier"
   ]
  },
  {
   "cell_type": "code",
   "execution_count": null,
   "id": "31b2f287-fc2b-493a-be88-abca50ef09a1",
   "metadata": {},
   "outputs": [],
   "source": [
    "# Import modules\n",
    "import pandas as pd\n",
    "\n",
    "def add_group_names(institution, df_groups, save=False):\n",
    "    # Get Researchers\n",
    "    df = pd.read_csv(f'../data/20220309/nodes_{institution}_20220309.csv', converters={'groups':eval})\n",
    "    \n",
    "    # Add group names\n",
    "    groups_dict = {}\n",
    "    \n",
    "    def get_group_names(lst, df_groups):\n",
    "        groups_names = []\n",
    "        for group_id in lst:\n",
    "            group_name = df_groups.loc[df_groups['url_id']==group_id, 'name'].values[0]\n",
    "            groups_names.append(group_name)\n",
    "            groups_dict[group_id] = group_name\n",
    "        return groups_names\n",
    "    # Merge\n",
    "    df['groups_names'] = df['groups'].apply(lambda x: get_group_names(x, df_groups))\n",
    "    \n",
    "    groups_inst = pd.DataFrame.from_dict(groups_dict, orient='index').reset_index()\n",
    "    groups_inst.columns=['url_id', 'name']\n",
    "    groups_df = groups_inst.merge(df_groups, how='left', on='url_id', suffixes=['','_y'])\n",
    "    groups_df = groups_df.drop(columns=['name_y'])\n",
    "    \n",
    "    if save:\n",
    "        df.to_csv(f'../data/20220309/nodes_{institution}_withgroups_20220309.csv', index=None)\n",
    "        groups_df.to_csv(f'../data/20220309/groups_{institution}_20220309.csv', index=None)\n",
    "    \n",
    "    return df, groups_df\n",
    "\n",
    "def get_unique_groups(df, institution, save=False):\n",
    "    unique_groups = set(df['groups_names'].sum())\n",
    "    if save:\n",
    "        unique_groups_df = pd.DataFrame(unique_groups)\n",
    "        unique_groups_df.to_csv(f'../data/20220309/groups_unique_{institution}_20220309.csv', index=None)\n",
    "    return unique_groups"
   ]
  },
  {
   "cell_type": "code",
   "execution_count": null,
   "id": "45a28554-20cf-49f4-b162-4b66b55f1a39",
   "metadata": {},
   "outputs": [],
   "source": [
    "# Get Groups\n",
    "df_groups = pd.read_csv('../data/20220314/group_data_20220314.csv')\n",
    "df_groups['url_id'] = '/' + df_groups['url_id']\n",
    "\n",
    "institution_list = ['UVic-UCC', 'UB']\n",
    "institution_list = ['UPC_CIMNE']\n",
    "# institution_list = ['UVic-UCC']\n",
    "# institution_list = ['UB']\n",
    "\n",
    "for institution in institution_list:\n",
    "    add_group_names(institution, df_groups, save=True)"
   ]
  }
 ],
 "metadata": {
  "kernelspec": {
   "display_name": "Python 3 (ipykernel)",
   "language": "python",
   "name": "python3"
  },
  "language_info": {
   "codemirror_mode": {
    "name": "ipython",
    "version": 3
   },
   "file_extension": ".py",
   "mimetype": "text/x-python",
   "name": "python",
   "nbconvert_exporter": "python",
   "pygments_lexer": "ipython3",
   "version": "3.9.6"
  }
 },
 "nbformat": 4,
 "nbformat_minor": 5
}
