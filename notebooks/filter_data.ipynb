{
 "cells": [
  {
   "cell_type": "markdown",
   "id": "4002c276-161e-4795-a783-ffdfda98cf66",
   "metadata": {},
   "source": [
    "# Filter data\n",
    "\n",
    "Filter data to selected groups (food and health)."
   ]
  },
  {
   "cell_type": "code",
   "execution_count": null,
   "id": "4b7ff81b-d11d-47af-9473-92e7e1834476",
   "metadata": {},
   "outputs": [],
   "source": [
    "import pandas as pd"
   ]
  },
  {
   "cell_type": "markdown",
   "id": "331e20d3-b8ef-449a-ab4f-8afec1182109",
   "metadata": {},
   "source": [
    "## UVic"
   ]
  },
  {
   "cell_type": "code",
   "execution_count": null,
   "id": "15c7c89d-3e1f-4270-ae90-c552a58c5f9b",
   "metadata": {},
   "outputs": [],
   "source": [
    "# Get nodes\n",
    "df = pd.read_csv('../data/20220309/nodes_UVic-UCC_withgroups_20220309.csv', converters={'groups_names':eval})\n",
    "\n",
    "# Get selected groups\n",
    "df_groups = pd.read_excel('../data/20220309/groups_UVic-UCC_20220309.xlsx', sheet_name=1)\n",
    "selected = set(df_groups.iloc[:,2])\n",
    "\n",
    "# Filter\n",
    "\n",
    "# Helper function\n",
    "def get_group_names(lst):\n",
    "    for group in lst:\n",
    "        if group in selected:\n",
    "            return 1\n",
    "    else:\n",
    "        return 0\n",
    "    \n",
    "# Merge\n",
    "df['selected'] = df['groups_names'].apply(get_group_names)\n",
    "\n",
    "df = df.loc[df['selected']==1]\n",
    "\n",
    "# Save\n",
    "# df.to_csv('../data/20220309/nodes_UVic-UCC_foodhealth_20220309.csv', index=None)"
   ]
  },
  {
   "cell_type": "markdown",
   "id": "dd4df2ad-7a69-4e66-9777-6cb4bbf847f9",
   "metadata": {},
   "source": [
    "## UB"
   ]
  },
  {
   "cell_type": "code",
   "execution_count": null,
   "id": "23808388-d558-4ce5-a358-a298a567b62b",
   "metadata": {},
   "outputs": [],
   "source": [
    "# Get nodes\n",
    "df = pd.read_csv('../data/20220309/nodes_UB_withgroups_20220309.csv', converters={'groups_names':eval})\n",
    "\n",
    "# Get selected groups\n",
    "df_groups = pd.read_excel('../data/20220309/groups_UB_20220309.xlsx', sheet_name=1)\n",
    "selected = set(df_groups.iloc[:,2])\n",
    "\n",
    "# Filter\n",
    "\n",
    "# Helper function\n",
    "def get_group_names(lst):\n",
    "    for group in lst:\n",
    "        if group in selected:\n",
    "            return 1\n",
    "    else:\n",
    "        return 0\n",
    "    \n",
    "# Merge\n",
    "df['selected'] = df['groups_names'].apply(get_group_names)\n",
    "\n",
    "df = df.loc[df['selected']==1]\n",
    "\n",
    "# Save\n",
    "# df.to_csv('../data/20220309/nodes_UB_foodhealth_20220309.csv', index=None)"
   ]
  },
  {
   "cell_type": "code",
   "execution_count": null,
   "id": "39752db7-2d25-4826-962b-5048722e3cd9",
   "metadata": {
    "jupyter": {
     "outputs_hidden": true
    },
    "tags": []
   },
   "outputs": [],
   "source": [
    "list(selected)"
   ]
  },
  {
   "cell_type": "markdown",
   "id": "c70a9e8f-875a-4114-ba43-b718ee8e2ba6",
   "metadata": {},
   "source": [
    "# Filter groups"
   ]
  },
  {
   "cell_type": "markdown",
   "id": "8a0e36e3-6332-4950-a5cc-70fd49465de4",
   "metadata": {},
   "source": [
    "## UVic"
   ]
  },
  {
   "cell_type": "code",
   "execution_count": null,
   "id": "b329d64a-6bb8-4e90-b53e-1fc42b1d1645",
   "metadata": {},
   "outputs": [],
   "source": [
    "# Get nodes\n",
    "df = pd.read_csv('../data/archive/group_nodes_UVic-UCC.csv')\n",
    "\n",
    "# Get selected groups\n",
    "df_groups = pd.read_excel('../data/20220309/groups_UVic-UCC_20220309.xlsx', sheet_name=1)\n",
    "selected = set(df_groups.iloc[:,2])\n",
    "\n",
    "# Filter\n",
    "\n",
    "# Helper function\n",
    "def is_selected(group_id):\n",
    "    if group_id in selected:\n",
    "        return 1\n",
    "    else:\n",
    "        return 0\n",
    "    \n",
    "# Merge\n",
    "df['selected'] = df['label'].apply(is_selected)\n",
    "\n",
    "df = df.loc[df['selected']==1]\n",
    "\n",
    "# Save\n",
    "df.to_csv('../data/20220309/nodes_UVic-UCC_foodhealth_groups_20220309.csv', index=None)"
   ]
  },
  {
   "cell_type": "markdown",
   "id": "eafc9824-b20b-497b-8812-6aa1bb1e4b75",
   "metadata": {},
   "source": [
    "## UB"
   ]
  },
  {
   "cell_type": "code",
   "execution_count": null,
   "id": "ed253395-43db-476e-b550-ac41d3189ad9",
   "metadata": {},
   "outputs": [],
   "source": [
    "# Get nodes\n",
    "df = pd.read_csv('../data/archive/group_nodes_UB.csv')\n",
    "\n",
    "# Get selected groups\n",
    "df_groups = pd.read_excel('../data/20220309/groups_UB_20220309.xlsx', sheet_name=1)\n",
    "selected = set(df_groups.iloc[:,2])\n",
    "\n",
    "# Filter\n",
    "\n",
    "# Helper function\n",
    "def is_selected(group_id):\n",
    "    if group_id in selected:\n",
    "        return 1\n",
    "    else:\n",
    "        return 0\n",
    "    \n",
    "# Merge\n",
    "df['selected'] = df['label'].apply(is_selected)\n",
    "\n",
    "df = df.loc[df['selected']==1]\n",
    "\n",
    "# Save\n",
    "df.to_csv('../data/20220309/nodes_UB_foodhealth_groups_20220309.csv', index=None)"
   ]
  },
  {
   "cell_type": "code",
   "execution_count": null,
   "id": "b1a4a77b-51c2-42b3-bf98-5ea732960bb0",
   "metadata": {},
   "outputs": [],
   "source": []
  }
 ],
 "metadata": {
  "kernelspec": {
   "display_name": "Python 3 (ipykernel)",
   "language": "python",
   "name": "python3"
  },
  "language_info": {
   "codemirror_mode": {
    "name": "ipython",
    "version": 3
   },
   "file_extension": ".py",
   "mimetype": "text/x-python",
   "name": "python",
   "nbconvert_exporter": "python",
   "pygments_lexer": "ipython3",
   "version": "3.9.6"
  }
 },
 "nbformat": 4,
 "nbformat_minor": 5
}
