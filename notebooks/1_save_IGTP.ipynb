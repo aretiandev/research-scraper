{
 "cells": [
  {
   "cell_type": "markdown",
   "id": "a9722fea-7375-40cd-be0d-91abd54100a6",
   "metadata": {},
   "source": [
    "# Save IGTP\n",
    "\n",
    "This notebook gets research groups from IGTP."
   ]
  },
  {
   "cell_type": "markdown",
   "id": "9d27f59b-cfdd-4f38-bcf0-38e4e5e44cd1",
   "metadata": {
    "tags": []
   },
   "source": [
    "# Import modules"
   ]
  },
  {
   "cell_type": "code",
   "execution_count": null,
   "id": "553d9af1-da9d-4718-b27a-45d4ef954fac",
   "metadata": {},
   "outputs": [],
   "source": [
    "import numpy as np\n",
    "import pandas as pd\n",
    "from ast import literal_eval\n",
    "from itertools import combinations\n",
    "import random"
   ]
  },
  {
   "cell_type": "code",
   "execution_count": null,
   "id": "d967080c-5023-4b6e-8f0d-5a2aa21e6f04",
   "metadata": {},
   "outputs": [],
   "source": [
    "# TODO: get all research groups for IGTP from here: http://www.germanstrias.org/research/\n",
    "nodes_df = pd.read_csv('./data/nodes.csv')\n",
    "nodes_df"
   ]
  },
  {
   "cell_type": "code",
   "execution_count": null,
   "id": "0017839d-a52b-48b3-8a24-c5b616b196c4",
   "metadata": {},
   "outputs": [],
   "source": [
    "nodes_df.loc[nodes_df['id'] == '0000-0001-6301-431X']"
   ]
  },
  {
   "cell_type": "markdown",
   "id": "ae84a20d-e53d-44ef-8531-9acea4b5b4c8",
   "metadata": {
    "tags": []
   },
   "source": [
    "# Save papers by institution"
   ]
  },
  {
   "cell_type": "markdown",
   "id": "7dc4de9a-b4b8-481a-9c67-9ca127c0429c",
   "metadata": {},
   "source": [
    "## Helper Functions"
   ]
  },
  {
   "cell_type": "code",
   "execution_count": null,
   "id": "cfc57f49-adbb-49dd-b756-42e94ca06496",
   "metadata": {
    "tags": []
   },
   "outputs": [],
   "source": [
    "def convert_to_list(x):\n",
    "    \"\"\"Convert string column to list\"\"\"\n",
    "    try:\n",
    "        result = literal_eval(x)\n",
    "    except ValueError:\n",
    "        result = np.nan\n",
    "    return result\n",
    "\n",
    "def has_1_author(row, df):\n",
    "    try:\n",
    "        result = bool(set(row['orcids']) & set(df))\n",
    "    except TypeError:\n",
    "        result = False\n",
    "    return result\n",
    "\n",
    "def has_2_authors(row, df):\n",
    "    try:\n",
    "        result = len(set(row['orcids']) & set(df)) > 1\n",
    "    except TypeError:\n",
    "        result = False\n",
    "    return result"
   ]
  },
  {
   "cell_type": "markdown",
   "id": "e5b81a54-3f93-4d10-bc76-ceaf8fa5e67e",
   "metadata": {},
   "source": [
    "## Combine scraped data into single file\n",
    "(takes ~5mins, often gets stuck)"
   ]
  },
  {
   "cell_type": "code",
   "execution_count": null,
   "id": "cce7e15b-9a0a-4905-8f7f-e9acde871000",
   "metadata": {},
   "outputs": [],
   "source": [
    "# Combine papers datasets that were downloaded in two batches\n",
    "# papers0_df = pd.read_csv('./data/papers_0.csv')\n",
    "# papers1_df = pd.read_csv('./data/papers_1.csv')\n",
    "# papers_df = papers0_df.append(papers1_df)\n",
    "# papers_df = papers_df.drop_duplicates()\n",
    "# papers_df.to_csv('./data/papers.csv', index=False)"
   ]
  },
  {
   "cell_type": "markdown",
   "id": "9c6dc022-f147-452f-ab22-c46bf1710a27",
   "metadata": {},
   "source": [
    "## Save papers and authors by institution"
   ]
  },
  {
   "cell_type": "markdown",
   "id": "ec76b1ab-62d5-48b7-923e-750a2c2e0009",
   "metadata": {},
   "source": [
    "### Load papers and authors"
   ]
  },
  {
   "cell_type": "code",
   "execution_count": null,
   "id": "80bd2d1a-1867-44ef-a929-21f0d1472208",
   "metadata": {
    "tags": []
   },
   "outputs": [],
   "source": [
    "# Load papers\n",
    "papers_df = pd.read_csv('./data/papers.csv')\n",
    "# Convert strings to list of coauthors\n",
    "papers_df['orcids'] = papers_df['orcids'].apply(lambda x: convert_to_list(x))\n",
    "# Load authors\n",
    "authors_df = pd.read_csv('./data/nodes.csv')"
   ]
  },
  {
   "cell_type": "markdown",
   "id": "b2c3bf86-5d0b-4395-9d99-e77f438b5873",
   "metadata": {},
   "source": [
    "### Filter papers and authors"
   ]
  },
  {
   "cell_type": "code",
   "execution_count": null,
   "id": "06d43d35-3332-4def-8a4d-148ce05ea031",
   "metadata": {
    "tags": []
   },
   "outputs": [],
   "source": [
    "# institution_list = ['IGTP', 'UPC', 'UB', 'UPF', 'UVic-UCC', 'UOC']\n",
    "institution_list = ['IGTP']\n",
    "\n",
    "for institution in institution_list:\n",
    "    # Extract authors from institution\n",
    "    print(f\"Extracting authors from {institution}.\")\n",
    "    authors_inst_df = authors_df.loc[authors_df['institution'] == institution]\n",
    "    authors_inst_df = authors_inst_df.rename(columns={'name':'label'})\n",
    "    authors_inst = authors_inst_df['id'].unique()\n",
    "#     # Save\n",
    "#     authors_inst_df.to_csv(f'./data/nodes_{institution}.csv', index=None)\n",
    "#     print(f\"Saved './data/nodes_{institution}.csv'\")\n",
    "\n",
    "#     # Extract papers with authors from institution\n",
    "#     print(f\"Extracting papers of researchers from {institution}.\")\n",
    "#     mask = papers_df.apply(lambda x: has_2_authors(x, authors_inst), axis=1)\n",
    "#     papers_inst_df = papers_df[mask]\n",
    "#     # Save\n",
    "#     papers_inst_df.to_csv(f'./data/papers_{institution}.csv', index=None)\n",
    "#     print(f\"Saved './data/papers_{institution}.csv'\")"
   ]
  },
  {
   "cell_type": "code",
   "execution_count": null,
   "id": "ceca62dc-a227-4f0b-900c-48b2ead21a2a",
   "metadata": {},
   "outputs": [],
   "source": [
    "authors_df.loc[authors_df['name'].str.split(\",\").str[0]=='Farre Albaladejo']\n",
    "# authors_inst_df['label'].str.split(\",\").str[0].str[:4]\n",
    "# authors_inst_df['label'].str.split(\",\").str[0]\n",
    "# authors_inst_df['label'].str.split(\",\")[0]\n",
    "# authors_inst_df['label'].str.split(\",\", 0).str[0]"
   ]
  },
  {
   "cell_type": "markdown",
   "id": "8e88ddfc-2c48-459c-b684-f6065b737f63",
   "metadata": {},
   "source": [
    "# Remove this block"
   ]
  },
  {
   "cell_type": "code",
   "execution_count": null,
   "id": "42206159-8d7e-4d5e-854d-9ee48dff0cf5",
   "metadata": {
    "tags": []
   },
   "outputs": [],
   "source": [
    "# institution_list = ['IGTP', 'UPC', 'UB', 'UPF', 'UVic-UCC', 'UOC']\n",
    "# institution_list = ['IGTP']\n",
    "institution_list = ['UPC']\n",
    "\n",
    "for institution in institution_list:\n",
    "    # Extract authors from institution\n",
    "    print(f\"Extracting authors from {institution}.\")\n",
    "    authors_inst_df = authors_df.loc[authors_df['institution'] == institution]\n",
    "    authors_inst_df = authors_inst_df.rename(columns={'name':'label'})\n",
    "    authors_inst = authors_inst_df['id'].unique()\n",
    "    \n",
    "authors_inst_df.head()"
   ]
  },
  {
   "cell_type": "markdown",
   "id": "f9ce27fa-7c3b-402d-afda-9b42d52ef97f",
   "metadata": {},
   "source": [
    "## Todo: Add columns to nodes"
   ]
  },
  {
   "cell_type": "markdown",
   "id": "952c9f24-060c-446c-8f05-fdc52d39de7d",
   "metadata": {},
   "source": [
    "## Create papers matrix\n",
    "This block is not necessary since its output is not used in the next steps."
   ]
  },
  {
   "cell_type": "code",
   "execution_count": null,
   "id": "ce552375-2ef2-4774-8752-88c65b04a729",
   "metadata": {
    "tags": []
   },
   "outputs": [],
   "source": [
    "for institution in institution_list:\n",
    "    print(f\"Institution: {institution}.\")\n",
    "    papers_inst_df = pd.read_csv(f'./data/papers_{institution}.csv', converters = {'orcids': eval})\n",
    "    # Get papers column\n",
    "    papers = papers_inst_df['orcids'].copy()\n",
    "    papers = papers.reset_index(drop=True)\n",
    "\n",
    "    # Get unique list of authors from papers\n",
    "    authors_index = list(set(papers.sum()))\n",
    "\n",
    "    authors_index.sort()\n",
    "\n",
    "    # Create boolean matrix with papers\n",
    "    paper_bool_df = pd.DataFrame(columns=authors_index, index=range(len(papers)))\n",
    "    for i, paper in enumerate(papers):\n",
    "        paper_bool_df.loc[i,:] = 0\n",
    "        for orcid in paper:\n",
    "            paper_bool_df.loc[i,orcid] = 1\n",
    "\n",
    "    paper_bool_df.to_csv(f\"./data/paper_author_matrix_{institution}.csv\", index=None)"
   ]
  }
 ],
 "metadata": {
  "kernelspec": {
   "display_name": "Python 3 (ipykernel)",
   "language": "python",
   "name": "python3"
  },
  "language_info": {
   "codemirror_mode": {
    "name": "ipython",
    "version": 3
   },
   "file_extension": ".py",
   "mimetype": "text/x-python",
   "name": "python",
   "nbconvert_exporter": "python",
   "pygments_lexer": "ipython3",
   "version": "3.9.6"
  }
 },
 "nbformat": 4,
 "nbformat_minor": 5
}
