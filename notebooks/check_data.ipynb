{
 "cells": [
  {
   "cell_type": "markdown",
   "id": "5575c5c6-3f04-4e6a-b7e0-a7be478421d6",
   "metadata": {},
   "source": [
    "# Check data\n",
    "\n",
    "This notebook checks quality of the scraped data\n"
   ]
  },
  {
   "cell_type": "markdown",
   "id": "e7f79e82-dd1b-4b82-a3b9-5293079bab77",
   "metadata": {},
   "source": [
    "# Todo\n",
    "\n",
    "Check if author_clean.csv has IRSJD\n",
    "\n",
    "Check why after filter_authors, author_clean gets converted into nodestemp without IRSJD"
   ]
  },
  {
   "cell_type": "code",
   "execution_count": null,
   "id": "06e209d9-4bb5-4840-9e87-bbb43a540c70",
   "metadata": {},
   "outputs": [],
   "source": [
    "import pandas as pd\n",
    "import ast"
   ]
  },
  {
   "cell_type": "code",
   "execution_count": null,
   "id": "3ae7012a-6f71-4ccc-b39f-18a700ff47b3",
   "metadata": {},
   "outputs": [],
   "source": [
    "df = pd.read_csv(\"../data/20230125/20230125_author_data.csv\")\n",
    "# df = pd.read_csv(\"../data/20230125/20230125_author_clean.csv\")"
   ]
  },
  {
   "cell_type": "code",
   "execution_count": null,
   "id": "e8db99b6-8a40-49c0-9701-e4cb115244ae",
   "metadata": {},
   "outputs": [],
   "source": [
    "# TODO\n",
    "# Add label to IRSJD researchers\n",
    "# Pseudo code: if institution_2 == \"Sant Joan de Deu\", add IRSJD label to institution_group"
   ]
  },
  {
   "cell_type": "code",
   "execution_count": null,
   "id": "6c1016b2-cdaf-4e0a-9e96-17cdef60508e",
   "metadata": {},
   "outputs": [],
   "source": [
    "def select_institution(x):\n",
    "    print(x)\n",
    "    if 'IRSJD' in x:\n",
    "        return 1\n",
    "    return 0"
   ]
  },
  {
   "cell_type": "code",
   "execution_count": null,
   "id": "9a701852-8331-4f6f-8658-c0e0537c4dbc",
   "metadata": {},
   "outputs": [],
   "source": [
    "df['institution'].head().apply(select_institution)"
   ]
  },
  {
   "cell_type": "code",
   "execution_count": null,
   "id": "fc656813-6c57-4f6d-857c-b5b582099706",
   "metadata": {},
   "outputs": [],
   "source": [
    "# Check if IRSJD researchers have empty institution\n",
    "selected_institution = \"Institut de Recerca Sant Joan de Déu\"\n",
    "\n",
    "# author_clean has IRSJD as institution_2\n",
    "df.loc[df['institution_2'] == selected_institution, 'institution'].unique()"
   ]
  },
  {
   "cell_type": "code",
   "execution_count": null,
   "id": "4c47d29e-6ebe-47ab-b6c2-390ad7179bd0",
   "metadata": {},
   "outputs": [],
   "source": [
    "def add_institution(x, institution):\n",
    "    inst_list = ast.literal_eval(x)\n",
    "    inst_list.append(institution)\n",
    "    return inst_list"
   ]
  },
  {
   "cell_type": "code",
   "execution_count": null,
   "id": "c9f9077f-fda0-4a8a-9166-c8e5cf4c3fdf",
   "metadata": {
    "jupyter": {
     "outputs_hidden": true
    },
    "tags": []
   },
   "outputs": [],
   "source": [
    "new_institution = df.loc[df['institution_2'] == selected_institution, 'institution'].apply(lambda x: x.append('IRSJD'))\n",
    "df.loc[df['institution_2'] == selected_institution, 'institution'] = new_institution"
   ]
  },
  {
   "cell_type": "code",
   "execution_count": null,
   "id": "1d80dd19-2968-4249-b7e9-5c184f4b140a",
   "metadata": {},
   "outputs": [],
   "source": [
    "# Count IRSJD researchers\n",
    "\n",
    "def select_institution(x, **kwargs):\n",
    "    inst_list = ast.literal_eval(x)\n",
    "    if kwargs['inst'] in inst_list:\n",
    "        return 1\n",
    "    return 0\n",
    "\n",
    "def select_institution2(x, institution_list):\n",
    "    inst_list = ast.literal_eval(x)\n",
    "    if institution_list in inst_list:\n",
    "        return 1\n",
    "    return 0\n",
    "\n",
    "df['institution_group'].apply(select_institution, inst=\"IRSJD\").sum()"
   ]
  },
  {
   "cell_type": "code",
   "execution_count": null,
   "id": "21676501-ef35-43d5-9165-e30a012810cc",
   "metadata": {},
   "outputs": [],
   "source": [
    "# df['institution_group'].apply(lambda x: select_institution2(x, 'IRSJD'))\n",
    "df['institution_group'].apply(select_institution2(x, 'IRSJD'))"
   ]
  },
  {
   "cell_type": "markdown",
   "id": "04a39b68-b37c-4051-a168-51fb56aa571a",
   "metadata": {},
   "source": [
    "# Replicate clean_authors"
   ]
  },
  {
   "cell_type": "code",
   "execution_count": null,
   "id": "7d57ad49-d39c-46ed-a2d3-ec642243aa7e",
   "metadata": {},
   "outputs": [],
   "source": [
    "from ast import literal_eval"
   ]
  },
  {
   "cell_type": "code",
   "execution_count": null,
   "id": "5af3be84-0abd-4bd3-aa60-5d7471dc0a11",
   "metadata": {},
   "outputs": [],
   "source": [
    "# Load authors\n",
    "input = \"../data/20230125/20230125_author_data.csv\"\n",
    "authors_df = pd.read_csv(input)"
   ]
  },
  {
   "cell_type": "code",
   "execution_count": null,
   "id": "8387921c-9b13-4ed7-ac8b-220a919ba0ab",
   "metadata": {},
   "outputs": [],
   "source": [
    "def convert_to_list(x):\n",
    "    \"\"\"Convert string column to list\"\"\"\n",
    "    try:\n",
    "        result = literal_eval(x)\n",
    "    except ValueError:\n",
    "        result = np.nan\n",
    "    return result\n",
    "\n",
    "\n",
    "def add_acronym(row):\n",
    "    \"\"\"Helper function for completing acronyms in institution names.\"\"\"\n",
    "    acronym_dict = {\n",
    "        \"IJC\": \"Institut de Recerca contra la Leucèmia Josep Carreras\",\n",
    "        \"IrsiCaixa\": \"IrsiCaixa AIDS Research Institute\",\n",
    "        \"CRAG\": \"Centre de Recerca en Agrigenòmica\",\n",
    "    }\n",
    "    for acronym, name in acronym_dict.items():\n",
    "        if row[\"institution_2\"] == name:\n",
    "            row[\"institution\"].append(acronym)\n",
    "    return row[\"institution\"]\n",
    "\n",
    "\n",
    "def assign_to_group(row, institution_list, label):\n",
    "    \"\"\"Adds supplied label to list of institutions.\"\"\"\n",
    "    if bool(set(row[\"institution\"]) & set(institution_list)):\n",
    "        inst_groups = row[\"institution\"].copy()\n",
    "        inst_groups.append(label)\n",
    "        return inst_groups\n",
    "    else:\n",
    "        return row[\"institution_group\"]"
   ]
  },
  {
   "cell_type": "code",
   "execution_count": null,
   "id": "5f229800-2bf7-4a71-890f-ea8b3bfdbb03",
   "metadata": {},
   "outputs": [],
   "source": [
    "authors_df[\"institution\"] = authors_df[\"institution\"].apply(lambda x: convert_to_list(x))\n",
    "authors_df[\"projects\"] = authors_df[\"projects\"].apply(lambda x: convert_to_list(x))\n",
    "authors_df[\"groups\"] = authors_df[\"groups\"].apply(lambda x: convert_to_list(x))"
   ]
  },
  {
   "cell_type": "code",
   "execution_count": null,
   "id": "338d8596-293c-4db4-a914-c4caf243dcd4",
   "metadata": {},
   "outputs": [],
   "source": [
    "# Create groups of institutions\n",
    "\n",
    "# Drop duplicate institutions\n",
    "authors_df[\"institution\"] = authors_df[\"institution\"].apply(lambda x: list(set(x)))\n",
    "\n",
    "# Add missing acronyms to institutions\n",
    "authors_df[\"institution\"] = authors_df.apply(add_acronym, axis=1)\n",
    "\n",
    "# Create groups of institutions\n",
    "authors_df[\"institution_group\"] = authors_df[\"institution\"]"
   ]
  },
  {
   "cell_type": "code",
   "execution_count": null,
   "id": "6cfe3c5e-a030-4331-b2ae-b4753579b8d1",
   "metadata": {},
   "outputs": [],
   "source": [
    "# Assign to UPC + CIMNE\n",
    "institution_list = [\"UPC\", \"CIMNE\"]\n",
    "label = \"UPC_CIMNE\"\n",
    "authors_df[\"institution_group\"] = authors_df.apply(\n",
    "    lambda x: assign_to_group(x, institution_list, label), axis=1\n",
    ")\n",
    "\n",
    "# Assign to IGTP\n",
    "institution_list = [\"IGTP\", \"IJC\", \"IrsiCaixa\"]\n",
    "label = \"IGTP+\"\n",
    "authors_df[\"institution_group\"] = authors_df.apply(\n",
    "    lambda x: assign_to_group(x, institution_list, label), axis=1\n",
    ")\n",
    "\n",
    "# Drop duplicate institution groups\n",
    "authors_df[\"institution_group\"] = authors_df[\"institution_group\"].apply(\n",
    "    lambda x: list(set(x))\n",
    ")"
   ]
  },
  {
   "cell_type": "code",
   "execution_count": null,
   "id": "9093751b-c6a5-4401-a613-abb8ad42f1b6",
   "metadata": {},
   "outputs": [],
   "source": [
    "# authors_df['institution_group'].apply(lambda x: 'IRSJD' in x).sum()"
   ]
  },
  {
   "cell_type": "code",
   "execution_count": null,
   "id": "7368870e-82ef-4913-bd09-6a26ca7da62c",
   "metadata": {},
   "outputs": [],
   "source": [
    "# TODO\n",
    "# Add label to IRSJD researchers\n",
    "# Pseudo code: if institution_2 == \"Sant Joan de Deu\", add IRSJD label to institution_group\n",
    "selected_institution = \"Institut de Recerca Sant Joan de Déu\"\n",
    "institution_label = \"IRSJD\""
   ]
  },
  {
   "cell_type": "code",
   "execution_count": null,
   "id": "22b3afc2-0840-49f3-ae75-97a28f8892a5",
   "metadata": {},
   "outputs": [],
   "source": [
    "authors_df.loc[\n",
    "    authors_df[\"institution_2\"] == selected_institution, \"institution_group\"\n",
    "].apply(lambda x: x.append(institution_label))"
   ]
  },
  {
   "cell_type": "code",
   "execution_count": null,
   "id": "dc2ff221-1c7c-4135-93a6-b960974a3d40",
   "metadata": {
    "tags": []
   },
   "outputs": [],
   "source": [
    "# new_institution"
   ]
  },
  {
   "cell_type": "code",
   "execution_count": null,
   "id": "5885b24b-7860-48e0-8d22-e310cfd9d725",
   "metadata": {},
   "outputs": [],
   "source": [
    "# authors_df.loc[\n",
    "#     authors_df[\"institution_2\"] == selected_institution, \"institution_group\"\n",
    "# ]"
   ]
  },
  {
   "cell_type": "code",
   "execution_count": null,
   "id": "5c4e0b26-f883-42ac-9bce-3f601931dfb4",
   "metadata": {},
   "outputs": [],
   "source": [
    "# authors_df.loc[\n",
    "#     authors_df[\"institution_2\"] == selected_institution, \"institution\"\n",
    "# ] = new_institution\n",
    "\n",
    "# print(\"len(new_institution\")\n",
    "# print(len(new_institution))\n",
    "# print(new_institution.head())\n",
    "\n",
    "# # Debug\n",
    "# print(authors_df[\"institution\"].head())\n",
    "# print(authors_df[\"institution\"].head()[0])\n",
    "\n",
    "def identify_institution(x):\n",
    "    if x == []:\n",
    "        return 0\n",
    "    try:\n",
    "        if \"IRSJD\" in x:\n",
    "            return 1\n",
    "    except:\n",
    "        print(x)\n",
    "    return 0\n",
    "\n",
    "test_length = authors_df[\"institution_group\"].apply(identify_institution).sum()\n",
    "# 20230129 2pm: Problem description: some of the rows are empty lists therefore raises an exception that Nonetype is not iterable. solution: write a function that skips the empty lists\n",
    "print(f\"authors in IRSJD: {test_length}\")"
   ]
  },
  {
   "cell_type": "code",
   "execution_count": null,
   "id": "5f2cfa83-af6f-4c1f-8f67-4a887e76ccf7",
   "metadata": {},
   "outputs": [],
   "source": [
    "raise Exception(\"No authors in IRSJD\")\n",
    "\n",
    "# Save\n",
    "authors_df.to_csv(output, index=None)\n",
    "log.info(f\"Saved '{output}'.\")"
   ]
  },
  {
   "cell_type": "code",
   "execution_count": null,
   "id": "ec66df89-c7d9-41da-90d6-c8be77b49bea",
   "metadata": {},
   "outputs": [],
   "source": []
  },
  {
   "cell_type": "markdown",
   "id": "2a301d6f-e1df-4cc0-bc11-7c951e207cd7",
   "metadata": {},
   "source": [
    "# Check data for IRSJD"
   ]
  },
  {
   "cell_type": "code",
   "execution_count": null,
   "id": "b6d3020a-8050-48cd-aea1-5ed71f1a0c49",
   "metadata": {},
   "outputs": [],
   "source": [
    "import ast"
   ]
  },
  {
   "cell_type": "markdown",
   "id": "7a5b162f-7078-4b8f-9815-564cdd70ee83",
   "metadata": {},
   "source": [
    "## Problem description\n",
    "The file edges_IRSJD has very few rows. We need to understand whether this is real or a computation problem."
   ]
  },
  {
   "cell_type": "code",
   "execution_count": null,
   "id": "96e987f1-809d-4e45-a938-21babd12104f",
   "metadata": {},
   "outputs": [],
   "source": [
    "df = pd.read_csv('../data/20230125/20230125_edges_IRSJD.csv')"
   ]
  },
  {
   "cell_type": "code",
   "execution_count": null,
   "id": "d2371ff6-0458-4751-a8ab-38a1c877a3a3",
   "metadata": {},
   "outputs": [],
   "source": [
    "# Load papers\n",
    "papers_df = pd.read_csv('../data/20230125/20230125_paper_data.csv')"
   ]
  },
  {
   "cell_type": "code",
   "execution_count": null,
   "id": "0f989f3f-4abb-4a25-ba16-cfbd26d1a469",
   "metadata": {},
   "outputs": [],
   "source": [
    "# Load authors\n",
    "authors_df = pd.read_csv('../data/20230125/20230125_nodes_IRSJD.csv')"
   ]
  },
  {
   "cell_type": "code",
   "execution_count": null,
   "id": "a2e91595-0251-4c99-a0fa-1f1c9311ff3e",
   "metadata": {},
   "outputs": [],
   "source": [
    "authors_list = list(set(authors_df['id'].unique()))"
   ]
  },
  {
   "cell_type": "code",
   "execution_count": null,
   "id": "ca9d440c-14f0-42ed-8498-408ee67fff51",
   "metadata": {
    "tags": []
   },
   "outputs": [],
   "source": [
    "# authors_list"
   ]
  },
  {
   "cell_type": "code",
   "execution_count": null,
   "id": "3bf90192-73e8-4c82-8ebe-6662ae780187",
   "metadata": {},
   "outputs": [],
   "source": [
    "# Extract all papers with at least one coauthor from list"
   ]
  },
  {
   "cell_type": "code",
   "execution_count": null,
   "id": "04925f9d-2fe4-41f7-abae-f04320a6c906",
   "metadata": {},
   "outputs": [],
   "source": []
  },
  {
   "cell_type": "code",
   "execution_count": null,
   "id": "001c489b-dc63-4bc6-95a6-95ca4f0a4582",
   "metadata": {},
   "outputs": [],
   "source": [
    "authors_list[0] in authors_list"
   ]
  },
  {
   "cell_type": "code",
   "execution_count": null,
   "id": "0279565d-1a52-4a90-847d-af05dd6f12ee",
   "metadata": {},
   "outputs": [],
   "source": [
    "'0000-0003-1469-4990'"
   ]
  },
  {
   "cell_type": "code",
   "execution_count": null,
   "id": "afc62aaa-adbc-40a5-b43c-7b66880c4463",
   "metadata": {},
   "outputs": [],
   "source": [
    "def identify_authors(x):\n",
    "    if pd.isnull(x):\n",
    "        print('null value', x)\n",
    "        return\n",
    "    orcids = ast.literal_eval(x)\n",
    "    for orcid in orcids:\n",
    "        if orcid in authors_list:\n",
    "            print('found!', orcid)\n",
    "            break\n",
    "        # print(orcid)\n",
    "    # print(\" \")"
   ]
  },
  {
   "cell_type": "code",
   "execution_count": null,
   "id": "d6117fff-6261-457d-b15a-5348c384c877",
   "metadata": {},
   "outputs": [],
   "source": [
    "papers_df['orcids'].apply(identify_authors)"
   ]
  },
  {
   "cell_type": "code",
   "execution_count": null,
   "id": "a6c7fc10-2637-4ba4-b173-9ae93cfc9c4f",
   "metadata": {},
   "outputs": [],
   "source": [
    "for author in author_list:\n",
    "    papers_df\n",
    "    print(author)"
   ]
  },
  {
   "cell_type": "code",
   "execution_count": null,
   "id": "12e562d1-2963-42bb-9e17-2a20cd0f77ed",
   "metadata": {},
   "outputs": [],
   "source": [
    "author_list"
   ]
  },
  {
   "cell_type": "code",
   "execution_count": null,
   "id": "a850c430-0000-4483-aa5d-c5c6cd4d5687",
   "metadata": {},
   "outputs": [],
   "source": [
    "# Check if the other coauthor is also in list"
   ]
  }
 ],
 "metadata": {
  "kernelspec": {
   "display_name": "Python 3 (ipykernel)",
   "language": "python",
   "name": "python3"
  },
  "language_info": {
   "codemirror_mode": {
    "name": "ipython",
    "version": 3
   },
   "file_extension": ".py",
   "mimetype": "text/x-python",
   "name": "python",
   "nbconvert_exporter": "python",
   "pygments_lexer": "ipython3",
   "version": "3.9.10"
  }
 },
 "nbformat": 4,
 "nbformat_minor": 5
}
