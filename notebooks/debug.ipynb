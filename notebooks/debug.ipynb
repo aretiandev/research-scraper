{
 "cells": [
  {
   "cell_type": "markdown",
   "id": "606b03fa-86d4-4e0b-893e-080d96e50aaa",
   "metadata": {},
   "source": [
    "# Debug Scraper"
   ]
  },
  {
   "cell_type": "code",
   "execution_count": null,
   "id": "a0efad83-3d8d-4bae-bc48-6dd28ada66fc",
   "metadata": {},
   "outputs": [],
   "source": [
    "# Load modules\n",
    "import pandas as pd\n",
    "from requests_html import HTMLSession, AsyncHTMLSession"
   ]
  },
  {
   "cell_type": "markdown",
   "id": "77e00729-86eb-4308-a396-3a68d854177a",
   "metadata": {},
   "source": [
    "## Test scrape()"
   ]
  },
  {
   "cell_type": "code",
   "execution_count": null,
   "id": "33ff9c31-ce72-4621-9377-bb2f4b538fd8",
   "metadata": {
    "tags": []
   },
   "outputs": [],
   "source": [
    "from requests_html import AsyncHTMLSession\n",
    "\n",
    "url1 = 'https://portalrecerca.csuc.cat/simple-search?query=&location=crisrp&filter_field_1=resourcetype&filter_type_1=equals&filter_value_1=Researchers&filter_field_2=&filter_type_2=&filter_value_2=&sort_by=crisrp.fullName_sort&order=asc&rpp=300&etal=0&start=5400'\n",
    "url2 = 'https://portalrecerca.csuc.cat/simple-search?query=&location=crisrp&filter_field_1=resourcetype&filter_type_1=equals&filter_value_1=Researchers&filter_field_2=&filter_type_2=&filter_value_2=&sort_by=crisrp.fullName_sort&order=asc&rpp=300&etal=0&start=5700'\n",
    "batch = [url1,url2]\n",
    "\n",
    "items = 'author_links'\n",
    "\n",
    "async def main():\n",
    "    s = AsyncHTMLSession()\n",
    "    tasks = (scrape_url(s, url, items=items) for url in batch)\n",
    "    batch_result = await asyncio.gather(*tasks)\n",
    "\n",
    "await main()"
   ]
  },
  {
   "cell_type": "markdown",
   "id": "be7bd151-6606-4481-8d7a-1a39560f7c98",
   "metadata": {},
   "source": [
    "## Custom Test"
   ]
  },
  {
   "cell_type": "code",
   "execution_count": null,
   "id": "450b9046-25c8-4973-9cdc-c7e1818decf7",
   "metadata": {
    "tags": []
   },
   "outputs": [],
   "source": [
    "# Custom test script to show different results between JupyterLab and python script\n",
    "from src.test_single import test_scrape\n",
    "test_scrape()"
   ]
  },
  {
   "cell_type": "markdown",
   "id": "825016ef-f2ab-48eb-b54c-f63cd9843652",
   "metadata": {},
   "source": [
    "## Test scrape_authors"
   ]
  },
  {
   "cell_type": "markdown",
   "id": "140b61b0-2483-4c2f-8c97-795cf4ffd486",
   "metadata": {},
   "source": [
    "### From script"
   ]
  },
  {
   "cell_type": "code",
   "execution_count": null,
   "id": "53c47626-16e9-446a-bbb2-95992a030f03",
   "metadata": {
    "tags": []
   },
   "outputs": [],
   "source": [
    "from src.test_scrape import test_scrape_authors\n",
    "\n",
    "await test_scrape_authors()"
   ]
  },
  {
   "cell_type": "markdown",
   "id": "3550024d-c64c-46b9-ba8f-245dbe6475bf",
   "metadata": {},
   "source": [
    "### From Snakefile"
   ]
  },
  {
   "cell_type": "code",
   "execution_count": null,
   "id": "54e3204f-3aa0-4e00-b5b8-c961514422e5",
   "metadata": {},
   "outputs": [],
   "source": [
    "import pandas as pd\n",
    "from datetime import date\n",
    "import asyncio\n",
    "from src.helpers import scrape\n",
    "\n",
    "date_today = date.today().strftime(\"%Y%m%d\")\n",
    "\n",
    "author_urls = pd.read_csv(f'data/author_urls_{date_today}.csv')\n",
    "author_urls = list(author_urls['0'])\n",
    "url_root = 'https://portalrecerca.csuc.cat'\n",
    "urls = [url_root + url for url in author_urls]\n",
    "\n",
    "items = 'authors'\n",
    "start_pos = 13100\n",
    "batch_size = 100\n",
    "out_file = f'data/nodes_{date_today}_test.csv'\n",
    "await scrape(items=items, urls=urls, start_pos=start_pos, batch_size=batch_size, out_file=out_file)"
   ]
  },
  {
   "cell_type": "code",
   "execution_count": null,
   "id": "00a26869-7537-4bf3-bb24-75187d40b4de",
   "metadata": {
    "tags": []
   },
   "outputs": [],
   "source": [
    "mydict = {'name':'fernando', 'age':35}\n",
    "print(mydict.keys())\n",
    "for k,v in mydict.items():\n",
    "    print(k,v)"
   ]
  },
  {
   "cell_type": "code",
   "execution_count": null,
   "id": "1cfde032-159b-46ed-8e08-8dd2c60431f2",
   "metadata": {},
   "outputs": [],
   "source": [
    "result['hello']='world'"
   ]
  },
  {
   "cell_type": "code",
   "execution_count": null,
   "id": "5e58c356-0f79-4dfe-9772-c2330a3dde10",
   "metadata": {},
   "outputs": [],
   "source": []
  },
  {
   "cell_type": "markdown",
   "id": "bdb9655a-f812-45ae-8ed4-7013f27644e9",
   "metadata": {},
   "source": [
    "# Debugging pandas read_html"
   ]
  },
  {
   "cell_type": "code",
   "execution_count": null,
   "id": "ebcc99ab-a074-493f-b7d6-ce5b475d66ec",
   "metadata": {},
   "outputs": [],
   "source": [
    "# Delete this\n",
    "import pandas as pd\n",
    "df = pd.read_csv('data/author_data_20220311.csv')\n",
    "df = df.rename(columns={'project':'projects', 'group':'groups'})\n",
    "df.to_csv('data/author_data_20220311_2.csv', index=None)"
   ]
  },
  {
   "cell_type": "code",
   "execution_count": null,
   "id": "1f8769fe-816e-4bad-a7a0-4cef671889f8",
   "metadata": {},
   "outputs": [],
   "source": [
    "import pandas as pd\n",
    "from requests_html import HTMLSession"
   ]
  },
  {
   "cell_type": "code",
   "execution_count": null,
   "id": "a12fc998-3a1c-4954-b2f1-8d2c11e380ea",
   "metadata": {},
   "outputs": [],
   "source": [
    "url = 'https://portalrecerca.csuc.cat/cris/ou/ou167744?onlytab=true&locale=en'\n",
    "url = 'https://portalrecerca.csuc.cat/cris/project/pj3453346?onlytab=true&locale=en'"
   ]
  },
  {
   "cell_type": "code",
   "execution_count": null,
   "id": "9871488d-7ca1-40ac-b10a-03ed8b10b07a",
   "metadata": {},
   "outputs": [],
   "source": [
    "session = HTMLSession()\n",
    "r = session.get(url)"
   ]
  },
  {
   "cell_type": "code",
   "execution_count": null,
   "id": "8ef8e76e-520d-4919-b033-11c0be462cb0",
   "metadata": {},
   "outputs": [],
   "source": [
    "tables_lst = pd.read_html(r.text)\n",
    "len(tables_lst)"
   ]
  },
  {
   "cell_type": "code",
   "execution_count": null,
   "id": "4d19f244-d12f-46bf-8a0a-c53eb02481bf",
   "metadata": {},
   "outputs": [],
   "source": [
    "table = tables_lst[0].set_index(0).to_dict()[1]\n",
    "table"
   ]
  },
  {
   "cell_type": "code",
   "execution_count": null,
   "id": "26a7bcb4-2a36-4201-bb7a-6aeb85c9904c",
   "metadata": {},
   "outputs": [],
   "source": [
    "attr_keys = {'name':'Name', 'acronym':'Acronym','institution':'Universities or CERCA centres'}\n",
    "attr_keys = {\n",
    "    'title':'Title', \n",
    "    'code':'Official code',\n",
    "    'url':'URL',\n",
    "    'start_date':'Start date',\n",
    "    'end_date':'End date',\n",
    "    'institution':'Universities or CERCA centres'}\n",
    "\n",
    "result = {attr_name:table[table_key] for attr_name,table_key in attr_keys.items()}\n",
    "result"
   ]
  },
  {
   "cell_type": "code",
   "execution_count": null,
   "id": "c042ff23-abba-4840-a025-1206a9de89ac",
   "metadata": {},
   "outputs": [],
   "source": [
    "{k for k,v in result.items()}"
   ]
  },
  {
   "cell_type": "code",
   "execution_count": null,
   "id": "0d562136-135f-4be8-b4b1-4c81912d2560",
   "metadata": {},
   "outputs": [],
   "source": [
    "mydf[0].to_dict()"
   ]
  },
  {
   "cell_type": "code",
   "execution_count": null,
   "id": "8bd202ee-9759-4c57-a1de-adbd39306998",
   "metadata": {},
   "outputs": [],
   "source": [
    "len(df)"
   ]
  },
  {
   "cell_type": "code",
   "execution_count": null,
   "id": "38ed7276-f589-4da2-bbef-ab6607fc4b8e",
   "metadata": {},
   "outputs": [],
   "source": [
    "url = 'https://portalrecerca.csuc.cat/cris/ou/ou167744/researchersorg.html?onlytab=true&locale=en'\n",
    "tables = pd.read_html(url)\n",
    "tables[0]"
   ]
  },
  {
   "cell_type": "code",
   "execution_count": null,
   "id": "2e7f9906-09f3-478d-af18-84b20bcdfa3d",
   "metadata": {},
   "outputs": [],
   "source": [
    "len(tables)"
   ]
  },
  {
   "cell_type": "code",
   "execution_count": null,
   "id": "91210ef8-753c-43e7-97a5-c321115abf8b",
   "metadata": {},
   "outputs": [],
   "source": [
    "tables[0]['Fullname'].to_list()\n",
    "tables[0]['Universities or CERCA centres'].to_list()"
   ]
  },
  {
   "cell_type": "code",
   "execution_count": null,
   "id": "91907b5a-5653-4a06-9ef2-ead6eeb4f5f4",
   "metadata": {},
   "outputs": [],
   "source": [
    "tables[1]['Fullname'].to_list()\n",
    "tables[1]['Universities or CERCA centres'].to_list()"
   ]
  },
  {
   "cell_type": "code",
   "execution_count": null,
   "id": "80d35ef8-e92c-4e06-bf2b-695384b81a8a",
   "metadata": {},
   "outputs": [],
   "source": [
    "# Get max pages"
   ]
  },
  {
   "cell_type": "code",
   "execution_count": null,
   "id": "a049623b-a14f-4b8e-85d3-6aa9d6232280",
   "metadata": {},
   "outputs": [],
   "source": [
    "from src.scrape import get_max_pages"
   ]
  },
  {
   "cell_type": "markdown",
   "id": "b58a61d8-0e04-485a-abc6-5617522fc99f",
   "metadata": {},
   "source": [
    "# 2022-03-13 debug scrape_url(paper_links)"
   ]
  },
  {
   "cell_type": "code",
   "execution_count": null,
   "id": "10f7f694-c6bf-4aa0-ab70-70811d96c898",
   "metadata": {},
   "outputs": [],
   "source": [
    "import os\n",
    "import sys\n",
    "from requests_html import AsyncHTMLSession\n",
    "\n",
    "sys.path.append('../src/')\n",
    "from scrape import scrape, scrape_url, retry_url"
   ]
  },
  {
   "cell_type": "markdown",
   "id": "9ef18ea9-25b9-4b35-b376-c1758da8a2f2",
   "metadata": {},
   "source": [
    "## Reproducing the error"
   ]
  },
  {
   "cell_type": "code",
   "execution_count": null,
   "id": "25530910-4621-47e8-a61e-6645ba526477",
   "metadata": {
    "tags": []
   },
   "outputs": [],
   "source": [
    "await scrape(items=items, batch_start_pos=2, batch_size=50 )"
   ]
  },
  {
   "cell_type": "markdown",
   "id": "d0a6edb3-d560-4fdb-ad3c-f47880de0e0d",
   "metadata": {},
   "source": [
    "## Debugging the error"
   ]
  },
  {
   "cell_type": "code",
   "execution_count": null,
   "id": "412fc9e6-32fd-474f-b61c-374a3f68ea9e",
   "metadata": {
    "tags": []
   },
   "outputs": [],
   "source": [
    "s = AsyncHTMLSession()\n",
    "# url = 'https://portalrecerca.csuc.cat/simple-search?query=&location=publications&filter_field_1=resourcetype&filter_type_1=equals&filter_value_1=Items&filter_field_2=itemtype&filter_type_2=notequals&filter_value_2=Phd+Thesis&sort_by=dc.contributor.authors_sort&order=asc&rpp=300&etal=0&start=102300'\n",
    "# url = 'https://portalrecerca.csuc.cat/simple-search?query=&location=publications&filter_field_1=resourcetype&filter_type_1=equals&filter_value_1=Items&filter_field_2=itemtype&filter_type_2=notequals&filter_value_2=Phd+Thesis&sort_by=dc.contributor.authors_sort&order=asc&rpp=300&etal=0&start=72900'\n",
    "url = 'https://portalrecerca.csuc.cat/simple-search?query=&location=publications&filter_field_1=resourcetype&filter_type_1=equals&filter_value_1=Items&filter_field_2=itemtype&filter_type_2=notequals&filter_value_2=Phd+Thesis&sort_by=dc.contributor.authors_sort&order=asc&rpp=300&etal=0&start=73200'\n",
    "url = 'https://portalrecerca.csuc.cat/simple-search?query=&location=publications&filter_field_1=resourcetype&filter_type_1=equals&filter_value_1=Items&filter_field_2=itemtype&filter_type_2=notequals&filter_value_2=Phd+Thesis&sort_by=dc.contributor.authors_sort&order=asc&rpp=300&etal=0&start=116400'\n",
    "url = 'https://portalrecerca.csuc.cat/simple-search?query=&location=publications&filter_field_1=resourcetype&filter_type_1=equals&filter_value_1=Items&filter_field_2=itemtype&filter_type_2=notequals&filter_value_2=Phd+Thesis&sort_by=dc.contributor.authors_sort&order=asc&rpp=300&etal=0&start=102900'\n",
    "\n",
    "items = 'paper_links'\n",
    "selector = 'div.panel.panel-info table.table'\n",
    "r = await retry_url(s, url, selector)\n",
    "# result = await scrape_url(s, url, items)\n",
    "\n",
    "table = r.html.find('div.panel.panel-info table.table', first=True)\n",
    "rows = table.find('tr')\n",
    "rows"
   ]
  },
  {
   "cell_type": "markdown",
   "id": "5e8332f5-1eda-43d9-a7b4-b82e320d773b",
   "metadata": {},
   "source": [
    "# 2022-03-14 debug scrape(author)"
   ]
  },
  {
   "cell_type": "code",
   "execution_count": null,
   "id": "05aaf3ac-0483-4c9a-a31d-bc8ea8a2a92d",
   "metadata": {},
   "outputs": [],
   "source": [
    "import os\n",
    "import sys\n",
    "from requests_html import AsyncHTMLSession\n",
    "\n",
    "sys.path.append('../src/')\n",
    "from scrape import scrape, scrape_url, retry_url"
   ]
  },
  {
   "cell_type": "code",
   "execution_count": null,
   "id": "6ddf1140-75a2-4f80-90df-f819d7931155",
   "metadata": {},
   "outputs": [],
   "source": [
    "s = AsyncHTMLSession()\n",
    "\n",
    "url = 'https://portalrecerca.csuc.cat/orcid/0000-0003-4265-1656?locale=en'\n",
    "r = await retry_url(s, url, attempts=5, debug=True)  # Debug\n",
    "\n",
    "# r = await s.get(url)\n",
    "r"
   ]
  },
  {
   "cell_type": "markdown",
   "id": "49f6c36d-d759-4e0c-bb89-0a024ee947e1",
   "metadata": {},
   "source": [
    "# Debug filter_papers 2022-03-16"
   ]
  },
  {
   "cell_type": "code",
   "execution_count": null,
   "id": "e36b7856-e174-4446-bf17-b005cbf0467d",
   "metadata": {},
   "outputs": [],
   "source": [
    "# sys.path.append('../src/')\n",
    "from src.process import filter_papers\n"
   ]
  },
  {
   "cell_type": "code",
   "execution_count": null,
   "id": "8030862a-69cc-4e34-9833-46cde713b937",
   "metadata": {},
   "outputs": [],
   "source": [
    "date_today = '20220314'\n",
    "institution = 'UVic-UCC'\n",
    "filter_papers(institution, date_today)"
   ]
  },
  {
   "cell_type": "code",
   "execution_count": null,
   "id": "a9d0fa7d-b04a-4cc7-af8e-a32c834843a2",
   "metadata": {},
   "outputs": [],
   "source": [
    "!whoami"
   ]
  },
  {
   "cell_type": "code",
   "execution_count": null,
   "id": "86d22e81-c6e9-48d8-b006-87afa415e904",
   "metadata": {},
   "outputs": [],
   "source": [
    "# All lines from filter_papers()\n",
    "# Load authors\n",
    "authors_inst_df = pd.read_csv(f'./data/nodes_{institution}_{date_today}.csv')\n",
    "# Load papers\n",
    "papers_df = pd.read_csv(f\"data/paper_clean_{date_today}.csv\", converters={'orcids':eval})"
   ]
  },
  {
   "cell_type": "code",
   "execution_count": null,
   "id": "6b139d41-f64b-4592-a073-f20e4720cb88",
   "metadata": {
    "tags": []
   },
   "outputs": [],
   "source": [
    "# papers_df.loc[papers_df['issn'] == '1136-5781']\n",
    "# sample_paper = papers_df.loc[papers_df['url'] == 'https://portalrecerca.csuc.cat/56915635?mode=full']\n",
    "# sample_paper"
   ]
  },
  {
   "cell_type": "code",
   "execution_count": null,
   "id": "09906f5e-bdfd-431b-b8de-3d31c943906f",
   "metadata": {
    "tags": []
   },
   "outputs": [],
   "source": [
    "# set(authors_inst) & set(sample_paper['orcids'].values[0])\n",
    "# set(authors_inst) & set(sample_paper['orcids'])\n",
    "# set(sample_paper['orcids'])"
   ]
  },
  {
   "cell_type": "code",
   "execution_count": null,
   "id": "6afb602d-654a-4a93-b565-2689c4abfa04",
   "metadata": {},
   "outputs": [],
   "source": [
    "# Extract papers with authors from institution\n",
    "print(f\"Extracting papers of researchers from {institution}.\")\n",
    "authors_inst = authors_inst_df['id'].unique() # Get list of authors\n",
    "mask_1plus = papers_df['orcids'].apply(lambda x: bool(set(x) & set(authors_inst)))"
   ]
  },
  {
   "cell_type": "code",
   "execution_count": null,
   "id": "25aca894-a0cf-476a-b65b-2c759efe01fc",
   "metadata": {},
   "outputs": [],
   "source": [
    "# papers_df['orcids'].apply(lambda x: bool(set(x) & set(authors_inst))).sum()"
   ]
  },
  {
   "cell_type": "code",
   "execution_count": null,
   "id": "5e42b6ec-cd04-4e31-8112-ab15623664a7",
   "metadata": {},
   "outputs": [],
   "source": [
    "# Debug:\n",
    "#     mask_1plus_backup = mask_1plus.copy()\n",
    "#     mask_1plus = mask_1plus_backup.copy()\n",
    "print(\"Extracting papers with more than 2 authors.\")\n",
    "mask_2plus = papers_df.loc[mask_1plus, 'orcids'].apply(lambda x: len(set(x) & set(authors_inst)) > 1)\n",
    "papers_inst_1plus_df = papers_df[mask_1plus]\n",
    "papers_inst_2plus_df = papers_df[mask_1plus][mask_2plus]"
   ]
  },
  {
   "cell_type": "code",
   "execution_count": null,
   "id": "1c1a6860-65a0-487e-8daa-9fedec8fa787",
   "metadata": {
    "tags": []
   },
   "outputs": [],
   "source": [
    "papers_inst_1plus_df.head()"
   ]
  },
  {
   "cell_type": "code",
   "execution_count": null,
   "id": "d8f8d2e8-0dc4-4146-8a83-218e8b3a94e9",
   "metadata": {
    "tags": []
   },
   "outputs": [],
   "source": [
    "papers_inst_2plus_df.head()"
   ]
  },
  {
   "cell_type": "code",
   "execution_count": null,
   "id": "e05064db-3c3c-48c7-b97f-5f0a43278b0c",
   "metadata": {},
   "outputs": [],
   "source": [
    "# Save\n",
    "# out_file_1 = f'./data/papers_{institution}_{date_today}.csv'\n",
    "# out_file_2 = f'./data/papers_{institution}_2plus_{date_today}.csv'"
   ]
  },
  {
   "cell_type": "markdown",
   "id": "969b02da-3a69-4744-b5b2-b3c8a343050f",
   "metadata": {},
   "source": [
    "# Debug group_data 2022-03-16"
   ]
  },
  {
   "cell_type": "code",
   "execution_count": null,
   "id": "bdd20c02-5d02-47fe-ac6b-bd6b2b74946f",
   "metadata": {},
   "outputs": [],
   "source": [
    "s = AsyncHTMLSession()\n",
    "# url = 'https://portalrecerca.csuc.cat/cris/ou/ou169227/researchersorg.html?onlytab=true'\n",
    "# url = 'https://portalrecerca.csuc.cat/cris/ou/ou169227/informationorg.html?onlytab=true'\n",
    "url = 'https://portalrecerca.csuc.cat/sgr/2017SGR0872'\n",
    "url = 'https://portalrecerca.csuc.cat/sgr/2017SGR1714'\n",
    "url = 'https://portalrecerca.csuc.cat/cris/ou/ou167708'\n",
    "r = await s.get(url)"
   ]
  },
  {
   "cell_type": "code",
   "execution_count": null,
   "id": "c29abece-a13e-49a5-88d2-228611fd1b54",
   "metadata": {},
   "outputs": [],
   "source": [
    "# This goes after retry_url\n",
    "next_tab_href = r.html.find('#bar-tab-1012900 a', first=True).attrs['href']\n",
    "# prefix, suffix = next_tab.split(\"researchersorg.html\")\n",
    "# url_root = 'https://portalrecerca.csuc.cat' \n",
    "# url = url_root + prefix + 'institutionorg.html' + suffix + '&locale=en'"
   ]
  },
  {
   "cell_type": "code",
   "execution_count": null,
   "id": "0d8a533a-871c-4202-91fc-eed0468b516f",
   "metadata": {},
   "outputs": [],
   "source": [
    "url_root = 'https://portalrecerca.csuc.cat' \n",
    "url = url_root + next_tab_href"
   ]
  },
  {
   "cell_type": "code",
   "execution_count": null,
   "id": "cda64f8a-4cbb-4d8d-823a-8dc00ab16ba0",
   "metadata": {},
   "outputs": [],
   "source": [
    "url"
   ]
  },
  {
   "cell_type": "code",
   "execution_count": null,
   "id": "02a73853-b741-4add-ace4-e19e68f3c7e1",
   "metadata": {},
   "outputs": [],
   "source": [
    "r = await s.get(url)"
   ]
  },
  {
   "cell_type": "code",
   "execution_count": null,
   "id": "f91f0309-778d-4b66-aea0-28335eb42fca",
   "metadata": {},
   "outputs": [],
   "source": [
    "selector = 'table.table'\n",
    "tables = r.html.find(selector)\n",
    "\n",
    "group = {}"
   ]
  },
  {
   "cell_type": "code",
   "execution_count": null,
   "id": "b7a6add2-66ae-4a76-9f80-18310f21fd8c",
   "metadata": {
    "tags": []
   },
   "outputs": [],
   "source": [
    "# print(r.html.html)"
   ]
  },
  {
   "cell_type": "code",
   "execution_count": null,
   "id": "3db6dbce-42be-4b06-bb61-28c6f61aff61",
   "metadata": {},
   "outputs": [],
   "source": [
    "rows = tables[0].find('tr')  # Debug: Index error: list index out of range"
   ]
  },
  {
   "cell_type": "code",
   "execution_count": null,
   "id": "454d9aa4-f796-4ec4-97a7-566652118ccf",
   "metadata": {},
   "outputs": [],
   "source": [
    "principal_names = []\n",
    "principal_ids = []"
   ]
  },
  {
   "cell_type": "code",
   "execution_count": null,
   "id": "fa0b8b17-b083-40a2-89fe-80dd1b832eab",
   "metadata": {},
   "outputs": [],
   "source": [
    "for row in rows:\n",
    "    name_object = row.find('td', first=True)\n",
    "    principal_names.append(name_object.text)\n",
    "    try:\n",
    "        orcid = name_object.find('a', first=True).attrs['href'][7:]\n",
    "        principal_ids.append(orcid)\n",
    "    except Exception:\n",
    "        pass\n",
    "\n",
    "group['principal names'] = principal_names\n",
    "group['principal ids'] = principal_ids"
   ]
  },
  {
   "cell_type": "code",
   "execution_count": null,
   "id": "ac716068-6553-497d-954f-fc091e0a379c",
   "metadata": {},
   "outputs": [],
   "source": [
    "group"
   ]
  },
  {
   "cell_type": "code",
   "execution_count": null,
   "id": "ee54a28b-7bc6-4700-a19f-267aca8d53d7",
   "metadata": {},
   "outputs": [],
   "source": [
    "tables_lst = pd.read_html(r.text)"
   ]
  },
  {
   "cell_type": "code",
   "execution_count": null,
   "id": "f04045f6-f06b-4b2c-8170-df68443a57f1",
   "metadata": {},
   "outputs": [],
   "source": [
    "tables_lst[0]"
   ]
  },
  {
   "cell_type": "code",
   "execution_count": null,
   "id": "73c9e34d-228b-43bf-b7dc-88fb49cc22cf",
   "metadata": {},
   "outputs": [],
   "source": [
    "table = tables_lst[0].to_dict()\n",
    "table"
   ]
  },
  {
   "cell_type": "code",
   "execution_count": null,
   "id": "c2b547a6-78c2-446d-b8c5-885e773f0f44",
   "metadata": {},
   "outputs": [],
   "source": [
    "attr_keys = {\n",
    "    'name': 'Name',\n",
    "    'acronym': 'Acronym',\n",
    "    'institution': 'Universities or CERCA centres',\n",
    "    'group_url': 'URL',\n",
    "    'sgr_code': 'SGR code'}\n",
    "\n",
    "group = {attr_name: table.get(table_key)\n",
    "         for attr_name, table_key in attr_keys.items()}"
   ]
  },
  {
   "cell_type": "code",
   "execution_count": null,
   "id": "a9a1e94a-0119-4d32-8778-2699a52b4a0a",
   "metadata": {},
   "outputs": [],
   "source": [
    "group"
   ]
  },
  {
   "cell_type": "code",
   "execution_count": null,
   "id": "a938f6ca-d155-4d18-900a-e9a19f4d193f",
   "metadata": {},
   "outputs": [],
   "source": [
    "a, b = url_stem\n",
    "a"
   ]
  },
  {
   "cell_type": "code",
   "execution_count": null,
   "id": "ff930646-5a85-4b2a-97b3-ecee055d813f",
   "metadata": {},
   "outputs": [],
   "source": [
    "mylist[]"
   ]
  },
  {
   "cell_type": "code",
   "execution_count": null,
   "id": "4034cfb7-4b4b-4599-9b39-543154069ee7",
   "metadata": {},
   "outputs": [],
   "source": [
    "r.html.render()"
   ]
  },
  {
   "cell_type": "code",
   "execution_count": null,
   "id": "319e99f3-aee6-4c45-a00e-e4da54ddad41",
   "metadata": {},
   "outputs": [],
   "source": [
    "selector = '#ui-id-2'\n",
    "link = r.html.find(selector, first=True)\n",
    "link"
   ]
  },
  {
   "cell_type": "code",
   "execution_count": null,
   "id": "a1041be0-f21c-40b3-aaac-c45f821035cc",
   "metadata": {},
   "outputs": [],
   "source": [
    "link"
   ]
  },
  {
   "cell_type": "markdown",
   "id": "1d669746-7c64-4794-b920-7f8b7db657a4",
   "metadata": {},
   "source": [
    "# Combine paper_data scraped in two batches\n",
    "\n",
    "The purpose of this block is to check if there is missing data between the two batches and to calculate what is the required starting position if that is the case."
   ]
  },
  {
   "cell_type": "code",
   "execution_count": null,
   "id": "43971a59-5024-4135-b90e-854ceede5219",
   "metadata": {},
   "outputs": [],
   "source": [
    "# Load modules\n",
    "import pandas as pd\n",
    "import numpy as np"
   ]
  },
  {
   "cell_type": "markdown",
   "id": "d7624ff8-a2f9-4b57-9aa7-e2875bf6cd0e",
   "metadata": {},
   "source": [
    "## Check if there are gaps"
   ]
  },
  {
   "cell_type": "code",
   "execution_count": null,
   "id": "2d7fdd18-8881-43db-ab7e-6703ce848dbe",
   "metadata": {},
   "outputs": [],
   "source": [
    "# Load data\n",
    "links_df = pd.read_csv('data/paper_links_20220314.csv')\n",
    "df0 = pd.read_csv('data/20220314/paper_data_20220314_0.csv')\n",
    "df1 = pd.read_csv('data/20220314/paper_data_20220314_1.csv')"
   ]
  },
  {
   "cell_type": "code",
   "execution_count": null,
   "id": "e2a539d5-7c47-434b-930d-c698c9638cfd",
   "metadata": {},
   "outputs": [],
   "source": [
    "# Where does the first batch end?\n",
    "\n",
    "last_url = '/' + df0['url_id'].tail(1).values[0]\n",
    "batch_end = links_df[links_df['0'] == last_url].index.values[0]\n",
    "print(f\"The first batch ends in position:    {batch_end:,}.\")\n",
    "\n",
    "# Where does the second batch begin?\n",
    "\n",
    "first_url = '/' + df1['url_id'].head(1).values[0]\n",
    "batch_start = links_df[links_df['0'] == first_url].index.values[0]\n",
    "print(f\"The second batch starts in position: {batch_start:,}.\")\n",
    "\n",
    "# Conclusion\n",
    "print(\"\")\n",
    "print(f\"We are missing {batch_start:,}-{batch_end:,} = {batch_start-batch_end:,} values of {len(links_df):,}.\")\n",
    "batch_size = 200\n",
    "print(f\"They can be scraped with {np.ceil((batch_start-batch_end)/batch_size):,.0f} batches of size {batch_size}, starting in position {batch_end:,}.\")"
   ]
  },
  {
   "cell_type": "markdown",
   "id": "8b612763-38d0-4c0a-b821-b0fcdaf4df52",
   "metadata": {},
   "source": [
    "## After scraping the gaps, run the following"
   ]
  },
  {
   "cell_type": "code",
   "execution_count": null,
   "id": "1ff070cd-cf4d-464a-8fea-19e9f932113d",
   "metadata": {},
   "outputs": [],
   "source": [
    "# Load data\n",
    "links_df = pd.read_csv('data/paper_links_20220314.csv')\n",
    "df0 = pd.read_csv('data/20220314/paper_data_20220314_0.csv')\n",
    "df1 = pd.read_csv('data/20220314/paper_data_20220314_1.csv')\n",
    "df2 = pd.read_csv('data/20220314/paper_data_20220314_2.csv')\n",
    "df3 = pd.read_csv('data/20220314/paper_data_20220314_3.csv')"
   ]
  },
  {
   "cell_type": "code",
   "execution_count": null,
   "id": "3da7711f-6825-40cc-a016-7e2ffeb683fe",
   "metadata": {},
   "outputs": [],
   "source": [
    "# Where does the first batch end?\n",
    "last_url = '/' + df0['url_id'].tail(1).values[0]\n",
    "end_0 = links_df[links_df['0'] == last_url].index.values[0]\n",
    "print(f\"The first batch ends in position: {end_0:,}.\")\n",
    "print(f\"The first batch length is: {len(df0):,}.\")"
   ]
  },
  {
   "cell_type": "code",
   "execution_count": null,
   "id": "1a5b9819-b6be-44db-b8f4-2bad00e18a1d",
   "metadata": {},
   "outputs": [],
   "source": [
    "# Where does the second batch begin?\n",
    "first_url = '/' + df1['url_id'].head(1).values[0]\n",
    "start_1 = links_df[links_df['0'] == first_url].index.values[0]\n",
    "print(f\"The second batch starts in position: {start_1:,}.\")\n",
    "print(f\"The second batch length is: {len(df1):,}.\")"
   ]
  },
  {
   "cell_type": "code",
   "execution_count": null,
   "id": "23faf4d3-03bb-4c96-b140-b2879a73f19d",
   "metadata": {},
   "outputs": [],
   "source": [
    "# Combine df0 and df1\n",
    "if start_1 > end_0:\n",
    "    print(\"ERROR: There is a gap between df0 and df1.\")\n",
    "else:\n",
    "    print(\"There is overlap between df0 and df1. Trimming df0 and appending df1.\")\n",
    "    trim_pos = df0.loc[df0['url_id'] == first_url[1:]].index.values[0] - 1\n",
    "    print(\"This is what links_df looks like:\")\n",
    "    display(links_df.loc[start_1-2:start_1+2])\n",
    "    print(\"This is the tail of the first df:\")\n",
    "    display(df0.loc[trim_pos-2:trim_pos+1])\n",
    "    print(\"This is the head of the second df:\")\n",
    "    display(df1.iloc[:3])\n",
    "    df01 = pd.concat([df0.loc[:trim_pos], df1], ignore_index=True)\n",
    "    # Resetting index\n",
    "    df01.reset_index(inplace=True, drop=True)\n",
    "    print(\"This is the concatenated area:\")\n",
    "    display(df01.loc[start_1-2:start_1+2])"
   ]
  },
  {
   "cell_type": "code",
   "execution_count": null,
   "id": "c00e28d9-9c70-4493-8e1c-ffc0289c6610",
   "metadata": {},
   "outputs": [],
   "source": [
    "# Where does the combined data end?\n",
    "last_url = '/' + df01['url_id'].tail(1).values[0]\n",
    "end_01 = links_df[links_df['0'] == last_url ].index.values[0]\n",
    "print(f\"The combined data ends in position {end_01:,}.\")\n",
    "print(f\"The combined data length is: {len(df01):,}.\")\n",
    "print(f\"The sum of df0 and df1 length is {len(df0) + len(df1):,}. There should be a difference of 1.\")"
   ]
  },
  {
   "cell_type": "code",
   "execution_count": null,
   "id": "d7d8f6b4-1ee6-4340-8b7f-c4f405d35038",
   "metadata": {},
   "outputs": [],
   "source": [
    "# Where does the third batch begin?\n",
    "first_url = '/' + df2['url_id'].head(1).values[0]\n",
    "start_2 = links_df[links_df['0'] == first_url].index.values[0]\n",
    "print(f\"The third batch starts in position: {start_2:,}.\")"
   ]
  },
  {
   "cell_type": "code",
   "execution_count": null,
   "id": "4d06fba5-51c8-48e7-85e7-d4fcf907a2fc",
   "metadata": {},
   "outputs": [],
   "source": [
    "# Combine df01 and df2\n",
    "if start_2 > end_01:\n",
    "    print(\"ERROR: There is a gap between the combined data and df2.\")\n",
    "    print(f\"We are missing {start_2:,}-{end_01:,} = {start_2-end_01:,} values of {len(links_df):,}.\")\n",
    "    batch_size = 200\n",
    "    print(f\"They can be scraped with {np.ceil((start_2-end_01)/batch_size):,.0f} batches of size {batch_size}, starting in position {end_01:,}.\")\n",
    "else:\n",
    "    print(\"There is overlap between df2 and df01. Trimming df01 and appending df2.\")\n",
    "    trim_pos = df01.loc[df01['url_id'] == first_url[1:]].index.values[0] - 1\n",
    "    print(\"This is what links_df looks like:\")\n",
    "    display(links_df.loc[start_2-2:start_2+2])\n",
    "    print(\"This is the tail of the first df:\")\n",
    "    display(df01.loc[trim_pos-2:trim_pos+1])\n",
    "    print(\"This is the head of the second df:\")\n",
    "    display(df2.iloc[:3])\n",
    "    df012 = pd.concat([df01.loc[:trim_pos], df2])\n",
    "    # Reset index\n",
    "    df012.reset_index(inplace=True, drop=True)\n",
    "    print(\"This is the concatenated area:\")\n",
    "    display(df012.loc[start_2-2:start_2+2])\n",
    "    print(\"Done. The resulting dataframe is df012\")"
   ]
  },
  {
   "cell_type": "code",
   "execution_count": null,
   "id": "94f50291-8e02-4bbf-a9e2-c2b738a55659",
   "metadata": {},
   "outputs": [],
   "source": [
    "# Where does the combined data end?\n",
    "last_url = '/' + df012['url_id'].tail(1).values[0]\n",
    "end_012 = links_df[links_df['0'] == last_url ].index.values[0]\n",
    "print(f\"The combined data ends in position {end_012}.\")\n",
    "print(f\"The combined data length is: {len(df012):,}.\")\n",
    "print(f\"The sum of df0, df1 and df2 length is {len(df0)+len(df1)+len(df2):,}. There should be a difference of 2.\")"
   ]
  },
  {
   "cell_type": "code",
   "execution_count": null,
   "id": "13af5d7d-3d7d-4728-9070-85e91b62124c",
   "metadata": {},
   "outputs": [],
   "source": [
    "# Where does the fourth batch begin?\n",
    "first_url = '/' + df3['url_id'].head(1).values[0]\n",
    "start_3 = links_df[links_df['0'] == first_url].index.values[0]\n",
    "print(f\"The third batch starts in position: {start_3:,}.\")\n",
    "print(f\"This should be equal to:            394,600.\")"
   ]
  },
  {
   "cell_type": "code",
   "execution_count": null,
   "id": "7cf23c9b-b393-4eb1-a09d-479fbc529405",
   "metadata": {},
   "outputs": [],
   "source": [
    "# Combine df01 and df2\n",
    "if start_3 > end_012:\n",
    "    print(\"ERROR: There is a gap between the combined data and df2.\")\n",
    "#     print(f\"We are missing {start_2:,}-{end_01:,} = {start_2-end_01:,} values of {len(links_df):,}.\")\n",
    "#     batch_size = 200\n",
    "#     print(f\"They can be scraped with {np.ceil((start_2-end_01)/batch_size):,.0f} batches of size {batch_size}, starting in position {end_01:,}.\")\n",
    "else:\n",
    "    print(\"There is overlap between df3 and df012. Trimming df012 and appending df3.\")\n",
    "    trim_pos = df012.loc[df012['url_id'] == first_url[1:]].index.values[0] - 1\n",
    "    print(\"This is what links_df looks like:\")\n",
    "    display(links_df.loc[start_3-2:start_3+2])\n",
    "    print(\"This is the tail of the first df:\")\n",
    "    display(df012.loc[trim_pos-2:trim_pos+1])\n",
    "    print(\"This is the head of the second df:\")\n",
    "    display(df3.iloc[:3])\n",
    "    df = pd.concat([df012.loc[:trim_pos], df3])\n",
    "    # Reset index\n",
    "    df.reset_index(inplace=True, drop=True)\n",
    "    print(\"This is the concatenated area:\")\n",
    "    display(df.loc[start_3-2:start_3+2])\n",
    "    print(\"Done. The resulting dataframe is df\")"
   ]
  },
  {
   "cell_type": "code",
   "execution_count": null,
   "id": "d7b37866-6c26-4099-bd42-9c3a630bdbab",
   "metadata": {},
   "outputs": [],
   "source": [
    "# Save df\n",
    "df.to_csv('data/paper_data_20220314_full.csv', index=None)"
   ]
  },
  {
   "cell_type": "markdown",
   "id": "efb97739-504c-4eda-afff-86f15064e0f0",
   "metadata": {},
   "source": [
    "# Scrape \"No attempts left\""
   ]
  },
  {
   "cell_type": "code",
   "execution_count": null,
   "id": "fe3eddcf-95f3-40d7-8f95-cbc885973546",
   "metadata": {},
   "outputs": [],
   "source": [
    "import sys\n",
    "import os"
   ]
  },
  {
   "cell_type": "code",
   "execution_count": null,
   "id": "6fefc2c0-212e-451b-bf10-6c7dbb13471b",
   "metadata": {},
   "outputs": [],
   "source": [
    "sys.path.append('/home/jovyan/work')"
   ]
  },
  {
   "cell_type": "code",
   "execution_count": null,
   "id": "850fe9ad-8f4e-4981-9e60-c38811c57072",
   "metadata": {},
   "outputs": [],
   "source": [
    "os.chdir('/home/jovyan/work')"
   ]
  },
  {
   "cell_type": "code",
   "execution_count": null,
   "id": "ee9a9e58-c3c0-43f7-99d9-66333b78e121",
   "metadata": {},
   "outputs": [],
   "source": [
    "os.getcwd()"
   ]
  },
  {
   "cell_type": "code",
   "execution_count": null,
   "id": "812658fe-f1b5-47f0-96bc-593c3cc4e711",
   "metadata": {},
   "outputs": [],
   "source": [
    "from scripts.src.scrape import retry_url"
   ]
  },
  {
   "cell_type": "code",
   "execution_count": null,
   "id": "fccac546-c945-441b-987d-b09dcc86d4c4",
   "metadata": {},
   "outputs": [],
   "source": [
    "from requests_html import AsyncHTMLSession\n",
    "s = AsyncHTMLSession()\n",
    "url = 'https://portalrecerca.csuc.cat/simple-search?query=&location=publications&filter_field_1=resourcetype&filter_type_1=equals&filter_value_1=Items&filter_field_2=itemtype&filter_type_2=notequals&filter_value_2=Phd+Thesis&sort_by=dc.contributor.authors_sort&order=asc&rpp=300&etal=0&start=618600'\n",
    "# r = await s.get(url)\n",
    "# r.url"
   ]
  },
  {
   "cell_type": "code",
   "execution_count": null,
   "id": "0ceb789e-208b-4801-9789-ba6c5ab3b4bf",
   "metadata": {},
   "outputs": [],
   "source": [
    "r = await retry_url(s, url)"
   ]
  },
  {
   "cell_type": "markdown",
   "id": "5bfa05e5-a17f-4c28-9690-e7c2f0d38c5c",
   "metadata": {},
   "source": [
    "# 20220419 Merge paper url"
   ]
  },
  {
   "cell_type": "code",
   "execution_count": null,
   "id": "971e17f2-a5c3-4538-971d-3be36001598e",
   "metadata": {},
   "outputs": [],
   "source": [
    "df0 = pd.read_csv('../data/20220419/20220419_paper_urls_0.csv')\n",
    "df1 = pd.read_csv('../data/20220419/20220419_paper_urls_1.csv')\n",
    "df2 = pd.read_csv('../data/20220419/20220419_paper_urls_2.csv')"
   ]
  },
  {
   "cell_type": "code",
   "execution_count": null,
   "id": "1523166b-cb5b-4fe4-a04f-3301d5a2b183",
   "metadata": {},
   "outputs": [],
   "source": [
    "df_concat = pd.concat([df0,df1,df2])\n",
    "df_concat = df_concat.drop_duplicates()\n",
    "df_concat.shape"
   ]
  },
  {
   "cell_type": "code",
   "execution_count": null,
   "id": "8e40c8c9-c71a-4aa6-b8d9-4853a6d7ee8c",
   "metadata": {},
   "outputs": [],
   "source": [
    "df_concat.to_csv('../data/20220419_paper_urls.csv')"
   ]
  },
  {
   "cell_type": "code",
   "execution_count": null,
   "id": "fbbc7eee-196f-4316-ad68-28263c34ed4a",
   "metadata": {},
   "outputs": [],
   "source": [
    "len(df_concat.drop_duplicates())fgc"
   ]
  },
  {
   "cell_type": "markdown",
   "id": "2ab75b30-aab6-4b7e-9113-3ad1c50123ff",
   "metadata": {},
   "source": [
    "# Prepare new institutions"
   ]
  },
  {
   "cell_type": "code",
   "execution_count": null,
   "id": "39489296-f6d6-4255-9e86-c2aa175ea7e4",
   "metadata": {},
   "outputs": [],
   "source": [
    "df = pd.read_csv('../data/20220309/nodes_20220309.csv', converters = {'institution':eval})"
   ]
  },
  {
   "cell_type": "code",
   "execution_count": null,
   "id": "d6cd3b55-f9cb-4a9d-b5af-050ac277e180",
   "metadata": {},
   "outputs": [],
   "source": [
    "df.head()"
   ]
  },
  {
   "cell_type": "code",
   "execution_count": null,
   "id": "89f65a26-2ff1-4759-94b7-01db8db9a473",
   "metadata": {},
   "outputs": [],
   "source": [
    "set(df['institution'].sum())"
   ]
  },
  {
   "cell_type": "code",
   "execution_count": null,
   "id": "c197de85-0087-40c3-a76f-d1f810e54143",
   "metadata": {},
   "outputs": [],
   "source": []
  }
 ],
 "metadata": {
  "kernelspec": {
   "display_name": "Python 3 (ipykernel)",
   "language": "python",
   "name": "python3"
  },
  "language_info": {
   "codemirror_mode": {
    "name": "ipython",
    "version": 3
   },
   "file_extension": ".py",
   "mimetype": "text/x-python",
   "name": "python",
   "nbconvert_exporter": "python",
   "pygments_lexer": "ipython3",
   "version": "3.9.6"
  }
 },
 "nbformat": 4,
 "nbformat_minor": 5
}
