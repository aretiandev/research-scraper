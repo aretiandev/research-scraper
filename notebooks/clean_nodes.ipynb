{
 "cells": [
  {
   "cell_type": "markdown",
   "id": "f1749c16-1e80-4455-8d3d-a7ccdbf96171",
   "metadata": {},
   "source": [
    "# Clean Nodes\n",
    "\n",
    "This notebook cleans the nodes CSVs to run further analysis."
   ]
  },
  {
   "cell_type": "code",
   "execution_count": 230,
   "id": "8875d974-5199-4f1b-ad08-217873292e0a",
   "metadata": {},
   "outputs": [],
   "source": [
    "import pandas as pd\n",
    "from pathlib import Path\n",
    "import ast"
   ]
  },
  {
   "cell_type": "markdown",
   "id": "a2785a0d-1070-4c87-a073-83144b32f7a2",
   "metadata": {},
   "source": [
    "# Read and append files"
   ]
  },
  {
   "cell_type": "code",
   "execution_count": 231,
   "id": "2c2142ca-7f2b-4ff6-bf76-8d7f48948e29",
   "metadata": {},
   "outputs": [],
   "source": [
    "data_folder = Path(\"../data/20240317\")\n",
    "files_to_append =  [\n",
    "    \"20240317_nodes_ICFO.csv\",\n",
    "    \"20240317_nodes_IDIBELL.csv\",\n",
    "    \"20240317_nodes_UPC_EETAC.csv\"]\n",
    "\n",
    "df_full = pd.DataFrame()\n",
    "for file in files_to_append:\n",
    "    df = pd.read_csv(data_folder / file)\n",
    "    df_full = pd.concat([df_full, df])"
   ]
  },
  {
   "cell_type": "markdown",
   "id": "65cb08b7-c05c-45b5-8304-496eea504860",
   "metadata": {},
   "source": [
    "# Clean author files"
   ]
  },
  {
   "cell_type": "code",
   "execution_count": 232,
   "id": "d2b63028-f26d-4bd1-bf9b-21c7f59c8729",
   "metadata": {},
   "outputs": [],
   "source": [
    "def find_duplicates(value):\n",
    "    if not value:\n",
    "        return False\n",
    "    if value == \"UPC\":\n",
    "        return False\n",
    "        \n",
    "    result = ast.literal_eval(value)\n",
    "    if not result:\n",
    "        return np.nan\n",
    "    if any(element in [\"ICFO\", \"IDIBELL\", \"UPC\"] for element in result):\n",
    "        return False \n",
    "    else:\n",
    "        return True\n",
    "    return np.nan\n",
    "\n",
    "df_full[\"outside_researcher\"] = df_full[\"institution\"].apply(find_duplicates)\n",
    "\n",
    "# Drop all outside researchers\n",
    "df_full = df_full[df_full[\"outside_researcher\"] != True]\n",
    "\n",
    "def fill_institution(row):\n",
    "    if row[\"institution\"] in [\"UPC\", \"ICFO\", \"IDIBELL\"]:\n",
    "        return row[\"institution\"]\n",
    "    result = ast.literal_eval(row[\"institution\"])\n",
    "    if row[\"institution_2\"] == \"Fundació Institut de Ciències Fotòniques\":\n",
    "        return \"ICFO\"\n",
    "    if row[\"institution_2\"] == \"Institut d'Investigació Biomèdica de Bellvitge\":\n",
    "        return \"IDIBELL\"\n",
    "    result = ast.literal_eval(row[\"institution_2\"])\n",
    "    if \"Institut d'Investigació Biomèdica de Bellvitge\" in result:\n",
    "        return \"IDIBELL\"\n",
    "    if \"Fundació Institut de Ciències Fotòniques\" in result:\n",
    "        return \"ICFO\"\n",
    "    return row[\"institution_2\"]\n",
    "\n",
    "df_full[\"institution\"] = df_full.apply(fill_institution, axis=1)"
   ]
  },
  {
   "cell_type": "markdown",
   "id": "520e7ad6-35b0-40a8-8e4b-b49d7fc09c44",
   "metadata": {},
   "source": [
    "# Add group labels"
   ]
  },
  {
   "cell_type": "code",
   "execution_count": 233,
   "id": "ba2cb212-84d4-4444-942a-c15aebb381c5",
   "metadata": {},
   "outputs": [],
   "source": [
    "# Create groups dataset\n",
    "\n",
    "groups_to_append = [\n",
    "    \"20240317_group_data_ICFO.csv\",\n",
    "    \"20240317_group_data_IDIBELL.csv\",\n",
    "    \"20240317_group_data_ICFO.csv\"]\n",
    "\n",
    "df_groups = pd.DataFrame()\n",
    "for file in groups_to_append:\n",
    "    df = pd.read_csv(data_folder / file)\n",
    "    df_groups = pd.concat([df_groups, df])\n",
    "\n",
    "df_groups[\"group_stem\"] = df_groups[\"url\"].str[-16:]\n",
    "df_groups = df_groups[[\"group_stem\", \"name\"]]\n",
    "df_groups = df_groups.rename(columns={\"name\":\"group_name\"})\n",
    "df_groups = df_groups.drop_duplicates()\n",
    "\n",
    "# Clean author df\n",
    "def get_group(value):\n",
    "    result = ast.literal_eval(value)\n",
    "    if not result:\n",
    "        return np.nan\n",
    "    group_stem = result[0]\n",
    "    if group_stem[0] == \"/\":\n",
    "        group_stem = group_stem[1:]\n",
    "    return group_stem \n",
    "\n",
    "df_full[\"group_stem\"] = df_full[\"groups\"].apply(get_group)\n",
    "\n",
    "# Merge\n",
    "df_merge = df_full.merge(df_groups, how=\"left\", on=\"group_stem\")"
   ]
  },
  {
   "cell_type": "markdown",
   "id": "c5139985-6645-4b87-9ac8-06cf899f64f1",
   "metadata": {},
   "source": [
    "# Save"
   ]
  },
  {
   "cell_type": "code",
   "execution_count": 234,
   "id": "aebc78c5-f04e-4c77-93b8-684e677b5c7a",
   "metadata": {},
   "outputs": [],
   "source": [
    "df_merge.to_csv(data_folder / \"nodes_all.csv\", index=None)"
   ]
  },
  {
   "cell_type": "code",
   "execution_count": null,
   "id": "64a92ea8-9e22-4975-a1d0-78939b7dd644",
   "metadata": {},
   "outputs": [],
   "source": []
  }
 ],
 "metadata": {
  "kernelspec": {
   "display_name": "Python 3 (ipykernel)",
   "language": "python",
   "name": "python3"
  },
  "language_info": {
   "codemirror_mode": {
    "name": "ipython",
    "version": 3
   },
   "file_extension": ".py",
   "mimetype": "text/x-python",
   "name": "python",
   "nbconvert_exporter": "python",
   "pygments_lexer": "ipython3",
   "version": "3.11.7"
  }
 },
 "nbformat": 4,
 "nbformat_minor": 5
}
