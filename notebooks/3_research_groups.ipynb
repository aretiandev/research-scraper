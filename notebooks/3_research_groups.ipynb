{
 "cells": [
  {
   "cell_type": "markdown",
   "id": "7bd51148-b8a7-420c-b047-31f580987d9f",
   "metadata": {},
   "source": [
    "# Collapse at research group level"
   ]
  },
  {
   "cell_type": "code",
   "execution_count": null,
   "id": "8779db2f-5419-42a6-8e86-c810bb5830bc",
   "metadata": {},
   "outputs": [],
   "source": [
    "import pandas as pd"
   ]
  },
  {
   "cell_type": "code",
   "execution_count": null,
   "id": "327a92e6-127d-469e-9612-155feea8255f",
   "metadata": {},
   "outputs": [],
   "source": [
    "institution_list = ['IGTP+', 'UPC_CIMNE', 'UB', 'UPF', 'UVic-UCC', 'UOC']\n",
    "\n",
    "for institution in institution_list:\n",
    "    print(f\"Institution: {institution}.\")\n",
    "    # Get Nodes\n",
    "\n",
    "    author_df = pd.read_csv(f'data/nodes_{institution}_20220309.csv', converters = {'groups': eval})\n",
    "    author_full = pd.read_csv(f'data/nodes_{institution}_full_20220309.csv', converters = {'groups': eval})\n",
    "    author_df = author_full.merge(author_df['id'], left_index=True, right_index=True)\n",
    "\n",
    "    # Filter nodelist for researchers with nonempty research groups\n",
    "    mask = author_df['groups'].apply(len) > 0\n",
    "    author_gp_df = author_df[mask]\n",
    "\n",
    "    # Clean data\n",
    "    author_gp_lst = list(author_gp_df['id'].unique())\n",
    "    author_gp_df.loc[:,'url_id'] = author_gp_df.loc[:,'groups'].apply(lambda x: x[0][1:])\n",
    "\n",
    "    # Create group level nodelist\n",
    "\n",
    "    # Get group names\n",
    "    group_df = pd.read_csv('data/groups.csv')\n",
    "    group_df = group_df[['name', 'url_id']]\n",
    "    author_gp_df = author_gp_df.merge(group_df, how='left', on='url_id')\n",
    "\n",
    "    # Collapse at group level\n",
    "    nodes_df = author_gp_df.groupby('url_id').first().reset_index()\n",
    "    nodes_df = nodes_df[['url_id','name', 'institution', 'institution_2', 'department', 'institution_group','n_publications']]\n",
    "    nodes_df = nodes_df.rename(columns={'url_id':'id', 'name':'label'})\n",
    "\n",
    "    # Save\n",
    "    nodes_df.to_csv(f'data/group_nodes_{institution}.csv', index=None)\n",
    "\n",
    "    # Create group level edgelist\n",
    "\n",
    "    edges_df = pd.read_csv(f'data/edges_{institution}_20220309.csv')\n",
    "    mask = edges_df.apply(lambda row: row['Source'] in author_gp_lst and row['Target'] in author_gp_lst, axis=1)\n",
    "    edges_gp_df = edges_df[mask]\n",
    "    edges_gp_df = edges_gp_df.merge(author_gp_df[['id', 'url_id']], how='left', left_on='Source', right_on='id')\n",
    "    edges_gp_df = edges_gp_df.rename(columns={'url_id':'Source_gp'})\n",
    "    edges_gp_df = edges_gp_df.merge(author_gp_df[['id', 'url_id']], how='left', left_on='Target', right_on='id')\n",
    "    edges_gp_df = edges_gp_df.rename(columns={'url_id':'Target_gp'})\n",
    "    edges_gp_df = edges_gp_df[['Source_gp', 'Target_gp', 'Weight']]\n",
    "    edges_gp_df.columns = ['Source', 'Target', 'Weight']\n",
    "    edges_gp_df = edges_gp_df.groupby(['Source', 'Target']).sum().reset_index()\n",
    "\n",
    "    # Save\n",
    "    edges_gp_df.to_csv(f'data/group_edges_{institution}.csv', index=None)\n",
    "    print(\"Done.\")"
   ]
  },
  {
   "cell_type": "code",
   "execution_count": null,
   "id": "2013a234-5a03-4bcd-867e-130b5ed2be93",
   "metadata": {},
   "outputs": [],
   "source": []
  },
  {
   "cell_type": "code",
   "execution_count": null,
   "id": "5ba4386f-0c50-4c9a-a21d-fcbfcf03088d",
   "metadata": {},
   "outputs": [],
   "source": []
  }
 ],
 "metadata": {
  "kernelspec": {
   "display_name": "Python 3 (ipykernel)",
   "language": "python",
   "name": "python3"
  },
  "language_info": {
   "codemirror_mode": {
    "name": "ipython",
    "version": 3
   },
   "file_extension": ".py",
   "mimetype": "text/x-python",
   "name": "python",
   "nbconvert_exporter": "python",
   "pygments_lexer": "ipython3",
   "version": "3.9.6"
  }
 },
 "nbformat": 4,
 "nbformat_minor": 5
}
