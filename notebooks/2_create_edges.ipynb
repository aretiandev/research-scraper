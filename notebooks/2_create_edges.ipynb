{
 "cells": [
  {
   "cell_type": "markdown",
   "id": "a9722fea-7375-40cd-be0d-91abd54100a6",
   "metadata": {},
   "source": [
    "# Create edges\n",
    "\n",
    "This notebook processes the publications data and creates the edges between authors.\n",
    "\n",
    "Inputs:\n",
    "- `f'data/papers_{institution}_2plus_{date_today}.csv'`\n",
    "- `f'data/nodes_{institution}_{date_today}.csv'`\n",
    "\n",
    "Output:\n",
    "- `f'data/edges_{institution}_{date_today}.csv'`"
   ]
  },
  {
   "cell_type": "markdown",
   "id": "9d27f59b-cfdd-4f38-bcf0-38e4e5e44cd1",
   "metadata": {
    "tags": []
   },
   "source": [
    "# Import modules"
   ]
  },
  {
   "cell_type": "code",
   "execution_count": null,
   "id": "553d9af1-da9d-4718-b27a-45d4ef954fac",
   "metadata": {},
   "outputs": [],
   "source": [
    "import numpy as np\n",
    "import pandas as pd\n",
    "from itertools import combinations"
   ]
  },
  {
   "cell_type": "markdown",
   "id": "e3a5d3c8-6249-48ae-aaf9-3f16dc12e501",
   "metadata": {
    "tags": []
   },
   "source": [
    "# Select institution"
   ]
  },
  {
   "cell_type": "code",
   "execution_count": null,
   "id": "b6c38d9a-4a34-4dbf-b8ac-70d21d1b9149",
   "metadata": {},
   "outputs": [],
   "source": []
  },
  {
   "cell_type": "markdown",
   "id": "d665e1b0-d48e-4b3c-92ad-2821cd98d9f4",
   "metadata": {},
   "source": [
    "# Create edgelist"
   ]
  },
  {
   "cell_type": "code",
   "execution_count": null,
   "id": "94c70c54-a756-4c9f-bf9f-28798b9ed125",
   "metadata": {
    "tags": []
   },
   "outputs": [],
   "source": [
    "def create_edgelist(institution, date_today, save=False):\n",
    "    print(f\"Institution: {institution}.\")\n",
    "    \n",
    "    \n",
    "    input_authors = f'../data/{date_today}/{date_today}_nodes_{institution}.csv'\n",
    "    input_papers  = f'../data/{date_today}/{date_today}_papers_{institution}_2plus.csv'\n",
    "    output        = f'../data/{date_today}/{date_today}_edges_{institution}.csv'\n",
    "    \n",
    "    \n",
    "    ## Get authors from papers\n",
    "    \n",
    "    # Load papers with coauthors list\n",
    "    print(f\"{institution} - Loading papers.\")\n",
    "    papers_df = pd.read_csv(input_papers, converters = {'orcids': eval})\n",
    "    papers = papers_df['orcids'].copy()\n",
    "\n",
    "    # Get unique list of authors from papers\n",
    "    authors_papers = list(set(papers.sum()))\n",
    "    authors_papers.sort()\n",
    "\n",
    "    ## Get authors from institution\n",
    "\n",
    "    # Get list of authors from institution\n",
    "    print(f\"{institution} - Loading nodes.\")\n",
    "    authors_inst_df = pd.read_csv(input_authors)\n",
    "\n",
    "    authors_inst = authors_inst_df['id']\n",
    "    authors_inst = authors_inst.unique()\n",
    "    authors_inst = authors_inst[pd.notnull(authors_inst)]\n",
    "\n",
    "    authors_inst.sort()\n",
    "\n",
    "    ## Combine authors\n",
    "\n",
    "    # Combine both\n",
    "    authors_index = list(set(authors_papers) & set(authors_inst))\n",
    "    authors_index.sort()\n",
    "    \n",
    "    ## Create df to store collaborations\n",
    "\n",
    "    print(f\"{institution} - Calculting combinations of authors.\")\n",
    "    author_combinations = combinations(authors_index,2)\n",
    "    collabs_df = pd.DataFrame(list(author_combinations), columns=['Source', 'Target'])\n",
    "    collabs_df['Weight'] = 0\n",
    "    collabs_df = collabs_df.set_index(['Source', 'Target'])\n",
    "\n",
    "    # Calculate collaborations\n",
    "\n",
    "    ## Main loop: add collaborations to df\n",
    "\n",
    "    print(f\"{institution} - Main loop: counting collaborations.\")\n",
    "    for i, paper in enumerate(papers):\n",
    "        print(f\"{institution} - Progress: {i/len(papers)*100:.0f}%. ({i:,.0f}/{len(papers):,.0f}).\", end=\"\\r\")\n",
    "\n",
    "        # Store collaboration\n",
    "        paper = list(set(paper))\n",
    "        paper.sort()\n",
    "        author_pairs = combinations(paper, 2)\n",
    "        for pair in author_pairs:\n",
    "            try:\n",
    "                collabs_df.loc[pair] += 1\n",
    "            except:\n",
    "                pass\n",
    "    collabs_df = collabs_df.reset_index()\n",
    "    \n",
    "    collabs_df = collabs_df.loc[collabs_df['Weight'] > 0]  # Drop zero weights\n",
    "    \n",
    "    if save:\n",
    "        ## Save\n",
    "        collabs_df.to_csv(output, index=None)\n",
    "        print(f\"{institution} - Done. Saved '{outfile}'.\")\n",
    "        \n",
    "    return collabs_df"
   ]
  },
  {
   "cell_type": "markdown",
   "id": "1f950a64-5368-4951-b145-e0d48cb6da02",
   "metadata": {},
   "source": [
    "# MAIN LOOP: Institution"
   ]
  },
  {
   "cell_type": "code",
   "execution_count": null,
   "id": "759c3e7d-cd00-49ae-ac2d-26ee1f5edd18",
   "metadata": {},
   "outputs": [],
   "source": [
    "# Select institution\n",
    "institution_list = ['UdL']\n",
    "date_today='20220422'\n",
    "\n",
    "for institution in institution_list:\n",
    "    collabs_df = create_edgelist(institution, date_today)"
   ]
  },
  {
   "cell_type": "code",
   "execution_count": null,
   "id": "30492751-3e78-47ff-986a-677517f872b8",
   "metadata": {},
   "outputs": [],
   "source": [
    "collabs_df"
   ]
  },
  {
   "cell_type": "markdown",
   "id": "b5b72e64-737b-4ce7-8f06-2b089ad7241a",
   "metadata": {},
   "source": [
    "## Debug"
   ]
  },
  {
   "cell_type": "code",
   "execution_count": null,
   "id": "a58c6618-86ea-4b85-b53a-3984cb06fecf",
   "metadata": {},
   "outputs": [],
   "source": []
  }
 ],
 "metadata": {
  "kernelspec": {
   "display_name": "Python 3 (ipykernel)",
   "language": "python",
   "name": "python3"
  },
  "language_info": {
   "codemirror_mode": {
    "name": "ipython",
    "version": 3
   },
   "file_extension": ".py",
   "mimetype": "text/x-python",
   "name": "python",
   "nbconvert_exporter": "python",
   "pygments_lexer": "ipython3",
   "version": "3.9.6"
  }
 },
 "nbformat": 4,
 "nbformat_minor": 5
}
