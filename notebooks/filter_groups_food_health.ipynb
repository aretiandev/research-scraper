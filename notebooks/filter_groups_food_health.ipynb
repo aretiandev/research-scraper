{
 "cells": [
  {
   "cell_type": "markdown",
   "id": "fdaa7400-6ac6-4ae5-b5a6-624300d7f44d",
   "metadata": {},
   "source": [
    "# Filter Groups linked to food and health\n",
    "\n",
    "This notebook creates a list of unique group names by institution so Gauthier can select the food and health related ones."
   ]
  },
  {
   "cell_type": "code",
   "execution_count": null,
   "id": "31b2f287-fc2b-493a-be88-abca50ef09a1",
   "metadata": {},
   "outputs": [],
   "source": [
    "# Import modules\n",
    "import pandas as pd\n",
    "\n",
    "def add_group_names(institution, date_today, df_groups, save=False):\n",
    "    # Get Researchers\n",
    "    df = pd.read_csv(f'../data/{date_today}/{date_today}_nodes_{institution}.csv', converters={'groups':eval})\n",
    "    \n",
    "    # Add group names\n",
    "    groups_dict = {}\n",
    "    \n",
    "    def get_group_names(lst, df_groups):\n",
    "        groups_names = []\n",
    "        for group_id in lst:\n",
    "            group_name = df_groups.loc[df_groups['url_id']==group_id, 'name'].values[0]\n",
    "            groups_names.append(group_name)\n",
    "            groups_dict[group_id] = group_name\n",
    "        return groups_names\n",
    "    # Merge\n",
    "    df['groups_names'] = df['groups'].apply(lambda x: get_group_names(x, df_groups))\n",
    "    \n",
    "    groups_inst = pd.DataFrame.from_dict(groups_dict, orient='index').reset_index()\n",
    "    if len(groups_inst) == 0:\n",
    "        return 0\n",
    "    groups_inst.columns=['url_id', 'name']\n",
    "    groups_df = groups_inst.merge(df_groups, how='left', on='url_id', suffixes=['','_y'])\n",
    "    groups_df = groups_df.drop(columns=['name_y'])\n",
    "    \n",
    "    if save:\n",
    "        df.to_csv(f'../data/{date_today}/{date_today}_nodes_{institution}_withgroups.csv', index=None)\n",
    "        groups_df_filename = f'../data/{date_today}/{date_today}_groups_{institution}.csv'\n",
    "        groupd_df.to_csv(groups_df_filename, index=None)\n",
    "        print(f\"Saved: {groups_df_filename})\n",
    "    \n",
    "    return df, groups_df\n",
    "\n",
    "def get_unique_groups(df, institution, date_today, save=False):\n",
    "    unique_groups = set(df['groups_names'].sum())\n",
    "    if save:\n",
    "        unique_groups_df = pd.DataFrame(unique_groups)\n",
    "        unique_groups_df.to_csv(f'../data/{date_today}/{date_today}_groups_unique_{institution}.csv', index=None)\n",
    "    return unique_groups"
   ]
  },
  {
   "cell_type": "code",
   "execution_count": null,
   "id": "38ca6f7b-b247-4d64-957d-a230d4f93467",
   "metadata": {},
   "outputs": [],
   "source": [
    "# Get Groups\n",
    "date_today='20220419'\n",
    "df_groups = pd.read_csv(f'../data/{date_today}/{date_today}_group_data.csv')"
   ]
  },
  {
   "cell_type": "code",
   "execution_count": null,
   "id": "2b81661c-e032-42d8-bf39-eb1b06ea4d5c",
   "metadata": {},
   "outputs": [],
   "source": [
    "df_groups['url_id'] = df_groups['url'].str[30:]"
   ]
  },
  {
   "cell_type": "code",
   "execution_count": null,
   "id": "c053cc6e-5d7a-4f46-a4ee-f45471d631b6",
   "metadata": {
    "tags": []
   },
   "outputs": [],
   "source": [
    "institution_list = ['UVic-UCC', 'UB', 'UPC_CIMNE', 'UPF', \n",
    "                   'CRAG', 'Agrotecnio', 'URV', 'UdL', 'UdG']\n",
    "\n",
    "for institution in institution_list:\n",
    "    add_group_names(institution, date_today, df_groups, save=True)"
   ]
  },
  {
   "cell_type": "markdown",
   "id": "6a1aac79-151c-44fd-a02e-4c6d57c5fa2c",
   "metadata": {},
   "source": [
    "## Version of the above function to export to Snakemake scripts"
   ]
  },
  {
   "cell_type": "code",
   "execution_count": null,
   "id": "500033f7-0d40-4e03-9c93-1221a4bba931",
   "metadata": {},
   "outputs": [],
   "source": [
    "# Import modules\n",
    "import pandas as pd\n",
    "\n",
    "\n",
    "def add_group_names(institution, date_today, df_groups, save=False):\n",
    "    # Get groups\n",
    "    df_groups = pd.read_csv(f'../data/{date_today}/{date_today}_group_data.csv')\n",
    "    df_groups['url_id'] = df_groups['url'].str[30:]\n",
    "    \n",
    "    # Get Researchers\n",
    "    df = pd.read_csv(f'../data/{date_today}/{date_today}_nodes_{institution}.csv', converters={'groups':eval})\n",
    "    \n",
    "    # Add group names\n",
    "#     groups_dict = {}\n",
    "    \n",
    "    def get_group_names(lst, df_groups):\n",
    "        groups_names = []\n",
    "        for group_id in lst:\n",
    "            group_name = df_groups.loc[df_groups['url_id']==group_id, 'name'].values[0]\n",
    "            groups_names.append(group_name)\n",
    "#             groups_dict[group_id] = group_name\n",
    "        return groups_names\n",
    "    # Merge\n",
    "    df['groups_names'] = df['groups'].apply(lambda x: get_group_names(x, df_groups))\n",
    "    \n",
    "#     groups_inst = pd.DataFrame.from_dict(groups_dict, orient='index').reset_index()\n",
    "#     if len(groups_inst) == 0:\n",
    "#         return 0\n",
    "#     groups_inst.columns=['url_id', 'name']\n",
    "#     groups_df = groups_inst.merge(df_groups, how='left', on='url_id', suffixes=['','_y'])\n",
    "#     groups_df = groups_df.drop(columns=['name_y'])\n",
    "    \n",
    "    if save:\n",
    "        df.to_csv(f'../data/{date_today}/{date_today}_nodes_{institution}_withgroups.csv', index=None)\n",
    "#         groups_df_filename = f'../data/{date_today}/{date_today}_groups_{institution}.csv'\n",
    "#         groupd_df.to_csv(groups_df_filename, index=None)\n",
    "#         print(f\"Saved: {groups_df_filename})\n",
    "    \n",
    "#     return df, groups_df\n",
    "\n",
    "def get_unique_groups(df, institution, date_today, save=False):\n",
    "    unique_groups = set(df['groups_names'].sum())\n",
    "    if save:\n",
    "        unique_groups_df = pd.DataFrame(unique_groups)\n",
    "        unique_groups_df.to_csv(f'../data/{date_today}/{date_today}_groups_unique_{institution}.csv', index=None)\n",
    "    return unique_groups"
   ]
  }
 ],
 "metadata": {
  "kernelspec": {
   "display_name": "Python 3 (ipykernel)",
   "language": "python",
   "name": "python3"
  },
  "language_info": {
   "codemirror_mode": {
    "name": "ipython",
    "version": 3
   },
   "file_extension": ".py",
   "mimetype": "text/x-python",
   "name": "python",
   "nbconvert_exporter": "python",
   "pygments_lexer": "ipython3",
   "version": "3.9.10"
  }
 },
 "nbformat": 4,
 "nbformat_minor": 5
}
