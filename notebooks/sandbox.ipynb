{
 "cells": [
  {
   "cell_type": "markdown",
   "id": "ece39994-cf7a-433c-aac3-b2e2c39344c1",
   "metadata": {},
   "source": [
    "# Sandbox Notebook\n",
    "\n",
    "This notebook is to test features and play with code."
   ]
  },
  {
   "cell_type": "markdown",
   "id": "8137ab0c-139a-4f04-a43d-f6715f37552a",
   "metadata": {},
   "source": [
    "## Regular expressions"
   ]
  },
  {
   "cell_type": "code",
   "execution_count": null,
   "id": "4cd8362f-212c-4843-bf6e-df11bc96a230",
   "metadata": {},
   "outputs": [],
   "source": [
    "import re\n",
    "import sys\n",
    "sys.path.append(\"../scripts/\")"
   ]
  },
  {
   "cell_type": "code",
   "execution_count": null,
   "id": "0ec2a3c4-44db-406d-8b1a-7ae6f91bb1a1",
   "metadata": {},
   "outputs": [],
   "source": [
    "from src.scrape import get_urls"
   ]
  },
  {
   "cell_type": "code",
   "execution_count": null,
   "id": "b83b65b3-c5ff-4fc6-9b1a-4c11e120bd81",
   "metadata": {},
   "outputs": [],
   "source": [
    "urls = get_urls(items=\"author_urls\")"
   ]
  },
  {
   "cell_type": "code",
   "execution_count": null,
   "id": "9cf71f32-7ced-49a9-a184-11946eb97ab6",
   "metadata": {},
   "outputs": [],
   "source": [
    "regex = re.compile(\n",
    "    \"^https://portalrecerca.csuc.cat/simple-search\\?query=.*&start=[0-9]*\"\n",
    ")\n",
    "result = [regex.match(url) for url in urls]"
   ]
  },
  {
   "cell_type": "code",
   "execution_count": null,
   "id": "791d37fe-b612-4b42-9a93-19fe12e09741",
   "metadata": {},
   "outputs": [],
   "source": [
    "all(result)"
   ]
  },
  {
   "cell_type": "code",
   "execution_count": null,
   "id": "2462b752-a03d-42f9-b105-572cd6726532",
   "metadata": {},
   "outputs": [],
   "source": [
    "result[:5]"
   ]
  },
  {
   "cell_type": "code",
   "execution_count": null,
   "id": "bf0156eb-7620-4c3d-9e29-20e9a9a81e74",
   "metadata": {},
   "outputs": [],
   "source": [
    "result[1]"
   ]
  },
  {
   "cell_type": "code",
   "execution_count": null,
   "id": "c37fef0a-4cf2-4f24-b0d3-f78320eb1359",
   "metadata": {},
   "outputs": [],
   "source": [
    "d = {}\n",
    "for c in (65, 97):\n",
    "    for i in range(26):\n",
    "        d[chr(i+c)] = chr((i+13) % 26 + c)"
   ]
  },
  {
   "cell_type": "code",
   "execution_count": null,
   "id": "2e090396-64ee-4ddc-9ef6-1a01a58f9c0a",
   "metadata": {},
   "outputs": [],
   "source": [
    "s = \"\"\"Gur Mra bs Clguba, ol Gvz Crgref\n",
    "Ornhgvshy vf orggre guna htyl.\n",
    "Rkcyvpvg vf orggre guna vzcyvpvg.\n",
    "Fvzcyr vf orggre guna pbzcyrk.\n",
    "Pbzcyrk vf orggre guna pbzcyvpngrq.\n",
    "Syng vf orggre guna arfgrq.\n",
    "Fcnefr vf orggre guna qrafr.\n",
    "Ernqnovyvgl pbhagf.\n",
    "Fcrpvny pnfrf nera'g fcrpvny rabhtu gb oernx gur ehyrf.\n",
    "Nygubhtu cenpgvpnyvgl orngf chevgl.\n",
    "Reebef fubhyq arire cnff fvyragyl.\n",
    "Hayrff rkcyvpvgyl fvyraprq.\n",
    "Va gur snpr bs nzovthvgl, ershfr gur grzcgngvba gb thrff.\n",
    "Gurer fubhyq or bar-- naq cersrenoyl bayl bar --boivbhf jnl gb qb vg.\n",
    "Nygubhtu gung jnl znl abg or boivbhf ng svefg hayrff lbh'er Qhgpu.\n",
    "Abj vf orggre guna arire.\n",
    "Nygubhtu arire vf bsgra orggre guna *evtug* abj.\n",
    "Vs gur vzcyrzragngvba vf uneq gb rkcynva, vg'f n onq vqrn.\n",
    "Vs gur vzcyrzragngvba vf rnfl gb rkcynva, vg znl or n tbbq vqrn.\n",
    "Anzrfcnprf ner bar ubaxvat terng vqrn -- yrg'f qb zber bs gubfr!\"\"\""
   ]
  },
  {
   "cell_type": "code",
   "execution_count": null,
   "id": "44d32e7a-f596-4352-a217-d5a0593b7432",
   "metadata": {},
   "outputs": [],
   "source": [
    "print(\"\".join([d.get(c, c) for c in s]))"
   ]
  },
  {
   "cell_type": "markdown",
   "id": "cc58cc7f-6ee4-4e7f-ae2c-8505e3b63efe",
   "metadata": {},
   "source": [
    "# Pickle"
   ]
  },
  {
   "cell_type": "code",
   "execution_count": null,
   "id": "3225e0bf-7dfe-4886-b1aa-da1df94859e7",
   "metadata": {},
   "outputs": [],
   "source": [
    "from requests_html import HTMLSession"
   ]
  },
  {
   "cell_type": "code",
   "execution_count": null,
   "id": "51d9405c-b07b-4c0b-aaa9-2e5d29371857",
   "metadata": {},
   "outputs": [],
   "source": [
    "s = HTMLSession()"
   ]
  },
  {
   "cell_type": "code",
   "execution_count": null,
   "id": "dab4c883-48ab-42f8-ab1d-004f18e05457",
   "metadata": {},
   "outputs": [],
   "source": [
    "r = s.get(\"https://portalrecerca.csuc.cat\")"
   ]
  },
  {
   "cell_type": "code",
   "execution_count": null,
   "id": "db10560a-c0c8-47d0-8fd4-61ff258dd7ea",
   "metadata": {},
   "outputs": [],
   "source": [
    "dir(r)"
   ]
  },
  {
   "cell_type": "code",
   "execution_count": null,
   "id": "52a13f2d-2540-4468-b9d3-f7778f49b1fe",
   "metadata": {},
   "outputs": [],
   "source": [
    "dir(r.html)"
   ]
  },
  {
   "cell_type": "code",
   "execution_count": null,
   "id": "38d36b70-1f7d-4c60-8287-ada42efadbd4",
   "metadata": {},
   "outputs": [],
   "source": []
  }
 ],
 "metadata": {
  "kernelspec": {
   "display_name": "Python 3 (ipykernel)",
   "language": "python",
   "name": "python3"
  },
  "language_info": {
   "codemirror_mode": {
    "name": "ipython",
    "version": 3
   },
   "file_extension": ".py",
   "mimetype": "text/x-python",
   "name": "python",
   "nbconvert_exporter": "python",
   "pygments_lexer": "ipython3",
   "version": "3.9.6"
  }
 },
 "nbformat": 4,
 "nbformat_minor": 5
}
