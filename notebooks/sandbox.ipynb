{
 "cells": [
  {
   "cell_type": "markdown",
   "id": "ece39994-cf7a-433c-aac3-b2e2c39344c1",
   "metadata": {},
   "source": [
    "# Sandbox Notebook\n",
    "\n",
    "This notebook is to test features and play with code."
   ]
  },
  {
   "cell_type": "markdown",
   "id": "8137ab0c-139a-4f04-a43d-f6715f37552a",
   "metadata": {},
   "source": [
    "## Regular expressions"
   ]
  },
  {
   "cell_type": "code",
   "execution_count": null,
   "id": "4cd8362f-212c-4843-bf6e-df11bc96a230",
   "metadata": {},
   "outputs": [],
   "source": [
    "import re\n",
    "import sys\n",
    "sys.path.append(\"../scripts/\")"
   ]
  },
  {
   "cell_type": "code",
   "execution_count": null,
   "id": "0ec2a3c4-44db-406d-8b1a-7ae6f91bb1a1",
   "metadata": {},
   "outputs": [],
   "source": [
    "from src.scrape import get_urls"
   ]
  },
  {
   "cell_type": "code",
   "execution_count": null,
   "id": "b83b65b3-c5ff-4fc6-9b1a-4c11e120bd81",
   "metadata": {},
   "outputs": [],
   "source": [
    "urls = get_urls(items=\"author_urls\")"
   ]
  },
  {
   "cell_type": "code",
   "execution_count": null,
   "id": "9cf71f32-7ced-49a9-a184-11946eb97ab6",
   "metadata": {},
   "outputs": [],
   "source": [
    "regex = re.compile(\n",
    "    \"^https://portalrecerca.csuc.cat/simple-search\\?query=.*&start=[0-9]*\"\n",
    ")\n",
    "result = [regex.match(url) for url in urls]"
   ]
  },
  {
   "cell_type": "code",
   "execution_count": null,
   "id": "791d37fe-b612-4b42-9a93-19fe12e09741",
   "metadata": {},
   "outputs": [],
   "source": [
    "all(result)"
   ]
  },
  {
   "cell_type": "code",
   "execution_count": null,
   "id": "2462b752-a03d-42f9-b105-572cd6726532",
   "metadata": {},
   "outputs": [],
   "source": [
    "result[:5]"
   ]
  },
  {
   "cell_type": "code",
   "execution_count": null,
   "id": "bf0156eb-7620-4c3d-9e29-20e9a9a81e74",
   "metadata": {},
   "outputs": [],
   "source": [
    "result[1]"
   ]
  },
  {
   "cell_type": "code",
   "execution_count": null,
   "id": "c37fef0a-4cf2-4f24-b0d3-f78320eb1359",
   "metadata": {},
   "outputs": [],
   "source": []
  }
 ],
 "metadata": {
  "kernelspec": {
   "display_name": "Python 3 (ipykernel)",
   "language": "python",
   "name": "python3"
  },
  "language_info": {
   "codemirror_mode": {
    "name": "ipython",
    "version": 3
   },
   "file_extension": ".py",
   "mimetype": "text/x-python",
   "name": "python",
   "nbconvert_exporter": "python",
   "pygments_lexer": "ipython3",
   "version": "3.9.6"
  }
 },
 "nbformat": 4,
 "nbformat_minor": 5
}
