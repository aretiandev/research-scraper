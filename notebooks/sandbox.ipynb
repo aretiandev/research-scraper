{
 "cells": [
  {
   "cell_type": "markdown",
   "id": "1192397d-ef84-4439-99fc-df390d44c00c",
   "metadata": {},
   "source": [
    "# Sandbox"
   ]
  },
  {
   "cell_type": "raw",
   "id": "16f62bf9-d639-4076-8f08-f89cfef24797",
   "metadata": {},
   "source": [
    "## Institutions to scrape\n",
    "UPC\n",
    "UPC Escuela de Ingeniería de Telecomunicación y Aeroespacial de Castelldefels\n",
    "ICFO\n",
    "UPC\n",
    "IDIBELL"
   ]
  },
  {
   "cell_type": "markdown",
   "id": "34f29ee3-904d-40f8-bab7-b186a6db4c39",
   "metadata": {},
   "source": [
    "# Load modules"
   ]
  },
  {
   "cell_type": "code",
   "execution_count": 2,
   "id": "c196dfb3-b31e-4606-a536-9db44d02dcc9",
   "metadata": {},
   "outputs": [
    {
     "name": "stderr",
     "output_type": "stream",
     "text": [
      "<jemalloc>: MADV_DONTNEED does not work (memset will be used instead)\n",
      "<jemalloc>: (This is the expected behaviour if you are running under QEMU)\n"
     ]
    }
   ],
   "source": [
    "import pandas as pd \n",
    "from pathlib import Path"
   ]
  },
  {
   "cell_type": "markdown",
   "id": "daf4124d-28ec-40ae-bef8-5bc52f4eb325",
   "metadata": {},
   "source": [
    "# Filter UPC \n",
    "\n",
    "Filter UPC data to single out UPC Escuela de Ingeniería de Telecomunicación y Aeroespacial de Castelldefels"
   ]
  },
  {
   "cell_type": "code",
   "execution_count": 3,
   "id": "dd33a7ea-d6ef-4344-9546-9356f8c2b951",
   "metadata": {},
   "outputs": [],
   "source": [
    "data_folder = Path(\"../data/\")"
   ]
  },
  {
   "cell_type": "code",
   "execution_count": 4,
   "id": "f024afa4-3eaf-425d-b9d2-2176422e3e9a",
   "metadata": {},
   "outputs": [],
   "source": [
    "df = pd.read_csv(data_folder / \"nodes_UPC.csv\")"
   ]
  },
  {
   "cell_type": "code",
   "execution_count": 9,
   "id": "b9cd1543-a54b-4ff2-9d1c-95dc97631329",
   "metadata": {},
   "outputs": [],
   "source": [
    "df = pd.read_csv(data_folder / \"groups.csv\")"
   ]
  },
  {
   "cell_type": "code",
   "execution_count": 10,
   "id": "b27083d1-1e43-4dba-8e1e-db5eb5e6ef99",
   "metadata": {
    "tags": []
   },
   "outputs": [],
   "source": [
    "search_string = \"Escuela de Ingeniería de Telecomunicación\""
   ]
  },
  {
   "cell_type": "code",
   "execution_count": 12,
   "id": "a9a73c69-e14e-410e-83f2-de34a74a1ccf",
   "metadata": {
    "tags": []
   },
   "outputs": [],
   "source": [
    "mask = df[\"name\"].str.contains(search_string)"
   ]
  },
  {
   "cell_type": "code",
   "execution_count": 13,
   "id": "f5e78ce0-7445-4703-a818-4294a2df3f9b",
   "metadata": {
    "tags": []
   },
   "outputs": [
    {
     "data": {
      "text/html": [
       "<div>\n",
       "<style scoped>\n",
       "    .dataframe tbody tr th:only-of-type {\n",
       "        vertical-align: middle;\n",
       "    }\n",
       "\n",
       "    .dataframe tbody tr th {\n",
       "        vertical-align: top;\n",
       "    }\n",
       "\n",
       "    .dataframe thead th {\n",
       "        text-align: right;\n",
       "    }\n",
       "</style>\n",
       "<table border=\"1\" class=\"dataframe\">\n",
       "  <thead>\n",
       "    <tr style=\"text-align: right;\">\n",
       "      <th></th>\n",
       "      <th>name</th>\n",
       "      <th>acronym</th>\n",
       "      <th>url</th>\n",
       "      <th>institution</th>\n",
       "      <th>principal names</th>\n",
       "      <th>principal ids</th>\n",
       "      <th>researcher names</th>\n",
       "      <th>researcher ids</th>\n",
       "      <th>url_id</th>\n",
       "      <th>sgr</th>\n",
       "    </tr>\n",
       "  </thead>\n",
       "  <tbody>\n",
       "  </tbody>\n",
       "</table>\n",
       "</div>"
      ],
      "text/plain": [
       "Empty DataFrame\n",
       "Columns: [name, acronym, url, institution, principal names, principal ids, researcher names, researcher ids, url_id, sgr]\n",
       "Index: []"
      ]
     },
     "execution_count": 13,
     "metadata": {},
     "output_type": "execute_result"
    }
   ],
   "source": [
    "df[mask]"
   ]
  },
  {
   "cell_type": "code",
   "execution_count": 8,
   "id": "57477bc5-ab2a-4c8a-b919-b7ba1c9de2c3",
   "metadata": {
    "tags": []
   },
   "outputs": [
    {
     "data": {
      "text/html": [
       "<div>\n",
       "<style scoped>\n",
       "    .dataframe tbody tr th:only-of-type {\n",
       "        vertical-align: middle;\n",
       "    }\n",
       "\n",
       "    .dataframe tbody tr th {\n",
       "        vertical-align: top;\n",
       "    }\n",
       "\n",
       "    .dataframe thead th {\n",
       "        text-align: right;\n",
       "    }\n",
       "</style>\n",
       "<table border=\"1\" class=\"dataframe\">\n",
       "  <thead>\n",
       "    <tr style=\"text-align: right;\">\n",
       "      <th></th>\n",
       "      <th>name</th>\n",
       "      <th>acronym</th>\n",
       "      <th>url</th>\n",
       "      <th>institution</th>\n",
       "      <th>principal names</th>\n",
       "      <th>principal ids</th>\n",
       "      <th>researcher names</th>\n",
       "      <th>researcher ids</th>\n",
       "      <th>url_id</th>\n",
       "      <th>sgr</th>\n",
       "    </tr>\n",
       "  </thead>\n",
       "  <tbody>\n",
       "    <tr>\n",
       "      <th>0</th>\n",
       "      <td>(MC)2 - UPC Mecanica de Medios Continuos y Com...</td>\n",
       "      <td>(MC)2 - UPC</td>\n",
       "      <td>https://portalrecerca.csuc.cat/cris/ou/ou167744</td>\n",
       "      <td>Universitat Politècnica de Catalunya</td>\n",
       "      <td>['Agelet de Saracibar Bosch, Carlos']</td>\n",
       "      <td>['0000-0002-0352-1720']</td>\n",
       "      <td>['Arnau del Amo, Pedro Antonio', 'Barajas Sali...</td>\n",
       "      <td>['0000-0002-9320-8729', '0000-0002-9887-4448',...</td>\n",
       "      <td>cris/ou/ou167744</td>\n",
       "      <td>NaN</td>\n",
       "    </tr>\n",
       "    <tr>\n",
       "      <th>1</th>\n",
       "      <td>(TIEG) - Terrassa Industrial Electronics Group</td>\n",
       "      <td>TIEG</td>\n",
       "      <td>https://portalrecerca.csuc.cat/sgr/2017SGR0353</td>\n",
       "      <td>Universitat Politècnica de Catalunya</td>\n",
       "      <td>['Zaragoza Bertomeu, Jordi']</td>\n",
       "      <td>['0000-0002-1463-4560']</td>\n",
       "      <td>['Berbel Artal, Nestor', 'Capella Frau, Gabrie...</td>\n",
       "      <td>['0000-0002-0158-1068', '0000-0002-2159-1351',...</td>\n",
       "      <td>sgr/2017SGR0353</td>\n",
       "      <td>2017SGR0353</td>\n",
       "    </tr>\n",
       "    <tr>\n",
       "      <th>2</th>\n",
       "      <td>3D Chromatin Organization</td>\n",
       "      <td>NaN</td>\n",
       "      <td>https://portalrecerca.csuc.cat/cris/ou/ou168966</td>\n",
       "      <td>Institut de Recerca contra la Leucèmia Josep C...</td>\n",
       "      <td>['Javierre Martinez, Biola M.']</td>\n",
       "      <td>['0000-0002-8682-6748']</td>\n",
       "      <td>['Cabrera Pasadas, Monica', 'Fanlo Escudero, L...</td>\n",
       "      <td>[]</td>\n",
       "      <td>cris/ou/ou168966</td>\n",
       "      <td>NaN</td>\n",
       "    </tr>\n",
       "    <tr>\n",
       "      <th>3</th>\n",
       "      <td>3DPATRIMONI. Estudi, digitalització, documenta...</td>\n",
       "      <td>NaN</td>\n",
       "      <td>https://portalrecerca.csuc.cat/sgr/2017SGR1714</td>\n",
       "      <td>Universitat de Barcelona</td>\n",
       "      <td>['Guardia Pons, Milagros']</td>\n",
       "      <td>['0000-0002-6963-4197']</td>\n",
       "      <td>['Alonso Martinez, Natalia', 'Bouso Garcia, Mo...</td>\n",
       "      <td>['0000-0003-3343-6305', '0000-0002-4275-2652']</td>\n",
       "      <td>sgr/2017SGR1714</td>\n",
       "      <td>2017SGR1714</td>\n",
       "    </tr>\n",
       "    <tr>\n",
       "      <th>4</th>\n",
       "      <td>ACAF/ART-GEAM Grup d'Estudis d'Art Modern a l'...</td>\n",
       "      <td>NaN</td>\n",
       "      <td>https://portalrecerca.csuc.cat/sgr/2017SGR0462</td>\n",
       "      <td>Universitat de Barcelona</td>\n",
       "      <td>['Narváez Cases, Carme']</td>\n",
       "      <td>['0000-0003-1140-3668']</td>\n",
       "      <td>['Creixell Cabeza, Rosa Maria', 'March Roig, E...</td>\n",
       "      <td>['0000-0002-6072-0099', '0000-0002-1205-4458']</td>\n",
       "      <td>sgr/2017SGR0462</td>\n",
       "      <td>2017SGR0462</td>\n",
       "    </tr>\n",
       "  </tbody>\n",
       "</table>\n",
       "</div>"
      ],
      "text/plain": [
       "                                                name      acronym   \n",
       "0  (MC)2 - UPC Mecanica de Medios Continuos y Com...  (MC)2 - UPC  \\\n",
       "1     (TIEG) - Terrassa Industrial Electronics Group         TIEG   \n",
       "2                          3D Chromatin Organization          NaN   \n",
       "3  3DPATRIMONI. Estudi, digitalització, documenta...          NaN   \n",
       "4  ACAF/ART-GEAM Grup d'Estudis d'Art Modern a l'...          NaN   \n",
       "\n",
       "                                               url   \n",
       "0  https://portalrecerca.csuc.cat/cris/ou/ou167744  \\\n",
       "1   https://portalrecerca.csuc.cat/sgr/2017SGR0353   \n",
       "2  https://portalrecerca.csuc.cat/cris/ou/ou168966   \n",
       "3   https://portalrecerca.csuc.cat/sgr/2017SGR1714   \n",
       "4   https://portalrecerca.csuc.cat/sgr/2017SGR0462   \n",
       "\n",
       "                                         institution   \n",
       "0               Universitat Politècnica de Catalunya  \\\n",
       "1               Universitat Politècnica de Catalunya   \n",
       "2  Institut de Recerca contra la Leucèmia Josep C...   \n",
       "3                           Universitat de Barcelona   \n",
       "4                           Universitat de Barcelona   \n",
       "\n",
       "                         principal names            principal ids   \n",
       "0  ['Agelet de Saracibar Bosch, Carlos']  ['0000-0002-0352-1720']  \\\n",
       "1           ['Zaragoza Bertomeu, Jordi']  ['0000-0002-1463-4560']   \n",
       "2        ['Javierre Martinez, Biola M.']  ['0000-0002-8682-6748']   \n",
       "3             ['Guardia Pons, Milagros']  ['0000-0002-6963-4197']   \n",
       "4               ['Narváez Cases, Carme']  ['0000-0003-1140-3668']   \n",
       "\n",
       "                                    researcher names   \n",
       "0  ['Arnau del Amo, Pedro Antonio', 'Barajas Sali...  \\\n",
       "1  ['Berbel Artal, Nestor', 'Capella Frau, Gabrie...   \n",
       "2  ['Cabrera Pasadas, Monica', 'Fanlo Escudero, L...   \n",
       "3  ['Alonso Martinez, Natalia', 'Bouso Garcia, Mo...   \n",
       "4  ['Creixell Cabeza, Rosa Maria', 'March Roig, E...   \n",
       "\n",
       "                                      researcher ids            url_id   \n",
       "0  ['0000-0002-9320-8729', '0000-0002-9887-4448',...  cris/ou/ou167744  \\\n",
       "1  ['0000-0002-0158-1068', '0000-0002-2159-1351',...   sgr/2017SGR0353   \n",
       "2                                                 []  cris/ou/ou168966   \n",
       "3     ['0000-0003-3343-6305', '0000-0002-4275-2652']   sgr/2017SGR1714   \n",
       "4     ['0000-0002-6072-0099', '0000-0002-1205-4458']   sgr/2017SGR0462   \n",
       "\n",
       "           sgr  \n",
       "0          NaN  \n",
       "1  2017SGR0353  \n",
       "2          NaN  \n",
       "3  2017SGR1714  \n",
       "4  2017SGR0462  "
      ]
     },
     "execution_count": 8,
     "metadata": {},
     "output_type": "execute_result"
    }
   ],
   "source": [
    "df.head()"
   ]
  },
  {
   "cell_type": "code",
   "execution_count": 6,
   "id": "2205d91b-5c3e-4dba-ad6e-c4de3ccffd87",
   "metadata": {
    "tags": []
   },
   "outputs": [
    {
     "data": {
      "text/plain": [
       "1886"
      ]
     },
     "execution_count": 6,
     "metadata": {},
     "output_type": "execute_result"
    }
   ],
   "source": [
    "len(df)"
   ]
  },
  {
   "cell_type": "code",
   "execution_count": null,
   "id": "fd40a7dd-922c-4144-af39-83a225a83f94",
   "metadata": {},
   "outputs": [],
   "source": []
  }
 ],
 "metadata": {
  "kernelspec": {
   "display_name": "Python 3 (ipykernel)",
   "language": "python",
   "name": "python3"
  },
  "language_info": {
   "codemirror_mode": {
    "name": "ipython",
    "version": 3
   },
   "file_extension": ".py",
   "mimetype": "text/x-python",
   "name": "python",
   "nbconvert_exporter": "python",
   "pygments_lexer": "ipython3",
   "version": "3.10.11"
  }
 },
 "nbformat": 4,
 "nbformat_minor": 5
}
