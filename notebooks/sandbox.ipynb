{
 "cells": [
  {
   "cell_type": "markdown",
   "id": "1192397d-ef84-4439-99fc-df390d44c00c",
   "metadata": {},
   "source": [
    "# Sandbox"
   ]
  },
  {
   "cell_type": "raw",
   "id": "16f62bf9-d639-4076-8f08-f89cfef24797",
   "metadata": {},
   "source": [
    "## Institutions to scrape\n",
    "UPC\n",
    "UPC Escuela de Ingeniería de Telecomunicación y Aeroespacial de Castelldefels\n",
    "ICFO\n",
    "UPC\n",
    "IDIBELL"
   ]
  },
  {
   "cell_type": "markdown",
   "id": "34f29ee3-904d-40f8-bab7-b186a6db4c39",
   "metadata": {},
   "source": [
    "# Load modules"
   ]
  },
  {
   "cell_type": "code",
   "execution_count": null,
   "id": "c196dfb3-b31e-4606-a536-9db44d02dcc9",
   "metadata": {},
   "outputs": [],
   "source": [
    "import pandas as pd \n",
    "from pathlib import Path"
   ]
  },
  {
   "cell_type": "markdown",
   "id": "daf4124d-28ec-40ae-bef8-5bc52f4eb325",
   "metadata": {},
   "source": [
    "# Filter UPC \n",
    "\n",
    "Filter UPC data to single out UPC Escuela de Ingeniería de Telecomunicación y Aeroespacial de Castelldefels"
   ]
  },
  {
   "cell_type": "code",
   "execution_count": null,
   "id": "dd33a7ea-d6ef-4344-9546-9356f8c2b951",
   "metadata": {},
   "outputs": [],
   "source": [
    "data_folder = Path(\"../data/\")"
   ]
  },
  {
   "cell_type": "code",
   "execution_count": null,
   "id": "f024afa4-3eaf-425d-b9d2-2176422e3e9a",
   "metadata": {},
   "outputs": [],
   "source": [
    "df = pd.read_csv(data_folder / \"nodes_UPC.csv\")"
   ]
  },
  {
   "cell_type": "code",
   "execution_count": null,
   "id": "b9cd1543-a54b-4ff2-9d1c-95dc97631329",
   "metadata": {},
   "outputs": [],
   "source": [
    "df = pd.read_csv(data_folder / \"groups.csv\")"
   ]
  },
  {
   "cell_type": "code",
   "execution_count": null,
   "id": "b27083d1-1e43-4dba-8e1e-db5eb5e6ef99",
   "metadata": {
    "tags": []
   },
   "outputs": [],
   "source": [
    "search_string = \"Escuela de Ingeniería de Telecomunicación\""
   ]
  },
  {
   "cell_type": "code",
   "execution_count": null,
   "id": "a9a73c69-e14e-410e-83f2-de34a74a1ccf",
   "metadata": {
    "tags": []
   },
   "outputs": [],
   "source": [
    "mask = df[\"name\"].str.contains(search_string)"
   ]
  },
  {
   "cell_type": "code",
   "execution_count": null,
   "id": "f5e78ce0-7445-4703-a818-4294a2df3f9b",
   "metadata": {
    "tags": []
   },
   "outputs": [],
   "source": [
    "df[mask]"
   ]
  },
  {
   "cell_type": "code",
   "execution_count": null,
   "id": "57477bc5-ab2a-4c8a-b919-b7ba1c9de2c3",
   "metadata": {
    "tags": []
   },
   "outputs": [],
   "source": [
    "df.head()"
   ]
  },
  {
   "cell_type": "code",
   "execution_count": null,
   "id": "2205d91b-5c3e-4dba-ad6e-c4de3ccffd87",
   "metadata": {
    "tags": []
   },
   "outputs": [],
   "source": [
    "len(df)"
   ]
  },
  {
   "cell_type": "code",
   "execution_count": null,
   "id": "fd40a7dd-922c-4144-af39-83a225a83f94",
   "metadata": {},
   "outputs": [],
   "source": []
  }
 ],
 "metadata": {
  "kernelspec": {
   "display_name": "Python 3 (ipykernel)",
   "language": "python",
   "name": "python3"
  },
  "language_info": {
   "codemirror_mode": {
    "name": "ipython",
    "version": 3
   },
   "file_extension": ".py",
   "mimetype": "text/x-python",
   "name": "python",
   "nbconvert_exporter": "python",
   "pygments_lexer": "ipython3",
   "version": "3.10.11"
  }
 },
 "nbformat": 4,
 "nbformat_minor": 5
}
