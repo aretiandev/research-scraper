{
 "cells": [
  {
   "cell_type": "markdown",
   "id": "78655094-6c2e-42be-a922-691d23f6860e",
   "metadata": {},
   "source": [
    "# SQLite databases\n",
    "\n",
    "This script migrates scraped data from csv to sqlite databases."
   ]
  },
  {
   "cell_type": "markdown",
   "id": "092b0f72-198a-4812-9d09-8cf539f2a178",
   "metadata": {},
   "source": [
    "# Load modules"
   ]
  },
  {
   "cell_type": "code",
   "execution_count": null,
   "id": "31b9d772-10af-4218-96ec-c69b1b867c4c",
   "metadata": {},
   "outputs": [],
   "source": [
    "import pandas as pd\n",
    "import sqlite3"
   ]
  },
  {
   "cell_type": "markdown",
   "id": "135e5764-3c84-492b-84ae-f3e43d255121",
   "metadata": {},
   "source": [
    "# Create tables"
   ]
  },
  {
   "cell_type": "markdown",
   "id": "fa97bba2-537a-4527-b48d-f45c6f484cd9",
   "metadata": {
    "tags": []
   },
   "source": [
    "## Papers"
   ]
  },
  {
   "cell_type": "code",
   "execution_count": null,
   "id": "0e06cb17-9818-4f19-8372-6bb897a2764c",
   "metadata": {},
   "outputs": [],
   "source": [
    "conn = sqlite3.connect(\"../recerca.db\")\n",
    "c = conn.cursor()\n",
    "\n",
    "c.execute(\"DROP TABLE papers\")\n",
    "c.execute(\"\"\"CREATE TABLE papers (\n",
    "          id INTEGER PRIMARY KEY,\n",
    "          url TEXT,\n",
    "          url_stem TEXT,\n",
    "          date TEXT,\n",
    "          publisher TEXT,\n",
    "          title TEXT,\n",
    "          type TEXT,\n",
    "          author TEXT,\n",
    "          sourceid TEXT,\n",
    "          sourceref TEXT,\n",
    "          orcids TEXT,\n",
    "          citation TEXT,\n",
    "          issn TEXT,\n",
    "          published_in TEXT,\n",
    "          doi TEXT,\n",
    "          isbn TEXT,\n",
    "          uri TEXT,\n",
    "          status_code INTEGER,\n",
    "          status_description TEXT,\n",
    "          date_created TEXT,\n",
    "          current INTEGER,\n",
    "          UNIQUE(url,url_stem,date,publisher,title,type,author, \n",
    "          sourceid,sourceref,orcids,citation,issn,published_in,doi, \n",
    "          isbn,uri,status_code,status_description)\n",
    "         )\"\"\")\n",
    "\n",
    "conn.commit()\n",
    "conn.close()\n",
    "\n",
    "conn = sqlite3.connect(\"../recerca.db\")\n",
    "c = conn.cursor()\n",
    "c.execute(\"\"\"CREATE UNIQUE INDEX ix ON papers (\n",
    "          ifnull(url,-1),\n",
    "          url_stem,\n",
    "          ifnull(date, -1),\n",
    "          ifnull(publisher, -1),\n",
    "          ifnull(title, -1),\n",
    "          ifnull(type, -1),\n",
    "          ifnull(author, -1),\n",
    "          ifnull(sourceid, -1),\n",
    "          ifnull(sourceref, -1),\n",
    "          ifnull(orcids, -1),\n",
    "          ifnull(citation, -1),\n",
    "          ifnull(issn, -1),\n",
    "          ifnull(published_in, -1),\n",
    "          ifnull(doi, -1),\n",
    "          ifnull(isbn, -1),\n",
    "          ifnull(uri, -1),\n",
    "          ifnull(status_code, -1),\n",
    "          ifnull(status_description, -1) )\"\"\")\n",
    "\n",
    "conn.commit()\n",
    "conn.close()"
   ]
  },
  {
   "cell_type": "markdown",
   "id": "a2947e2e-11ad-441f-8a0b-7c6ed74b8519",
   "metadata": {
    "tags": []
   },
   "source": [
    "## URLs"
   ]
  },
  {
   "cell_type": "code",
   "execution_count": null,
   "id": "9abc0aa3-7017-4a08-b5c6-1809456af186",
   "metadata": {},
   "outputs": [],
   "source": [
    "conn = sqlite3.connect(\"../recerca.db\")\n",
    "c = conn.cursor()\n",
    "\n",
    "# c.execute(\"DROP TABLE urls\")\n",
    "c.execute(\"\"\"CREATE TABLE IF NOT EXISTS urls (\n",
    "          id INTEGER PRIMARY KEY,\n",
    "          items TEXT,\n",
    "          url_stem TEXT UNIQUE,\n",
    "          date_created TEXT,\n",
    "          current INTEGER,\n",
    "          url_scraped INTEGER\n",
    "         )\"\"\")\n",
    "\n",
    "conn.commit()\n",
    "conn.close()"
   ]
  },
  {
   "cell_type": "markdown",
   "id": "077df76d-f322-4f42-ba14-d9a3b4a17621",
   "metadata": {},
   "source": [
    "## Authors"
   ]
  },
  {
   "cell_type": "code",
   "execution_count": null,
   "id": "f47e8f7a-cb44-4253-930f-5ac4ea7c8111",
   "metadata": {},
   "outputs": [],
   "source": [
    "conn = sqlite3.connect(\"../recerca.db\")\n",
    "c = conn.cursor()\n",
    "\n",
    "# c.execute(\"DROP TABLE authors\")\n",
    "c.execute(\"\"\"CREATE TABLE authors (\n",
    "            id TEXT PRIMARY KEY,\n",
    "            label TEXT,\n",
    "            department TEXT,\n",
    "            institution TEXT,\n",
    "            institution_2 TEXT,\n",
    "            projects TEXT,\n",
    "            groups TEXT,\n",
    "            url TEXT,\n",
    "            status_description TEXT,\n",
    "            institution_group TEXT\n",
    "        )\"\"\")\n",
    "\n",
    "conn.commit()\n",
    "conn.close()"
   ]
  },
  {
   "cell_type": "markdown",
   "id": "596830c2-4076-41a7-8174-d467502d1096",
   "metadata": {},
   "source": [
    "## Groups"
   ]
  },
  {
   "cell_type": "code",
   "execution_count": null,
   "id": "cbe93210-1bc1-4442-a8e8-2223de1c993c",
   "metadata": {},
   "outputs": [],
   "source": [
    "conn = sqlite3.connect(\"../recerca.db\")\n",
    "c = conn.cursor()\n",
    "\n",
    "c.execute(\"\"\"CREATE TABLE IF NOT EXISTS groups (\n",
    "          id INTEGER PRIMARY KEY,\n",
    "          name TEXT,\n",
    "          institution TEXT,\n",
    "          group_url TEXT,\n",
    "          sgr_code TEXT,\n",
    "          principal_names TEXT,\n",
    "          principal_ids TEXT,\n",
    "          researcher_names TEXT,\n",
    "          researcher_uds TEXT,\n",
    "          url TEXT,\n",
    "          url_stem TEXT\n",
    "         )\"\"\")\n",
    "\n",
    "conn.commit()\n",
    "conn.close()"
   ]
  },
  {
   "cell_type": "markdown",
   "id": "085d8d12-2627-44ed-b5c6-b181262acfa9",
   "metadata": {
    "tags": []
   },
   "source": [
    "## Projects"
   ]
  },
  {
   "cell_type": "code",
   "execution_count": null,
   "id": "bca35990-f68a-4726-bdd7-bc8dd6a00e10",
   "metadata": {},
   "outputs": [],
   "source": [
    "conn = sqlite3.connect(\"../recerca.db\")\n",
    "c = conn.cursor()\n",
    "\n",
    "# c.execute(\"DROP TABLE projects\")\n",
    "c.execute(\"\"\"CREATE TABLE IF NOT EXISTS projects (\n",
    "          id INTEGER PRIMARY KEY,\n",
    "          title TEXT,\n",
    "          official_code TEXT,\n",
    "          url TEXT,\n",
    "          start_date TEXT,\n",
    "          end_date TEXT,\n",
    "          institution TEXT,\n",
    "          principal_names TEXT,\n",
    "          principal_ids TEXT,\n",
    "          researcher_names TEXT,\n",
    "          researcher_ids TEXT,\n",
    "          url_stem TEXT\n",
    "         )\"\"\")\n",
    "\n",
    "conn.commit()\n",
    "conn.close()"
   ]
  },
  {
   "cell_type": "markdown",
   "id": "8ef0cf34-9e31-48e2-8eec-1fac141cc0fe",
   "metadata": {
    "tags": []
   },
   "source": [
    "## Edges"
   ]
  },
  {
   "cell_type": "code",
   "execution_count": null,
   "id": "c289cf2e-8a6e-4c14-a1ab-b3ed3d2bc06f",
   "metadata": {},
   "outputs": [],
   "source": [
    "conn = sqlite3.connect(\"../recerca.db\")\n",
    "c = conn.cursor()\n",
    "\n",
    "# c.execute(\"DROP TABLE edges\")\n",
    "c.execute(\"\"\"CREATE TABLE IF NOT EXISTS edges (\n",
    "          id INTEGER PRIMARY KEY,\n",
    "          Source TEXT,\n",
    "          Target TEXT,\n",
    "          Weight INTEGER,\n",
    "          institution TEXT\n",
    "         )\"\"\")\n",
    "\n",
    "conn.commit()\n",
    "conn.close()"
   ]
  },
  {
   "cell_type": "markdown",
   "id": "fdb90d69-4b21-43d6-a573-450e784e0c61",
   "metadata": {},
   "source": [
    "## Test"
   ]
  },
  {
   "cell_type": "code",
   "execution_count": null,
   "id": "9c7c0bf2-c308-4ca7-9941-32e3db12c097",
   "metadata": {},
   "outputs": [],
   "source": [
    "conn = sqlite3.connect(\"../recerca.db\")\n",
    "c = conn.cursor()\n",
    "\n",
    "c.execute(\"DROP TABLE test\")\n",
    "c.execute(\"\"\"CREATE TABLE IF NOT EXISTS test (\n",
    "          id INTEGER PRIMARY KEY,\n",
    "          url TEXT,\n",
    "          url_stem TEXT,\n",
    "          date TEXT,\n",
    "          publisher TEXT,\n",
    "          title TEXT,\n",
    "          type TEXT,\n",
    "          author TEXT,\n",
    "          sourceid TEXT,\n",
    "          sourceref TEXT,\n",
    "          orcids TEXT,\n",
    "          citation TEXT,\n",
    "          issn TEXT,\n",
    "          published_in TEXT,\n",
    "          doi TEXT,\n",
    "          isbn TEXT,\n",
    "          uri TEXT,\n",
    "          status_code INTEGER,\n",
    "          status_description TEXT,\n",
    "          date_created TEXT,\n",
    "          current INTEGER,\n",
    "          url_scraped INTEGER\n",
    "         )\"\"\")\n",
    "\n",
    "conn.commit()\n",
    "conn.close()"
   ]
  },
  {
   "cell_type": "markdown",
   "id": "6f3c17f6-6308-42c0-84ae-e4e0d8744e3c",
   "metadata": {},
   "source": [
    "# Upload to SQLite"
   ]
  },
  {
   "cell_type": "markdown",
   "id": "52ce751a-8ffe-4010-82b1-22c3a7dc141c",
   "metadata": {},
   "source": [
    "## URLS"
   ]
  },
  {
   "cell_type": "markdown",
   "id": "2ded6f61-39ad-4ad1-8c4b-ff3a1fd8054c",
   "metadata": {
    "tags": []
   },
   "source": [
    "### Paper URLs"
   ]
  },
  {
   "cell_type": "code",
   "execution_count": null,
   "id": "2bc8ad30-d37f-4cc0-abd6-859e962ce0c8",
   "metadata": {
    "tags": []
   },
   "outputs": [],
   "source": [
    "item_list = ['author', 'paper', 'group', 'project']\n",
    "\n",
    "for item in item_list:\n",
    "    print(f\"Item: {item}\")\n",
    "    # Load data\n",
    "    print(\"Reading csv.\")\n",
    "    df = pd.read_csv(f'../data/20220314/{item}_links_20220314.csv')\n",
    "\n",
    "    # Rename columns\n",
    "    renamed_cols = {'0':'url_stem'}\n",
    "    df = df.rename(columns = renamed_cols)\n",
    "\n",
    "    # Remove leading backslash\n",
    "    df['url_stem'] = df['url_stem'].str[1:]\n",
    "\n",
    "    # Format data\n",
    "    df = df.sort_values(by='url_stem')\n",
    "    df = df.drop_duplicates(subset='url_stem')\n",
    "    df = df.reset_index(drop=True)\n",
    "#     df = df.reset_index(drop=True).reset_index()\n",
    "#     df = df.rename(columns={'index': 'id'})\n",
    "\n",
    "    # New columns\n",
    "    df['items']= item\n",
    "    df['date_created'] = '20220314'\n",
    "    df['url_scraped'] = 1\n",
    "    df['current'] = 1\n",
    "\n",
    "    print(\"Writing to sqlite.\")\n",
    "    # Upload to sqlite\n",
    "    conn = sqlite3.connect(\"../recerca.db\")\n",
    "    df.to_sql(name='urls', con = conn, if_exists='append', index=False)\n",
    "    conn.close()\n",
    "    print(\"Done.\")"
   ]
  },
  {
   "cell_type": "markdown",
   "id": "b3022fcc-9851-4277-a4c1-1679c8eaa2e8",
   "metadata": {
    "tags": []
   },
   "source": [
    "## Papers"
   ]
  },
  {
   "cell_type": "code",
   "execution_count": null,
   "id": "9e162ac4-4faa-4c6b-b44b-f300d80e3a2f",
   "metadata": {
    "tags": []
   },
   "outputs": [],
   "source": [
    "# Load data\n",
    "df = pd.read_csv('../data/20220314/paper_clean_20220314.csv')\n",
    "\n",
    "# Rename columns\n",
    "renamed_cols = {'url_id':'url_stem',\n",
    "                'status code':'status_code',\n",
    "                'status description':'status_description'}\n",
    "df = df.rename(columns = renamed_cols)\n",
    "\n",
    "# Format data\n",
    "df = df.sort_values(by='url_stem')\n",
    "df = df.drop_duplicates(subset='url_stem')\n",
    "df = df.reset_index(drop=True).reset_index()\n",
    "df = df.rename(columns={'index': 'id'})\n",
    "\n",
    "# New columns\n",
    "df['date_created'] = '20220314'\n",
    "df['current'] = 1"
   ]
  },
  {
   "cell_type": "code",
   "execution_count": null,
   "id": "6984cebb-51f4-4772-a888-ca0eee2784da",
   "metadata": {
    "tags": []
   },
   "outputs": [],
   "source": [
    "### Upload to sqlite\n",
    "conn = sqlite3.connect(\"../recerca.db\")\n",
    "df.to_sql(name='papers', con = conn, if_exists='append', index=False)\n",
    "conn.close()"
   ]
  },
  {
   "cell_type": "markdown",
   "id": "11920ee8-d881-430f-b497-3d2db0a1b02b",
   "metadata": {
    "tags": []
   },
   "source": [
    "## Authors"
   ]
  },
  {
   "cell_type": "markdown",
   "id": "12f23ca0-8660-48b1-a4c4-6dbb77f03fae",
   "metadata": {
    "tags": []
   },
   "source": [
    "### Process csv"
   ]
  },
  {
   "cell_type": "code",
   "execution_count": null,
   "id": "8cd194ed-dd90-4a44-9bd8-f70bd05bbe93",
   "metadata": {},
   "outputs": [],
   "source": [
    "# Load data\n",
    "df = pd.read_csv('../data/20220314/author_clean_20220314.csv')\n",
    "\n",
    "# Rename columns\n",
    "renamed_cols = {'status description':'status_description'}\n",
    "df = df.rename(columns = renamed_cols)"
   ]
  },
  {
   "cell_type": "markdown",
   "id": "d480d96a-57f9-4448-a5a9-3b793538b6cf",
   "metadata": {},
   "source": [
    "### Upload to sqlite"
   ]
  },
  {
   "cell_type": "code",
   "execution_count": null,
   "id": "83a942db-c0ba-44e8-82a8-decc48c00a7f",
   "metadata": {
    "tags": []
   },
   "outputs": [],
   "source": [
    "conn = sqlite3.connect(\"../recerca.db\")\n",
    "df.to_sql(name='authors', con = conn, if_exists='append', index=False)\n",
    "conn.close()"
   ]
  },
  {
   "cell_type": "markdown",
   "id": "5783f115-d1b3-4e98-88e4-7b9e838a8c31",
   "metadata": {},
   "source": [
    "### Read data"
   ]
  },
  {
   "cell_type": "code",
   "execution_count": null,
   "id": "1cdfa4a0-cad3-480d-84ae-d819d694c2fc",
   "metadata": {},
   "outputs": [],
   "source": [
    "# Connection\n",
    "conn = sqlite3.connect(\"../recerca.db\")\n",
    "conn.row_factory = sqlite3.Row\n",
    "\n",
    "# Query\n",
    "c = conn.cursor()\n",
    "# sql = \"SELECT * FROM sqlite_master WHERE type='table'\"\n",
    "# sql = \"SELECT name FROM sqlite_master WHERE type='table'\"\n",
    "# sql = \"pragma table_info('papers')\"\n",
    "sql = \"SELECT COUNT(*) FROM authors\"\n",
    "# sql = \"SELECT * FROM authors\"\n",
    "c.execute(sql)\n",
    "\n",
    "# Print\n",
    "result = c.fetchone()\n",
    "print(dict(result))\n",
    "\n",
    "conn.commit()\n",
    "conn.close()"
   ]
  },
  {
   "cell_type": "markdown",
   "id": "8e094a34-e4b0-42e5-8bc6-7e3c94f7d95e",
   "metadata": {
    "tags": []
   },
   "source": [
    "## Groups"
   ]
  },
  {
   "cell_type": "markdown",
   "id": "94ea8857-8a87-4cc0-8def-c8d4d4528369",
   "metadata": {
    "tags": []
   },
   "source": [
    "### Process csv"
   ]
  },
  {
   "cell_type": "code",
   "execution_count": null,
   "id": "8f502fc4-0bf5-457f-95da-b74b04e70833",
   "metadata": {},
   "outputs": [],
   "source": [
    "# Load data\n",
    "df = pd.read_csv('../data/20220314/group_data_20220314.csv')\n",
    "\n",
    "rename_cols = {\n",
    "    'principal names' : 'principal_names',\n",
    "    'principal ids' : 'principal_ids',\n",
    "    'researcher names' : 'researcher_names',\n",
    "    'researcher ids' : 'researcher_ids',\n",
    "    'url_id':'url_stem'\n",
    "}\n",
    "df = df.rename(columns=rename_cols)\n",
    "\n",
    "df = df.sort_values(by='url_stem')\n",
    "df = df.drop_duplicates(subset='url_stem')\n",
    "df = df.reset_index(drop=True).reset_index()\n",
    "df = df.rename(columns={'index': 'id'})"
   ]
  },
  {
   "cell_type": "markdown",
   "id": "bf7587dc-92fc-42d8-bbf6-409bbd09f762",
   "metadata": {},
   "source": [
    "### Upload to sqlite"
   ]
  },
  {
   "cell_type": "code",
   "execution_count": null,
   "id": "73110e1a-56c4-4176-bdbd-4bb24e63b199",
   "metadata": {
    "tags": []
   },
   "outputs": [],
   "source": [
    "conn = sqlite3.connect(\"../recerca.db\")\n",
    "df.to_sql(name='groups', con = conn, if_exists='append', index=False)\n",
    "conn.close()"
   ]
  },
  {
   "cell_type": "markdown",
   "id": "5f783eb6-c961-431c-84f8-79096cae272d",
   "metadata": {},
   "source": [
    "### Read data"
   ]
  },
  {
   "cell_type": "code",
   "execution_count": null,
   "id": "0f921868-a026-46a0-abc0-0f8082490aec",
   "metadata": {},
   "outputs": [],
   "source": [
    "# Connection\n",
    "conn = sqlite3.connect(\"../recerca.db\")\n",
    "conn.row_factory = sqlite3.Row\n",
    "\n",
    "# Query\n",
    "c = conn.cursor()\n",
    "# sql = \"SELECT * FROM sqlite_master WHERE type='table'\"\n",
    "# sql = \"SELECT name FROM sqlite_master WHERE type='table'\"\n",
    "# sql = \"pragma table_info('papers')\"\n",
    "# sql = \"SELECT COUNT(*) FROM groups\"\n",
    "sql = \"SELECT * FROM groups\"\n",
    "c.execute(sql)\n",
    "\n",
    "# Print\n",
    "result = c.fetchone()\n",
    "print(dict(result))\n",
    "\n",
    "conn.commit()\n",
    "conn.close()"
   ]
  },
  {
   "cell_type": "markdown",
   "id": "d2f73416-3495-48b7-a21d-7cff89e34eff",
   "metadata": {
    "tags": []
   },
   "source": [
    "## Projects"
   ]
  },
  {
   "cell_type": "markdown",
   "id": "fb60f66c-e59a-43cb-b4f9-c6210d6f011c",
   "metadata": {
    "tags": []
   },
   "source": [
    "### Process csv"
   ]
  },
  {
   "cell_type": "code",
   "execution_count": null,
   "id": "ad580831-8fbc-410b-a52a-0022ffc06f0a",
   "metadata": {},
   "outputs": [],
   "source": [
    "# Load data\n",
    "df = pd.read_csv('../data/20220314/project_data_20220314.csv')\n",
    "\n",
    "rename_cols = {\n",
    "    'official code' : 'official_code',\n",
    "    'start date' : 'start_date',\n",
    "    'end date' : 'end_date',\n",
    "    'principal names' : 'principal_names',\n",
    "    'principal ids' : 'principal_ids',\n",
    "    'researcher names' : 'researcher_names',\n",
    "    'researcher ids' : 'researcher_ids',\n",
    "    'url_id' : 'url_stem',\n",
    "}\n",
    "df = df.rename(columns=rename_cols)\n",
    "\n",
    "df = df.sort_values(by='url_stem')\n",
    "df = df.drop_duplicates(subset='url_stem')\n",
    "df = df.reset_index(drop=True).reset_index()\n",
    "df = df.rename(columns={'index': 'id'})"
   ]
  },
  {
   "cell_type": "markdown",
   "id": "a8dd192c-b377-4f43-8e59-650a59081683",
   "metadata": {},
   "source": [
    "### Upload to sqlite"
   ]
  },
  {
   "cell_type": "code",
   "execution_count": null,
   "id": "5e0b7c90-ca31-44f3-976a-b07d2520c8bd",
   "metadata": {
    "tags": []
   },
   "outputs": [],
   "source": [
    "conn = sqlite3.connect(\"../recerca.db\")\n",
    "df.to_sql(name='projects', con = conn, if_exists='append', index=False)\n",
    "conn.close()"
   ]
  },
  {
   "cell_type": "markdown",
   "id": "9dd72e37-d76a-4908-bc6c-0e634237fcee",
   "metadata": {},
   "source": [
    "### Read data"
   ]
  },
  {
   "cell_type": "code",
   "execution_count": null,
   "id": "444fe84f-11d1-49ce-b469-d27e584e7eaf",
   "metadata": {},
   "outputs": [],
   "source": [
    "# Connection\n",
    "conn = sqlite3.connect(\"../recerca.db\")\n",
    "conn.row_factory = sqlite3.Row\n",
    "\n",
    "# Query\n",
    "c = conn.cursor()\n",
    "# sql = \"SELECT * FROM sqlite_master WHERE type='table'\"\n",
    "# sql = \"SELECT name FROM sqlite_master WHERE type='table'\"\n",
    "# sql = \"pragma table_info('papers')\"\n",
    "# sql = \"SELECT COUNT(*) FROM groups\"\n",
    "sql = \"SELECT * FROM projects\"\n",
    "c.execute(sql)\n",
    "\n",
    "# Print\n",
    "result = c.fetchone()\n",
    "print(dict(result))\n",
    "\n",
    "conn.commit()\n",
    "conn.close()"
   ]
  },
  {
   "cell_type": "markdown",
   "id": "17839927-eebc-4a00-8bbb-903c0091b4bd",
   "metadata": {
    "tags": []
   },
   "source": [
    "## Edges"
   ]
  },
  {
   "cell_type": "markdown",
   "id": "96bb44db-8bec-45f8-a2c2-3335df77b226",
   "metadata": {
    "tags": []
   },
   "source": [
    "### Process csv"
   ]
  },
  {
   "cell_type": "code",
   "execution_count": null,
   "id": "e560bf3a-fa82-40b4-b7f5-c1e7c7c20b5c",
   "metadata": {
    "tags": []
   },
   "outputs": [],
   "source": [
    "# Load data\n",
    "institution_list = ['IGTP+', 'UB', 'UOC', 'UPC_CIMNE', 'UPF', 'UVic-UCC']\n",
    "for institution in institution_list:\n",
    "    print(f\"Institution: {institution}.\")\n",
    "    df = pd.read_csv(f'../data/20220314/edges_{institution}_20220314.csv')\n",
    "    df = df.loc[df['Weight']>0]\n",
    "    df = df.sort_values(by=['Source', 'Target'])\n",
    "    df = df.drop_duplicates(subset=['Source', 'Target'])\n",
    "    df = df.reset_index(drop=True)\n",
    "    df['institution'] = institution\n",
    "    # Upload to sqlite\n",
    "    conn = sqlite3.connect(\"../recerca.db\")\n",
    "    df.to_sql(name='edges', con = conn, if_exists='append', index=False)\n",
    "    conn.close()"
   ]
  },
  {
   "cell_type": "markdown",
   "id": "d8bc2466-5388-44e2-84e4-6a150f8997c7",
   "metadata": {},
   "source": [
    "### Read data"
   ]
  },
  {
   "cell_type": "code",
   "execution_count": null,
   "id": "e6ab3a12-bd6b-4de9-9e0a-cf86f0d609ac",
   "metadata": {},
   "outputs": [],
   "source": [
    "# Connection\n",
    "conn = sqlite3.connect(\"../recerca.db\")\n",
    "conn.row_factory = sqlite3.Row\n",
    "\n",
    "# Query\n",
    "c = conn.cursor()\n",
    "# sql = \"SELECT * FROM sqlite_master WHERE type='table'\"\n",
    "# sql = \"SELECT name FROM sqlite_master WHERE type='table'\"\n",
    "# sql = \"pragma table_info('papers')\"\n",
    "# sql = \"SELECT COUNT(*) FROM groups\"\n",
    "sql = \"SELECT * FROM edges WHERE institution = 'UB'\"\n",
    "c.execute(sql)\n",
    "\n",
    "# Print\n",
    "result = c.fetchmany(10)\n",
    "for item in result:\n",
    "    print(dict(item))\n",
    "# print(dict(result))\n",
    "\n",
    "conn.commit()\n",
    "conn.close()"
   ]
  },
  {
   "cell_type": "markdown",
   "id": "e8b2caf4-955c-4b4f-95ee-37e998182c48",
   "metadata": {},
   "source": [
    "# Test scripts"
   ]
  },
  {
   "cell_type": "markdown",
   "id": "8fd63b7e-c1cf-48d1-b500-786c0c9efad9",
   "metadata": {},
   "source": [
    "## Test: insert paper into papers table"
   ]
  },
  {
   "cell_type": "code",
   "execution_count": null,
   "id": "6876892d-b092-403b-b436-ee05e841bc8a",
   "metadata": {
    "tags": []
   },
   "outputs": [],
   "source": [
    "def insert_papers(papers, date):\n",
    "    for paper in papers:\n",
    "        paper['current'] = 1\n",
    "        paper['date_created'] = date\n",
    "\n",
    "    conn = sqlite3.connect('../recerca.db')\n",
    "    with conn:\n",
    "    #     c = conn.cursor()\n",
    "\n",
    "        # Set current = 0 for existing records\n",
    "        conn.executemany(\"\"\"UPDATE papers\n",
    "                        SET current = 0\n",
    "                        WHERE url_stem = :url_stem\"\"\", papers)\n",
    "\n",
    "        # Insert new record\n",
    "        conn.executemany(\"\"\"INSERT INTO papers VALUES (\n",
    "                        :id,\n",
    "                        :url,:url_stem,:date,:publisher,:title,:type,:author,\n",
    "                        :sourceid,:sourceref,:orcids,:citation,:issn,:published_in,\n",
    "                        :doi,:isbn,:uri,:status_code,:status_description,\n",
    "                        :date_created,:current) \n",
    "                        ON CONFLICT DO UPDATE SET current=1\n",
    "                        \"\"\", papers)\n",
    "\n",
    "    conn.close()"
   ]
  },
  {
   "cell_type": "code",
   "execution_count": null,
   "id": "c70542ad-aa22-47d4-93be-be2b222220ad",
   "metadata": {},
   "outputs": [],
   "source": [
    "\n",
    "                        ON CONFLICT (url, url_stem, date, publisher, title, type, author, \n",
    "                          sourceid, sourceref, orcids, citation, issn, published_in, doi, \n",
    "                          isbn, uri, status_code, status_description)\n",
    "                        DO UPDATE SET current = 1"
   ]
  },
  {
   "cell_type": "code",
   "execution_count": null,
   "id": "5f66491a-3c0c-49f2-b4e2-80c936a0401c",
   "metadata": {
    "tags": []
   },
   "outputs": [],
   "source": [
    "conn = sqlite3.connect('../recerca.db')\n",
    "conn.row_factory = sqlite3.Row\n",
    "c = conn.cursor()\n",
    "\n",
    "# c.execute(\"SELECT url_stem FROM test WHERE EXISTS(SELECT 1 FROM test WHERE url_stem = ?) LIMIT 10\", \n",
    "#           (insert_result[0]['url_stem'],))\n",
    "# c.execute(\"SELECT 1 FROM test WHERE url_stem = ?\", (insert_result[0]['url_stem'],))\n",
    "# c.execute(\"SELECT * FROM papers WHERE date_created = 20220324\")\n",
    "# c.execute(\"SELECT * FROM papers WHERE current = 1\")\n",
    "c.execute(\"SELECT * FROM papers ORDER BY id DESC LIMIT 10\")\n",
    "# c.execute(\"SELECT COUNT(*) FROM papers\")\n",
    "\n",
    "# print(c.fetchall())\n",
    "result = c.fetchmany(6)\n",
    "for paper in result:\n",
    "    print(dict(paper))\n",
    "    \n",
    "conn.commit()\n",
    "conn.close()"
   ]
  },
  {
   "cell_type": "code",
   "execution_count": null,
   "id": "5703fe2f-1017-4a5c-b8f1-1cd8605cf478",
   "metadata": {},
   "outputs": [],
   "source": [
    "# for key in dict(result[0]).keys():\n",
    "#     print(key, dict(result[0])[key] == dict(result[3])[key])"
   ]
  },
  {
   "cell_type": "code",
   "execution_count": null,
   "id": "d6bf2267-ecc7-43e5-8959-c4becf29fe7f",
   "metadata": {},
   "outputs": [],
   "source": [
    "papers = []\n",
    "for paper in result:\n",
    "    papers.append(dict(paper))\n",
    "\n",
    "for paper in papers:\n",
    "    paper['id'] = None\n",
    "    paper['title'] = 'NEW NEW TITLE'"
   ]
  },
  {
   "cell_type": "code",
   "execution_count": null,
   "id": "d4bb70a7-31eb-44b3-8023-fc0943833674",
   "metadata": {
    "tags": []
   },
   "outputs": [],
   "source": [
    "insert_papers(papers, 'XXXXXXXX')"
   ]
  },
  {
   "cell_type": "code",
   "execution_count": null,
   "id": "8c10b4d6-c4ac-460b-94b1-f36c3d23ec76",
   "metadata": {},
   "outputs": [],
   "source": []
  },
  {
   "cell_type": "markdown",
   "id": "32b5e913-822a-4deb-a1f2-d22f4eb87b72",
   "metadata": {},
   "source": [
    "## Test: insert url into paper URLs table"
   ]
  },
  {
   "cell_type": "code",
   "execution_count": null,
   "id": "3f8fe0ee-bb73-4c3d-9d5c-6876c9c0f284",
   "metadata": {
    "tags": []
   },
   "outputs": [],
   "source": [
    "def insert_urls(urls, date):\n",
    "    rows = []\n",
    "    for url in urls:\n",
    "        row = {}\n",
    "        row['url_stem'] = url\n",
    "        row['current'] = 1\n",
    "        row['url_scraped'] = 0\n",
    "        row['date_created'] = date\n",
    "        rows.append(row)\n",
    "\n",
    "    conn = sqlite3.connect('../recerca.db')\n",
    "    c = conn.cursor()\n",
    "    \n",
    "    c.executemany(\"\"\"INSERT OR IGNORE INTO paper_urls_test (url_stem, current, url_scraped, date_created) \n",
    "              VALUES (:url_stem, :current, :url_scraped, :date_created)\"\"\", rows)\n",
    "        \n",
    "    conn.commit()\n",
    "    conn.close()"
   ]
  },
  {
   "cell_type": "code",
   "execution_count": null,
   "id": "2bc9a763-3eb6-486e-9454-936688dffd4c",
   "metadata": {
    "tags": []
   },
   "outputs": [],
   "source": [
    "urls = ['url1', 'url2', 'url3']\n",
    "\n",
    "insert_urls(urls, 'XXXXXX')"
   ]
  },
  {
   "cell_type": "code",
   "execution_count": null,
   "id": "1f69e9dc-b9ec-4b1e-a2fc-feaa8e618e6b",
   "metadata": {
    "tags": []
   },
   "outputs": [],
   "source": [
    "conn = sqlite3.connect('../recerca.db')\n",
    "conn.row_factory = sqlite3.Row\n",
    "c = conn.cursor()\n",
    "\n",
    "# c.execute(\"SELECT url_stem FROM test WHERE EXISTS(SELECT 1 FROM test WHERE url_stem = ?) LIMIT 10\", \n",
    "#           (insert_result[0]['url_stem'],))\n",
    "# c.execute(\"SELECT 1 FROM test WHERE url_stem = ?\", (insert_result[0]['url_stem'],))\n",
    "# c.execute(\"SELECT * FROM urls ORDER BY id DESC LIMIT 10\")\n",
    "c.execute(\"SELECT * FROM urls WHERE items = 'group' ORDER BY id DESC LIMIT 10\")\n",
    "# c.execute(\"SELECT * FROM paper_urls_test WHERE date_created = 'XXXXXX'\")\n",
    "# c.execute(\"SELECT * FROM papers WHERE current = 1\")\n",
    "\n",
    "# print(c.fetchall())\n",
    "result = c.fetchmany(10)\n",
    "for paper in result:\n",
    "    print(dict(paper))\n",
    "    \n",
    "    \n",
    "conn.commit()\n",
    "conn.close()"
   ]
  },
  {
   "cell_type": "code",
   "execution_count": null,
   "id": "873c98de-6f20-481c-aa3b-f023c2643f51",
   "metadata": {},
   "outputs": [],
   "source": [
    "insert_result[0]"
   ]
  },
  {
   "cell_type": "code",
   "execution_count": null,
   "id": "6e559b34-f1a3-4c54-8e94-54b9d382c6dd",
   "metadata": {},
   "outputs": [],
   "source": [
    "insert_result[0]"
   ]
  },
  {
   "cell_type": "code",
   "execution_count": null,
   "id": "d1ac4b6d-eb2c-4abf-94c2-e52144ad3320",
   "metadata": {},
   "outputs": [],
   "source": [
    "conn = sqlite3.connect('../recerca.db')\n",
    "conn.row_factory = sqlite3.Row\n",
    "c = conn.cursor()\n",
    "\n",
    "sql = \"DROP TABLE deleteme\"\n",
    "sql = \"\"\"\n",
    "CREATE TABLE `deleteme` (\n",
    "    `Field1`    INTEGER,\n",
    "    `Field2`    INTEGER\n",
    ");\n",
    "\"\"\"\n",
    "# sql = \"\"\"\n",
    "# CREATE UNIQUE INDEX `ix` ON `deleteme` (\n",
    "#     `Field1`,\n",
    "#     `Field2`\n",
    "# );\n",
    "# \"\"\"\n",
    "\n",
    "sql = \"\"\"\n",
    "INSERT INTO `deleteme`(`Field1`,`Field2`) VALUES (1,NULL);\n",
    "\"\"\"\n",
    "# sql = \"SELECT * FROM deleteme\"\n",
    "\n",
    "# sql = \"\"\"\n",
    "# INSERT INTO `test`(`Field1`,`Field2`) VALUES (1,NULL); -- This shouldn't be allowed\n",
    "# \"\"\"\n",
    "\n",
    "# sql = \"\"\"\n",
    "# DROP INDEX IF EXISTS `ix2`\n",
    "# \"\"\"\n",
    "# sql = \"\"\"\n",
    "# CREATE UNIQUE INDEX `ix2` ON `deleteme` (\n",
    "#     `Field1`,\n",
    "#     ifnull(`Field2`, 0)  --use this instead\n",
    "# ); --will fail\n",
    "# \"\"\"\n",
    "\n",
    "c.execute(sql)\n",
    "\n",
    "# print(c.fetchall())\n",
    "\n",
    "# result = c.fetchmany(4)\n",
    "\n",
    "# for paper in result:\n",
    "#     print(dict(paper))\n",
    "    \n",
    "conn.commit()\n",
    "conn.close()"
   ]
  },
  {
   "cell_type": "code",
   "execution_count": null,
   "id": "adc0c997-a18b-41f2-b6ed-0d1ed8a3d072",
   "metadata": {},
   "outputs": [],
   "source": [
    "print(result)"
   ]
  },
  {
   "cell_type": "code",
   "execution_count": null,
   "id": "ddf05aba-7df1-4ecf-ba16-61fd946da2ea",
   "metadata": {},
   "outputs": [],
   "source": []
  }
 ],
 "metadata": {
  "kernelspec": {
   "display_name": "Python 3 (ipykernel)",
   "language": "python",
   "name": "python3"
  },
  "language_info": {
   "codemirror_mode": {
    "name": "ipython",
    "version": 3
   },
   "file_extension": ".py",
   "mimetype": "text/x-python",
   "name": "python",
   "nbconvert_exporter": "python",
   "pygments_lexer": "ipython3",
   "version": "3.9.6"
  }
 },
 "nbformat": 4,
 "nbformat_minor": 5
}
