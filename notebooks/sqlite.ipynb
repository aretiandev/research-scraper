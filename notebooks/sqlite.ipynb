{
 "cells": [
  {
   "cell_type": "code",
   "execution_count": null,
   "id": "31b9d772-10af-4218-96ec-c69b1b867c4c",
   "metadata": {},
   "outputs": [],
   "source": [
    "import pandas as pd"
   ]
  },
  {
   "cell_type": "code",
   "execution_count": null,
   "id": "0cf821b7-78fd-42b7-90c2-7483e6f6932f",
   "metadata": {},
   "outputs": [],
   "source": [
    "df = pd.read_csv('../data/20220321_paper_links.csv')"
   ]
  },
  {
   "cell_type": "code",
   "execution_count": null,
   "id": "a8bb0ac1-f996-4fec-a44c-18e6c1b53b7e",
   "metadata": {},
   "outputs": [],
   "source": [
    "df.to_sql(papers, conn, if_exists='append', index=False)"
   ]
  },
  {
   "cell_type": "code",
   "execution_count": null,
   "id": "8c6309a5-2e43-4da3-9ba5-d43a4b9117c7",
   "metadata": {},
   "outputs": [],
   "source": [
    "import sqlite3\n",
    "\n",
    "conn = sqlite3.connect(\"papers.db\")\n",
    "\n",
    "df.to_sql(name='papers', con = conn)\n",
    "\n",
    "conn.close()"
   ]
  },
  {
   "cell_type": "code",
   "execution_count": null,
   "id": "90891b89-636f-4225-afc1-4554331bd11b",
   "metadata": {},
   "outputs": [],
   "source": [
    "conn = sqlite3.connect(\"papers.db\")\n",
    "c = conn.cursor()\n",
    "c.execute(\"SELECT * FROM papers\")\n",
    "print(c.fetchmany(10))\n",
    "conn.close()"
   ]
  },
  {
   "cell_type": "code",
   "execution_count": null,
   "id": "b221d760-13b4-46dc-be6a-591e5bdb274a",
   "metadata": {},
   "outputs": [],
   "source": [
    "with conn:\n",
    "    conn.execute(\"CREATE TABLE customers (name TEXT, age INTEGER)\")\n",
    "    \n",
    "with conn:\n",
    "    conn.execute(\"INSERT INTO customers VALUES (?,?)\", ('Fernando', 35))\n",
    "    \n",
    "with conn:\n",
    "    c = conn.cursor()\n",
    "    c.execute(\"SELECT * FROM customers\")\n",
    "    print(c.fetchall())\n",
    "    \n",
    "conn.close()\n",
    "    "
   ]
  },
  {
   "cell_type": "code",
   "execution_count": null,
   "id": "ad1a7424-2b32-43de-9fdf-94d2e58bb55b",
   "metadata": {},
   "outputs": [],
   "source": []
  }
 ],
 "metadata": {
  "kernelspec": {
   "display_name": "Python 3 (ipykernel)",
   "language": "python",
   "name": "python3"
  },
  "language_info": {
   "codemirror_mode": {
    "name": "ipython",
    "version": 3
   },
   "file_extension": ".py",
   "mimetype": "text/x-python",
   "name": "python",
   "nbconvert_exporter": "python",
   "pygments_lexer": "ipython3",
   "version": "3.9.6"
  }
 },
 "nbformat": 4,
 "nbformat_minor": 5
}
