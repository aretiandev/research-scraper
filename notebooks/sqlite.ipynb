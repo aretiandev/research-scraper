{
 "cells": [
  {
   "cell_type": "markdown",
   "id": "78655094-6c2e-42be-a922-691d23f6860e",
   "metadata": {},
   "source": [
    "# SQLite databases\n",
    "\n",
    "This script migrates scraped data from csv to sqlite databases."
   ]
  },
  {
   "cell_type": "markdown",
   "id": "092b0f72-198a-4812-9d09-8cf539f2a178",
   "metadata": {},
   "source": [
    "# Load modules"
   ]
  },
  {
   "cell_type": "code",
   "execution_count": null,
   "id": "31b9d772-10af-4218-96ec-c69b1b867c4c",
   "metadata": {
    "tags": []
   },
   "outputs": [],
   "source": [
    "import pandas as pd\n",
    "import sqlite3"
   ]
  },
  {
   "cell_type": "markdown",
   "id": "135e5764-3c84-492b-84ae-f3e43d255121",
   "metadata": {},
   "source": [
    "# Create tables"
   ]
  },
  {
   "cell_type": "markdown",
   "id": "fa97bba2-537a-4527-b48d-f45c6f484cd9",
   "metadata": {
    "tags": []
   },
   "source": [
    "## Papers"
   ]
  },
  {
   "cell_type": "code",
   "execution_count": null,
   "id": "a40bfcf2-4cb1-4940-a553-4dc0ffdbbb04",
   "metadata": {
    "tags": []
   },
   "outputs": [],
   "source": [
    "conn = sqlite3.connect(\"../recerca.db\")\n",
    "c = conn.cursor()\n",
    "\n",
    "try:\n",
    "    c.execute(\"DROP TABLE papers\")\n",
    "except sqlite3.OperationalError:\n",
    "    pass\n",
    "\n",
    "c.execute(\"\"\"CREATE TABLE papers (\n",
    "          id INTEGER PRIMARY KEY,\n",
    "          url TEXT,\n",
    "          url_stem TEXT,\n",
    "          date TEXT,\n",
    "          publisher TEXT,\n",
    "          title TEXT,\n",
    "          type TEXT,\n",
    "          author TEXT,\n",
    "          sourceid TEXT,\n",
    "          sourceref TEXT,\n",
    "          orcids TEXT,\n",
    "          citation TEXT,\n",
    "          issn TEXT,\n",
    "          published_in TEXT,\n",
    "          doi TEXT,\n",
    "          isbn TEXT,\n",
    "          uri TEXT,\n",
    "          status_code INTEGER,\n",
    "          status_description TEXT,\n",
    "          date_created TEXT,\n",
    "          current INTEGER,\n",
    "          UNIQUE(url,url_stem,date,publisher,title,type,author, \n",
    "          sourceid,sourceref,orcids,citation,issn,published_in,doi, \n",
    "          isbn,uri,status_code,status_description)\n",
    "         )\"\"\")\n",
    "\n",
    "conn.commit()\n",
    "conn.close()\n",
    "\n",
    "conn = sqlite3.connect(\"../recerca.db\")\n",
    "c = conn.cursor()\n",
    "\n",
    "c.execute(\"\"\"CREATE UNIQUE INDEX papers_unique_index ON papers (\n",
    "          ifnull(url,-1),\n",
    "          url_stem,\n",
    "          ifnull(date, -1),\n",
    "          ifnull(publisher, -1),\n",
    "          ifnull(title, -1),\n",
    "          ifnull(type, -1),\n",
    "          ifnull(author, -1),\n",
    "          ifnull(sourceid, -1),\n",
    "          ifnull(sourceref, -1),\n",
    "          ifnull(orcids, -1),\n",
    "          ifnull(citation, -1),\n",
    "          ifnull(issn, -1),\n",
    "          ifnull(published_in, -1),\n",
    "          ifnull(doi, -1),\n",
    "          ifnull(isbn, -1),\n",
    "          ifnull(uri, -1),\n",
    "          ifnull(status_code, -1),\n",
    "          ifnull(status_description, -1) )\"\"\")\n",
    "\n",
    "conn.commit()\n",
    "conn.close()"
   ]
  },
  {
   "cell_type": "markdown",
   "id": "a2947e2e-11ad-441f-8a0b-7c6ed74b8519",
   "metadata": {
    "tags": []
   },
   "source": [
    "## URLs"
   ]
  },
  {
   "cell_type": "code",
   "execution_count": null,
   "id": "9abc0aa3-7017-4a08-b5c6-1809456af186",
   "metadata": {
    "tags": []
   },
   "outputs": [],
   "source": [
    "conn = sqlite3.connect(\"../recerca.db\")\n",
    "# conn = sqlite3.connect(\"../recerca_test.db\")\n",
    "c = conn.cursor()\n",
    "\n",
    "# c.execute(\"DROP TABLE urls\")\n",
    "c.execute(\"\"\"CREATE TABLE IF NOT EXISTS urls (\n",
    "          id INTEGER PRIMARY KEY,\n",
    "          items TEXT,\n",
    "          url_stem TEXT UNIQUE,\n",
    "          date_created TEXT,\n",
    "          current INTEGER,\n",
    "          url_scraped INTEGER\n",
    "         )\"\"\")\n",
    "\n",
    "conn.commit()\n",
    "conn.close()"
   ]
  },
  {
   "cell_type": "markdown",
   "id": "077df76d-f322-4f42-ba14-d9a3b4a17621",
   "metadata": {},
   "source": [
    "## Authors"
   ]
  },
  {
   "cell_type": "code",
   "execution_count": null,
   "id": "f47e8f7a-cb44-4253-930f-5ac4ea7c8111",
   "metadata": {
    "tags": []
   },
   "outputs": [],
   "source": [
    "conn = sqlite3.connect(\"../recerca.db\")\n",
    "c = conn.cursor()\n",
    "\n",
    "# c.execute(\"DROP TABLE authors\")\n",
    "c.execute(\"\"\"CREATE TABLE authors (\n",
    "            id TEXT,\n",
    "            url TEXT,\n",
    "            label TEXT,\n",
    "            department TEXT,\n",
    "            institution TEXT,\n",
    "            institution_2 TEXT,\n",
    "            projects TEXT,\n",
    "            groups TEXT,\n",
    "            status_description TEXT,\n",
    "            institution_group TEXT,\n",
    "            date_created TEXT,\n",
    "            current INTEGER,\n",
    "            UNIQUE(id,url,label,department,institution,institution_2,projects,\n",
    "            groups,status_description,institution_group)\n",
    "         )\"\"\")\n",
    "\n",
    "conn.commit()\n",
    "conn.close()\n",
    "\n",
    "conn = sqlite3.connect(\"../recerca.db\")\n",
    "c = conn.cursor()\n",
    "# c.execute(\"DROP INDEX authors_unique_index\")\n",
    "c.execute(\"\"\"CREATE UNIQUE INDEX authors_unique_index ON authors (\n",
    "          id,\n",
    "          url,\n",
    "          ifnull(label, -1),\n",
    "          ifnull(department, -1),\n",
    "          ifnull(institution, -1),\n",
    "          ifnull(institution_2, -1),\n",
    "          ifnull(projects, -1),\n",
    "          ifnull(groups, -1),\n",
    "          ifnull(status_description, -1),\n",
    "          ifnull(institution_group, -1))\"\"\")\n",
    "\n",
    "conn.commit()\n",
    "conn.close()"
   ]
  },
  {
   "cell_type": "markdown",
   "id": "596830c2-4076-41a7-8174-d467502d1096",
   "metadata": {},
   "source": [
    "## Groups"
   ]
  },
  {
   "cell_type": "code",
   "execution_count": null,
   "id": "cbe93210-1bc1-4442-a8e8-2223de1c993c",
   "metadata": {
    "tags": []
   },
   "outputs": [],
   "source": [
    "conn = sqlite3.connect(\"../recerca.db\")\n",
    "c = conn.cursor()\n",
    "\n",
    "# c.execute(\"DROP TABLE groups\")\n",
    "c.execute(\"\"\"CREATE TABLE IF NOT EXISTS groups (\n",
    "            id INTEGER PRIMARY KEY,\n",
    "            name TEXT,\n",
    "            acronym TEXT,\n",
    "            institution TEXT,\n",
    "            group_url TEXT,\n",
    "            sgr_code TEXT,\n",
    "            principal_names TEXT,\n",
    "            principal_ids TEXT,\n",
    "            researcher_names TEXT,\n",
    "            researcher_ids TEXT,\n",
    "            url TEXT,\n",
    "            url_stem TEXT,\n",
    "            date_created TEXT,\n",
    "            current INTEGER,\n",
    "            UNIQUE(name,institution,group_url,sgr_code, \n",
    "            principal_names,principal_ids, researcher_names, researcher_ids,\n",
    "            url,url_stem)\n",
    "         )\"\"\")\n",
    "conn.commit()\n",
    "conn.close()\n",
    "\n",
    "conn = sqlite3.connect(\"../recerca.db\")\n",
    "c = conn.cursor()\n",
    "# c.execute(\"DROP INDEX groups_unique_index\")\n",
    "c.execute(\"\"\"CREATE UNIQUE INDEX groups_unique_index ON groups (\n",
    "            ifnull(name,-1),\n",
    "            ifnull(acronym,-1),\n",
    "            ifnull(institution,-1),\n",
    "            ifnull(group_url,-1),\n",
    "            ifnull(sgr_code,-1),\n",
    "            ifnull(principal_names,-1),\n",
    "            ifnull(principal_ids,-1),\n",
    "            ifnull(researcher_names,-1),\n",
    "            ifnull(researcher_ids,-1),\n",
    "            url,\n",
    "            url_stem)\"\"\")\n",
    "conn.commit()\n",
    "conn.close()"
   ]
  },
  {
   "cell_type": "markdown",
   "id": "085d8d12-2627-44ed-b5c6-b181262acfa9",
   "metadata": {
    "tags": []
   },
   "source": [
    "## Projects"
   ]
  },
  {
   "cell_type": "code",
   "execution_count": null,
   "id": "bca35990-f68a-4726-bdd7-bc8dd6a00e10",
   "metadata": {
    "tags": []
   },
   "outputs": [],
   "source": [
    "conn = sqlite3.connect(\"../recerca.db\")\n",
    "c = conn.cursor()\n",
    "\n",
    "# c.execute(\"DROP TABLE projects\")\n",
    "c.execute(\"\"\"CREATE TABLE IF NOT EXISTS projects (\n",
    "            id INTEGER PRIMARY KEY,\n",
    "            title TEXT,\n",
    "            official_code TEXT,\n",
    "            url TEXT,\n",
    "            start_date TEXT,\n",
    "            end_date TEXT,\n",
    "            institution TEXT,\n",
    "            principal_names TEXT,\n",
    "            principal_ids TEXT,\n",
    "            researcher_names TEXT,\n",
    "            researcher_ids TEXT,\n",
    "            url_stem TEXT,\n",
    "            date_created TEXT,\n",
    "            current INTEGER,\n",
    "            UNIQUE(title,official_code,url,start_date,end_date,institution,\n",
    "            principal_names,principal_ids,researcher_names,researcher_ids,\n",
    "            url_stem)\n",
    "         )\"\"\")\n",
    "conn.commit()\n",
    "conn.close()\n",
    "\n",
    "conn = sqlite3.connect(\"../recerca.db\")\n",
    "c = conn.cursor()\n",
    "# c.execute(\"DROP INDEX projects_unique_index\")\n",
    "c.execute(\"\"\"CREATE UNIQUE INDEX projects_unique_index ON projects (\n",
    "            title,\n",
    "            url,\n",
    "            url_stem,\n",
    "            ifnull(official_code,-1),\n",
    "            ifnull(start_date,-1),\n",
    "            ifnull(end_date,-1),\n",
    "            ifnull(institution,-1),\n",
    "            ifnull(principal_names,-1),\n",
    "            ifnull(principal_ids,-1),\n",
    "            ifnull(researcher_names,-1),\n",
    "            ifnull(researcher_ids,-1))\"\"\")\n",
    "\n",
    "conn.commit()\n",
    "conn.close()"
   ]
  },
  {
   "cell_type": "markdown",
   "id": "eda4c233-5f93-4302-85c1-d052e1786a89",
   "metadata": {},
   "source": [
    "## Nodes"
   ]
  },
  {
   "cell_type": "code",
   "execution_count": null,
   "id": "d87d01c3-df7c-49d7-8952-bd9f4542b910",
   "metadata": {
    "tags": []
   },
   "outputs": [],
   "source": [
    "conn = sqlite3.connect(\"../recerca.db\")\n",
    "c = conn.cursor()\n",
    "\n",
    "# c.execute(\"DROP TABLE nodes\")\n",
    "c.execute(\"\"\"CREATE TABLE nodes (\n",
    "            id TEXT,\n",
    "            label TEXT,\n",
    "            url TEXT,\n",
    "            department TEXT,\n",
    "            institution TEXT,\n",
    "            institution_2 TEXT,\n",
    "            projects TEXT,\n",
    "            groups TEXT,\n",
    "            status_description TEXT,\n",
    "            institution_group TEXT,\n",
    "            institution_table TEXT,\n",
    "            n_affiliations INTEGER,\n",
    "            single_affiliation TEXT,\n",
    "            n_projects INTEGER,\n",
    "            n_groups INTEGER,\n",
    "            date_created TEXT,\n",
    "            current INTEGER,\n",
    "            UNIQUE(id,label,url,department,institution,institution_2,projects,\n",
    "            groups,status_description,institution_group,institution_table,\n",
    "            n_affiliations,single_affiliation,n_projects,n_groups)\n",
    "         )\"\"\")\n",
    "\n",
    "conn.commit()\n",
    "conn.close()\n",
    "\n",
    "conn = sqlite3.connect(\"../recerca.db\")\n",
    "c = conn.cursor()\n",
    "\n",
    "# c.execute(\"DROP INDEX nodes_unique_index\")\n",
    "c.execute(\"\"\"CREATE UNIQUE INDEX nodes_unique_index ON nodes (\n",
    "            id,\n",
    "            url,\n",
    "            ifnull(label,-1),\n",
    "            ifnull(department,-1),\n",
    "            ifnull(institution,-1),\n",
    "            ifnull(institution_2,-1),\n",
    "            ifnull(projects,-1),\n",
    "            ifnull(groups,-1),\n",
    "            ifnull(status_description,-1),\n",
    "            ifnull(institution_group,-1),\n",
    "            ifnull(institution_table,-1),\n",
    "            ifnull(n_affiliations,-1),\n",
    "            ifnull(single_affiliation,-1),\n",
    "            ifnull(n_projects,-1),\n",
    "            ifnull(n_groups,-1))\"\"\")\n",
    "\n",
    "conn.commit()\n",
    "conn.close()"
   ]
  },
  {
   "cell_type": "markdown",
   "id": "8ef0cf34-9e31-48e2-8eec-1fac141cc0fe",
   "metadata": {
    "tags": []
   },
   "source": [
    "## Edges"
   ]
  },
  {
   "cell_type": "code",
   "execution_count": null,
   "id": "c289cf2e-8a6e-4c14-a1ab-b3ed3d2bc06f",
   "metadata": {
    "tags": []
   },
   "outputs": [],
   "source": [
    "conn = sqlite3.connect(\"../recerca.db\")\n",
    "c = conn.cursor()\n",
    "\n",
    "# c.execute(\"DROP TABLE edges\")\n",
    "c.execute(\"\"\"CREATE TABLE IF NOT EXISTS edges (\n",
    "          id INTEGER PRIMARY KEY,\n",
    "          Source TEXT,\n",
    "          Target TEXT,\n",
    "          Weight INTEGER,\n",
    "          institution TEXT\n",
    "         )\"\"\")\n",
    "\n",
    "conn.commit()\n",
    "conn.close()"
   ]
  },
  {
   "cell_type": "markdown",
   "id": "fdb90d69-4b21-43d6-a573-450e784e0c61",
   "metadata": {},
   "source": [
    "## Test"
   ]
  },
  {
   "cell_type": "code",
   "execution_count": null,
   "id": "9c7c0bf2-c308-4ca7-9941-32e3db12c097",
   "metadata": {},
   "outputs": [],
   "source": [
    "conn = sqlite3.connect(\"../recerca.db\")\n",
    "c = conn.cursor()\n",
    "\n",
    "c.execute(\"DROP TABLE test\")\n",
    "c.execute(\"\"\"CREATE TABLE IF NOT EXISTS test (\n",
    "          id INTEGER PRIMARY KEY,\n",
    "          url TEXT,\n",
    "          url_stem TEXT,\n",
    "          date TEXT,\n",
    "          publisher TEXT,\n",
    "          title TEXT,\n",
    "          type TEXT,\n",
    "          author TEXT,\n",
    "          sourceid TEXT,\n",
    "          sourceref TEXT,\n",
    "          orcids TEXT,\n",
    "          citation TEXT,\n",
    "          issn TEXT,\n",
    "          published_in TEXT,\n",
    "          doi TEXT,\n",
    "          isbn TEXT,\n",
    "          uri TEXT,\n",
    "          status_code INTEGER,\n",
    "          status_description TEXT,\n",
    "          date_created TEXT,\n",
    "          current INTEGER,\n",
    "          url_scraped INTEGER\n",
    "         )\"\"\")\n",
    "\n",
    "conn.commit()\n",
    "conn.close()"
   ]
  },
  {
   "cell_type": "markdown",
   "id": "6f3c17f6-6308-42c0-84ae-e4e0d8744e3c",
   "metadata": {},
   "source": [
    "# Upload to SQLite"
   ]
  },
  {
   "cell_type": "markdown",
   "id": "52ce751a-8ffe-4010-82b1-22c3a7dc141c",
   "metadata": {},
   "source": [
    "## URLS"
   ]
  },
  {
   "cell_type": "markdown",
   "id": "2ded6f61-39ad-4ad1-8c4b-ff3a1fd8054c",
   "metadata": {
    "tags": []
   },
   "source": [
    "### Paper URLs"
   ]
  },
  {
   "cell_type": "code",
   "execution_count": null,
   "id": "2bc8ad30-d37f-4cc0-abd6-859e962ce0c8",
   "metadata": {
    "tags": []
   },
   "outputs": [],
   "source": [
    "item_list = ['author', 'paper', 'group', 'project']\n",
    "\n",
    "for item in item_list:\n",
    "    print(f\"Item: {item}\")\n",
    "    # Load data\n",
    "    print(\"Reading csv.\")\n",
    "    df = pd.read_csv(f'../data/20220314/{item}_links_20220314.csv')\n",
    "\n",
    "    # Rename columns\n",
    "    renamed_cols = {'0':'url_stem'}\n",
    "    df = df.rename(columns = renamed_cols)\n",
    "\n",
    "    # Remove leading backslash\n",
    "    df['url_stem'] = df['url_stem'].str[1:]\n",
    "\n",
    "    # Format data\n",
    "    df = df.sort_values(by='url_stem')\n",
    "    df = df.drop_duplicates(subset='url_stem')\n",
    "    df = df.reset_index(drop=True)\n",
    "#     df = df.reset_index(drop=True).reset_index()\n",
    "#     df = df.rename(columns={'index': 'id'})\n",
    "\n",
    "    # New columns\n",
    "    df['items']= item\n",
    "    df['date_created'] = '20220314'\n",
    "    df['url_scraped'] = 1\n",
    "    df['current'] = 1\n",
    "\n",
    "    print(\"Writing to sqlite.\")\n",
    "    # Upload to sqlite\n",
    "    conn = sqlite3.connect(\"../recerca.db\")\n",
    "    df.to_sql(name='urls', con = conn, if_exists='append', index=False)\n",
    "    conn.close()\n",
    "    print(\"Done.\")"
   ]
  },
  {
   "cell_type": "markdown",
   "id": "b3022fcc-9851-4277-a4c1-1679c8eaa2e8",
   "metadata": {
    "tags": []
   },
   "source": [
    "## Papers"
   ]
  },
  {
   "cell_type": "code",
   "execution_count": null,
   "id": "9e162ac4-4faa-4c6b-b44b-f300d80e3a2f",
   "metadata": {
    "tags": []
   },
   "outputs": [],
   "source": [
    "# Load data\n",
    "df = pd.read_csv('../data/20220314/paper_clean_20220314.csv')\n",
    "\n",
    "# Rename columns\n",
    "renamed_cols = {'url_id':'url_stem',\n",
    "                'status code':'status_code',\n",
    "                'status description':'status_description'}\n",
    "df = df.rename(columns = renamed_cols)\n",
    "\n",
    "# Format data\n",
    "df = df.sort_values(by='url_stem')\n",
    "df = df.drop_duplicates(subset='url_stem')\n",
    "df = df.reset_index(drop=True).reset_index()\n",
    "df = df.rename(columns={'index': 'id'})\n",
    "\n",
    "# New columns\n",
    "df['date_created'] = '20220314'\n",
    "df['current'] = 1"
   ]
  },
  {
   "cell_type": "code",
   "execution_count": null,
   "id": "6984cebb-51f4-4772-a888-ca0eee2784da",
   "metadata": {
    "tags": []
   },
   "outputs": [],
   "source": [
    "### Upload to sqlite\n",
    "conn = sqlite3.connect(\"../recerca.db\")\n",
    "df.to_sql(name='papers', con = conn, if_exists='append', index=False)\n",
    "conn.close()"
   ]
  },
  {
   "cell_type": "markdown",
   "id": "11920ee8-d881-430f-b497-3d2db0a1b02b",
   "metadata": {
    "tags": []
   },
   "source": [
    "## Authors"
   ]
  },
  {
   "cell_type": "code",
   "execution_count": null,
   "id": "76553426-62dd-474e-87b7-4c15f002c154",
   "metadata": {},
   "outputs": [],
   "source": [
    "# Load data\n",
    "df = pd.read_csv('../data/20220314/author_clean_20220314.csv')\n",
    "\n",
    "# Rename columns\n",
    "renamed_cols = {'status description':'status_description'}\n",
    "df = df.rename(columns = renamed_cols)\n",
    "\n",
    "# New columns\n",
    "df['date_created'] = '20220314'\n",
    "df['current'] = 1\n",
    "\n",
    "### Upload to sqlite\n",
    "\n",
    "conn = sqlite3.connect(\"../recerca.db\")\n",
    "df.to_sql(name='authors', con = conn, if_exists='append', index=False)\n",
    "conn.close()"
   ]
  },
  {
   "cell_type": "markdown",
   "id": "8e094a34-e4b0-42e5-8bc6-7e3c94f7d95e",
   "metadata": {
    "tags": []
   },
   "source": [
    "## Groups"
   ]
  },
  {
   "cell_type": "code",
   "execution_count": null,
   "id": "2f81beb9-574d-4b2d-86a7-9761e8598570",
   "metadata": {},
   "outputs": [],
   "source": [
    "# Load data\n",
    "df = pd.read_csv('../data/20220314/group_data_20220314.csv')\n",
    "\n",
    "rename_cols = {\n",
    "    'principal names' : 'principal_names',\n",
    "    'principal ids' : 'principal_ids',\n",
    "    'researcher names' : 'researcher_names',\n",
    "    'researcher ids' : 'researcher_ids',\n",
    "    'url_id':'url_stem'\n",
    "}\n",
    "df = df.rename(columns=rename_cols)\n",
    "\n",
    "df = df.sort_values(by='url_stem')\n",
    "df = df.drop_duplicates(subset='url_stem')\n",
    "df = df.reset_index(drop=True).reset_index()\n",
    "df = df.rename(columns={'index': 'id'})\n",
    "\n",
    "# New columns\n",
    "df['date_created'] = '20220314'\n",
    "df['current'] = 1\n",
    "\n",
    "### Upload to sqlite\n",
    "\n",
    "conn = sqlite3.connect(\"../recerca.db\")\n",
    "df.to_sql(name='groups', con = conn, if_exists='append', index=False)\n",
    "conn.close()"
   ]
  },
  {
   "cell_type": "markdown",
   "id": "d2f73416-3495-48b7-a21d-7cff89e34eff",
   "metadata": {
    "tags": []
   },
   "source": [
    "## Projects"
   ]
  },
  {
   "cell_type": "code",
   "execution_count": null,
   "id": "bfeb4222-abbb-4e5b-9149-3d68362570b5",
   "metadata": {},
   "outputs": [],
   "source": [
    "# Load data\n",
    "df = pd.read_csv('../data/20220314/project_data_20220314.csv')\n",
    "\n",
    "rename_cols = {\n",
    "    'official code' : 'official_code',\n",
    "    'start date' : 'start_date',\n",
    "    'end date' : 'end_date',\n",
    "    'principal names' : 'principal_names',\n",
    "    'principal ids' : 'principal_ids',\n",
    "    'researcher names' : 'researcher_names',\n",
    "    'researcher ids' : 'researcher_ids',\n",
    "    'url_id' : 'url_stem',\n",
    "}\n",
    "df = df.rename(columns=rename_cols)\n",
    "\n",
    "df = df.sort_values(by='url_stem')\n",
    "df = df.drop_duplicates(subset='url_stem')\n",
    "df = df.reset_index(drop=True).reset_index()\n",
    "df = df.rename(columns={'index': 'id'})\n",
    "\n",
    "# New columns\n",
    "df['date_created'] = '20220314'\n",
    "df['current'] = 1\n",
    "\n",
    "### Upload to sqlite\n",
    "\n",
    "conn = sqlite3.connect(\"../recerca.db\")\n",
    "df.to_sql(name='projects', con = conn, if_exists='append', index=False)\n",
    "conn.close()"
   ]
  },
  {
   "cell_type": "markdown",
   "id": "3ad9e626-b620-4a2e-a55d-5b645223c8b6",
   "metadata": {},
   "source": [
    "## Nodes"
   ]
  },
  {
   "cell_type": "code",
   "execution_count": null,
   "id": "07e36c22-3056-477d-a6f4-a002f6cb473e",
   "metadata": {
    "tags": []
   },
   "outputs": [],
   "source": [
    "institution_list = ['IGTP+', 'UB', 'UOC', 'UPC_CIMNE', 'UPF', 'UVic-UCC']\n",
    "\n",
    "for institution in institution_list:\n",
    "    print('Institution: ', institution)\n",
    "    df = pd.read_csv(f'../data/20220314/nodes_{institution}_20220314.csv')\n",
    "    \n",
    "    rename_cols = {'status description':'status_description'}\n",
    "    df = df.rename(columns=rename_cols)\n",
    "    df = df.drop_duplicates(subset='id')\n",
    "\n",
    "    # New columns\n",
    "    df['date_created'] = '20220314'\n",
    "    df['current'] = 1\n",
    "    df['institution_table'] = institution\n",
    "\n",
    "    ### Upload to sqlite\n",
    "\n",
    "    conn = sqlite3.connect(\"../recerca.db\")\n",
    "    df.to_sql(name='nodes', con = conn, if_exists='append', index=False)\n",
    "    conn.close()"
   ]
  },
  {
   "cell_type": "markdown",
   "id": "17839927-eebc-4a00-8bbb-903c0091b4bd",
   "metadata": {
    "tags": []
   },
   "source": [
    "## Edges"
   ]
  },
  {
   "cell_type": "code",
   "execution_count": null,
   "id": "e560bf3a-fa82-40b4-b7f5-c1e7c7c20b5c",
   "metadata": {
    "tags": []
   },
   "outputs": [],
   "source": [
    "# Load data\n",
    "institution_list = ['IGTP+', 'UB', 'UOC', 'UPC_CIMNE', 'UPF', 'UVic-UCC']\n",
    "for institution in institution_list:\n",
    "    print(f\"Institution: {institution}.\")\n",
    "    df = pd.read_csv(f'../data/20220314/edges_{institution}_20220314.csv')\n",
    "    df = df.loc[df['Weight']>0]\n",
    "    df = df.sort_values(by=['Source', 'Target'])\n",
    "    df = df.drop_duplicates(subset=['Source', 'Target'])\n",
    "    df = df.reset_index(drop=True)\n",
    "    df['institution'] = institution\n",
    "    # Upload to sqlite\n",
    "    conn = sqlite3.connect(\"../recerca.db\")\n",
    "    df.to_sql(name='edges', con = conn, if_exists='append', index=False)\n",
    "    conn.close()"
   ]
  },
  {
   "cell_type": "markdown",
   "id": "e8b2caf4-955c-4b4f-95ee-37e998182c48",
   "metadata": {},
   "source": [
    "# Test scripts"
   ]
  },
  {
   "cell_type": "markdown",
   "id": "8fd63b7e-c1cf-48d1-b500-786c0c9efad9",
   "metadata": {},
   "source": [
    "## Insert paper"
   ]
  },
  {
   "cell_type": "code",
   "execution_count": null,
   "id": "6876892d-b092-403b-b436-ee05e841bc8a",
   "metadata": {
    "tags": []
   },
   "outputs": [],
   "source": [
    "def insert_papers(papers, date):\n",
    "    for paper in papers:\n",
    "        paper['current'] = 1\n",
    "        paper['date_created'] = date\n",
    "\n",
    "    conn = sqlite3.connect('../recerca.db')\n",
    "    with conn:\n",
    "    #     c = conn.cursor()\n",
    "\n",
    "        # Set current = 0 for existing records\n",
    "        conn.executemany(\"\"\"UPDATE papers\n",
    "                        SET current = 0\n",
    "                        WHERE url_stem = :url_stem\"\"\", papers)\n",
    "\n",
    "        # Insert new record\n",
    "        conn.executemany(\"\"\"INSERT INTO papers VALUES (\n",
    "                        :id,\n",
    "                        :url,:url_stem,:date,:publisher,:title,:type,:author,\n",
    "                        :sourceid,:sourceref,:orcids,:citation,:issn,:published_in,\n",
    "                        :doi,:isbn,:uri,:status_code,:status_description,\n",
    "                        :date_created,:current) \n",
    "                        ON CONFLICT DO UPDATE SET current=1\n",
    "                        \"\"\", papers)\n",
    "\n",
    "    conn.close()"
   ]
  },
  {
   "cell_type": "code",
   "execution_count": null,
   "id": "5f66491a-3c0c-49f2-b4e2-80c936a0401c",
   "metadata": {
    "jupyter": {
     "outputs_hidden": true
    },
    "tags": []
   },
   "outputs": [],
   "source": [
    "conn = sqlite3.connect('../recerca.db')\n",
    "conn.row_factory = sqlite3.Row\n",
    "c = conn.cursor()\n",
    "\n",
    "# c.execute(\"SELECT url_stem FROM test WHERE EXISTS(SELECT 1 FROM test WHERE url_stem = ?) LIMIT 10\", \n",
    "#           (insert_result[0]['url_stem'],))\n",
    "# c.execute(\"SELECT 1 FROM test WHERE url_stem = ?\", (insert_result[0]['url_stem'],))\n",
    "# c.execute(\"SELECT * FROM papers WHERE date_created = 20220324\")\n",
    "# c.execute(\"SELECT * FROM papers WHERE current = 1\")\n",
    "c.execute(\"SELECT * FROM papers ORDER BY id DESC LIMIT 10\")\n",
    "# c.execute(\"SELECT COUNT(*) FROM papers\")\n",
    "\n",
    "# print(c.fetchall())\n",
    "result = c.fetchmany(6)\n",
    "for paper in result:\n",
    "    print(dict(paper))\n",
    "    \n",
    "conn.commit()\n",
    "conn.close()"
   ]
  },
  {
   "cell_type": "code",
   "execution_count": null,
   "id": "5703fe2f-1017-4a5c-b8f1-1cd8605cf478",
   "metadata": {},
   "outputs": [],
   "source": [
    "# for key in dict(result[0]).keys():\n",
    "#     print(key, dict(result[0])[key] == dict(result[3])[key])"
   ]
  },
  {
   "cell_type": "code",
   "execution_count": null,
   "id": "d6bf2267-ecc7-43e5-8959-c4becf29fe7f",
   "metadata": {},
   "outputs": [],
   "source": [
    "papers = []\n",
    "for paper in result:\n",
    "    papers.append(dict(paper))\n",
    "\n",
    "for paper in papers:\n",
    "    paper['id'] = None\n",
    "    paper['title'] = 'NEW NEW TITLE'"
   ]
  },
  {
   "cell_type": "code",
   "execution_count": null,
   "id": "d4bb70a7-31eb-44b3-8023-fc0943833674",
   "metadata": {
    "tags": []
   },
   "outputs": [],
   "source": [
    "insert_papers(papers, 'XXXXXXXX')"
   ]
  },
  {
   "cell_type": "markdown",
   "id": "650f9e61-3b65-481f-b615-1875834da8c3",
   "metadata": {},
   "source": [
    "### Fix: NULL values bypass UNIQUE constraint"
   ]
  },
  {
   "cell_type": "code",
   "execution_count": null,
   "id": "55ff6efd-4df3-4f53-8808-10f6125d80cb",
   "metadata": {
    "jupyter": {
     "outputs_hidden": true
    },
    "tags": []
   },
   "outputs": [],
   "source": [
    "conn = sqlite3.connect('../recerca.db')\n",
    "conn.row_factory = sqlite3.Row\n",
    "c = conn.cursor()\n",
    "\n",
    "sql = \"DROP TABLE deleteme\"\n",
    "sql = \"\"\"\n",
    "CREATE TABLE `deleteme` (\n",
    "    `Field1`    INTEGER,\n",
    "    `Field2`    INTEGER\n",
    ");\n",
    "\"\"\"\n",
    "# sql = \"\"\"\n",
    "# CREATE UNIQUE INDEX `ix` ON `deleteme` (\n",
    "#     `Field1`,\n",
    "#     `Field2`\n",
    "# );\n",
    "# \"\"\"\n",
    "\n",
    "sql = \"\"\"\n",
    "INSERT INTO `deleteme`(`Field1`,`Field2`) VALUES (1,NULL);\n",
    "\"\"\"\n",
    "# sql = \"SELECT * FROM deleteme\"\n",
    "\n",
    "# sql = \"\"\"\n",
    "# INSERT INTO `test`(`Field1`,`Field2`) VALUES (1,NULL); -- This shouldn't be allowed\n",
    "# \"\"\"\n",
    "\n",
    "# sql = \"\"\"\n",
    "# DROP INDEX IF EXISTS `ix2`\n",
    "# \"\"\"\n",
    "# sql = \"\"\"\n",
    "# CREATE UNIQUE INDEX `ix2` ON `deleteme` (\n",
    "#     `Field1`,\n",
    "#     ifnull(`Field2`, 0)  --use this instead\n",
    "# ); --will fail\n",
    "# \"\"\"\n",
    "\n",
    "c.execute(sql)\n",
    "\n",
    "# print(c.fetchall())\n",
    "\n",
    "# result = c.fetchmany(4)\n",
    "\n",
    "# for paper in result:\n",
    "#     print(dict(paper))\n",
    "    \n",
    "conn.commit()\n",
    "conn.close()"
   ]
  },
  {
   "cell_type": "code",
   "execution_count": null,
   "id": "8c10b4d6-c4ac-460b-94b1-f36c3d23ec76",
   "metadata": {},
   "outputs": [],
   "source": []
  },
  {
   "cell_type": "markdown",
   "id": "32b5e913-822a-4deb-a1f2-d22f4eb87b72",
   "metadata": {},
   "source": [
    "## Insert paper url"
   ]
  },
  {
   "cell_type": "code",
   "execution_count": null,
   "id": "3f8fe0ee-bb73-4c3d-9d5c-6876c9c0f284",
   "metadata": {
    "tags": []
   },
   "outputs": [],
   "source": [
    "def insert_urls(urls, date):\n",
    "    rows = []\n",
    "    for url in urls:\n",
    "        row = {}\n",
    "        row['url_stem'] = url\n",
    "        row['current'] = 1\n",
    "        row['url_scraped'] = 0\n",
    "        row['date_created'] = date\n",
    "        rows.append(row)\n",
    "\n",
    "    conn = sqlite3.connect('../recerca.db')\n",
    "    c = conn.cursor()\n",
    "    \n",
    "    c.executemany(\"\"\"INSERT INTO paper_urls_test (url_stem, current, url_scraped, date_created) \n",
    "              VALUES (:url_stem, :current, :url_scraped, :date_created)\n",
    "              ON CONFLICT DO UPDATE SET date_created = :date_created\n",
    "              \"\"\", rows)\n",
    "        \n",
    "    conn.commit()\n",
    "    conn.close()"
   ]
  },
  {
   "cell_type": "code",
   "execution_count": null,
   "id": "2bc9a763-3eb6-486e-9454-936688dffd4c",
   "metadata": {
    "tags": []
   },
   "outputs": [],
   "source": [
    "urls = ['url1', 'url2', 'url3']\n",
    "\n",
    "insert_urls(urls, 'XXXXXX')"
   ]
  },
  {
   "cell_type": "code",
   "execution_count": null,
   "id": "1f69e9dc-b9ec-4b1e-a2fc-feaa8e618e6b",
   "metadata": {
    "tags": []
   },
   "outputs": [],
   "source": [
    "conn = sqlite3.connect('../recerca.db')\n",
    "conn.row_factory = sqlite3.Row\n",
    "c = conn.cursor()\n",
    "\n",
    "# c.execute(\"SELECT url_stem FROM test WHERE EXISTS(SELECT 1 FROM test WHERE url_stem = ?) LIMIT 10\", \n",
    "#           (insert_result[0]['url_stem'],))\n",
    "# c.execute(\"SELECT 1 FROM test WHERE url_stem = ?\", (insert_result[0]['url_stem'],))\n",
    "# c.execute(\"SELECT * FROM urls ORDER BY id DESC LIMIT 10\")\n",
    "c.execute(\"SELECT * FROM urls WHERE items = 'group' ORDER BY id DESC LIMIT 10\")\n",
    "# c.execute(\"SELECT * FROM paper_urls_test WHERE date_created = 'XXXXXX'\")\n",
    "# c.execute(\"SELECT * FROM papers WHERE current = 1\")\n",
    "\n",
    "# print(c.fetchall())\n",
    "result = c.fetchmany(10)\n",
    "for paper in result:\n",
    "    print(dict(paper))\n",
    "    \n",
    "    \n",
    "conn.commit()\n",
    "conn.close()"
   ]
  },
  {
   "cell_type": "markdown",
   "id": "4b12868f-da51-4c27-ab56-7e2678078b22",
   "metadata": {},
   "source": [
    "## Set old urls to current = 0"
   ]
  },
  {
   "cell_type": "code",
   "execution_count": null,
   "id": "decb01e0-5e15-4369-891e-2e5bd6f4a9c6",
   "metadata": {},
   "outputs": [],
   "source": [
    "date_created = '20220324'\n",
    "\n",
    "conn = sqlite3.connect('../recerca.db')\n",
    "c = conn.cursor()\n",
    "\n",
    "c.execute(\"SELECT * FROM urls WHERE date_created != ?\", (date_created,))\n",
    "c.execute(\"UPDATE urls SET current = 0 WHERE date_created != ?\", (date_created,))\n",
    "print(c.fetchmany(3))\n",
    "\n",
    "\n",
    "conn.commit()\n",
    "conn.close()"
   ]
  },
  {
   "cell_type": "markdown",
   "id": "d872386d-ed48-4f6b-82d7-d0d46f42b508",
   "metadata": {},
   "source": [
    "## Insert author data"
   ]
  },
  {
   "cell_type": "code",
   "execution_count": null,
   "id": "2856f264-4c3d-458e-bcd8-dac7a97c33f4",
   "metadata": {
    "tags": []
   },
   "outputs": [],
   "source": [
    "def insert_authors(authors, date):\n",
    "    for author in authors:\n",
    "        author['current'] = 1\n",
    "        author['date_created'] = date\n",
    "\n",
    "    conn = sqlite3.connect('../recerca.db')\n",
    "    with conn:\n",
    "        # Set current = 0 for existing records\n",
    "        conn.executemany(\"\"\"UPDATE authors\n",
    "                        SET current = 0\n",
    "                        WHERE url = :url\"\"\", authors)\n",
    "\n",
    "        # Insert new record\n",
    "        conn.executemany(\"\"\"INSERT INTO authors VALUES (\n",
    "                            :id,:url,:label,:department,:institution,:institution_2,:projects,\n",
    "                            :groups,:status_description,:institution_group,\n",
    "                            :date_created,:current)\n",
    "                        ON CONFLICT DO UPDATE SET current=1\n",
    "                        \"\"\", authors)\n",
    "\n",
    "    conn.close()"
   ]
  },
  {
   "cell_type": "code",
   "execution_count": null,
   "id": "c2522000-ce0c-4127-92ae-f3e375f6fd9b",
   "metadata": {
    "tags": []
   },
   "outputs": [],
   "source": [
    "conn = sqlite3.connect('../recerca.db')\n",
    "conn.row_factory = sqlite3.Row\n",
    "c = conn.cursor()\n",
    "\n",
    "# c.execute(\"SELECT url_stem FROM test WHERE EXISTS(SELECT 1 FROM test WHERE url_stem = ?) LIMIT 10\", \n",
    "#           (insert_result[0]['url_stem'],))\n",
    "# c.execute(\"SELECT 1 FROM test WHERE url_stem = ?\", (insert_result[0]['url_stem'],))\n",
    "# c.execute(\"SELECT * FROM papers WHERE date_created = 20220324\")\n",
    "# c.execute(\"SELECT * FROM papers WHERE current = 1\")\n",
    "c.execute(\"SELECT * FROM authors ORDER BY id DESC LIMIT 10\")\n",
    "# c.execute(\"SELECT * FROM authors WHERE label = 'FERNANDO GROSZ'\")\n",
    "# c.execute(\"SELECT COUNT(*) FROM authors\")\n",
    "\n",
    "# print(c.fetchall())\n",
    "result = c.fetchmany(4)\n",
    "for author in result:\n",
    "    print(dict(author))\n",
    "    \n",
    "conn.commit()\n",
    "conn.close()"
   ]
  },
  {
   "cell_type": "code",
   "execution_count": null,
   "id": "5a438681-af1d-480b-9971-4fb3e41d1edb",
   "metadata": {},
   "outputs": [],
   "source": [
    "authors = []\n",
    "for author in result:\n",
    "    authors.append(dict(author))\n",
    "\n",
    "for author in authors:\n",
    "#     author['id'] = None\n",
    "    author['label'] = 'FERNANDO GROSZ'"
   ]
  },
  {
   "cell_type": "code",
   "execution_count": null,
   "id": "569ead21-08da-4aba-a945-9d9f740eba47",
   "metadata": {},
   "outputs": [],
   "source": [
    "authors"
   ]
  },
  {
   "cell_type": "code",
   "execution_count": null,
   "id": "6dc0b48c-809e-4796-88f2-9d9fa2034d0e",
   "metadata": {
    "tags": []
   },
   "outputs": [],
   "source": [
    "insert_authors(authors, 'XXXXXXXX')"
   ]
  },
  {
   "cell_type": "markdown",
   "id": "30cef794-3bcb-480b-8e88-bc5d0c7cfda8",
   "metadata": {},
   "source": [
    "## Insert group data"
   ]
  },
  {
   "cell_type": "code",
   "execution_count": null,
   "id": "86112620-19e5-4105-8e48-5d5d64f5f5a4",
   "metadata": {
    "tags": []
   },
   "outputs": [],
   "source": [
    "def insert_groups(groups, date):\n",
    "    for group in groups:\n",
    "        group['current'] = 1\n",
    "        group['date_created'] = date\n",
    "\n",
    "    conn = sqlite3.connect('../recerca.db')\n",
    "    with conn:\n",
    "        # Set current = 0 for existing records\n",
    "        conn.executemany(\"\"\"UPDATE groups\n",
    "                        SET current = 0\n",
    "                        WHERE url = :url\"\"\", groups)\n",
    "\n",
    "        # Insert new record\n",
    "        conn.executemany(\"\"\"INSERT INTO groups VALUES (\n",
    "                            :id,:name,:acronym,:institution,:group_url,:sgr_code,\n",
    "                            :principal_names,:principal_ids,:researcher_names,:researcher_ids,\n",
    "                            :url,:url_stem,\n",
    "                            :date_created,:current)\n",
    "                        ON CONFLICT DO UPDATE SET current=1\n",
    "                        \"\"\", groups)\n",
    "\n",
    "    conn.close()"
   ]
  },
  {
   "cell_type": "code",
   "execution_count": null,
   "id": "60dfa2f6-70d5-4046-81f7-ff67ba942df4",
   "metadata": {
    "tags": []
   },
   "outputs": [],
   "source": [
    "conn = sqlite3.connect('../recerca.db')\n",
    "conn.row_factory = sqlite3.Row\n",
    "c = conn.cursor()\n",
    "\n",
    "# c.execute(\"SELECT url_stem FROM test WHERE EXISTS(SELECT 1 FROM test WHERE url_stem = ?) LIMIT 10\", \n",
    "#           (insert_result[0]['url_stem'],))\n",
    "# c.execute(\"SELECT 1 FROM test WHERE url_stem = ?\", (insert_result[0]['url_stem'],))\n",
    "# c.execute(\"SELECT * FROM papers WHERE date_created = 20220324\")\n",
    "# c.execute(\"SELECT * FROM papers WHERE current = 1\")\n",
    "c.execute(\"SELECT * FROM groups ORDER BY id DESC LIMIT 10\")\n",
    "# c.execute(\"SELECT * FROM authors WHERE label = 'FERNANDO GROSZ'\")\n",
    "# c.execute(\"SELECT COUNT(*) FROM groups\")\n",
    "\n",
    "# print(c.fetchall())\n",
    "result = c.fetchmany(4)\n",
    "for group in result:\n",
    "    print(dict(group))\n",
    "    \n",
    "conn.commit()\n",
    "conn.close()"
   ]
  },
  {
   "cell_type": "code",
   "execution_count": null,
   "id": "7f317d75-0859-4f73-9883-668b51340205",
   "metadata": {},
   "outputs": [],
   "source": [
    "groups = []\n",
    "for group in result:\n",
    "    groups.append(dict(group))\n",
    "\n",
    "for group in groups:\n",
    "    group['id'] = None\n",
    "    group['name'] = 'FERNANDO GROSZ'"
   ]
  },
  {
   "cell_type": "code",
   "execution_count": null,
   "id": "e56f6a09-dcb6-485e-baf2-8c6d92bfd3db",
   "metadata": {},
   "outputs": [],
   "source": [
    "groups"
   ]
  },
  {
   "cell_type": "code",
   "execution_count": null,
   "id": "42b802ac-72d3-40a2-b09f-2b068aa96de9",
   "metadata": {
    "tags": []
   },
   "outputs": [],
   "source": [
    "insert_groups(groups, 'XXXXXXXX')"
   ]
  },
  {
   "cell_type": "markdown",
   "id": "c9b2d1dd-5fbc-4aa9-91a7-87c45a570c5d",
   "metadata": {},
   "source": [
    "## Insert project data"
   ]
  },
  {
   "cell_type": "code",
   "execution_count": null,
   "id": "9ead24c3-1b6b-40e3-80e1-180ef87c70e8",
   "metadata": {
    "tags": []
   },
   "outputs": [],
   "source": [
    "def insert_projects(projects, date):\n",
    "    for project in projects:\n",
    "        project['current'] = 1\n",
    "        project['date_created'] = date\n",
    "\n",
    "    conn = sqlite3.connect('../recerca.db')\n",
    "    with conn:\n",
    "        # Set current = 0 for existing records\n",
    "        conn.executemany(\"\"\"UPDATE projects\n",
    "                        SET current = 0\n",
    "                        WHERE url_stem = :url_stem\"\"\", projects)\n",
    "\n",
    "        conn.executemany(\"\"\"INSERT INTO projects VALUES (\n",
    "                            :id,:title,:official_code,:start_date,:end_date,:institution,\n",
    "                            :principal_names,:principal_ids,:researcher_names,:researcher_ids,\n",
    "                            :url,:url_stem,\n",
    "                            :date_created,:current)\n",
    "                        ON CONFLICT DO UPDATE SET current=1\n",
    "                        \"\"\", projects)\n",
    "\n",
    "    conn.close()"
   ]
  },
  {
   "cell_type": "code",
   "execution_count": null,
   "id": "52c5608f-e6d5-420e-b88f-b586f0eed36b",
   "metadata": {
    "tags": []
   },
   "outputs": [],
   "source": [
    "conn = sqlite3.connect('../recerca.db')\n",
    "conn.row_factory = sqlite3.Row\n",
    "c = conn.cursor()\n",
    "\n",
    "# c.execute(\"SELECT url_stem FROM test WHERE EXISTS(SELECT 1 FROM test WHERE url_stem = ?) LIMIT 10\", \n",
    "#           (insert_result[0]['url_stem'],))\n",
    "# c.execute(\"SELECT 1 FROM test WHERE url_stem = ?\", (insert_result[0]['url_stem'],))\n",
    "# c.execute(\"SELECT * FROM papers WHERE date_created = 20220324\")\n",
    "# c.execute(\"SELECT * FROM papers WHERE current = 1\")\n",
    "# c.execute(\"SELECT * FROM projects ORDER BY id DESC LIMIT 10\")\n",
    "c.execute(\"SELECT * FROM projects WHERE url_stem = 'cris/project/pj3465604'\")\n",
    "# c.execute(\"SELECT COUNT(*) FROM projects\")\n",
    "\n",
    "# print(c.fetchall())\n",
    "result = c.fetchmany(10)\n",
    "for group in result:\n",
    "    print(dict(group))\n",
    "    \n",
    "conn.commit()\n",
    "conn.close()"
   ]
  },
  {
   "cell_type": "code",
   "execution_count": null,
   "id": "9d642065-c68d-48e7-aea7-cb941dffb937",
   "metadata": {},
   "outputs": [],
   "source": [
    "projects = []\n",
    "for project in result:\n",
    "    projects.append(dict(project))\n",
    "\n",
    "for project in projects:\n",
    "    project['id'] = None\n",
    "    project['title'] = 'REPLACE'"
   ]
  },
  {
   "cell_type": "code",
   "execution_count": null,
   "id": "6597a5ba-1530-450d-b363-423f621c71f0",
   "metadata": {},
   "outputs": [],
   "source": [
    "projects"
   ]
  },
  {
   "cell_type": "code",
   "execution_count": null,
   "id": "d52d8b11-f60d-4134-b4a8-7e1f88375912",
   "metadata": {
    "tags": []
   },
   "outputs": [],
   "source": [
    "insert_projects(projects, 'XXXXXXXX')"
   ]
  },
  {
   "cell_type": "markdown",
   "id": "be0116ee-597d-496f-b797-8568db25bfc9",
   "metadata": {},
   "source": [
    "## Insert nodes"
   ]
  },
  {
   "cell_type": "code",
   "execution_count": null,
   "id": "f43acb48-fe64-4fa2-ba98-d1adf8b2cae6",
   "metadata": {
    "jupyter": {
     "outputs_hidden": true
    },
    "tags": []
   },
   "outputs": [],
   "source": [
    "conn = sqlite3.connect('../recerca.db')\n",
    "conn.row_factory = sqlite3.Row\n",
    "with conn:\n",
    "    for row in conn.execute(\"SELECT * FROM nodes LIMIT 10\"):\n",
    "        print(dict(row))\n",
    "conn.close()"
   ]
  },
  {
   "cell_type": "code",
   "execution_count": null,
   "id": "60cc5866-d790-4a10-b591-1154bc3fc02a",
   "metadata": {},
   "outputs": [],
   "source": [
    "df.head(2).to_dict('records')"
   ]
  },
  {
   "cell_type": "code",
   "execution_count": null,
   "id": "37d48956-89d9-4d14-867e-05b04718d29d",
   "metadata": {
    "tags": []
   },
   "outputs": [],
   "source": [
    "def insert_nodes(nodes, date):\n",
    "    for node in nodes:\n",
    "        node['current'] = 1\n",
    "        node['date_created'] = date\n",
    "\n",
    "    conn = sqlite3.connect('../recerca.db')\n",
    "    with conn:\n",
    "        # Set current = 0 for existing records\n",
    "        conn.executemany(\"\"\"UPDATE nodes\n",
    "                        SET current = 0\n",
    "                        WHERE url = :url\"\"\", nodes)\n",
    "\n",
    "        conn.executemany(\"\"\"INSERT INTO nodes VALUES (\n",
    "                            :id,:label,:url,:department,:institution,:institution_2,\n",
    "                            :projects,:groups,:status_description,:institution_group,:institution_table,\n",
    "                            :n_affiliations,:single_affiliation,:n_projects,:n_groups,\n",
    "                            :date_created,:current)\n",
    "                        ON CONFLICT DO UPDATE SET current=1\n",
    "                        \"\"\", nodes)\n",
    "\n",
    "    conn.close()"
   ]
  },
  {
   "cell_type": "code",
   "execution_count": null,
   "id": "d55356e5-91ac-44b3-b4be-89c15e6459ba",
   "metadata": {
    "tags": []
   },
   "outputs": [],
   "source": [
    "conn = sqlite3.connect('../recerca.db')\n",
    "conn.row_factory = sqlite3.Row\n",
    "c = conn.cursor()\n",
    "\n",
    "# c.execute(\"SELECT url_stem FROM test WHERE EXISTS(SELECT 1 FROM test WHERE url_stem = ?) LIMIT 10\", \n",
    "#           (insert_result[0]['url_stem'],))\n",
    "# c.execute(\"SELECT 1 FROM test WHERE url_stem = ?\", (insert_result[0]['url_stem'],))\n",
    "# c.execute(\"SELECT * FROM papers WHERE date_created = 20220324\")\n",
    "# c.execute(\"SELECT * FROM papers WHERE current = 1\")\n",
    "# c.execute(\"SELECT * FROM nodes WHERE url_stem = 'cris/project/pj3465604'\")\n",
    "c.execute(\"SELECT * FROM nodes ORDER BY id DESC LIMIT 10\")\n",
    "# c.execute(\"SELECT COUNT(*) FROM nodes\")\n",
    "\n",
    "# print(c.fetchall())\n",
    "result = c.fetchmany(4)\n",
    "for group in result:\n",
    "    print(dict(group))\n",
    "    \n",
    "conn.commit()\n",
    "conn.close()"
   ]
  },
  {
   "cell_type": "code",
   "execution_count": null,
   "id": "bb0f3500-8013-40a2-b472-97f72ccf7da1",
   "metadata": {},
   "outputs": [],
   "source": [
    "nodes = []\n",
    "for node in result:\n",
    "    nodes.append(dict(node))\n",
    "\n",
    "for node in nodes:\n",
    "#     node['id'] = None\n",
    "    node['label'] = 'FERNANDO GROSZ'"
   ]
  },
  {
   "cell_type": "code",
   "execution_count": null,
   "id": "0160cc07-b816-4159-95c0-fc9d2c2a28b1",
   "metadata": {
    "tags": []
   },
   "outputs": [],
   "source": [
    "insert_nodes(nodes, 'XXXXXXXX')"
   ]
  },
  {
   "cell_type": "code",
   "execution_count": null,
   "id": "d099269f-507b-458e-bb8e-856195e5bb06",
   "metadata": {},
   "outputs": [],
   "source": []
  }
 ],
 "metadata": {
  "kernelspec": {
   "display_name": "Python 3 (ipykernel)",
   "language": "python",
   "name": "python3"
  },
  "language_info": {
   "codemirror_mode": {
    "name": "ipython",
    "version": 3
   },
   "file_extension": ".py",
   "mimetype": "text/x-python",
   "name": "python",
   "nbconvert_exporter": "python",
   "pygments_lexer": "ipython3",
   "version": "3.10.11"
  }
 },
 "nbformat": 4,
 "nbformat_minor": 5
}
