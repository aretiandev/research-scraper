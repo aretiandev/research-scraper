{
 "cells": [
  {
   "cell_type": "markdown",
   "id": "78655094-6c2e-42be-a922-691d23f6860e",
   "metadata": {},
   "source": [
    "# SQLite databases\n",
    "\n",
    "This script migrates scraped data from csv to sqlite databases."
   ]
  },
  {
   "cell_type": "markdown",
   "id": "092b0f72-198a-4812-9d09-8cf539f2a178",
   "metadata": {},
   "source": [
    "# Load modules"
   ]
  },
  {
   "cell_type": "code",
   "execution_count": null,
   "id": "31b9d772-10af-4218-96ec-c69b1b867c4c",
   "metadata": {},
   "outputs": [],
   "source": [
    "import pandas as pd\n",
    "import sqlite3"
   ]
  },
  {
   "cell_type": "markdown",
   "id": "135e5764-3c84-492b-84ae-f3e43d255121",
   "metadata": {},
   "source": [
    "# Create tables"
   ]
  },
  {
   "cell_type": "markdown",
   "id": "fa97bba2-537a-4527-b48d-f45c6f484cd9",
   "metadata": {},
   "source": [
    "## Papers"
   ]
  },
  {
   "cell_type": "code",
   "execution_count": null,
   "id": "0e06cb17-9818-4f19-8372-6bb897a2764c",
   "metadata": {},
   "outputs": [],
   "source": [
    "conn = sqlite3.connect(\"reserca.db\")\n",
    "c = conn.cursor()\n",
    "\n",
    "# c.execute(\"DROP TABLE papers\")\n",
    "c.execute(\"\"\"CREATE TABLE IF NOT EXISTS papers (\n",
    "          id INTEGER PRIMARY KEY,\n",
    "          url TEXT,\n",
    "          url_stem TEXT UNIQUE,\n",
    "          date TEXT,\n",
    "          publisher TEXT,\n",
    "          title TEXT,\n",
    "          type TEXT,\n",
    "          author TEXT,\n",
    "          sourceid TEXT,\n",
    "          sourceref TEXT,\n",
    "          orcids TEXT,\n",
    "          citation TEXT,\n",
    "          issn TEXT,\n",
    "          published_in TEXT,\n",
    "          doi TEXT,\n",
    "          isbn TEXT,\n",
    "          uri TEXT,\n",
    "          status_code INTEGER,\n",
    "          status_description TEXT\n",
    "         )\"\"\")\n",
    "\n",
    "conn.commit()\n",
    "conn.close()"
   ]
  },
  {
   "cell_type": "markdown",
   "id": "077df76d-f322-4f42-ba14-d9a3b4a17621",
   "metadata": {},
   "source": [
    "## Authors"
   ]
  },
  {
   "cell_type": "code",
   "execution_count": null,
   "id": "f47e8f7a-cb44-4253-930f-5ac4ea7c8111",
   "metadata": {},
   "outputs": [],
   "source": [
    "conn = sqlite3.connect(\"reserca.db\")\n",
    "c = conn.cursor()\n",
    "\n",
    "# c.execute(\"DROP TABLE authors\")\n",
    "c.execute(\"\"\"CREATE TABLE authors (\n",
    "            id TEXT PRIMARY KEY,\n",
    "            label TEXT,\n",
    "            department TEXT,\n",
    "            institution TEXT,\n",
    "            institution_2 TEXT,\n",
    "            projects TEXT,\n",
    "            groups TEXT,\n",
    "            url TEXT,\n",
    "            status_description TEXT,\n",
    "            institution_group TEXT\n",
    "        )\"\"\")\n",
    "\n",
    "conn.commit()\n",
    "conn.close()"
   ]
  },
  {
   "cell_type": "markdown",
   "id": "596830c2-4076-41a7-8174-d467502d1096",
   "metadata": {},
   "source": [
    "## Groups"
   ]
  },
  {
   "cell_type": "code",
   "execution_count": null,
   "id": "cbe93210-1bc1-4442-a8e8-2223de1c993c",
   "metadata": {},
   "outputs": [],
   "source": [
    "conn = sqlite3.connect(\"reserca.db\")\n",
    "c = conn.cursor()\n",
    "\n",
    "c.execute(\"\"\"CREATE TABLE IF NOT EXISTS groups (\n",
    "          id INTEGER PRIMARY KEY,\n",
    "          name TEXT,\n",
    "          institution TEXT,\n",
    "          group_url TEXT,\n",
    "          sgr_code TEXT,\n",
    "          principal_names TEXT,\n",
    "          principal_ids TEXT,\n",
    "          researcher_names TEXT,\n",
    "          researcher_uds TEXT,\n",
    "          url TEXT,\n",
    "          url_stem TEXT\n",
    "         )\"\"\")\n",
    "\n",
    "conn.commit()\n",
    "conn.close()"
   ]
  },
  {
   "cell_type": "markdown",
   "id": "085d8d12-2627-44ed-b5c6-b181262acfa9",
   "metadata": {},
   "source": [
    "## Projects"
   ]
  },
  {
   "cell_type": "code",
   "execution_count": null,
   "id": "bca35990-f68a-4726-bdd7-bc8dd6a00e10",
   "metadata": {},
   "outputs": [],
   "source": [
    "conn = sqlite3.connect(\"reserca.db\")\n",
    "c = conn.cursor()\n",
    "\n",
    "# c.execute(\"DROP TABLE projects\")\n",
    "c.execute(\"\"\"CREATE TABLE IF NOT EXISTS projects (\n",
    "          id INTEGER PRIMARY KEY,\n",
    "          title TEXT,\n",
    "          official_code TEXT,\n",
    "          url TEXT,\n",
    "          start_date TEXT,\n",
    "          end_date TEXT,\n",
    "          institution TEXT,\n",
    "          principal_names TEXT,\n",
    "          principal_ids TEXT,\n",
    "          researcher_names TEXT,\n",
    "          researcher_ids TEXT,\n",
    "          url_stem TEXT\n",
    "         )\"\"\")\n",
    "\n",
    "conn.commit()\n",
    "conn.close()"
   ]
  },
  {
   "cell_type": "markdown",
   "id": "b3022fcc-9851-4277-a4c1-1679c8eaa2e8",
   "metadata": {
    "tags": []
   },
   "source": [
    "# Papers"
   ]
  },
  {
   "cell_type": "markdown",
   "id": "b00df492-cb1a-4463-8b9d-3e8f395de03b",
   "metadata": {
    "tags": []
   },
   "source": [
    "## Process csv"
   ]
  },
  {
   "cell_type": "code",
   "execution_count": null,
   "id": "a6829f66-4be9-4cb1-a5ae-e16bdcafc4dc",
   "metadata": {},
   "outputs": [],
   "source": [
    "# Load data\n",
    "df = pd.read_csv('../data/20220314/paper_clean_20220314.csv')\n",
    "\n",
    "# Rename columns\n",
    "renamed_cols = {'url_id':'url_stem',\n",
    "                'status code':'status_code',\n",
    "                'status description':'status_description'}\n",
    "df = df.rename(columns = renamed_cols)\n",
    "\n",
    "# Format data\n",
    "df = df.sort_values(by='url_stem')\n",
    "df = df.drop_duplicates(subset='url_stem')\n",
    "df = df.reset_index(drop=True).reset_index()\n",
    "df = df.rename(columns={'index': 'id'})"
   ]
  },
  {
   "cell_type": "markdown",
   "id": "30604166-0f18-43d4-adc3-38036b7a56ce",
   "metadata": {},
   "source": [
    "## Upload to sqlite"
   ]
  },
  {
   "cell_type": "code",
   "execution_count": null,
   "id": "af431bd1-7e59-48b1-b87a-bf2f6111126f",
   "metadata": {
    "tags": []
   },
   "outputs": [],
   "source": [
    "conn = sqlite3.connect(\"reserca.db\")\n",
    "df.to_sql(name='papers', con = conn, if_exists='append', index=False)\n",
    "conn.close()"
   ]
  },
  {
   "cell_type": "markdown",
   "id": "975da218-38ae-42bb-a7eb-f6234623c88f",
   "metadata": {},
   "source": [
    "## Read data"
   ]
  },
  {
   "cell_type": "code",
   "execution_count": null,
   "id": "b221d760-13b4-46dc-be6a-591e5bdb274a",
   "metadata": {},
   "outputs": [],
   "source": [
    "# Connection\n",
    "conn = sqlite3.connect(\"reserca.db\")\n",
    "conn.row_factory = sqlite3.Row\n",
    "\n",
    "# Query\n",
    "c = conn.cursor()\n",
    "sql = \"SELECT * FROM sqlite_master WHERE type='table'\"\n",
    "sql = \"pragma table_info('papers')\"\n",
    "sql = \"SELECT COUNT(*) FROM papers\"\n",
    "sql = \"SELECT * FROM papers\"\n",
    "c.execute(sql)\n",
    "\n",
    "# Print\n",
    "result = c.fetchone()\n",
    "print(dict(result))\n",
    "\n",
    "conn.close()"
   ]
  },
  {
   "cell_type": "markdown",
   "id": "11920ee8-d881-430f-b497-3d2db0a1b02b",
   "metadata": {
    "tags": []
   },
   "source": [
    "# Authors"
   ]
  },
  {
   "cell_type": "markdown",
   "id": "12f23ca0-8660-48b1-a4c4-6dbb77f03fae",
   "metadata": {
    "tags": []
   },
   "source": [
    "## Process csv"
   ]
  },
  {
   "cell_type": "code",
   "execution_count": null,
   "id": "8cd194ed-dd90-4a44-9bd8-f70bd05bbe93",
   "metadata": {},
   "outputs": [],
   "source": [
    "# Load data\n",
    "df = pd.read_csv('../data/20220314/author_clean_20220314.csv')\n",
    "\n",
    "# Rename columns\n",
    "renamed_cols = {'status description':'status_description'}\n",
    "df = df.rename(columns = renamed_cols)"
   ]
  },
  {
   "cell_type": "markdown",
   "id": "d480d96a-57f9-4448-a5a9-3b793538b6cf",
   "metadata": {},
   "source": [
    "## Upload to sqlite"
   ]
  },
  {
   "cell_type": "code",
   "execution_count": null,
   "id": "58b7d50b-6f9b-4595-be56-2d1bd7ea5175",
   "metadata": {},
   "outputs": [],
   "source": [
    "df.head(1)"
   ]
  },
  {
   "cell_type": "code",
   "execution_count": null,
   "id": "83a942db-c0ba-44e8-82a8-decc48c00a7f",
   "metadata": {
    "tags": []
   },
   "outputs": [],
   "source": [
    "conn = sqlite3.connect(\"reserca.db\")\n",
    "df.to_sql(name='authors', con = conn, if_exists='append', index=False)\n",
    "conn.close()"
   ]
  },
  {
   "cell_type": "markdown",
   "id": "5783f115-d1b3-4e98-88e4-7b9e838a8c31",
   "metadata": {},
   "source": [
    "## Read data"
   ]
  },
  {
   "cell_type": "code",
   "execution_count": null,
   "id": "1cdfa4a0-cad3-480d-84ae-d819d694c2fc",
   "metadata": {},
   "outputs": [],
   "source": [
    "# Connection\n",
    "conn = sqlite3.connect(\"reserca.db\")\n",
    "conn.row_factory = sqlite3.Row\n",
    "\n",
    "# Query\n",
    "c = conn.cursor()\n",
    "# sql = \"SELECT * FROM sqlite_master WHERE type='table'\"\n",
    "# sql = \"SELECT name FROM sqlite_master WHERE type='table'\"\n",
    "# sql = \"pragma table_info('papers')\"\n",
    "sql = \"SELECT COUNT(*) FROM authors\"\n",
    "# sql = \"SELECT * FROM authors\"\n",
    "c.execute(sql)\n",
    "\n",
    "# Print\n",
    "result = c.fetchone()\n",
    "print(dict(result))\n",
    "\n",
    "conn.commit()\n",
    "conn.close()"
   ]
  },
  {
   "cell_type": "markdown",
   "id": "8e094a34-e4b0-42e5-8bc6-7e3c94f7d95e",
   "metadata": {
    "tags": []
   },
   "source": [
    "# Groups"
   ]
  },
  {
   "cell_type": "markdown",
   "id": "94ea8857-8a87-4cc0-8def-c8d4d4528369",
   "metadata": {
    "tags": []
   },
   "source": [
    "## Process csv"
   ]
  },
  {
   "cell_type": "code",
   "execution_count": null,
   "id": "8f502fc4-0bf5-457f-95da-b74b04e70833",
   "metadata": {},
   "outputs": [],
   "source": [
    "# Load data\n",
    "df = pd.read_csv('../data/20220314/group_data_20220314.csv')\n",
    "\n",
    "rename_cols = {\n",
    "    'principal names' : 'principal_names',\n",
    "    'principal ids' : 'principal_ids',\n",
    "    'researcher names' : 'researcher_names',\n",
    "    'researcher ids' : 'researcher_ids',\n",
    "    'url_id':'url_stem'\n",
    "}\n",
    "df = df.rename(columns=rename_cols)\n",
    "\n",
    "df = df.sort_values(by='url_stem')\n",
    "df = df.drop_duplicates(subset='url_stem')\n",
    "df = df.reset_index(drop=True).reset_index()\n",
    "df = df.rename(columns={'index': 'id'})"
   ]
  },
  {
   "cell_type": "markdown",
   "id": "bf7587dc-92fc-42d8-bbf6-409bbd09f762",
   "metadata": {},
   "source": [
    "## Upload to sqlite"
   ]
  },
  {
   "cell_type": "code",
   "execution_count": null,
   "id": "73110e1a-56c4-4176-bdbd-4bb24e63b199",
   "metadata": {
    "tags": []
   },
   "outputs": [],
   "source": [
    "conn = sqlite3.connect(\"reserca.db\")\n",
    "df.to_sql(name='groups', con = conn, if_exists='append', index=False)\n",
    "conn.close()"
   ]
  },
  {
   "cell_type": "markdown",
   "id": "5f783eb6-c961-431c-84f8-79096cae272d",
   "metadata": {},
   "source": [
    "## Read data"
   ]
  },
  {
   "cell_type": "code",
   "execution_count": null,
   "id": "0f921868-a026-46a0-abc0-0f8082490aec",
   "metadata": {},
   "outputs": [],
   "source": [
    "# Connection\n",
    "conn = sqlite3.connect(\"reserca.db\")\n",
    "conn.row_factory = sqlite3.Row\n",
    "\n",
    "# Query\n",
    "c = conn.cursor()\n",
    "# sql = \"SELECT * FROM sqlite_master WHERE type='table'\"\n",
    "# sql = \"SELECT name FROM sqlite_master WHERE type='table'\"\n",
    "# sql = \"pragma table_info('papers')\"\n",
    "# sql = \"SELECT COUNT(*) FROM groups\"\n",
    "sql = \"SELECT * FROM groups\"\n",
    "c.execute(sql)\n",
    "\n",
    "# Print\n",
    "result = c.fetchone()\n",
    "print(dict(result))\n",
    "\n",
    "conn.commit()\n",
    "conn.close()"
   ]
  },
  {
   "cell_type": "markdown",
   "id": "d2f73416-3495-48b7-a21d-7cff89e34eff",
   "metadata": {
    "tags": []
   },
   "source": [
    "# Projects"
   ]
  },
  {
   "cell_type": "markdown",
   "id": "fb60f66c-e59a-43cb-b4f9-c6210d6f011c",
   "metadata": {
    "tags": []
   },
   "source": [
    "## Process csv"
   ]
  },
  {
   "cell_type": "code",
   "execution_count": null,
   "id": "ad580831-8fbc-410b-a52a-0022ffc06f0a",
   "metadata": {},
   "outputs": [],
   "source": [
    "# Load data\n",
    "df = pd.read_csv('../data/20220314/project_data_20220314.csv')\n",
    "\n",
    "rename_cols = {\n",
    "    'official code' : 'official_code',\n",
    "    'start date' : 'start_date',\n",
    "    'end date' : 'end_date',\n",
    "    'principal names' : 'principal_names',\n",
    "    'principal ids' : 'principal_ids',\n",
    "    'researcher names' : 'researcher_names',\n",
    "    'researcher ids' : 'researcher_ids',\n",
    "    'url_id' : 'url_stem',\n",
    "}\n",
    "df = df.rename(columns=rename_cols)\n",
    "\n",
    "df = df.sort_values(by='url_stem')\n",
    "df = df.drop_duplicates(subset='url_stem')\n",
    "df = df.reset_index(drop=True).reset_index()\n",
    "df = df.rename(columns={'index': 'id'})"
   ]
  },
  {
   "cell_type": "markdown",
   "id": "a8dd192c-b377-4f43-8e59-650a59081683",
   "metadata": {},
   "source": [
    "## Upload to sqlite"
   ]
  },
  {
   "cell_type": "code",
   "execution_count": null,
   "id": "5e0b7c90-ca31-44f3-976a-b07d2520c8bd",
   "metadata": {
    "tags": []
   },
   "outputs": [],
   "source": [
    "conn = sqlite3.connect(\"reserca.db\")\n",
    "df.to_sql(name='projects', con = conn, if_exists='append', index=False)\n",
    "conn.close()"
   ]
  },
  {
   "cell_type": "markdown",
   "id": "9dd72e37-d76a-4908-bc6c-0e634237fcee",
   "metadata": {},
   "source": [
    "## Read data"
   ]
  },
  {
   "cell_type": "code",
   "execution_count": null,
   "id": "444fe84f-11d1-49ce-b469-d27e584e7eaf",
   "metadata": {},
   "outputs": [],
   "source": [
    "# Connection\n",
    "conn = sqlite3.connect(\"reserca.db\")\n",
    "conn.row_factory = sqlite3.Row\n",
    "\n",
    "# Query\n",
    "c = conn.cursor()\n",
    "# sql = \"SELECT * FROM sqlite_master WHERE type='table'\"\n",
    "# sql = \"SELECT name FROM sqlite_master WHERE type='table'\"\n",
    "# sql = \"pragma table_info('papers')\"\n",
    "# sql = \"SELECT COUNT(*) FROM groups\"\n",
    "sql = \"SELECT * FROM projects\"\n",
    "c.execute(sql)\n",
    "\n",
    "# Print\n",
    "result = c.fetchone()\n",
    "print(dict(result))\n",
    "\n",
    "conn.commit()\n",
    "conn.close()"
   ]
  },
  {
   "cell_type": "markdown",
   "id": "df81502e-2225-41a0-9224-4c8edcc98ef8",
   "metadata": {},
   "source": [
    "# Extra code"
   ]
  },
  {
   "cell_type": "code",
   "execution_count": null,
   "id": "c5432cf7-203d-4742-9bc1-fafbb794d571",
   "metadata": {},
   "outputs": [],
   "source": []
  }
 ],
 "metadata": {
  "kernelspec": {
   "display_name": "Python 3 (ipykernel)",
   "language": "python",
   "name": "python3"
  },
  "language_info": {
   "codemirror_mode": {
    "name": "ipython",
    "version": 3
   },
   "file_extension": ".py",
   "mimetype": "text/x-python",
   "name": "python",
   "nbconvert_exporter": "python",
   "pygments_lexer": "ipython3",
   "version": "3.9.6"
  }
 },
 "nbformat": 4,
 "nbformat_minor": 5
}
