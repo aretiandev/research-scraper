{
 "cells": [
  {
   "cell_type": "markdown",
   "id": "1192397d-ef84-4439-99fc-df390d44c00c",
   "metadata": {},
   "source": [
    "# Sandbox"
   ]
  },
  {
   "cell_type": "markdown",
   "id": "e93a4476-b405-4902-ad85-a2fd193c904d",
   "metadata": {},
   "source": [
    "This notebook creates the code to scrape the authors from the Aeronautics School (EETAC)."
   ]
  },
  {
   "cell_type": "raw",
   "id": "16f62bf9-d639-4076-8f08-f89cfef24797",
   "metadata": {},
   "source": [
    "## Institutions to scrape\n",
    "UPC\n",
    "UPC Escuela de Ingeniería de Telecomunicación y Aeroespacial de Castelldefels\n",
    "ICFO\n",
    "UPC\n",
    "IDIBELL"
   ]
  },
  {
   "cell_type": "markdown",
   "id": "34f29ee3-904d-40f8-bab7-b186a6db4c39",
   "metadata": {},
   "source": [
    "# Load modules"
   ]
  },
  {
   "cell_type": "code",
   "execution_count": 121,
   "id": "f2ffed28-9c3f-42ee-87c0-517ca7c2cdc5",
   "metadata": {
    "tags": []
   },
   "outputs": [],
   "source": [
    "import subprocess\n",
    "import json\n",
    "import pandas as pd \n",
    "from pathlib import Path"
   ]
  },
  {
   "cell_type": "markdown",
   "id": "36ee8ed9-6915-4c9d-af02-b984cbccab90",
   "metadata": {},
   "source": [
    "# Get Aeronautics Researchers (EETAC)"
   ]
  },
  {
   "cell_type": "code",
   "execution_count": 51,
   "id": "df736671-4d8a-4c6f-af0b-5e31c86e431e",
   "metadata": {
    "tags": []
   },
   "outputs": [],
   "source": [
    "response_EETAC = subprocess.run([\"bash\", \"fetch_futur_data.sh\", \"EETAC\"], capture_output=True, text=True)\n",
    "output = json.loads(response_EETAC.stdout)\n",
    "\n",
    "author_list = output[\"content\"][0][\"secondaryFields\"][\"organization_en_person\"]\n",
    "\n",
    "author_data = []\n",
    "for author_string in author_list:\n",
    "    author_tokens = author_string.split(\"##\")\n",
    "    author = {\n",
    "        \"name\": author_tokens[0],\n",
    "        \"id\": author_tokens[1]\n",
    "    }\n",
    "    author_data.append(author)"
   ]
  },
  {
   "cell_type": "markdown",
   "id": "bc320e89-962b-484e-93fc-cdbb5b8604cd",
   "metadata": {},
   "source": [
    "# Get ORCID from each researcher"
   ]
  },
  {
   "cell_type": "code",
   "execution_count": 111,
   "id": "6c297153-09e2-4c88-aed9-06efb94ce426",
   "metadata": {
    "collapsed": true,
    "jupyter": {
     "outputs_hidden": true
    },
    "tags": []
   },
   "outputs": [],
   "source": [
    "df_authors = pd.DataFrame()\n",
    "\n",
    "for n, author in enumerate(author_data):\n",
    "    print(n, author)\n",
    "    \n",
    "    response_author = subprocess.run(\n",
    "        [\"bash\", \"fetch_futur_data.sh\", author['id']], \n",
    "        capture_output=True, \n",
    "        text=True)\n",
    "    output = json.loads(response_author.stdout)\n",
    "    if not output['content']:\n",
    "        continue\n",
    "        \n",
    "    author_details = output['content'][0]['secondaryFields']\n",
    "    for key,value in author_details.items():\n",
    "        if len(value)>1:\n",
    "            author_details[key] = str(value)\n",
    "\n",
    "    author_details['id'] = author['id']\n",
    "    author_details['name'] = author['name']\n",
    "    author_details['accessURL'] = str(output['content'][0]['accessURL'])\n",
    "\n",
    "    author_row = pd.DataFrame(author_details)\n",
    "    df_authors = pd.concat([df_authors, author_row])\n",
    "\n",
    "# Rearrange output\n",
    "new_col_order = [\"id\", \"name\", \"person_ca_orcid\"] + [col for col in df_authors.columns if col not in [\"id\", \"name\", \"person_ca_orcid\"]]\n",
    "df_authors = df_authors[new_col_order]"
   ]
  },
  {
   "cell_type": "markdown",
   "id": "f03a74bf-61ad-4912-8a9f-97f236d2c130",
   "metadata": {},
   "source": [
    "# Save"
   ]
  },
  {
   "cell_type": "code",
   "execution_count": 117,
   "id": "d469b097-5680-44b7-bdfa-9a646dc5f899",
   "metadata": {
    "tags": []
   },
   "outputs": [],
   "source": [
    "df_authors.to_csv(\"EETAC_authors.csv\", index=None)"
   ]
  },
  {
   "cell_type": "markdown",
   "id": "7e28ca30-aba6-4b74-9423-eab14011d7f9",
   "metadata": {},
   "source": [
    "# Load UPC nodes"
   ]
  },
  {
   "cell_type": "code",
   "execution_count": 122,
   "id": "23609f54-d8d1-468d-b3e0-badbef5fa276",
   "metadata": {
    "tags": []
   },
   "outputs": [],
   "source": [
    "data_folder = Path(\"../data\")\n",
    "\n",
    "# Create set of ORCIDs from EETAC\n",
    "orcids_EETAC = set(df_authors[\"person_ca_orcid\"].unique())\n",
    "\n",
    "# Get UPC nodes\n",
    "df = pd.read_csv(data_folder / \"nodes_UPC_ext.csv\")\n",
    "\n",
    "# Identify UPC authors from EETAC\n",
    "df[\"EETAC\"] = df[\"id\"].apply(lambda x: 1 if x in orcids_EETAC else 0)"
   ]
  },
  {
   "cell_type": "code",
   "execution_count": 144,
   "id": "5c47d617-8ce6-4024-8dc5-e228e16fb46b",
   "metadata": {
    "tags": []
   },
   "outputs": [],
   "source": [
    "# Assign Department to EETAAC\n",
    "df.loc[df[\"EETAC\"] == 1, \"department\"] = \"EETAC\""
   ]
  },
  {
   "cell_type": "markdown",
   "id": "cfd14f81-6ca9-4cfe-b7dd-02dec853afe7",
   "metadata": {},
   "source": [
    "# Save"
   ]
  },
  {
   "cell_type": "code",
   "execution_count": 149,
   "id": "c16f8fdb-c7ce-4698-b198-e3f6bb39d8a8",
   "metadata": {
    "tags": []
   },
   "outputs": [],
   "source": [
    "df.to_csv(data_folder / \"nodes_UPC_EETAC.csv\", index=False)"
   ]
  },
  {
   "cell_type": "markdown",
   "id": "0c2b1c42-5994-44c7-97af-fe10f9537ad0",
   "metadata": {},
   "source": [
    "# EXTRA CODE"
   ]
  },
  {
   "cell_type": "code",
   "execution_count": null,
   "id": "62db4c02-1510-4bb2-b82c-7e3dca3d620c",
   "metadata": {},
   "outputs": [],
   "source": [
    "raise Exception(\"STOP HERE\")"
   ]
  },
  {
   "cell_type": "markdown",
   "id": "63d75ace-dd81-4f38-a36f-9f002efb24b3",
   "metadata": {},
   "source": [
    "# Filter UPC \n",
    "\n",
    "Filter UPC data to single out UPC Escuela de Ingeniería de Telecomunicación y Aeroespacial de Castelldefels"
   ]
  },
  {
   "cell_type": "code",
   "execution_count": 3,
   "id": "a38ebeeb-bc9a-43a8-8296-c84feca04eb6",
   "metadata": {},
   "outputs": [],
   "source": [
    "data_folder = Path(\"../data/\")\n",
    "\n",
    "df = pd.read_csv(data_folder / \"nodes_UPC.csv\")\n",
    "df = pd.read_csv(data_folder / \"groups.csv\")\n",
    "search_string = \"Escuela de Ingeniería de Telecomunicación\"\n",
    "mask = df[\"name\"].str.contains(search_string)\n",
    "\n",
    "df[mask]"
   ]
  },
  {
   "cell_type": "code",
   "execution_count": null,
   "id": "2eb47756-5f22-4fec-8516-8ac4dc1e8775",
   "metadata": {},
   "outputs": [],
   "source": []
  }
 ],
 "metadata": {
  "kernelspec": {
   "display_name": "Python 3 (ipykernel)",
   "language": "python",
   "name": "python3"
  },
  "language_info": {
   "codemirror_mode": {
    "name": "ipython",
    "version": 3
   },
   "file_extension": ".py",
   "mimetype": "text/x-python",
   "name": "python",
   "nbconvert_exporter": "python",
   "pygments_lexer": "ipython3",
   "version": "3.10.11"
  }
 },
 "nbformat": 4,
 "nbformat_minor": 5
}
