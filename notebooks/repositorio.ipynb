{
 "cells": [
  {
   "cell_type": "markdown",
   "id": "ca91a2b4-917d-4de7-97e5-f3f7c0ce7367",
   "metadata": {},
   "source": [
    "# Repositorio Scraping"
   ]
  },
  {
   "cell_type": "markdown",
   "id": "08b0b41b-8c84-47cf-b5cb-a6c1a59d38fd",
   "metadata": {},
   "source": [
    "# TODO\n",
    "\n",
    "- Build paper catalog\n",
    "\n",
    "- For each page in paper catalog, get links to papers\n",
    "    \n",
    "- get paper_data"
   ]
  },
  {
   "cell_type": "code",
   "execution_count": 1,
   "id": "9a5f4042-5568-4892-87ba-9eb6c715155d",
   "metadata": {},
   "outputs": [],
   "source": [
    "import aiohttp\n",
    "import asyncio\n",
    "from bs4 import BeautifulSoup\n",
    "import sqlite3\n",
    "import time\n",
    "import itertools\n",
    "from contextlib import closing\n",
    "import pandas as pd\n",
    "import itertools\n",
    "\n",
    "# Add to python path to import scripts\n",
    "sys.path.append('../scripts/')\n",
    "\n",
    "from src.sqlite import insert_urls, insert_html"
   ]
  },
  {
   "cell_type": "markdown",
   "id": "c7f82095-465d-4a2f-b3f0-4ee3f7d68288",
   "metadata": {},
   "source": [
    "## Create Tables"
   ]
  },
  {
   "cell_type": "code",
   "execution_count": 2,
   "id": "75b84a42-8a6e-4440-abe6-9428c9180271",
   "metadata": {},
   "outputs": [],
   "source": [
    "conn = sqlite3.connect(\"../saopaulo.db\")\n",
    "c = conn.cursor()\n",
    "\n",
    "c.execute(\"DROP TABLE IF EXISTS catalog\")\n",
    "c.execute(\"\"\"CREATE TABLE IF NOT EXISTS catalog (\n",
    "          id INTEGER PRIMARY KEY,\n",
    "          html TEXT,\n",
    "          date_created TEXT,\n",
    "          current INTEGER,\n",
    "          parsed INTEGER\n",
    "         )\"\"\")\n",
    "\n",
    "c.execute(\"DROP TABLE IF EXISTS urls\")\n",
    "c.execute(\"\"\"CREATE TABLE IF NOT EXISTS urls (\n",
    "          id INTEGER PRIMARY KEY,\n",
    "          items TEXT,\n",
    "          url_stem TEXT UNIQUE,\n",
    "          date_created TEXT,\n",
    "          current INTEGER,\n",
    "          url_scraped INTEGER\n",
    "         )\"\"\")\n",
    "\n",
    "conn.commit()\n",
    "conn.close()"
   ]
  },
  {
   "cell_type": "markdown",
   "id": "694b5cfa-1fdf-4d82-8e56-335c8d722001",
   "metadata": {},
   "source": [
    "## Get Catalog HTMLs"
   ]
  },
  {
   "cell_type": "code",
   "execution_count": 12,
   "id": "f63f3f86-5814-4288-8d8d-9090efe65394",
   "metadata": {},
   "outputs": [
    {
     "name": "stdout",
     "output_type": "stream",
     "text": [
      "Took 37 seconds\n"
     ]
    }
   ],
   "source": [
    "# Helper functions\n",
    "async def fetch_one(session, url, conn=None):\n",
    "    async with session.get(url) as response:\n",
    "        html_doc = await response.text()\n",
    "    out_file = url.split(\"&page=\")[1]\n",
    "    with open(f\"../output/{out_file}.html\", \"w\") as f:\n",
    "        f.write(html_doc)\n",
    "        # insert_html(html_doc, date, conn)\n",
    "\n",
    "async def fetch_all(urls, date, db=\"saopaulo.db\"):\n",
    "    # conn = sqlite3.connect(db)\n",
    "\n",
    "    async with aiohttp.ClientSession() as session:\n",
    "        tasks = (fetch_one(session, url) for url in urls)\n",
    "        await asyncio.gather(*tasks)\n",
    "        \n",
    "    # conn.close()\n",
    "\n",
    "        \n",
    "# Execute\n",
    "url_number = 300\n",
    "date = '20220604'\n",
    "url_root = 'https://repositorio.usp.br/result.php?filter%5B0%5D=unidadeUSP%3A%22EP%22&fields%5B0%5D=name&fields%5B1%5D=author.person.name&fields%5B2%5D=authorUSP.name&fields%5B3%5D=about&fields%5B4%5D=description&fields%5B5%5D=unidadeUSP&page='\n",
    "urls = [url_root + str(i) for i in range(url_number)]\n",
    "db = \"../saopaulo.db\"\n",
    "\n",
    "t1 = time.perf_counter()\n",
    "await fetch_all(urls, date, db=db)\n",
    "t2 = time.perf_counter()\n",
    "print(f\"Took {t2-t1:.0f} seconds\")"
   ]
  },
  {
   "cell_type": "code",
   "execution_count": 9,
   "id": "a4d08280-046f-41a0-b255-e4539c148459",
   "metadata": {},
   "outputs": [
    {
     "data": {
      "text/plain": [
       "'0'"
      ]
     },
     "execution_count": 9,
     "metadata": {},
     "output_type": "execute_result"
    }
   ],
   "source": [
    "urls[0].split(\"&page=\")[1]"
   ]
  },
  {
   "cell_type": "markdown",
   "id": "22e761c4-99d6-4ef8-8ec3-696e5389488c",
   "metadata": {},
   "source": [
    "## Parse HTMLs and extract paper_urls"
   ]
  },
  {
   "cell_type": "code",
   "execution_count": 7,
   "id": "1b2f9ec6-1db8-4d8e-b47b-360d772541b0",
   "metadata": {
    "tags": []
   },
   "outputs": [],
   "source": [
    "paper_urls = set()\n",
    "for catalog_html in catalog_htmls:\n",
    "    soup = BeautifulSoup(catalog_html, 'html5lib')\n",
    "    articles = soup.find_all('article')\n",
    "    urls = [article.p.a['href'] for article in articles]\n",
    "    paper_urls.update(set(urls))"
   ]
  },
  {
   "cell_type": "markdown",
   "id": "c17cdae4-f1bb-463c-9d8d-e6aea0db90e0",
   "metadata": {
    "tags": []
   },
   "source": [
    "## Create papers table"
   ]
  },
  {
   "cell_type": "code",
   "execution_count": 92,
   "id": "514c569e-e900-4070-a36b-211bb1083006",
   "metadata": {},
   "outputs": [],
   "source": [
    "with closing(sqlite3.connect(\"../saopaulo.db\")) as conn:\n",
    "    with conn:\n",
    "        conn.execute(\n",
    "            \"\"\"\n",
    "            CREATE TABLE IF NOT EXISTS papers (\n",
    "                id INTEGER PRIMARY KEY,\n",
    "                authors TEXT,\n",
    "                orcids TEXT,\n",
    "                author_urls TEXT,\n",
    "                institution TEXT,\n",
    "                date_created TEXT\n",
    "            )\n",
    "            \"\"\")"
   ]
  },
  {
   "cell_type": "markdown",
   "id": "c35e060b-af1a-4ec2-8323-44cb2cdcceaf",
   "metadata": {
    "tags": []
   },
   "source": [
    "## Create edges table"
   ]
  },
  {
   "cell_type": "code",
   "execution_count": 79,
   "id": "dd480138-e88c-42fe-ad01-334fe813faf7",
   "metadata": {},
   "outputs": [],
   "source": [
    "with closing(sqlite3.connect(\"../saopaulo.db\")) as conn:\n",
    "    with conn:\n",
    "        conn.execute(\n",
    "            \"\"\"\n",
    "            CREATE TABLE IF NOT EXISTS edges (\n",
    "                id INTEGER PRIMARY KEY,\n",
    "                Source TEXT,\n",
    "                Target TEXT,\n",
    "                institution TEXT,\n",
    "                date_created TEXT\n",
    "            )\n",
    "            \"\"\")"
   ]
  },
  {
   "cell_type": "markdown",
   "id": "33ddada4-24d8-44c2-87db-5f73e4c1fc32",
   "metadata": {},
   "source": [
    "## Fetch HTMLs from paper_urls"
   ]
  },
  {
   "cell_type": "code",
   "execution_count": 18,
   "id": "b63af5bc-94f7-4076-9d98-742f6c7631c9",
   "metadata": {},
   "outputs": [],
   "source": [
    "# Fetch functions\n",
    "async def fetch_author(session, url):\n",
    "    async with session.get(url) as response:\n",
    "        html = await response.text()\n",
    "        return {'url':url, 'html':html}\n",
    "    \n",
    "async def fetch_all(urls):\n",
    "    async with aiohttp.ClientSession() as session:\n",
    "        tasks = (fetch_author(session, url) for url in urls)\n",
    "        results = await asyncio.gather(*tasks)\n",
    "        return results"
   ]
  },
  {
   "cell_type": "code",
   "execution_count": 55,
   "id": "e7007af8-f627-4d36-a277-206df636b0b6",
   "metadata": {},
   "outputs": [],
   "source": [
    "# Fetch paper_urls from database\n",
    "LIMIT = 10\n",
    "conn = sqlite3.connect(\"../saopaulo.db\")\n",
    "with conn:\n",
    "    # result = conn.execute(\"SELECT * FROM urls LIMIT (?)\", (LIMIT,))\n",
    "    result = conn.execute(\"SELECT * FROM urls WHERE id=9596\")\n",
    "    rows = result.fetchall()\n",
    "conn.close()\n",
    "\n",
    "url_root = 'https://repositorio.usp.br/'\n",
    "urls = [url_root + row[2] for row in rows]"
   ]
  },
  {
   "cell_type": "code",
   "execution_count": 56,
   "id": "99790308-8a2a-4479-bd61-378c07bab293",
   "metadata": {},
   "outputs": [
    {
     "data": {
      "text/plain": [
       "['https://repositorio.usp.br/item/002742384']"
      ]
     },
     "execution_count": 56,
     "metadata": {},
     "output_type": "execute_result"
    }
   ],
   "source": [
    "urls"
   ]
  },
  {
   "cell_type": "code",
   "execution_count": 20,
   "id": "a22c6581-e771-410a-873f-c14d512935d3",
   "metadata": {
    "tags": []
   },
   "outputs": [],
   "source": [
    "# Fetch HTML\n",
    "results = await fetch_all(urls)"
   ]
  },
  {
   "cell_type": "markdown",
   "id": "b46131dc-0de5-4c58-bf10-eacdc66be3be",
   "metadata": {},
   "source": [
    "## Parse paper_url HTML and get ORCID"
   ]
  },
  {
   "cell_type": "code",
   "execution_count": 22,
   "id": "8249fbb3-d33b-4004-ade4-276bedd95254",
   "metadata": {},
   "outputs": [
    {
     "name": "stdout",
     "output_type": "stream",
     "text": [
      "https://repositorio.usp.br/item/003040726\n",
      "https://repositorio.usp.br/item/002902421\n",
      "https://repositorio.usp.br/item/003036330\n",
      "https://repositorio.usp.br/item/003033960\n",
      "https://repositorio.usp.br/item/003040864\n",
      "https://repositorio.usp.br/item/002861284\n",
      "https://repositorio.usp.br/item/002784581\n",
      "https://repositorio.usp.br/item/002765260\n",
      "https://repositorio.usp.br/item/002781231\n",
      "https://repositorio.usp.br/item/002774116\n"
     ]
    }
   ],
   "source": [
    "for result in results:\n",
    "    print(result['url'])"
   ]
  },
  {
   "cell_type": "code",
   "execution_count": 27,
   "id": "0308ae21-d1c5-4fb5-a623-11210b44171b",
   "metadata": {},
   "outputs": [],
   "source": [
    "result = results[0]\n",
    "html_doc = result['html']\n",
    "soup = BeautifulSoup(html_doc, 'html5lib')"
   ]
  },
  {
   "cell_type": "code",
   "execution_count": 28,
   "id": "ccfca82d-e3fa-4bb5-a6f7-4310688d7cba",
   "metadata": {
    "collapsed": true,
    "jupyter": {
     "outputs_hidden": true
    },
    "tags": []
   },
   "outputs": [
    {
     "data": {
      "text/plain": [
       "<!DOCTYPE html>\n",
       "<html dir=\"ltr\" lang=\"pt-br\"><head>\n",
       "    <!-- Altmetric Script -->\n",
       "    <script src=\"https://d1bxh8uas1mnw7.cloudfront.net/assets/embed.js\" type=\"text/javascript\"></script>\n",
       "\n",
       "    <!-- PlumX Script -->\n",
       "    <script crossorigin=\"anonymous\" integrity=\"sha256-AXguJKYxgZY9FzwZE8U8EZxUQjcYT6iSQLLGiZTVW84=\" src=\"https://cdn.plu.mx/widget-popup.js\"></script>\n",
       "\n",
       "  \n",
       "    <link href=\"//repositorio.usp.br/inc/images/faviconUSP.ico\" rel=\"shortcut icon\" type=\"image/x-icon\"/>\n",
       "\n",
       "    <script src=\"//repositorio.usp.br/inc/js/jquery.min.js\"></script>\n",
       "    <script src=\"//repositorio.usp.br/inc/js/jquery-ui.js\"></script>\n",
       "    <link href=\"//repositorio.usp.br/inc/js/jquery-ui.css\" rel=\"stylesheet\"/>\n",
       "    <script src=\"//repositorio.usp.br/inc/js/jquery.form-validator.min.js\"></script>\n",
       "\n",
       "    <!-- Uikit - Local -->\n",
       "    <link href=\"//repositorio.usp.br/inc/uikit/css/uikit.min.css\" rel=\"stylesheet\"/>\n",
       "    <script src=\"//repositorio.usp.br/inc/uikit/js/uikit.min.js\"></script>\n",
       "    <script src=\"//repositorio.usp.br/inc/uikit/js/uikit-icons.min.js\"></script>\n",
       "\n",
       "    <!-- USP Custom -->\n",
       "    <link href=\"//repositorio.usp.br/inc/css/style.css\" rel=\"stylesheet\"/>\n",
       "\n",
       "    <meta content=\"width=device-width, initial-scale=1\" name=\"viewport\"/>\n",
       "\n",
       "    <script async=\"\" defer=\"\" src=\"https://www.google.com/recaptcha/api.js\"></script>\n",
       "      \n",
       "    <meta content=\"Determination of full piezoelectric complex parameters using gradient-based optimization algorithm\" name=\"citation_title\"/>\n",
       "    <meta content=\"Kiyono, César Yukishigue\" name=\"citation_author\"/>\n",
       "    <meta content=\"Perez, N\" name=\"citation_author\"/>\n",
       "    <meta content=\"Silva, Emílio Carlos Nelli\" name=\"citation_author\"/>\n",
       "    <meta content=\"2016\" name=\"citation_publication_date\"/>\n",
       "    <meta content=\"Smart Materials and Structures\" name=\"citation_journal_title\"/>\n",
       "    <meta content=\"25\" name=\"citation_volume\"/>\n",
       "    <meta content=\"2\" name=\"citation_issue\"/>\n",
       "    <meta content=\"1\" name=\"citation_firstpage\"/>\n",
       "    <meta content=\"19\" name=\"citation_lastpage\"/>\n",
       "\n",
       "    <title>ReP USP - Detalhe do registro: Determination of full piezoelectric complex parameters using gradient-based optimization algorithm</title>\n",
       "\n",
       "    <script type=\"application/ld+json\">{\n",
       "    \"@context\": \"http:\\/\\/schema.org\",\n",
       "    \"@graph\": [\n",
       "        {\n",
       "            \"@id\": \"#periodical\",\n",
       "            \"@type\": \"Periodical\",\n",
       "            \"name\": \"Smart Materials and Structures\",\n",
       "            \"issn\": [\n",
       "                \"0964-1726\"\n",
       "            ],\n",
       "            \"publisher\": \"\"\n",
       "        },\n",
       "        {\n",
       "            \"@id\": \"#volume\",\n",
       "            \"@type\": \"PublicationVolume\",\n",
       "            \"volumeNumber\": \"25\",\n",
       "            \"isPartOf\": \"#periodical\"\n",
       "        },\n",
       "        {\n",
       "            \"@id\": \"#issue\",\n",
       "            \"@type\": \"PublicationIssue\",\n",
       "            \"issueNumber\": \"2\",\n",
       "            \"isPartOf\": \"#volume\",\n",
       "            \"datePublished\": \"2016\"\n",
       "        },\n",
       "        {\n",
       "            \"datePublished\": \"2016\",\n",
       "            \"@type\": \"ScholarlyArticle\",\n",
       "            \"isPartOf\": \"#issue\",\n",
       "            \"description\": \"\",\n",
       "            \"sameAs\": \"https:\\/\\/doi.org\\/10.1088\\/0964-1726\\/25\\/2\\/025019\",\n",
       "            \"about\": [\n",
       "                \"Works\",\n",
       "                \"Catalog\"\n",
       "            ],\n",
       "            \"image\": \"\\/\\/bdpi.usp.br\\/images\\/logo_sibi.jpg\",\n",
       "            \"pageEnd\": \"19\",\n",
       "            \"pageStart\": \"1\",\n",
       "            \"headline\": \"Determination of full piezoelectric complex parameters using gradient-based optimization algorithm\",\n",
       "            \"author\": [\n",
       "                \"Kiyono, C\\u00e9sar Yukishigue\",\n",
       "                \"Perez, N\",\n",
       "                \"Silva, Em\\u00edlio Carlos Nelli\"\n",
       "            ]\n",
       "        }\n",
       "    ]\n",
       "}</script>\n",
       "</head>\n",
       "<body style=\"min-height: 45em; position: relative;\">\n",
       "        <script>\n",
       "  (function(i,s,o,g,r,a,m){i['GoogleAnalyticsObject']=r;i[r]=i[r]||function(){\n",
       "  (i[r].q=i[r].q||[]).push(arguments)},i[r].l=1*new Date();a=s.createElement(o),\n",
       "  m=s.getElementsByTagName(o)[0];a.async=1;a.src=g;m.parentNode.insertBefore(a,m)\n",
       "  })(window,document,'script','https://www.google-analytics.com/analytics.js','ga');\n",
       "  ga('create', 'UA-82811529-1', 'auto');\n",
       "  ga('send', 'pageview');\n",
       "</script>\n",
       "\n",
       "<div style=\"height: 0.3em; background: #fcb421;\"></div>\n",
       "<div style=\"height: 0.4em; background: #64c4d2;\"></div>\n",
       "<div class=\"uk-card uk-card-default\">\n",
       "<div class=\"uk-visible@m\">\n",
       "    <div class=\"uk-container uk-navbar-container uk-margin uk-navbar-transparent\" id=\"menu\" uk-navbar=\"dropbar: true; dropbar-mode: push; mode: click\">\n",
       "        <div class=\"uk-navbar-left\">\n",
       "            <ul class=\"uk-navbar-nav uk-link-text\">\n",
       "                <li class=\"uk-active\"><a class=\"uk-link-heading\" href=\"//repositorio.usp.br/index.php\">Home</a></li>\n",
       "                <li class=\"uk-active\">\n",
       "                    <a href=\"//repositorio.usp.br/sobre.php\">About</a>\n",
       "                </li>\n",
       "                <li class=\"uk-active\">\n",
       "                    <a href=\"#modal-full\" uk-toggle=\"\">USP Schools</a>\n",
       "\n",
       "                    <div class=\"uk-modal-full\" id=\"modal-full\" uk-modal=\"\">\n",
       "                        <div class=\"uk-modal-dialog uk-modal-body\">\n",
       "                            <button class=\"uk-modal-close-full uk-close-large\" type=\"button\" uk-close=\"\"></button>\n",
       "                            <div class=\"uk-grid-collapse uk-child-width-1-4@s uk-flex-middle\" uk-grid=\"\">\n",
       "                                <div class=\"uk-background-cover\" style=\"background-image: url('//repositorio.usp.br/inc/images/PracaDoRelogio-MarcosSantos.jpg');\" uk-height-viewport=\"\"></div>\n",
       "                                <div class=\"uk-padding\">\n",
       "                                    <h3>USP Schools</h3>\n",
       "                                    \t\t\t\t    \t\t\t\t\t                                                                                        <a class=\"uk-text-small\" href='result.php?filter[]=unidadeUSP:\"EACH\"' style=\"color:#333\">\n",
       "                                                Escola de Artes, Ciências e Humanidades (EACH)                                            </a>\n",
       "                                            <br/>\n",
       "                                            \t\t\t\t\t \n",
       "                                    \t\t\t\t\t                                                                                        <a class=\"uk-text-small\" href='result.php?filter[]=unidadeUSP:\"ECA\"' style=\"color:#333\">\n",
       "                                                Escola de Comunicações e Artes (ECA)                                            </a>\n",
       "                                            <br/>\n",
       "                                            \t\t\t\t\t \n",
       "                                    \t\t\t\t\t                                                                                        <a class=\"uk-text-small\" href='result.php?filter[]=unidadeUSP:\"EE\"' style=\"color:#333\">\n",
       "                                                Escola de Enfermagem (EE)                                            </a>\n",
       "                                            <br/>\n",
       "                                            \t\t\t\t\t \n",
       "                                    \t\t\t\t\t                                                                                        <a class=\"uk-text-small\" href='result.php?filter[]=unidadeUSP:\"EERP\"' style=\"color:#333\">\n",
       "                                                Escola de Enfermagem de Ribeirão Preto (EERP)                                            </a>\n",
       "                                            <br/>\n",
       "                                            \t\t\t\t\t \n",
       "                                    \t\t\t\t\t                                                                                        <a class=\"uk-text-small\" href='result.php?filter[]=unidadeUSP:\"EEFE\"' style=\"color:#333\">\n",
       "                                                Escola de Educação Física e Esporte (EEFE)                                            </a>\n",
       "                                            <br/>\n",
       "                                            \t\t\t\t\t \n",
       "                                    \t\t\t\t\t                                                                                        <a class=\"uk-text-small\" href='result.php?filter[]=unidadeUSP:\"EEFERP\"' style=\"color:#333\">\n",
       "                                                Escola de Educação Física e Esporte de Ribeirão Preto (EEFERP)                                            </a>\n",
       "                                            <br/>\n",
       "                                            \t\t\t\t\t \n",
       "                                    \t\t\t\t\t                                                                                        <a class=\"uk-text-small\" href='result.php?filter[]=unidadeUSP:\"EEL\"' style=\"color:#333\">\n",
       "                                                Escola de Engenharia de Lorena (EEL)                                            </a>\n",
       "                                            <br/>\n",
       "                                            \t\t\t\t\t \n",
       "                                    \t\t\t\t\t                                                                                        <a class=\"uk-text-small\" href='result.php?filter[]=unidadeUSP:\"EESC\"' style=\"color:#333\">\n",
       "                                                Escola de Engenharia de São Carlos (EESC)                                            </a>\n",
       "                                            <br/>\n",
       "                                            \t\t\t\t\t \n",
       "                                    \t\t\t\t\t                                                                                        <a class=\"uk-text-small\" href='result.php?filter[]=unidadeUSP:\"EP\"' style=\"color:#333\">\n",
       "                                                Escola Politécnica (EP)                                            </a>\n",
       "                                            <br/>\n",
       "                                            \t\t\t\t\t \n",
       "                                    \t\t\t\t\t                                                                                        <a class=\"uk-text-small\" href='result.php?filter[]=unidadeUSP:\"ESALQ\"' style=\"color:#333\">\n",
       "                                                Escola Superior de Agricultura Luiz de Queiroz (ESALQ)                                            </a>\n",
       "                                            <br/>\n",
       "                                            \t\t\t\t\t \n",
       "                                    \t\t\t\t\t                                                                                        <a class=\"uk-text-small\" href='result.php?filter[]=unidadeUSP:\"FAU\"' style=\"color:#333\">\n",
       "                                                Faculdade de Arquitetura e Urbanismo (FAU)                                            </a>\n",
       "                                            <br/>\n",
       "                                            \t\t\t\t\t \n",
       "                                    \t\t\t\t\t                                                                                        <a class=\"uk-text-small\" href='result.php?filter[]=unidadeUSP:\"FCF\"' style=\"color:#333\">\n",
       "                                                Faculdade de Ciências Farmacêuticas (FCF)                                            </a>\n",
       "                                            <br/>\n",
       "                                            \t\t\t\t\t \n",
       "                                    \t\t\t\t\t                                                                                        <a class=\"uk-text-small\" href='result.php?filter[]=unidadeUSP:\"FCFRP\"' style=\"color:#333\">\n",
       "                                                Faculdade de Ciências Farmacêuticas de Ribeirão Preto (FCFRP)                                            </a>\n",
       "                                            <br/>\n",
       "                                            \t\t\t\t\t \n",
       "                                    \t\t\t\t\t                                                                                        <a class=\"uk-text-small\" href='result.php?filter[]=unidadeUSP:\"FD\"' style=\"color:#333\">\n",
       "                                                Faculdade de Direito (FD)                                            </a>\n",
       "                                            <br/>\n",
       "                                            \t\t\t\t\t \n",
       "                                    \t\t\t\t\t                                                                                        <a class=\"uk-text-small\" href='result.php?filter[]=unidadeUSP:\"FDRP\"' style=\"color:#333\">\n",
       "                                                Faculdade de Direito de Ribeirão Preto (FDRP)                                            </a>\n",
       "                                            <br/>\n",
       "                                            \t\t\t\t\t \n",
       "                                    \t\t\t\t\t                                                                                        <a class=\"uk-text-small\" href='result.php?filter[]=unidadeUSP:\"FEA\"' style=\"color:#333\">\n",
       "                                                Faculdade de Economia, Administração e Contabilidade (FEA)                                            </a>\n",
       "                                            <br/>\n",
       "                                            \t\t\t\t\t \n",
       "                                    \t\t\t\t\t                                                                                        <a class=\"uk-text-small\" href='result.php?filter[]=unidadeUSP:\"FEARP\"' style=\"color:#333\">\n",
       "                                                Faculdade de Economia, Administração e Contabilidade de Ribeirão Preto (FEARP)                                            </a>\n",
       "                                            <br/>\n",
       "                                            \t\t\t\t\t \n",
       "                                    \t\t\t\t\t                                                                                        <a class=\"uk-text-small\" href='result.php?filter[]=unidadeUSP:\"FE\"' style=\"color:#333\">\n",
       "                                                Faculdade de Educação (FE)                                            </a>\n",
       "                                            <br/>\n",
       "                                                                                            </div>\n",
       "                                                <div class=\"uk-padding\">\n",
       "\t\t\t\t\t    \t\t\t\t\t \n",
       "                                    \t\t\t\t\t                                                                                        <a class=\"uk-text-small\" href='result.php?filter[]=unidadeUSP:\"FFCLRP\"' style=\"color:#333\">\n",
       "                                                Faculdade de Filosofia, Ciências e Letras de Ribeirão Preto (FFCLRP)                                            </a>\n",
       "                                            <br/>\n",
       "                                            \t\t\t\t\t \n",
       "                                    \t\t\t\t\t                                                                                        <a class=\"uk-text-small\" href='result.php?filter[]=unidadeUSP:\"FFLCH\"' style=\"color:#333\">\n",
       "                                                Faculdade de Filosofia, Letras e Ciências Humanas (FFLCH)                                            </a>\n",
       "                                            <br/>\n",
       "                                            \t\t\t\t\t \n",
       "                                    \t\t\t\t\t                                                                                        <a class=\"uk-text-small\" href='result.php?filter[]=unidadeUSP:\"FM\"' style=\"color:#333\">\n",
       "                                                Faculdade de Medicina (FM)                                            </a>\n",
       "                                            <br/>\n",
       "                                            \t\t\t\t\t \n",
       "                                    \t\t\t\t\t                                                                                        <a class=\"uk-text-small\" href='result.php?filter[]=unidadeUSP:\"FMRP\"' style=\"color:#333\">\n",
       "                                                Faculdade de Medicina de Ribeirão Preto (FMRP)                                            </a>\n",
       "                                            <br/>\n",
       "                                            \t\t\t\t\t \n",
       "                                    \t\t\t\t\t                                                                                        <a class=\"uk-text-small\" href='result.php?filter[]=unidadeUSP:\"FMVZ\"' style=\"color:#333\">\n",
       "                                                Faculdade de Medicina Veterinária e Zootecnia (FMVZ)                                            </a>\n",
       "                                            <br/>\n",
       "                                            \t\t\t\t\t \n",
       "                                    \t\t\t\t\t                                                                                        <a class=\"uk-text-small\" href='result.php?filter[]=unidadeUSP:\"FO\"' style=\"color:#333\">\n",
       "                                                Faculdade de Odontologia (FO)                                            </a>\n",
       "                                            <br/>\n",
       "                                            \t\t\t\t\t \n",
       "                                    \t\t\t\t\t                                                                                        <a class=\"uk-text-small\" href='result.php?filter[]=unidadeUSP:\"FOB\"' style=\"color:#333\">\n",
       "                                                Faculdade de Odontologia de Bauru (FOB)                                            </a>\n",
       "                                            <br/>\n",
       "                                            \t\t\t\t\t \n",
       "                                    \t\t\t\t\t                                                                                        <a class=\"uk-text-small\" href='result.php?filter[]=unidadeUSP:\"FORP\"' style=\"color:#333\">\n",
       "                                                Faculdade de Odontologia de Ribeirão Preto (FORP)                                            </a>\n",
       "                                            <br/>\n",
       "                                            \t\t\t\t\t \n",
       "                                    \t\t\t\t\t                                                                                        <a class=\"uk-text-small\" href='result.php?filter[]=unidadeUSP:\"FSP\"' style=\"color:#333\">\n",
       "                                                Faculdade de Saúde Pública (FSP)                                            </a>\n",
       "                                            <br/>\n",
       "                                            \t\t\t\t\t \n",
       "                                    \t\t\t\t\t                                                                                        <a class=\"uk-text-small\" href='result.php?filter[]=unidadeUSP:\"FZEA\"' style=\"color:#333\">\n",
       "                                                Faculdade de Zootecnia e Engenharia de Alimentos (FZEA)                                            </a>\n",
       "                                            <br/>\n",
       "                                            \t\t\t\t\t \n",
       "                                    \t\t\t\t\t                                                                                        <a class=\"uk-text-small\" href='result.php?filter[]=unidadeUSP:\"IAU\"' style=\"color:#333\">\n",
       "                                                Instituto de Arquitetura e Urbanismo (IAU)                                            </a>\n",
       "                                            <br/>\n",
       "                                            \t\t\t\t\t \n",
       "                                    \t\t\t\t\t                                                                                        <a class=\"uk-text-small\" href='result.php?filter[]=unidadeUSP:\"IAG\"' style=\"color:#333\">\n",
       "                                                Instituto de Astronomia, Geofísica e Ciências Atmosféricas (IAG)                                            </a>\n",
       "                                            <br/>\n",
       "                                            \t\t\t\t\t \n",
       "                                    \t\t\t\t\t                                                                                        <a class=\"uk-text-small\" href='result.php?filter[]=unidadeUSP:\"IB\"' style=\"color:#333\">\n",
       "                                                Instituto de Biociências (IB)                                            </a>\n",
       "                                            <br/>\n",
       "                                            \t\t\t\t\t \n",
       "                                    \t\t\t\t\t                                                                                        <a class=\"uk-text-small\" href='result.php?filter[]=unidadeUSP:\"ICB\"' style=\"color:#333\">\n",
       "                                                Instituto de Ciências Biomédicas (ICB)                                            </a>\n",
       "                                            <br/>\n",
       "                                            \t\t\t\t\t \n",
       "                                    \t\t\t\t\t                                                                                        <a class=\"uk-text-small\" href='result.php?filter[]=unidadeUSP:\"ICMC\"' style=\"color:#333\">\n",
       "                                                Instituto de Ciências Matemáticas e de Computação (ICMC)                                            </a>\n",
       "                                            <br/>\n",
       "                                            \t\t\t\t\t \n",
       "                                    \t\t\t\t\t                                                                                        <a class=\"uk-text-small\" href='result.php?filter[]=unidadeUSP:\"IF\"' style=\"color:#333\">\n",
       "                                                Instituto de Física (IF)                                            </a>\n",
       "                                            <br/>\n",
       "                                            \t\t\t\t\t \n",
       "                                    \t\t\t\t\t                                                                                        <a class=\"uk-text-small\" href='result.php?filter[]=unidadeUSP:\"IFSC\"' style=\"color:#333\">\n",
       "                                                Instituto de Física de São Carlos (IFSC)                                            </a>\n",
       "                                            <br/>\n",
       "                                            \t\t\t\t\t \n",
       "                                    \t\t\t\t\t                                                                                        <a class=\"uk-text-small\" href='result.php?filter[]=unidadeUSP:\"IGC\"' style=\"color:#333\">\n",
       "                                                Instituto de Geociências (IGc)                                            </a>\n",
       "                                            <br/>\n",
       "                                                                                            </div>\n",
       "                                                <div class=\"uk-padding\">\n",
       "\t\t\t\t\t    \t\t\t\t\t \n",
       "                                    \t\t\t\t\t                                                                                        <a class=\"uk-text-small\" href='result.php?filter[]=unidadeUSP:\"IME\"' style=\"color:#333\">\n",
       "                                                Instituto de Matemática e Estatística (IME)                                            </a>\n",
       "                                            <br/>\n",
       "                                            \t\t\t\t\t \n",
       "                                    \t\t\t\t\t                                                                                        <a class=\"uk-text-small\" href='result.php?filter[]=unidadeUSP:\"IMT\"' style=\"color:#333\">\n",
       "                                                Instituto de Medicina Tropical de São Paulo (IMT)                                            </a>\n",
       "                                            <br/>\n",
       "                                            \t\t\t\t\t \n",
       "                                    \t\t\t\t\t                                                                                        <a class=\"uk-text-small\" href='result.php?filter[]=unidadeUSP:\"IP\"' style=\"color:#333\">\n",
       "                                                Instituto de Psicologia (IP)                                            </a>\n",
       "                                            <br/>\n",
       "                                            \t\t\t\t\t \n",
       "                                    \t\t\t\t\t                                                                                        <a class=\"uk-text-small\" href='result.php?filter[]=unidadeUSP:\"IQ\"' style=\"color:#333\">\n",
       "                                                Instituto de Química (IQ)                                            </a>\n",
       "                                            <br/>\n",
       "                                            \t\t\t\t\t \n",
       "                                    \t\t\t\t\t                                                                                        <a class=\"uk-text-small\" href='result.php?filter[]=unidadeUSP:\"IQSC\"' style=\"color:#333\">\n",
       "                                                Instituto de Química de São Carlos (IQSC)                                            </a>\n",
       "                                            <br/>\n",
       "                                            \t\t\t\t\t \n",
       "                                    \t\t\t\t\t                                                                                        <a class=\"uk-text-small\" href='result.php?filter[]=unidadeUSP:\"IRI\"' style=\"color:#333\">\n",
       "                                                Instituto de Relações Internacionais (IRI)                                            </a>\n",
       "                                            <br/>\n",
       "                                            \t\t\t\t\t \n",
       "                                    \t\t\t\t\t                                                                                        <a class=\"uk-text-small\" href='result.php?filter[]=unidadeUSP:\"IO\"' style=\"color:#333\">\n",
       "                                                Instituto Oceanográfico (IO)                                            </a>\n",
       "                                            <br/>\n",
       "                                            \t\t\t\t\t \n",
       "                                    \t\t\t\t\t                                                                                        <a class=\"uk-text-small\" href='result.php?filter[]=unidadeUSP:\"CEBIMAR\"' style=\"color:#333\">\n",
       "                                                Centro de Biologia Marinha (CEBIMAR)                                            </a>\n",
       "                                            <br/>\n",
       "                                            \t\t\t\t\t \n",
       "                                    \t\t\t\t\t                                                                                        <a class=\"uk-text-small\" href='result.php?filter[]=unidadeUSP:\"CDCC\"' style=\"color:#333\">\n",
       "                                                Centro de Divulgação Científica e Cultural (CDCC)                                            </a>\n",
       "                                            <br/>\n",
       "                                            \t\t\t\t\t \n",
       "                                    \t\t\t\t\t                                                                                        <a class=\"uk-text-small\" href='result.php?filter[]=unidadeUSP:\"CENA\"' style=\"color:#333\">\n",
       "                                                Centro de Energia Nuclear na Agricultura (CENA)                                            </a>\n",
       "                                            <br/>\n",
       "                                            \t\t\t\t\t \n",
       "                                    \t\t\t\t\t                                                                                        <a class=\"uk-text-small\" href='result.php?filter[]=unidadeUSP:\"HRAC\"' style=\"color:#333\">\n",
       "                                                Hospital de Reabilitação de Anomalias Craniofaciais (HRAC)                                            </a>\n",
       "                                            <br/>\n",
       "                                            \t\t\t\t\t \n",
       "                                    \t\t\t\t\t                                                                                        <a class=\"uk-text-small\" href='result.php?filter[]=unidadeUSP:\"HU\"' style=\"color:#333\">\n",
       "                                                Hospital Universitário (HU)                                            </a>\n",
       "                                            <br/>\n",
       "                                            \t\t\t\t\t \n",
       "                                    \t\t\t\t\t                                                                                        <a class=\"uk-text-small\" href='result.php?filter[]=unidadeUSP:\"IEE\"' style=\"color:#333\">\n",
       "                                                Instituto de Energia e Ambiente (IEE)                                            </a>\n",
       "                                            <br/>\n",
       "                                            \t\t\t\t\t \n",
       "                                    \t\t\t\t\t                                                                                        <a class=\"uk-text-small\" href='result.php?filter[]=unidadeUSP:\"IEB\"' style=\"color:#333\">\n",
       "                                                Instituto de Estudos Brasileiros (IEB)                                            </a>\n",
       "                                            <br/>\n",
       "                                            \t\t\t\t\t \n",
       "                                    \t\t\t\t\t                                                                                        <a class=\"uk-text-small\" href='result.php?filter[]=unidadeUSP:\"MAE\"' style=\"color:#333\">\n",
       "                                                Museu de Arqueologia e Etnologia (MAE)                                            </a>\n",
       "                                            <br/>\n",
       "                                            \t\t\t\t\t \n",
       "                                    \t\t\t\t\t                                                                                        <a class=\"uk-text-small\" href='result.php?filter[]=unidadeUSP:\"MAC\"' style=\"color:#333\">\n",
       "                                                Museu de Arte Contemporânea (MAC)                                            </a>\n",
       "                                            <br/>\n",
       "                                            \t\t\t\t\t \n",
       "                                    \t\t\t\t\t                                                                                        <a class=\"uk-text-small\" href='result.php?filter[]=unidadeUSP:\"MZ\"' style=\"color:#333\">\n",
       "                                                Museu de Zoologia (MZ)                                            </a>\n",
       "                                            <br/>\n",
       "                                            \t\t\t\t\t \n",
       "                                    \t\t\t\t\t                                                                                        <a class=\"uk-text-small\" href='result.php?filter[]=unidadeUSP:\"MP\"' style=\"color:#333\">\n",
       "                                                Museu Paulista (MP)                                            </a>\n",
       "                                            <br/>\n",
       "                                            \t\t\t\t\t \n",
       "                                                                    </div>\n",
       "                            </div>\n",
       "                        </div>\n",
       "                    </div>\n",
       "\n",
       "                </li>\n",
       "                \n",
       "             </ul>\n",
       "        </div>\n",
       "        <div class=\"uk-navbar-center\" style=\"top: 60%;\">\n",
       "\t<a class=\"uk-navbar-item uk-logo\" href=\"//repositorio.usp.br/index.php\"><h1 style=\"font-family: Arial, sans-serif; color: #123e72;\">ReP</h1></a>\n",
       "        </div>\n",
       "        <div class=\"uk-navbar-right\">\n",
       "            <ul class=\"uk-navbar-nav\">\n",
       "                \n",
       "                \n",
       "\t\t<li class=\"uk-active\">\n",
       "                                        </li><li><a href=\"aut/oauth.php\" rel=\"nofollow\">User</a></li>\n",
       "                                    \n",
       "\n",
       "                <!--<li class=\"uk-active\"><a href=\"http://aguia.usp.br\" target=\"_blank\" rel=\"noopener noreferrer\">AGUIA</a></li>-->\n",
       "\n",
       "                <!--                    <li><a href=\"http://repositorio.usp.br/single.php?_id=003040726&locale=en_US\"><img src=\"inc/images/en.png\" style=\"width: 1.6em;\">\n",
       "                    </a></li>\n",
       "                -->\n",
       "                <li>\n",
       "                                        <a href=\"http://repositorio.usp.br/single.php?_id=003040726&amp;locale=pt_BR\" style=\"padding-right: 0.2em;\">\n",
       "                        <img src=\"//repositorio.usp.br/inc/images/br.png\" style=\"width: 1.6em;\"/>\n",
       "                    </a>\n",
       "                </li>\n",
       "                <li>\n",
       "                    <a href=\"http://repositorio.usp.br/single.php?_id=003040726&amp;locale=en_US\" style=\"padding-left: 0.2em;\">\n",
       "                        <img src=\"//repositorio.usp.br/inc/images/en.png\" style=\"width: 1.6em;\"/>\n",
       "                    </a>\n",
       "                </li>\n",
       "            </ul>\n",
       "        </div>\n",
       "    </div>\n",
       "    </div>\n",
       "\n",
       "\n",
       "<div class=\"uk-hidden@m\">\n",
       "    <div class=\"uk-offcanvas-content\">\n",
       "\n",
       "        <div class=\"uk-navbar-left\">\n",
       "            <a class=\"uk-navbar-toggle\" href=\"#\" style=\"color:black\" uk-toggle=\"target: #offcanvas-nav-primary\"><span uk-navbar-toggle-icon=\"\"></span> <span class=\"uk-margin-small-left\">Menu</span></a>\n",
       "        </div>\n",
       "\n",
       "        <div id=\"offcanvas-nav-primary\" uk-offcanvas=\"overlay: true\">\n",
       "            <div class=\"uk-offcanvas-bar uk-flex uk-flex-column\">\n",
       "\n",
       "                <ul class=\"uk-nav uk-nav-primary uk-nav-center uk-margin-auto-vertical\">\n",
       "                    <li class=\"uk-active\"><a href=\"index.php\">Home</a></li>\n",
       "                    <li class=\"uk-active\"><a href=\"advanced_search.php\">Expert search</a></li>\n",
       "                    <li class=\"uk-nav-divider\"></li>\n",
       "                    <li class=\"uk-active\"><a href=\"contact.php\">Contact</a></li>\n",
       "                    <li class=\"uk-active\"><a href=\"sobre.php\">About</a></li>\n",
       "                    <li class=\"uk-active\"><a href=\"http://www.aguia.usp.br\" rel=\"noopener noreferrer\" target=\"_blank\">AGUIA</a></li>\n",
       "                </ul>\n",
       "\n",
       "            </div>\n",
       "        </div>\n",
       "    </div>\n",
       "</div>\n",
       "\n",
       "</div>\n",
       "        <br/><br/><br/>\n",
       "\n",
       "        <div class=\"uk-container uk-margin-large-bottom\" style=\"position: relative; padding-bottom: 15em;\">\n",
       "            <div class=\"uk-grid uk-margin-top\" uk-grid=\"\">\n",
       "                <div class=\"uk-width-1-4@m\">\n",
       "                    <div class=\"uk-card uk-card-body\">\n",
       "                        <!--<h5 class=\"uk-panel-title\">Ver registro no DEDALUS</h5>-->\n",
       "                        <ul class=\"uk-nav uk-margin-top uk-margin-bottom\">\n",
       "                            <!--<hr>-->\n",
       "                            <li>\n",
       "                                <a class=\"uk-button exportacao\" href=\"http://dedalus.usp.br/F/?func=direct&amp;doc_number=003040726\" rel=\"noopener noreferrer nofollow\" target=\"_blank\">Registro no Dedalus</a>\n",
       "                            </li>\n",
       "                        </ul>\n",
       "                        <h5 class=\"uk-panel-title\">Exportar registro bibliográfico</h5>\n",
       "                        <ul class=\"uk-nav uk-margin-top uk-margin-bottom\">\n",
       "                            <hr/>\n",
       "                            <li>\n",
       "                                <a class=\"uk-button exportacao\" href=\"//repositorio.usp.br/tools/export.php?search[]=sysno.keyword%3A003040726&amp;format=ris\" rel=\"noopener noreferrer nofollow\">RIS (EndNote)</a>\n",
       "                            </li>\n",
       "                            <li class=\"uk-nav-divider\">\n",
       "                                <a class=\"uk-button exportacao\" href=\"//repositorio.usp.br/tools/export.php?search[]=sysno.keyword%3A003040726&amp;format=bibtex\" rel=\"noopener noreferrer nofollow\">Bibtex</a>\n",
       "                            </li>\n",
       "                            <li class=\"uk-nav-divider\">\n",
       "                                <a class=\"uk-button exportacao\" href=\"//repositorio.usp.br/tools/export.php?search[]=sysno.keyword%3A003040726&amp;format=csvThesis\" rel=\"noopener noreferrer nofollow\">Tabela (TSV)</a>\n",
       "                            </li>\n",
       "                        </ul>\n",
       "\n",
       "                        <!-- Métricas - Início -->\n",
       "                                                <h3 class=\"uk-panel-title\"></h3>\n",
       "                        <hr/>\n",
       "                                                                                        <div class=\"uk-alert-warning\" uk-alert=\"\">\n",
       "                                <p>Metrics:</p>\n",
       "                                <div uk-grid=\"\">\n",
       "                                    <div class=\"altmetric-embed\" data-badge-popover=\"right\" data-badge-type=\"1\" data-doi=\"10.1088/0964-1726/25/2/025019\" data-hide-no-mentions=\"true\"></div>\n",
       "                                    <div><a class=\"plumx-plum-print-popup\" data-badge=\"true\" data-hide-when-empty=\"true\" href=\"https://plu.mx/plum/a/?doi=10.1088/0964-1726/25/2/025019\" rel=\"noopener noreferrer nofollow\" target=\"_blank\"></a></div>\n",
       "                                    <div><object data=\"https://api.elsevier.com/content/abstract/citation-count?doi=10.1088/0964-1726/25/2/025019&amp;apiKey=c7af0f4beab764ecf68568961c2a21ea&amp;httpAccept=text/html\"></object></div>\n",
       "                                    <div><span class=\"__dimensions_badge_embed__\" data-doi=\"10.1088/0964-1726/25/2/025019\" data-hide-zero-citations=\"true\" data-style=\"small_rectangle\"></span></div>\n",
       "                                                                                                            <div>\n",
       "                                        <!--\n",
       "                                        < ?php\n",
       "                                            $citations_scopus = get_citations_elsevier($cursor[\"_source\"]['doi'][0],$api_elsevier);\n",
       "                                            if (!empty($citations_scopus['abstract-citations-response'])) {\n",
       "                                                echo '<a href=\"https://www.scopus.com/inward/record.uri?partnerID=HzOxMe3b&scp='.$citations_scopus['abstract-citations-response']['identifier-legend']['identifier'][0]['scopus_id'].'&origin=inward\">Citações na SCOPUS: '.$citations_scopus['abstract-citations-response']['citeInfoMatrix']['citeInfoMatrixXML']['citationMatrix']['citeInfo'][0]['rowTotal'].'</a>';\n",
       "                                                echo '<br/><br/>';\n",
       "                                            }\n",
       "                                        ? >\n",
       "                                        -->\n",
       "                                    </div>\n",
       "                                </div>\n",
       "                            </div>\n",
       "                                                                                                        <!-- Métricas - Fim -->\n",
       "                    </div>\n",
       "                </div>\n",
       "                <div class=\"uk-width-3-4@m\">\n",
       "                    <article class=\"uk-article\">\n",
       "                        <article class=\"uk-article\"><p class=\"uk-article-meta\"><a href='//repositorio.usp.br/result.php?filter[]=type:\"ARTIGO DE PERIODICO\"'>Artigo de periodico</a></p><h1 class=\"uk-article-title uk-margin-remove-top uk-link-reset\" style=\"font-size:150%\">Determination of full piezoelectric complex parameters using gradient-based optimization algorithm (2016)</h1><ul class=\"uk-list uk-list-striped uk-text-small\"><li>Authors: <ul><li><a class=\"link\" href='//repositorio.usp.br/result.php?filter[]=author.person.name:\"Kiyono, César Yukishigue\"'>Kiyono, César Yukishigue</a></li><li><a class=\"link\" href='//repositorio.usp.br/result.php?filter[]=author.person.name:\"Perez, N\"'>Perez, N</a></li><li><a class=\"link\" href='//repositorio.usp.br/result.php?filter[]=author.person.name:\"Silva, Emílio Carlos Nelli\"'>Silva, Emílio Carlos Nelli</a> <a class=\"link\" href=\"https://orcid.org/0000-0003-1715-1713\"><img src=\"https://orcid.org/sites/default/files/images/orcid_16x16.png\"/></a></li></ul></li><li>USP affiliated author: <a href='//repositorio.usp.br/result.php?filter[]=authorUSP.name:\"SILVA, EMILIO CARLOS NELLI\"'>SILVA, EMILIO CARLOS NELLI - EP </a></li><li>School: <a href='//repositorio.usp.br/result.php?filter[]=unidadeUSP:\"EP\"'>EP</a></li><li>DOI: <a href=\"https://doi.org/10.1088/0964-1726/25/2/025019\" rel=\"noopener noreferrer\" target=\"_blank\">10.1088/0964-1726/25/2/025019</a></li><li>Subjects: <a href='//repositorio.usp.br/result.php?filter[]=about:\"ATUADORES PIEZELÉTRICOS\"'>ATUADORES PIEZELÉTRICOS</a>; <a href='//repositorio.usp.br/result.php?filter[]=about:\"CERÂMICA PIEZELÉTRICA\"'>CERÂMICA PIEZELÉTRICA</a>; <a href='//repositorio.usp.br/result.php?filter[]=about:\"ALGORITMOS\"'>ALGORITMOS</a>; <a href='//repositorio.usp.br/result.php?filter[]=about:\"ENGENHARIA MECÂNICA\"'>ENGENHARIA MECÂNICA</a>; <a href='//repositorio.usp.br/result.php?filter[]=about:\"MÉTODO DOS ELEMENTOS FINITOS\"'>MÉTODO DOS ELEMENTOS FINITOS</a></li><li>Agências de fomento: <ul class=\"uk-list uk-text-small\"><li><a href='//repositorio.usp.br/result.php?filter[]=funder.name:\"Fundação de Amparo à Pesquisa do Estado de São Paulo (FAPESP)\"'>Fundação de Amparo à Pesquisa do Estado de São Paulo (FAPESP)</a></li><li><a href='//repositorio.usp.br/result.php?filter[]=funder.name:\"Financiamento ANII\"'>Financiamento ANII</a></li><li><a href='//repositorio.usp.br/result.php?filter[]=funder.name:\"Financiamento CSIC\"'>Financiamento CSIC</a></li><li><a href='//repositorio.usp.br/result.php?filter[]=funder.name:\"Financiamento PEDECIBA\"'>Financiamento PEDECIBA</a></li><li><a href='//repositorio.usp.br/result.php?filter[]=funder.name:\"Financiamento CNPq\"'>Financiamento CNPq</a></li></ul></li><li>Language: <a href='//repositorio.usp.br/result.php?filter[]=language:\"Inglês\"'>Inglês</a></li><li>Imprenta:<ul><li>Place of publication: <a href='//repositorio.usp.br/result.php?filter[]=publisher.organization.location:\"Bristol\"'>Bristol</a></li><li>Date published: <a href='//repositorio.usp.br/result.php?filter[]=datePublished:\"2016\"'>2016</a></li></ul></li><li>Source:<ul><li>Título do periódico: <a href='//repositorio.usp.br/result.php?filter[]=isPartOf.name:\"Smart Materials and Structures\"'>Smart Materials and Structures</a></li><li>ISSN: <a href='//repositorio.usp.br/result.php?filter[]=issn:\"0964-1726\"'>0964-1726</a></li><li>Volume/Número/Paginação/Ano: v. 25, n. 2, p. 1-19, 2016</li></ul></li><a href=\"https://iopscience.iop.org/article/10.1088/0964-1726/25/2/025019\" id=\"button\" rel=\"noopener noreferrer\" style=\"margin-right: 1em;\" target=\"_blank\" uk-tooltip=\"Online source access\"><img alt=\"Online source access\" class=\"result-icons\" src=\"../inc/images/acesso_fonte.svg\"/></a><a href=\"https://doi.org/10.1088/0964-1726/25/2/025019\" id=\"button\" rel=\"noopener noreferrer\" style=\"margin-right: 1em;\" target=\"_blank\"><img alt=\"DOI\" class=\"result-icons\" src=\"../inc/images/doi.svg\"/></a>\n",
       "                        <div class=\"uk-alert-primary uk-h6 uk-padding-small\">Informações sobre o DOI: 10.1088/0964-1726/25/2/025019 (Fonte: <a href=\"http://oadoi.org\" rel=\"noopener noreferrer nofollow\" target=\"_blank\">oaDOI API</a>)<ul><li>Este periódico é de assinatura</li><li>Este artigo NÃO é de acesso aberto<br/></li><li>Cor do Acesso Aberto: closed</li></ul></div>\n",
       "                        <!-- Opencitation - Início -->\n",
       "                                                <!-- Opencitation - Fim -->\n",
       "\n",
       "\n",
       "                        <!-- Qualis - Início -->\n",
       "                                                                                                    <!-- Qualis  - Fim -->\n",
       "\n",
       "                        <!-- JCR - Início\n",
       "                        < ?php if (!empty($cursor[\"_source\"][\"USP\"][\"JCR\"])) : ?>\n",
       "                            <div class=\"uk-alert-primary\" uk-alert>\n",
       "                                <a class=\"uk-alert-close\" uk-close></a>\n",
       "                                <h5>Informações sobre o JCR</h5>\n",
       "                                < ?php print_r($cursor[\"_source\"][\"USP\"][\"JCR\"]); ?>\n",
       "                                <li class=\"uk-h6\">\n",
       "                                    <p class=\"uk-text-small uk-margin-remove\">Título: < ?php print_r($cursor[\"_source\"][\"USP\"][\"JCR\"][\"title\"]); ?></p>\n",
       "                                    <p class=\"uk-text-small uk-margin-remove\">ISSN: < ?php print_r($cursor[\"_source\"][\"USP\"][\"JCR\"][\"issn\"]); ?></p>\n",
       "                                    <p class=\"uk-text-small uk-margin-remove\">Journal Impact Factor - 2017: < ?php print_r($cursor[\"_source\"][\"USP\"][\"JCR\"][\"JCR\"][\"2017\"][\"Journal_Impact_Factor\"]); ?></p>\n",
       "                                    <p class=\"uk-text-small uk-margin-remove\">Impact Factor without Journal Self Cites - 2017: < ?php print_r($cursor[\"_source\"][\"USP\"][\"JCR\"][\"JCR\"][\"2017\"][\"IF_without_Journal_Self_Cites\"]); ?></p>\n",
       "                                    <p class=\"uk-text-small uk-margin-remove\">Eigenfactor Score - 2017: < ?php print_r($cursor[\"_source\"][\"USP\"][\"JCR\"][\"JCR\"][\"2017\"][\"Eigenfactor_Score\"]); ?></p>\n",
       "                                    <p class=\"uk-text-small uk-margin-remove\">JCR Rank - 2017: < ?php print_r($cursor[\"_source\"][\"USP\"][\"JCR\"][\"JCR\"][\"2017\"][\"JCR_Rank\"]); ?></p>\n",
       "                                </li>\n",
       "                            </div>\n",
       "                        < ?php endif; ?>\n",
       "                        JCR - Fim -->\n",
       "\n",
       "                        <!-- Citescore - Início -->\n",
       "                                                <!-- Citescore - Fim -->\n",
       "\n",
       "                        <hr/>\n",
       "\n",
       "                        <!-- Query itens on Aleph - Start -->\n",
       "                                                <!-- Query itens on Aleph - End -->\n",
       "\n",
       "                                                <!-- Query bitstreams on Dspace - End -->\n",
       "\n",
       "                        <!-- Citation - Start -->\n",
       "                        <div class=\"uk-text-small\" style=\"color:black;\">\n",
       "                            <h5>How to cite</h5>\n",
       "                            <div class=\"uk-alert-danger\">A citação é gerada automaticamente e pode não estar totalmente de acordo com as normas</div>\n",
       "                            <p class=\"uk-text-small uk-margin-remove\">\n",
       "                            </p><ul>\n",
       "                                <li class=\"uk-margin-top\">\n",
       "                                    <p><strong>ABNT</strong></p>\n",
       "                                    <div class=\"csl-bib-body\"><div class=\"csl-entry\">KIYONO,  César Yukishigue e PEREZ,  N e SILVA,  Emílio Carlos Nelli. <span style=\"font-weight: bold;\">Determination of full piezoelectric complex parameters using gradient-based optimization algorithm</span>. Smart Materials and Structures, v.  25, n.   2, p.   1-19, 2016Tradução . . Disponível em: https://iopscience.iop.org/article/10.1088/0964-1726/25/2/025019. Acesso em: 07 jun. 2022.</div></div>                                </li>\n",
       "                                <li class=\"uk-margin-top\">\n",
       "                                    <p><strong>APA</strong></p>\n",
       "                                    <div class=\"csl-bib-body\"><div style=\"  text-indent: -25px; padding-left: 25px;\"><div class=\"csl-entry\">Kiyono,  C. Y., Perez,  N., &amp; Silva,  E. C. N.  (2016).  Determination of full piezoelectric complex parameters using gradient-based optimization algorithm. <span style=\"font-style: italic;\">Smart Materials and Structures</span>, <span style=\"font-style: italic;\"> 25</span>(  2),   1-19. doi:10.1088/0964-1726/25/2/025019</div></div></div>                                </li>\n",
       "                                <li class=\"uk-margin-top\">\n",
       "                                    <p><strong>NLM</strong></p>\n",
       "                                    <div class=\"csl-bib-body\"><div class=\"csl-entry\">Kiyono  CY, Perez  N, Silva  ECN. Determination of full piezoelectric complex parameters using gradient-based optimization algorithm [Internet]. Smart Materials and Structures. 2016 ; 25(  2):  1-19.[citado 2022 jun. 07 ] Available from: https://iopscience.iop.org/article/10.1088/0964-1726/25/2/025019</div></div>                                </li>\n",
       "                                <li class=\"uk-margin-top\">\n",
       "                                    <p><strong>Vancouver</strong></p>\n",
       "                                    <div class=\"csl-bib-body\"><div class=\"csl-entry\">Kiyono  CY, Perez  N, Silva  ECN. Determination of full piezoelectric complex parameters using gradient-based optimization algorithm [Internet]. Smart Materials and Structures. 2016 ; 25(  2):  1-19.[citado 2022 jun. 07 ] Available from: https://iopscience.iop.org/article/10.1088/0964-1726/25/2/025019</div></div>                                </li>\n",
       "                            </ul>\n",
       "                            <p></p>\n",
       "                        </div>\n",
       "                        <!-- Citation - End -->\n",
       "\n",
       "                        <!-- References - CrossRef - Start -->\n",
       "                                                <!-- References - CrossRef - End -->\n",
       "\n",
       "                        <!-- Other works of same authors - Start -->\n",
       "                        <div class=\"uk-alert-primary\" uk-alert=\"\"><h5>Últimas obras dos mesmos autores vinculados com a USP cadastradas na BDPI:</h5><ul><li><a href=\"//repositorio.usp.br/item/001364581\" target=\"_blank\">Reconstrução de imagens de tomografia por impedância elétrica usando o método de otimização topológica</a></li><li><a href=\"//repositorio.usp.br/item/001355311\" target=\"_blank\">Development of a XY piezoelectric nanopositioner</a></li><li><a href=\"//repositorio.usp.br/item/001426184\" target=\"_blank\">Algoritmo de reconstrução de imagens tridimensionais através da tomografia por impedância elétrica baseado no método de otimização topológica</a></li><li><a href=\"//repositorio.usp.br/item/001426776\" target=\"_blank\">Implementation of an image reconstruction algorithm based on topology optimization method applied to electrical impedance tomography</a></li><li><a href=\"//repositorio.usp.br/item/001426849\" target=\"_blank\">Estudo de viabilidade de uma bomba de fluxo piezelétrica</a></li><li><a href=\"//repositorio.usp.br/item/001513611\" target=\"_blank\">Structural topology optimization of mechanical resonators, actuators and sensors</a></li><li><a href=\"//repositorio.usp.br/item/001671744\" target=\"_blank\">Reflective fiber optic displacement sensor applied to characterization of piezoelectric flextensional actuators</a></li><li><a href=\"//repositorio.usp.br/item/001679096\" target=\"_blank\">Viability study of oscillatory flow pumps using bimorph piezoelectric actuators</a></li><li><a href=\"//repositorio.usp.br/item/001770642\" target=\"_blank\">Design of dynamic laminate piezoelectric sensors and actuators using topology optimization</a></li><li><a href=\"//repositorio.usp.br/item/002797723\" target=\"_blank\">Nano-displacement measurements of a new piezoelectric flextensional actuator by using a high dynamic range interferometry homodyne method</a></li></ul></div>                        <!-- Other works of same authors - End -->\n",
       "\n",
       "                </ul></article></article></div>\n",
       "            </div>\n",
       "\t\t\n",
       "\t            <hr class=\"uk-grid-divider\"/>\n",
       "            \n",
       "        </div>\n",
       "        <div style=\"position: relative; max-width: initial;\">\n",
       "\t          <div class=\"uk-container uk-margin\" style=\"position: absolute; bottom: 0px; left: 0px; right: 0px; max-width: initial; background: #f8f8f8; margin-bottom: 0px; padding-bottom: 1em;\">\n",
       "\t<div class=\"uk-grid\" style=\"width: 100vw; max-width: 1200px; margin: 0 auto;\">\n",
       "    <div class=\"uk-width-1-2@m uk-width-1-2@s\">\n",
       "\t    <p class=\"uk-text-small uk-text-left uk-text-left@m\" id=\"logos-rodape\">\n",
       "\t    \t<a href=\"http://www.usp.br\" rel=\"noopener noreferrer\" style=\"font-family: arial; font-size:2.5em; font-weight: bold; line-height: 2.5em; color: #123e72\" target=\"_blank\">\n",
       "    \t\t\t<img src=\"//repositorio.usp.br/inc/images/usp-logo-png.png\" style=\"width: 2.5em;\"/>\n",
       "    \t\t</a>\n",
       "    \t\t<!--<strong>Universidade de São Paulo</strong>-->\n",
       "        <a href=\"http://www.aguia.usp.br\" rel=\"noopener noreferrer\" target=\"_blank\">\n",
       "          <span style=\"width: 5em; font-family: arial; font-size:2.5em; font-weight: bold; line-height: 2.5em; color: #123e72\">AGUIA</span>\n",
       "    \t\t</a>\n",
       "\t    </p>\n",
       "\t</div>\n",
       "\t<div class=\"uk-width-1-2@m uk-width-1-2@s uk-align-center@s uk-padding-small\">\n",
       "\t\t<div class=\"uk-navbar-container\" id=\"sub-menu\" uk-navbar=\"\">\n",
       "\t\t    <div class=\"uk-navbar-right\">\n",
       "\t\t        <ul class=\"uk-navbar-nav\">\n",
       "\t\t        \t<li>\n",
       "\t                    <a class=\"uk-link-muted\" href=\"//repositorio.usp.br/advanced_search.php\">Expert search</a>\n",
       "\t                </li>\n",
       "\n",
       "\t                <li>\n",
       "\t                    <a href=\"//repositorio.usp.br/contact.php\">Contact</a>\n",
       "\t                </li>\n",
       "\t\t        </ul>\n",
       "\t\t    </div>\n",
       "\t\t</div>\n",
       "\n",
       "\n",
       "\t</div>\n",
       "\t<div class=\"uk-text-center uk-width-1-1 uk-text-center\">\n",
       "\t    <p class=\"uk-text-small\">\n",
       "\t    \tDigital Library of Intellectual Production of Universidade de São Paulo     2012 - 2022\t    </p>\n",
       "\t</div>\n",
       "</div>\n",
       "</div>\n",
       "<script>\n",
       "  $.validate({\n",
       "      lang : 'pt',\n",
       "      modules : 'sanitize',\n",
       "      modules : 'file'\n",
       "  });  \n",
       "</script>\n",
       "      </div>\n",
       "        <div class=\"uk-offcanvas\" id=\"offcanvas\">\n",
       "    <div class=\"uk-offcanvas-bar\">\n",
       "        <ul class=\"uk-nav uk-nav-offcanvas\">\n",
       "            <li class=\"uk-active\">\n",
       "                <a href=\"index.php\">Home</a>\n",
       "            </li>\n",
       "            <li>\n",
       "                <a href=\"advanced_search.php\">Expert search</a>\n",
       "            </li>\n",
       "            <li>\n",
       "                <a href=\"contato.php\">Contact</a>\n",
       "            </li>\n",
       "                            <li><a href=\"aut/oauth.php\">Login</a></li>\n",
       "                        <li>\n",
       "                <a href=\"about.php\">About</a>\n",
       "            </li>\n",
       "        </ul>\n",
       "    </div>\n",
       "</div>\n",
       "\n",
       "<!-- ###### Script para criar o pop-up do popterms ###### -->\n",
       "<script>\n",
       "    function creaPopup(url)\n",
       "    {\n",
       "      tesauro=window.open(url,\n",
       "      \"Tesauro\",\n",
       "      \"directories=no, menubar =no,status=no,toolbar=no,location=no,scrollbars=yes,fullscreen=no,height=600,width=450,left=500,top=0\"\n",
       "      )\n",
       "    }\n",
       " </script> \n",
       "        <script async=\"\" charset=\"utf-8\" src=\"https://badge.dimensions.ai/badge.js\"></script>\n",
       "    \n",
       "\n",
       "</body></html>"
      ]
     },
     "execution_count": 28,
     "metadata": {},
     "output_type": "execute_result"
    }
   ],
   "source": [
    "soup"
   ]
  },
  {
   "cell_type": "code",
   "execution_count": 48,
   "id": "b06f7fc1-1c32-41ee-b8ed-e4b5b499d324",
   "metadata": {},
   "outputs": [],
   "source": []
  },
  {
   "cell_type": "code",
   "execution_count": 49,
   "id": "4f6f1ba0-00d4-445b-be2e-8271c112e3fe",
   "metadata": {},
   "outputs": [
    {
     "data": {
      "text/plain": [
       "['ATUADORES PIEZELÉTRICOS',\n",
       " 'CERÂMICA PIEZELÉTRICA',\n",
       " 'ALGORITMOS',\n",
       " 'ENGENHARIA MECÂNICA',\n",
       " 'MÉTODO DOS ELEMENTOS FINITOS']"
      ]
     },
     "execution_count": 49,
     "metadata": {},
     "output_type": "execute_result"
    }
   ],
   "source": [
    "subjects"
   ]
  },
  {
   "cell_type": "code",
   "execution_count": 43,
   "id": "5485fa13-487a-49f1-8393-846f7db0cb03",
   "metadata": {},
   "outputs": [
    {
     "data": {
      "text/plain": [
       "'Subjects: ATUADORES PIEZELÉTRICOS; CERÂMICA PIEZELÉTRICA; ALGORITMOS; ENGENHARIA MECÂNICA; MÉTODO DOS ELEMENTOS FINITOS'"
      ]
     },
     "execution_count": 43,
     "metadata": {},
     "output_type": "execute_result"
    }
   ],
   "source": [
    "content[0].text"
   ]
  },
  {
   "cell_type": "code",
   "execution_count": 91,
   "id": "ab087f6a-065f-4ddd-b020-302359e2e82e",
   "metadata": {
    "collapsed": true,
    "jupyter": {
     "outputs_hidden": true
    },
    "tags": []
   },
   "outputs": [],
   "source": [
    "# Check URL of first item\n",
    "for result in results:\n",
    "    # print(result['url'])\n",
    "    # Convert to Beautiful Soup\n",
    "    html_doc = result['html']\n",
    "    soup = BeautifulSoup(html_doc, 'html5lib')\n",
    "    \n",
    "    # Extract ORCID and author url\n",
    "    author_content = soup.select('article article ul li:-soup-contains(\"Authors: \") ul li')\n",
    "    orcids = []\n",
    "    author_names = []\n",
    "    author_urls = []\n",
    "    for list_elem in author_content:\n",
    "        a_tags = list_elem.find_all('a')\n",
    "\n",
    "        author_name = a_tags[0].text\n",
    "        author_names.append(author_name)\n",
    "        # print(\"name:\", a_tags[0].text)\n",
    "\n",
    "        author_url_raw = a_tags[0]['href'][2:]\n",
    "        author_url = author_url_raw.split('/')[1].replace(\" \", \"%20\").replace(\"\\\"\", \"%22\")\n",
    "        author_urls.append(author_url)\n",
    "        # print(\"author url:\", author_url)\n",
    "\n",
    "        try:\n",
    "            orcid = a_tags[1]['href'].split('/')[-1]\n",
    "        except IndexError:\n",
    "            orcid = \"\"\n",
    "        # print(\"orcid:\", orcid)\n",
    "        orcids.append(orcid)\n",
    "        # print()\n",
    "    \n",
    "    # Extract subjects\n",
    "    subject_content = soup.select('article article ul li:-soup-contains(\"Subjects: \")')\n",
    "    subjects = [a_tag.text for a_tag in subject_content[0].find_all('a')]\n",
    "\n",
    "    url = result['url']\n",
    "    \n",
    "    with closing(sqlite3.connect(\"../saopaulo.db\")) as conn:\n",
    "        with conn:\n",
    "            conn.execute(\n",
    "            \"\"\"\n",
    "            INSERT INTO papers \n",
    "            ( url, authors, orcids, author_urls, subjects, institution )\n",
    "            VALUES \n",
    "            (:url, :authors, :orcids, :author_urls, :subjects, :institution )\n",
    "            \"\"\",\n",
    "            (url, str(author_names), str(orcids), str(author_urls), str(subjects), 'EP')\n",
    "            )\n",
    "\n",
    "    nonempty_orcids = [x for x in orcids if x]\n",
    "    if len(nonempty_orcids)<=1:\n",
    "        return\n",
    "    pairs = itertools.combinations(nonempty_orcids, 2)\n",
    "    pairs = [pair + ('EP',) for pair in pairs]\n",
    "\n",
    "    with closing(sqlite3.connect(\"../saopaulo.db\")) as conn:\n",
    "        with conn:\n",
    "            conn.executemany(\n",
    "            \"\"\"\n",
    "            INSERT INTO edges \n",
    "            ( Source, Target, institution )\n",
    "            VALUES \n",
    "            (:Source, :Target, :institution)\n",
    "            \"\"\",\n",
    "            pairs\n",
    "            )"
   ]
  },
  {
   "cell_type": "markdown",
   "id": "80a67fff-f994-47d8-8b37-7e2a07628212",
   "metadata": {},
   "source": [
    "## Output edges"
   ]
  },
  {
   "cell_type": "code",
   "execution_count": 38,
   "id": "131d920d-15b8-4d18-b7b6-61b8308d5760",
   "metadata": {
    "tags": []
   },
   "outputs": [],
   "source": [
    "with closing(sqlite3.connect(\"../saopaulo.db\")) as conn:\n",
    "    with conn:\n",
    "        result = conn.execute(\n",
    "        \"\"\"\n",
    "        SELECT * FROM edges LIMIT 10000;\n",
    "        \"\"\")\n",
    "        rows = result.fetchall()\n",
    "\n",
    "df = pd.DataFrame(rows)\n",
    "df = df[[1, 2]]\n",
    "df.columns = ['Source', 'Target']\n",
    "df.to_csv('../output/edges/edges_EP.csv', index=False)"
   ]
  },
  {
   "cell_type": "markdown",
   "id": "22031fac-2f7a-4fd4-9822-95329550742c",
   "metadata": {},
   "source": [
    "## Get nodes"
   ]
  },
  {
   "cell_type": "code",
   "execution_count": 44,
   "id": "c3c60ce9-ec19-4958-aa9d-d6fe5f81302c",
   "metadata": {},
   "outputs": [
    {
     "name": "stdout",
     "output_type": "stream",
     "text": [
      "Querying database\n",
      "Creating set of orcids\n",
      "Getting names and subjects\n",
      "Done in 5 seconds.\n"
     ]
    }
   ],
   "source": [
    "with closing(sqlite3.connect(\"../saopaulo.db\")) as conn:\n",
    "    print(\"Querying database\")\n",
    "    with conn:\n",
    "        result = conn.execute(\n",
    "        \"\"\"\n",
    "        SELECT orcids, authors, subjects FROM papers;\n",
    "        \"\"\")\n",
    "\n",
    "        rows = result.fetchall()\n",
    "        \n",
    "# Create orcids set\n",
    "print(\"Creating set of orcids\")\n",
    "orcids_g = (eval(row[0]) for row in rows)\n",
    "orcids = set(itertools.chain.from_iterable(orcids_g))\n",
    "orcids.remove('')\n",
    "\n",
    "new_rows = []\n",
    "for row in rows:\n",
    "    lst = [eval(lst) for lst in row]\n",
    "    new_rows.append(lst)\n",
    "\n",
    "t1 = time.perf_counter()\n",
    "# Attach subject to each orcid key\n",
    "print(\"Getting names and subjects\")\n",
    "nodes = {}\n",
    "for orcid in orcids:\n",
    "    for row in new_rows:\n",
    "        if orcid in row[0]:\n",
    "            # Get author name\n",
    "            idx = row[0].index(orcid)\n",
    "            name_lst = row[1]\n",
    "            nodes[orcid] = [name_lst[idx]]\n",
    "\n",
    "            # Get subjects\n",
    "            nodes[orcid].append(row[2][0])\n",
    "\n",
    "            break\n",
    "t2 = time.perf_counter()\n",
    "print(f\"Done in {t2-t1:.0f} seconds.\")\n",
    "\n",
    "# Creating dataframe\n",
    "df = pd.DataFrame.from_dict(nodes, orient='index').reset_index()\n",
    "df.columns = ['id', 'label', 'subject']\n",
    "# df.to_csv(\"output/nodes/nodes_EP.csv\", index=False)"
   ]
  },
  {
   "cell_type": "code",
   "execution_count": 47,
   "id": "9104c03b-1a76-4593-92ad-9544ac0f6cca",
   "metadata": {},
   "outputs": [
    {
     "data": {
      "text/html": [
       "<div>\n",
       "<style scoped>\n",
       "    .dataframe tbody tr th:only-of-type {\n",
       "        vertical-align: middle;\n",
       "    }\n",
       "\n",
       "    .dataframe tbody tr th {\n",
       "        vertical-align: top;\n",
       "    }\n",
       "\n",
       "    .dataframe thead th {\n",
       "        text-align: right;\n",
       "    }\n",
       "</style>\n",
       "<table border=\"1\" class=\"dataframe\">\n",
       "  <thead>\n",
       "    <tr style=\"text-align: right;\">\n",
       "      <th></th>\n",
       "      <th>id</th>\n",
       "      <th>label</th>\n",
       "      <th>subject</th>\n",
       "    </tr>\n",
       "  </thead>\n",
       "  <tbody>\n",
       "    <tr>\n",
       "      <th>3166</th>\n",
       "      <td>0000-0002-8229-4027</td>\n",
       "      <td>Dirani, Ely Antonio Tadeu</td>\n",
       "      <td>MATERIAIS ÓPTICOS</td>\n",
       "    </tr>\n",
       "    <tr>\n",
       "      <th>3167</th>\n",
       "      <td>0000-0003-4484-9199</td>\n",
       "      <td>Afzalimir, Seyed Hamidreza</td>\n",
       "      <td>DUCTILIDADE</td>\n",
       "    </tr>\n",
       "    <tr>\n",
       "      <th>3168</th>\n",
       "      <td>0000-0002-4364-010X</td>\n",
       "      <td>Cazzolato, Mirela Teixeira</td>\n",
       "      <td>BANCO DE DADOS</td>\n",
       "    </tr>\n",
       "    <tr>\n",
       "      <th>3169</th>\n",
       "      <td>0000-0002-5749-3198</td>\n",
       "      <td>Pinheiro, Marina Julio - Universidade Estadual...</td>\n",
       "      <td>EQUILÍBRIO SÓLIDO-LÍQUIDO</td>\n",
       "    </tr>\n",
       "    <tr>\n",
       "      <th>3170</th>\n",
       "      <td>0000-0002-6694-0228</td>\n",
       "      <td>Netto, Marcio Lobo (Orientador)</td>\n",
       "      <td>SISTEMAS MULTIAGENTES</td>\n",
       "    </tr>\n",
       "  </tbody>\n",
       "</table>\n",
       "</div>"
      ],
      "text/plain": [
       "                       id                                              label  \\\n",
       "3166  0000-0002-8229-4027                          Dirani, Ely Antonio Tadeu   \n",
       "3167  0000-0003-4484-9199                         Afzalimir, Seyed Hamidreza   \n",
       "3168  0000-0002-4364-010X                         Cazzolato, Mirela Teixeira   \n",
       "3169  0000-0002-5749-3198  Pinheiro, Marina Julio - Universidade Estadual...   \n",
       "3170  0000-0002-6694-0228                    Netto, Marcio Lobo (Orientador)   \n",
       "\n",
       "                        subject  \n",
       "3166          MATERIAIS ÓPTICOS  \n",
       "3167                DUCTILIDADE  \n",
       "3168             BANCO DE DADOS  \n",
       "3169  EQUILÍBRIO SÓLIDO-LÍQUIDO  \n",
       "3170      SISTEMAS MULTIAGENTES  "
      ]
     },
     "execution_count": 47,
     "metadata": {},
     "output_type": "execute_result"
    }
   ],
   "source": [
    "df.tail()"
   ]
  },
  {
   "cell_type": "code",
   "execution_count": 45,
   "id": "52037991-4e3f-4cb6-b3e2-f90888d6d49d",
   "metadata": {},
   "outputs": [
    {
     "data": {
      "text/plain": [
       "3171"
      ]
     },
     "execution_count": 45,
     "metadata": {},
     "output_type": "execute_result"
    }
   ],
   "source": [
    "len(df)"
   ]
  },
  {
   "cell_type": "markdown",
   "id": "2fb10d87-4d6c-4901-b216-e52faa978b6c",
   "metadata": {},
   "source": [
    "# Debug (delete this)"
   ]
  },
  {
   "cell_type": "code",
   "execution_count": null,
   "id": "f252d68a-5b32-46e8-bf0d-497d2c60c3b2",
   "metadata": {},
   "outputs": [],
   "source": [
    "orcids = ['0000-0003-2977-6905', '', '0000-0002-6305-9662', '', '0000-0002-9723-1918']"
   ]
  },
  {
   "cell_type": "markdown",
   "id": "4c160664-e58e-4dd5-aa4e-3730da171db7",
   "metadata": {},
   "source": [
    "# EXTRA CODE"
   ]
  },
  {
   "cell_type": "code",
   "execution_count": 1,
   "id": "1b68c837-72d0-4973-9fd6-fbf600d81eb6",
   "metadata": {},
   "outputs": [],
   "source": [
    "import requests\n",
    "from requests_html import HTMLSession\n",
    "\n",
    "session = HTMLSession()\n",
    "\n",
    "url = \"https://repositorio.usp.br/result.php?filter[]=unidadeUSP:%22EP%22\"\n",
    "r = session.get(url)"
   ]
  },
  {
   "cell_type": "code",
   "execution_count": 43,
   "id": "6269f11d-2d74-46b4-82e6-e8c9c1fb473a",
   "metadata": {},
   "outputs": [
    {
     "data": {
      "text/plain": [
       "<Response [200]>"
      ]
     },
     "execution_count": 43,
     "metadata": {},
     "output_type": "execute_result"
    }
   ],
   "source": [
    "r"
   ]
  },
  {
   "cell_type": "code",
   "execution_count": 44,
   "id": "7804c464-274a-40af-80c1-33e798063b60",
   "metadata": {},
   "outputs": [],
   "source": [
    "# articles = r.text.select('article article')"
   ]
  },
  {
   "cell_type": "code",
   "execution_count": 45,
   "id": "5f71eb94-a084-4a0a-bbdf-e828b9abcb41",
   "metadata": {},
   "outputs": [],
   "source": [
    "# articles"
   ]
  },
  {
   "cell_type": "code",
   "execution_count": 6,
   "id": "7a06b45d-1fe4-458d-a72f-261b23f7739b",
   "metadata": {},
   "outputs": [],
   "source": [
    "authors = articles[0].find('p')[1]"
   ]
  },
  {
   "cell_type": "code",
   "execution_count": 7,
   "id": "36926a37-682c-40d3-a078-3393df19e835",
   "metadata": {},
   "outputs": [
    {
     "data": {
      "text/plain": [
       "<Element 'p' class=('uk-article-meta', 'uk-margin-remove') style='color: #666'>"
      ]
     },
     "execution_count": 7,
     "metadata": {},
     "output_type": "execute_result"
    }
   ],
   "source": [
    "authors"
   ]
  },
  {
   "cell_type": "code",
   "execution_count": 8,
   "id": "bc12efb0-673c-4023-b96f-52b07067eb58",
   "metadata": {},
   "outputs": [
    {
     "data": {
      "text/plain": [
       "'<p class=\"uk-article-meta uk-margin-remove\" style=\"color: #666\"><a class=\"link\" href=\"result.php?filter[]=author.person.name:&quot;Oliveira, Christian J&#xFA;nior de&quot;\">Oliveira, Christian Júnior de</a>; <a class=\"link\" href=\"result.php?filter[]=author.person.name:&quot;Santos, Mois&#xE9;s Teles dos&quot;\">Santos, Moisés Teles dos</a> <a href=\"https://orcid.org/0000-0002-8082-7619\"><img src=\"inc/images/orcid_16x16.png\"/></a>; <a class=\"link\" href=\"result.php?filter[]=author.person.name:&quot;Vianna Junior, Ardson dos Santos&quot;\">Vianna Junior, Ardson dos Santos</a> <a href=\"https://orcid.org/0000-0003-0192-7839\"><img src=\"inc/images/orcid_16x16.png\"/></a></p>'"
      ]
     },
     "execution_count": 8,
     "metadata": {},
     "output_type": "execute_result"
    }
   ],
   "source": [
    "authors.html"
   ]
  },
  {
   "cell_type": "code",
   "execution_count": 9,
   "id": "80e24a66-4cd2-4c95-b372-23be7a3d9f96",
   "metadata": {},
   "outputs": [
    {
     "data": {
      "text/plain": [
       "[<Element 'a' class=('link',) href='result.php?filter[]=author.person.name:\"Oliveira, Christian Júnior de\"'>,\n",
       " <Element 'a' class=('link',) href='result.php?filter[]=author.person.name:\"Santos, Moisés Teles dos\"'>,\n",
       " <Element 'a' href='https://orcid.org/0000-0002-8082-7619'>,\n",
       " <Element 'a' class=('link',) href='result.php?filter[]=author.person.name:\"Vianna Junior, Ardson dos Santos\"'>,\n",
       " <Element 'a' href='https://orcid.org/0000-0003-0192-7839'>]"
      ]
     },
     "execution_count": 9,
     "metadata": {},
     "output_type": "execute_result"
    }
   ],
   "source": [
    "authors.find('a')"
   ]
  },
  {
   "cell_type": "code",
   "execution_count": 10,
   "id": "9404987d-fb20-4458-b009-bf8e96175b0c",
   "metadata": {},
   "outputs": [
    {
     "data": {
      "text/plain": [
       "'https://orcid.org/0000-0002-8082-7619'"
      ]
     },
     "execution_count": 10,
     "metadata": {},
     "output_type": "execute_result"
    }
   ],
   "source": [
    "authors.find('a')[2].attrs['href']"
   ]
  },
  {
   "cell_type": "code",
   "execution_count": 11,
   "id": "a07cdc3c-7417-41e5-b372-450e8f8c51b6",
   "metadata": {},
   "outputs": [
    {
     "ename": "SyntaxError",
     "evalue": "unexpected EOF while parsing (1236353434.py, line 3)",
     "output_type": "error",
     "traceback": [
      "\u001b[0;36m  Input \u001b[0;32mIn [11]\u001b[0;36m\u001b[0m\n\u001b[0;31m    print(author.href)\u001b[0m\n\u001b[0m                      ^\u001b[0m\n\u001b[0;31mSyntaxError\u001b[0m\u001b[0;31m:\u001b[0m unexpected EOF while parsing\n"
     ]
    }
   ],
   "source": [
    "for author in authors.find('a'):\n",
    "    try:\n",
    "        print(author.href)"
   ]
  },
  {
   "cell_type": "code",
   "execution_count": null,
   "id": "a02a5311-fe27-495a-be4c-fd7c8e4c1440",
   "metadata": {},
   "outputs": [],
   "source": []
  }
 ],
 "metadata": {
  "kernelspec": {
   "display_name": "Python 3 (ipykernel)",
   "language": "python",
   "name": "python3"
  },
  "language_info": {
   "codemirror_mode": {
    "name": "ipython",
    "version": 3
   },
   "file_extension": ".py",
   "mimetype": "text/x-python",
   "name": "python",
   "nbconvert_exporter": "python",
   "pygments_lexer": "ipython3",
   "version": "3.9.10"
  }
 },
 "nbformat": 4,
 "nbformat_minor": 5
}
