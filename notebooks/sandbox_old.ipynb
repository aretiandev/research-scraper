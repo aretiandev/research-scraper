{
 "cells": [
  {
   "cell_type": "markdown",
   "id": "ece39994-cf7a-433c-aac3-b2e2c39344c1",
   "metadata": {},
   "source": [
    "# Sandbox Notebook\n",
    "\n",
    "This notebook is to test features and play with code."
   ]
  },
  {
   "cell_type": "markdown",
   "id": "8137ab0c-139a-4f04-a43d-f6715f37552a",
   "metadata": {},
   "source": [
    "## Regular expressions"
   ]
  },
  {
   "cell_type": "code",
   "execution_count": null,
   "id": "4cd8362f-212c-4843-bf6e-df11bc96a230",
   "metadata": {},
   "outputs": [],
   "source": [
    "import re\n",
    "import sys\n",
    "sys.path.append(\"../scripts/\")"
   ]
  },
  {
   "cell_type": "code",
   "execution_count": null,
   "id": "0ec2a3c4-44db-406d-8b1a-7ae6f91bb1a1",
   "metadata": {},
   "outputs": [],
   "source": [
    "from src.scrape import get_urls"
   ]
  },
  {
   "cell_type": "code",
   "execution_count": null,
   "id": "b83b65b3-c5ff-4fc6-9b1a-4c11e120bd81",
   "metadata": {},
   "outputs": [],
   "source": [
    "urls = get_urls(items=\"author_urls\")"
   ]
  },
  {
   "cell_type": "code",
   "execution_count": null,
   "id": "9cf71f32-7ced-49a9-a184-11946eb97ab6",
   "metadata": {},
   "outputs": [],
   "source": [
    "regex = re.compile(\n",
    "    \"^https://portalrecerca.csuc.cat/simple-search\\?query=.*&start=[0-9]*\"\n",
    ")\n",
    "result = [regex.match(url) for url in urls]"
   ]
  },
  {
   "cell_type": "code",
   "execution_count": null,
   "id": "791d37fe-b612-4b42-9a93-19fe12e09741",
   "metadata": {},
   "outputs": [],
   "source": [
    "all(result)"
   ]
  },
  {
   "cell_type": "code",
   "execution_count": null,
   "id": "2462b752-a03d-42f9-b105-572cd6726532",
   "metadata": {},
   "outputs": [],
   "source": [
    "result[:5]"
   ]
  },
  {
   "cell_type": "code",
   "execution_count": null,
   "id": "bf0156eb-7620-4c3d-9e29-20e9a9a81e74",
   "metadata": {},
   "outputs": [],
   "source": [
    "result[1]"
   ]
  },
  {
   "cell_type": "code",
   "execution_count": null,
   "id": "c37fef0a-4cf2-4f24-b0d3-f78320eb1359",
   "metadata": {},
   "outputs": [],
   "source": [
    "d = {}\n",
    "for c in (65, 97):\n",
    "    for i in range(26):\n",
    "        d[chr(i+c)] = chr((i+13) % 26 + c)"
   ]
  },
  {
   "cell_type": "code",
   "execution_count": null,
   "id": "2e090396-64ee-4ddc-9ef6-1a01a58f9c0a",
   "metadata": {},
   "outputs": [],
   "source": [
    "s = \"\"\"Gur Mra bs Clguba, ol Gvz Crgref\n",
    "Ornhgvshy vf orggre guna htyl.\n",
    "Rkcyvpvg vf orggre guna vzcyvpvg.\n",
    "Fvzcyr vf orggre guna pbzcyrk.\n",
    "Pbzcyrk vf orggre guna pbzcyvpngrq.\n",
    "Syng vf orggre guna arfgrq.\n",
    "Fcnefr vf orggre guna qrafr.\n",
    "Ernqnovyvgl pbhagf.\n",
    "Fcrpvny pnfrf nera'g fcrpvny rabhtu gb oernx gur ehyrf.\n",
    "Nygubhtu cenpgvpnyvgl orngf chevgl.\n",
    "Reebef fubhyq arire cnff fvyragyl.\n",
    "Hayrff rkcyvpvgyl fvyraprq.\n",
    "Va gur snpr bs nzovthvgl, ershfr gur grzcgngvba gb thrff.\n",
    "Gurer fubhyq or bar-- naq cersrenoyl bayl bar --boivbhf jnl gb qb vg.\n",
    "Nygubhtu gung jnl znl abg or boivbhf ng svefg hayrff lbh'er Qhgpu.\n",
    "Abj vf orggre guna arire.\n",
    "Nygubhtu arire vf bsgra orggre guna *evtug* abj.\n",
    "Vs gur vzcyrzragngvba vf uneq gb rkcynva, vg'f n onq vqrn.\n",
    "Vs gur vzcyrzragngvba vf rnfl gb rkcynva, vg znl or n tbbq vqrn.\n",
    "Anzrfcnprf ner bar ubaxvat terng vqrn -- yrg'f qb zber bs gubfr!\"\"\""
   ]
  },
  {
   "cell_type": "code",
   "execution_count": null,
   "id": "44d32e7a-f596-4352-a217-d5a0593b7432",
   "metadata": {},
   "outputs": [],
   "source": [
    "print(\"\".join([d.get(c, c) for c in s]))"
   ]
  },
  {
   "cell_type": "code",
   "execution_count": null,
   "id": "f3e49af1-b88e-46f0-8779-99afb735664f",
   "metadata": {},
   "outputs": [],
   "source": [
    "result = ['orcid/0000-0002-9323-5073', 'orcid/0000-0003-0763-2695', 'orcid/0000-0002-6078-0956', 'orcid/0000-0002-8129-7859', 'orcid/0000-0003-4265-1656', 'orcid/0000-0003-0260-9170', 'orcid/0000-0001-7684-956X', 'orcid/0000-0003-1818-1236', 'orcid/0000-0003-1447-2087', 'orcid/0000-0002-5935-5709']"
   ]
  },
  {
   "cell_type": "code",
   "execution_count": null,
   "id": "d43ef32a-cffb-46b8-a450-ecc72c1c4d90",
   "metadata": {},
   "outputs": [],
   "source": [
    "url_regex = re.compile(\n",
    "                        r\"^orcid\\/[0-9]\\{4\\}-[0-9]\\{4\\}-[0-9]\\{4\\}-[0-9]\\{4\\}\"\n",
    "                        )\n",
    "urls_match_regex = all([url_regex.match(url) for url in result])"
   ]
  },
  {
   "cell_type": "code",
   "execution_count": null,
   "id": "3cd4b8b0-02f3-4392-aee5-466d68cfa363",
   "metadata": {},
   "outputs": [],
   "source": [
    "# url_regex = r\"^orcid\\/[0-9]\\{4\\}-[0-9]\\{4\\}-[0-9]\\{4\\}-[0-9]\\{4\\}\"\n",
    "url_regex = r\"^orcid/[0-9X]{4}-[0-9X]{4}-[0-9X]{4}-[0-9X]{4}\\b\"\n",
    "# url_regex = r\"^orcid/[0-9]{4}-.*\"\n",
    "\n",
    "url_regex_comp = re.compile(url_regex)\n",
    "[url_regex_comp.match(url) for url in result]"
   ]
  },
  {
   "cell_type": "code",
   "execution_count": null,
   "id": "e8a5a221-e5f5-48d4-96d7-98b712fdb7aa",
   "metadata": {},
   "outputs": [],
   "source": [
    "result"
   ]
  },
  {
   "cell_type": "markdown",
   "id": "cc58cc7f-6ee4-4e7f-ae2c-8505e3b63efe",
   "metadata": {},
   "source": [
    "# Pickle"
   ]
  },
  {
   "cell_type": "code",
   "execution_count": null,
   "id": "3225e0bf-7dfe-4886-b1aa-da1df94859e7",
   "metadata": {},
   "outputs": [],
   "source": [
    "import pickle\n",
    "from requests_html import HTML, AsyncHTMLSession"
   ]
  },
  {
   "cell_type": "code",
   "execution_count": null,
   "id": "38d36b70-1f7d-4c60-8287-ada42efadbd4",
   "metadata": {},
   "outputs": [],
   "source": [
    "with open(\"../scripts/tests/author_urls.pickle\", \"rb\") as f:\n",
    "    r = pickle.load(f)"
   ]
  },
  {
   "cell_type": "code",
   "execution_count": null,
   "id": "f530e1e1-ea82-4077-b7de-3b3713424b0f",
   "metadata": {},
   "outputs": [],
   "source": [
    "# session = s\n",
    "# url = url\n",
    "# html = \n",
    "# self._html = HTML(session=self.session, url=self.url, html=self.content, default_encoding=self.encoding)"
   ]
  },
  {
   "cell_type": "code",
   "execution_count": null,
   "id": "e6512c74-cf4a-41ae-8879-71731ac1b8d6",
   "metadata": {},
   "outputs": [],
   "source": [
    "s = AsyncHTMLSession()"
   ]
  },
  {
   "cell_type": "code",
   "execution_count": null,
   "id": "33ddeaae-9eb7-4443-9103-d1fc9a6f425b",
   "metadata": {},
   "outputs": [],
   "source": [
    "url=\"https://portalrecerca.csuc.cat/simple-search?query=&location=crisrp&filter_field_1=resourcetype&filter_type_1=equals&filter_value_1=Researchers&filter_field_2=&filter_type_2=&filter_value_2=&sort_by=crisrp.fullName_sort&order=asc&rpp=300&etal=0&start=0\""
   ]
  },
  {
   "cell_type": "code",
   "execution_count": null,
   "id": "1e216f0d-a022-4f4a-806a-7378b6c0bbbc",
   "metadata": {
    "jupyter": {
     "outputs_hidden": true
    },
    "tags": []
   },
   "outputs": [],
   "source": [
    "HTML(session=s, url=url, html=r).find('a')"
   ]
  },
  {
   "cell_type": "code",
   "execution_count": null,
   "id": "a38d6982-e69f-45cf-a2d1-47b88ef243d5",
   "metadata": {},
   "outputs": [],
   "source": [
    "import requests\n",
    "r = requests.get(url)"
   ]
  },
  {
   "cell_type": "code",
   "execution_count": null,
   "id": "e3b82988-ae72-440e-914b-d6e486ac6efe",
   "metadata": {},
   "outputs": [],
   "source": [
    "HTML(url=url, html=r.content)"
   ]
  },
  {
   "cell_type": "code",
   "execution_count": null,
   "id": "e0bdb361-e312-4357-80c6-b81586cb252a",
   "metadata": {},
   "outputs": [],
   "source": [
    "r.content"
   ]
  },
  {
   "cell_type": "code",
   "execution_count": null,
   "id": "cec6cba2-5720-454f-9459-6d021c44c227",
   "metadata": {},
   "outputs": [],
   "source": []
  }
 ],
 "metadata": {
  "kernelspec": {
   "display_name": "Python 3 (ipykernel)",
   "language": "python",
   "name": "python3"
  },
  "language_info": {
   "codemirror_mode": {
    "name": "ipython",
    "version": 3
   },
   "file_extension": ".py",
   "mimetype": "text/x-python",
   "name": "python",
   "nbconvert_exporter": "python",
   "pygments_lexer": "ipython3",
   "version": "3.10.11"
  }
 },
 "nbformat": 4,
 "nbformat_minor": 5
}
