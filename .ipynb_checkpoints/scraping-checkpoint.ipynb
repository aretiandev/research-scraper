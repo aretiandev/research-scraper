{
 "cells": [
  {
   "cell_type": "markdown",
   "id": "793685b1-f707-4b6a-b0cc-2f87b38578c1",
   "metadata": {},
   "source": [
    "# Get Papers"
   ]
  },
  {
   "cell_type": "markdown",
   "id": "0a3fb252-e4cc-44f8-93f1-5cd99d578ee1",
   "metadata": {},
   "source": [
    "## Import modules"
   ]
  },
  {
   "cell_type": "code",
   "execution_count": null,
   "id": "0013bc2d-3dd8-4503-ac94-94e562d87b34",
   "metadata": {},
   "outputs": [],
   "source": [
    "from requests_html import HTMLSession\n",
    "import pandas as pd"
   ]
  },
  {
   "cell_type": "markdown",
   "id": "b8904461-015a-4cd7-bdc7-e2a25a1ce2e3",
   "metadata": {},
   "source": [
    "## Setup"
   ]
  },
  {
   "cell_type": "code",
   "execution_count": null,
   "id": "b25b35f0-ae26-4f77-9596-3f1dc537de78",
   "metadata": {},
   "outputs": [],
   "source": [
    "# Start requests-HTML session\n",
    "session = HTMLSession()\n",
    "\n",
    "# url = 'https://portalrecerca.csuc.cat/simple-search?filtername=resourcetype&filterquery=Researchers&filtertype=equals&sort_by=crisrp.fullName_sort&order=ASC&location=crisrp'\n",
    "# url_root = 'https://portalrecerca.csuc.cat/simple-search?query=&location=crisrp&filter_field_1=resourcetype&filter_type_1=equals&filter_value_1=Researchers&sort_by=crisrp.fullName_sort&order=asc&rpp=100&etal=0&start='\n",
    "\n",
    "# Download 300 papers, ordered by author name\n",
    "url_root = \\\n",
    "    'https://portalrecerca.csuc.cat/simple-search?query=&location=publications&filter_field_1=resourcetype&filter_type_1=equals&filter_value_1=Items&filter_field_2=itemtype&filter_type_2=notequals&filter_value_2=Phd+Thesis&sort_by=dc.contributor.authors_sort&order=asc&rpp=300&etal=0&start='\n",
    "\n",
    "paper_link = \\\n",
    "    'https://portalrecerca.csuc.cat/article/doi/10.1038/nri3262'\n",
    "\n",
    "# Download IGTP papers\n",
    "url_root = \\\n",
    "    'https://portalrecerca.csuc.cat/simple-search?query=&location=publications&filter_field_1=resourcetype&filter_type_1=equals&filter_value_1=Items&filter_field_2=itemtype&filter_type_2=notequals&filter_value_2=Phd+Thesis&filter_field_3=location.coll&filter_type_3=equals&filter_value_3=349&sort_by=dc.contributor.authors_sort&order=asc&rpp=300&etal=0&start='\n",
    "\n",
    "# https://portalrecerca.csuc.cat/57253720\n",
    "\n",
    "# Begin loop\n",
    "page_number = 0  # Start loop here\n",
    "# max_pages = 2\n",
    "# max_pages = 100\n",
    "# max_pages = 2240\n",
    "max_pages = 19\n",
    "papers_list = []"
   ]
  },
  {
   "cell_type": "markdown",
   "id": "0fa3f4d5-515c-4d32-8e68-36851c423fa3",
   "metadata": {},
   "source": [
    "## Loop"
   ]
  },
  {
   "cell_type": "code",
   "execution_count": null,
   "id": "e812f4c7-94b1-4b2b-9de5-b78069689681",
   "metadata": {},
   "outputs": [],
   "source": [
    "while page_number < max_pages:\n",
    "    print(f\"Progress: {round(page_number/(max_pages)*100)}%. Scraping page: {page_number}/{max_pages}.\", end=\"\\r\")\n",
    "    print('')\n",
    "\n",
    "    # Create URL\n",
    "    url = url_root + str(300*page_number)\n",
    "    # Update page counter\n",
    "    page_number += 1\n",
    "    # Get page\n",
    "    r = session.get(url)\n",
    "    # Get table\n",
    "    table = r.html.find('div.panel.panel-info table.table', first=True)\n",
    "    # Read rows from table\n",
    "    rows = table.find('tr')\n",
    "\n",
    "    for row in rows:\n",
    "        columns = row.find('td')\n",
    "        # Skip if empty row\n",
    "        if len(columns) == 0:\n",
    "            continue\n",
    "        # Get author data\n",
    "        paper_date    = columns[0].text\n",
    "        paper_title   = columns[1].text\n",
    "        paper_authors = columns[2].text\n",
    "        paper_type    = columns[3].text\n",
    "\n",
    "        paper = {}\n",
    "        paper['date'] = paper_date\n",
    "        paper['title'] = paper_title\n",
    "        paper['type'] = paper_type\n",
    "\n",
    "        paper_authors_list= paper_authors.split(';')\n",
    "        for i, author in enumerate(paper_authors_list):\n",
    "            paper[f\"author_{i}\"] = author\n",
    "\n",
    "        # try:\n",
    "            # author_first = author_name.split(',')[1]\n",
    "        # except Exception:  # If there is no comma in the name\n",
    "            # author_first = ''\n",
    "        # author_inst = columns[1].text\n",
    "\n",
    "        # author_dict = {\n",
    "        #     'Last Name': author_last,\n",
    "        #     'First Name': author_first,\n",
    "        #     'Institution': author_inst,\n",
    "        #     }\n",
    "\n",
    "        # Append to author list\n",
    "        papers_list.append(paper)\n",
    "\n",
    "papers_df = pd.DataFrame.from_records(papers_list)\n",
    "\n",
    "data_folder =  '../data/network of talent/research networks/Scraping/'\n",
    "papers_df.to_csv(data_folder + 'raw/papers_IGTP.csv')\n",
    "print('')\n",
    "print('Saved output to file papers_IGTP.csv')"
   ]
  },
  {
   "cell_type": "markdown",
   "id": "9fe3aa60-7b9e-4a01-a1cc-0ef139b062b9",
   "metadata": {},
   "source": [
    "# Get full names"
   ]
  },
  {
   "cell_type": "code",
   "execution_count": 1,
   "id": "f9c1bc15-e707-4598-9292-6d942f724f90",
   "metadata": {},
   "outputs": [],
   "source": [
    "from requests_html import HTMLSession\n",
    "import pandas as pd"
   ]
  },
  {
   "cell_type": "markdown",
   "id": "762926d7-bd0c-4347-a3b2-545ac114c595",
   "metadata": {},
   "source": [
    "## Helper functions"
   ]
  },
  {
   "cell_type": "code",
   "execution_count": 45,
   "id": "a5ca1bca-cb51-4bf9-b4e9-d1b2072e178d",
   "metadata": {},
   "outputs": [],
   "source": [
    "# Get max pages from pagination box in footer\n",
    "def get_max_pages(session_object):\n",
    "    pagination_box = session_object.html.find('ul.pagination.pull-right')\n",
    "    pagination_items = pagination_box[0].find('li')\n",
    "    max_pages = pagination_items[-2].text.replace('.','').replace(',','')\n",
    "    return max_pages\n",
    "\n",
    "# Get papers links\n",
    "def scrape( \n",
    "    items      = 'links', \n",
    "    url_root   = None,\n",
    "    max_pages  = None, \n",
    "    page_start = 0):\n",
    "    \n",
    "    print(f\"Scraping {items} from Portal de la Reserca.\")\n",
    "    \n",
    "    if not url_root:\n",
    "        if items == 'authors':\n",
    "            url_root = 'https://portalrecerca.csuc.cat/simple-search?query=&location=crisrp&filter_field_1=resourcetype&filter_type_1=equals&filter_value_1=Researchers&sort_by=crisrp.fullName_sort&order=asc&rpp=300&etal=0&start='\n",
    "            url_root = 'https://portalrecerca.csuc.cat/simple-search?query=&location=crisrp&filter_field_1=resourcetype&filter_type_1=equals&filter_value_1=Researchers&sort_by=crisrp.fullName_sort&order=asc&rpp=300&etal=0&start='\n",
    "        elif items == 'links' or items == 'papers':\n",
    "            url_root = 'https://portalrecerca.csuc.cat/simple-search?query=&location=publications&filter_field_1=resourcetype&filter_type_1=equals&filter_value_1=Items&filter_field_2=itemtype&filter_type_2=notequals&filter_value_2=Phd+Thesis&sort_by=dc.contributor.authors_sort&order=asc&rpp=300&etal=0&start=' \n",
    "        \n",
    "    if not max_pages:\n",
    "        url = url_root + '0'\n",
    "        r = session.get(url)\n",
    "        max_pages = get_max_pages(r)\n",
    "            \n",
    "    page_number = page_start\n",
    "    \n",
    "    result_list = []\n",
    "        \n",
    "    while page_number < max_pages:\n",
    "        # Progress\n",
    "        print(f\"Progress: {round(page_number/(max_pages)*100)}%. Scraping page: {page_number}/{max_pages}.\", end=\"\\r\")\n",
    "\n",
    "        # Create URL\n",
    "        url = url_root + str(300*page_number)\n",
    "        # Update page counter\n",
    "        page_number += 1\n",
    "        # Get page\n",
    "        r = session.get(url)\n",
    "        # Get table\n",
    "        table = r.html.find('div.panel.panel-info table.table', first=True)\n",
    "        # Get rows from table\n",
    "        rows = table.find('tr')\n",
    "\n",
    "        for row in rows:\n",
    "            # Get columns in row\n",
    "            columns = row.find('td')\n",
    "            # Skip if empty row\n",
    "            if len(columns) == 0:\n",
    "                continue\n",
    "                \n",
    "            if items == 'links':\n",
    "                # Get paper link\n",
    "                paper_link = columns[1].find('a')[0].attrs['href']\n",
    "                scrape_item = paper_link\n",
    "            \n",
    "            elif items == 'papers':\n",
    "                # Get paper data\n",
    "                paper_date    = columns[0].text\n",
    "                paper_title   = columns[1].text\n",
    "                paper_authors = columns[2].text\n",
    "                paper_type    = columns[3].text\n",
    "\n",
    "                paper = {}\n",
    "                paper['date'] = paper_date\n",
    "                paper['title'] = paper_title\n",
    "                paper['type'] = paper_type\n",
    "\n",
    "                paper_authors_list= paper_authors.split(';')\n",
    "                for i, author in enumerate(paper_authors_list):\n",
    "                    paper[f\"author_{i}\"] = author\n",
    "\n",
    "                scrape_item = paper\n",
    "                \n",
    "            elif items == 'authors':\n",
    "                # Get author data\n",
    "                author_name = columns[0].text\n",
    "                author_last = author_name.split(',')[0]\n",
    "\n",
    "                try:\n",
    "                    author_first = author_name.split(',')[1]\n",
    "                except IndexError:  # If there is no comma in the name\n",
    "                    author_first = ''\n",
    "\n",
    "                author_inst = columns[1].text\n",
    "\n",
    "                author_dict = {\n",
    "                    'Last Name': author_last,\n",
    "                    'First Name': author_first,\n",
    "                    'Institution': author_inst,\n",
    "                    }\n",
    "\n",
    "                scrape_item = author_dict\n",
    "                \n",
    "            # Append to paper links list\n",
    "            result_list.append(scrape_item)\n",
    "        \n",
    "    if page_number == max_pages:\n",
    "        print(\"Progress: 100%                                  \")\n",
    "        \n",
    "    if items == 'links':\n",
    "        result_df = pd.DataFrame(result_list, columns=['paper links'])\n",
    "    else:\n",
    "        result_df = pd.DataFrame.from_records(result_list)\n",
    "              \n",
    "    return result_df"
   ]
  },
  {
   "cell_type": "markdown",
   "id": "eb8fd9a8-c9cb-458a-a833-752a7b31a025",
   "metadata": {},
   "source": [
    "## Scrape"
   ]
  },
  {
   "cell_type": "markdown",
   "id": "663a2a7e-f555-4776-ba3f-4bff65acf982",
   "metadata": {},
   "source": [
    "## Setup"
   ]
  },
  {
   "cell_type": "code",
   "execution_count": 46,
   "id": "864adf4e-b7c6-4c97-975a-fdeb08e2c127",
   "metadata": {},
   "outputs": [],
   "source": [
    "session = HTMLSession()\n",
    "\n",
    "# Download 300 papers, ordered by author name\n",
    "# url_root = \\\n",
    "#     'https://portalrecerca.csuc.cat/simple-search?query=&location=publications&filter_field_1=resourcetype&filter_type_1=equals&filter_value_1=Items&filter_field_2=itemtype&filter_type_2=notequals&filter_value_2=Phd+Thesis&sort_by=dc.contributor.authors_sort&order=asc&rpp=300&etal=0&start='\n",
    "\n",
    "# Download IGTP papers\n",
    "# url_root = \\\n",
    "    # 'https://portalrecerca.csuc.cat/simple-search?query=&location=publications&filter_field_1=resourcetype&filter_type_1=equals&filter_value_1=Items&filter_field_2=itemtype&filter_type_2=notequals&filter_value_2=Phd+Thesis&filter_field_3=location.coll&filter_type_3=equals&filter_value_3=349&sort_by=dc.contributor.authors_sort&order=asc&rpp=300&etal=0&start='"
   ]
  },
  {
   "cell_type": "markdown",
   "id": "914cfd93-7e5d-482e-a4bb-cb81948a73e5",
   "metadata": {},
   "source": [
    "## Scrape"
   ]
  },
  {
   "cell_type": "code",
   "execution_count": 49,
   "id": "bad5cae7-476f-4b53-97f4-999e7f52be23",
   "metadata": {},
   "outputs": [
    {
     "name": "stdout",
     "output_type": "stream",
     "text": [
      "Scraping papers from Portal de la Reserca.\n",
      "Progress: 100%                                  \n"
     ]
    }
   ],
   "source": [
    "items_to_scrape = 'papers'\n",
    "result_df = scrape(items_to_scrape, max_pages=3)"
   ]
  },
  {
   "cell_type": "markdown",
   "id": "730c9219-8d8b-4e8b-a0f1-0994f83e34c9",
   "metadata": {},
   "source": [
    "## Save output"
   ]
  },
  {
   "cell_type": "code",
   "execution_count": 34,
   "id": "3407105a-81d9-4ccf-ace0-73d3796b5da1",
   "metadata": {},
   "outputs": [
    {
     "name": "stdout",
     "output_type": "stream",
     "text": [
      "world\n"
     ]
    }
   ],
   "source": [
    "data_folder =  '../data/network of talent/research networks/Scraping'\n",
    "result_df.to_csv(f\"{data_folder}/raw/{items_to_scrape}.csv')\n",
    "print('')\n",
    "print(f\"Saved output to file {items_to_scrape}.csv\")"
   ]
  },
  {
   "cell_type": "code",
   "execution_count": null,
   "id": "d17c52b2-2c7e-4e17-9f00-1c19c1813878",
   "metadata": {},
   "outputs": [],
   "source": []
  },
  {
   "cell_type": "code",
   "execution_count": null,
   "id": "afc16ab3-2b89-4eaa-a829-1eb5731c6772",
   "metadata": {},
   "outputs": [],
   "source": [
    "# paper_link = \\\n",
    "# 'https://portalrecerca.csuc.cat/article/doi/10.1038/nri3262'\n",
    "\n",
    "\n",
    "\n",
    "# Begin loop\n",
    "page_number = 0  # Start loop here\n",
    "# max_pages = 2\n",
    "# max_pages = 100\n",
    "# max_pages = 2240\n",
    "# max_pages = 10\n",
    "max_pages = 2240\n",
    "\n",
    "    \n",
    "\n",
    "\n",
    "# Save\n",
    "data_folder =  '../data/network of talent/research networks/Scraping/'\n",
    "papers_df.to_csv(data_folder + 'raw/paper_links.csv')\n",
    "\n",
    "print('')\n",
    "print('Saved output to file paper_links.csv')"
   ]
  },
  {
   "cell_type": "code",
   "execution_count": null,
   "id": "ed1adee0-cfa1-42cd-843a-7f987dbaa03a",
   "metadata": {},
   "outputs": [],
   "source": [
    "papers_df"
   ]
  },
  {
   "cell_type": "code",
   "execution_count": null,
   "id": "f9318444-c73b-4656-abcc-b5c98caa4236",
   "metadata": {},
   "outputs": [],
   "source": []
  }
 ],
 "metadata": {
  "kernelspec": {
   "display_name": "Python 3 (ipykernel)",
   "language": "python",
   "name": "python3"
  },
  "language_info": {
   "codemirror_mode": {
    "name": "ipython",
    "version": 3
   },
   "file_extension": ".py",
   "mimetype": "text/x-python",
   "name": "python",
   "nbconvert_exporter": "python",
   "pygments_lexer": "ipython3",
   "version": "3.9.6"
  }
 },
 "nbformat": 4,
 "nbformat_minor": 5
}
