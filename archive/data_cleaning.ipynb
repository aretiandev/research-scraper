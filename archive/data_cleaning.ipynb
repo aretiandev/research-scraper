{
 "cells": [
  {
   "cell_type": "markdown",
   "id": "2c1b4c28-b2e8-41bc-b46c-2259c19c9f96",
   "metadata": {},
   "source": [
    "# Clean data\n",
    "\n",
    "This notebook cleans and manipulates the scraped data from Portal de la Reserca\n",
    "\n",
    "Date Created: 2/16/2022"
   ]
  },
  {
   "cell_type": "markdown",
   "id": "404c3718-6170-4d8a-b6ad-4e9fc7f62461",
   "metadata": {},
   "source": [
    "## Import modules"
   ]
  },
  {
   "cell_type": "code",
   "execution_count": 4,
   "id": "308f0f25-5918-4ef1-b7c2-c5ec6e6e719f",
   "metadata": {},
   "outputs": [],
   "source": [
    "import pandas as pd"
   ]
  },
  {
   "cell_type": "markdown",
   "id": "1aeb1d38-31d0-4be7-a3f0-7b06c1b9903c",
   "metadata": {},
   "source": [
    "## Select IGTP from authors"
   ]
  },
  {
   "cell_type": "code",
   "execution_count": null,
   "id": "dbf0030e-dfbc-4b8a-aa7a-957f9b1faf83",
   "metadata": {},
   "outputs": [],
   "source": [
    "data_folder =  '../data/network of talent/research networks/Scraping/'"
   ]
  },
  {
   "cell_type": "code",
   "execution_count": null,
   "id": "d396dcb0-e9b0-435f-a593-c9ec6c01d8cd",
   "metadata": {},
   "outputs": [],
   "source": [
    "df = pd.read_csv(data_folder + 'raw/authors.csv', usecols=[1,2,3])\n",
    "df = df.loc[df['Institution'] == 'IGTP']\n",
    "df.to_csv(data_folder + 'processed/authors_IGTP.csv')"
   ]
  },
  {
   "cell_type": "markdown",
   "id": "14f8bbc9-f041-4ac1-b9e0-c775e71df455",
   "metadata": {},
   "source": [
    "## Select IGTP from publications"
   ]
  },
  {
   "cell_type": "code",
   "execution_count": 20,
   "id": "fa4844d3-468d-4052-8947-97ff90e508db",
   "metadata": {},
   "outputs": [
    {
     "data": {
      "text/html": [
       "<div>\n",
       "<style scoped>\n",
       "    .dataframe tbody tr th:only-of-type {\n",
       "        vertical-align: middle;\n",
       "    }\n",
       "\n",
       "    .dataframe tbody tr th {\n",
       "        vertical-align: top;\n",
       "    }\n",
       "\n",
       "    .dataframe thead th {\n",
       "        text-align: right;\n",
       "    }\n",
       "</style>\n",
       "<table border=\"1\" class=\"dataframe\">\n",
       "  <thead>\n",
       "    <tr style=\"text-align: right;\">\n",
       "      <th></th>\n",
       "      <th>date</th>\n",
       "      <th>title</th>\n",
       "      <th>type</th>\n",
       "    </tr>\n",
       "  </thead>\n",
       "  <tbody>\n",
       "    <tr>\n",
       "      <th>0</th>\n",
       "      <td>2020</td>\n",
       "      <td>'Gente sin casa y casas sin gente. Políticas y...</td>\n",
       "      <td>Capítol o part de llibre</td>\n",
       "    </tr>\n",
       "    <tr>\n",
       "      <th>1</th>\n",
       "      <td>1999</td>\n",
       "      <td>Occupation and Bladder Cancer in European Women</td>\n",
       "      <td>Article</td>\n",
       "    </tr>\n",
       "    <tr>\n",
       "      <th>2</th>\n",
       "      <td>1997</td>\n",
       "      <td>N-Protection of Aminoacid Derivarites Catalyze...</td>\n",
       "      <td>Article</td>\n",
       "    </tr>\n",
       "    <tr>\n",
       "      <th>3</th>\n",
       "      <td>2010</td>\n",
       "      <td>The HIV-CAUSAL collaboration. 'The effect of c...</td>\n",
       "      <td>Article</td>\n",
       "    </tr>\n",
       "    <tr>\n",
       "      <th>4</th>\n",
       "      <td>2013</td>\n",
       "      <td>Integración de la responsabilidad social en lo...</td>\n",
       "      <td>Llibre</td>\n",
       "    </tr>\n",
       "  </tbody>\n",
       "</table>\n",
       "</div>"
      ],
      "text/plain": [
       "   date                                              title  \\\n",
       "0  2020  'Gente sin casa y casas sin gente. Políticas y...   \n",
       "1  1999    Occupation and Bladder Cancer in European Women   \n",
       "2  1997  N-Protection of Aminoacid Derivarites Catalyze...   \n",
       "3  2010  The HIV-CAUSAL collaboration. 'The effect of c...   \n",
       "4  2013  Integración de la responsabilidad social en lo...   \n",
       "\n",
       "                       type  \n",
       "0  Capítol o part de llibre  \n",
       "1                   Article  \n",
       "2                   Article  \n",
       "3                   Article  \n",
       "4                    Llibre  "
      ]
     },
     "execution_count": 20,
     "metadata": {},
     "output_type": "execute_result"
    }
   ],
   "source": [
    "df = pd.read_csv(data_folder + 'raw/papers.csv', usecols=[1,2,3], nrows=20)\n",
    "df.head()"
   ]
  },
  {
   "cell_type": "code",
   "execution_count": null,
   "id": "de449e92-a188-48aa-88bc-aff6a108f025",
   "metadata": {},
   "outputs": [],
   "source": []
  }
 ],
 "metadata": {
  "kernelspec": {
   "display_name": "Python 3 (ipykernel)",
   "language": "python",
   "name": "python3"
  },
  "language_info": {
   "codemirror_mode": {
    "name": "ipython",
    "version": 3
   },
   "file_extension": ".py",
   "mimetype": "text/x-python",
   "name": "python",
   "nbconvert_exporter": "python",
   "pygments_lexer": "ipython3",
   "version": "3.9.6"
  }
 },
 "nbformat": 4,
 "nbformat_minor": 5
}
