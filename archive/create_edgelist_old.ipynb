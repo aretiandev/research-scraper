{
 "cells": [
  {
   "cell_type": "markdown",
   "id": "a9722fea-7375-40cd-be0d-91abd54100a6",
   "metadata": {},
   "source": [
    "# Post processing scraped data\n",
    "\n",
    "This notebook processes the scraped data from Portal de la Reserca to create the Nodelist and Edges to plot in Gephi."
   ]
  },
  {
   "cell_type": "markdown",
   "id": "9d27f59b-cfdd-4f38-bcf0-38e4e5e44cd1",
   "metadata": {
    "tags": []
   },
   "source": [
    "# Import modules"
   ]
  },
  {
   "cell_type": "code",
   "execution_count": 14,
   "id": "553d9af1-da9d-4718-b27a-45d4ef954fac",
   "metadata": {},
   "outputs": [],
   "source": [
    "import numpy as np\n",
    "import pandas as pd\n",
    "from ast import literal_eval\n",
    "from itertools import combinations\n",
    "import random"
   ]
  },
  {
   "cell_type": "markdown",
   "id": "f1533c6a-f0ad-4357-b6a0-f689e647fdf3",
   "metadata": {},
   "source": [
    "# Load data"
   ]
  },
  {
   "cell_type": "markdown",
   "id": "d665e1b0-d48e-4b3c-92ad-2821cd98d9f4",
   "metadata": {},
   "source": [
    "## Get researchers"
   ]
  },
  {
   "cell_type": "markdown",
   "id": "e3a5d3c8-6249-48ae-aaf9-3f16dc12e501",
   "metadata": {},
   "source": [
    "### Select institution"
   ]
  },
  {
   "cell_type": "code",
   "execution_count": 15,
   "id": "b6c38d9a-4a34-4dbf-b8ac-70d21d1b9149",
   "metadata": {},
   "outputs": [],
   "source": [
    "# Select institution\n",
    "institution = 'IGTP'\n",
    "# institution = 'UPC'\n",
    "# institution = 'UB'\n",
    "# institution = 'UPF'\n",
    "# institution = 'UVic-UCC'\n",
    "# institution = 'UOC'\n"
   ]
  },
  {
   "cell_type": "markdown",
   "id": "fc4b6154-c28b-44fc-a245-0334aa19f466",
   "metadata": {
    "tags": []
   },
   "source": [
    "### Get papers of institution"
   ]
  },
  {
   "cell_type": "code",
   "execution_count": 16,
   "id": "5f440642-e060-4a79-b8e3-d51469842f37",
   "metadata": {
    "tags": []
   },
   "outputs": [],
   "source": [
    "# Load authors from papers dataset\n",
    "papers = pd.read_csv(f'./data/papers_{institution}.csv', converters = {'orcids': eval}, usecols=['orcids'])\n",
    "\n",
    "# Get papers column\n",
    "# authors = papers_inst['orcids'].copy()\n",
    "papers = papers['orcids']"
   ]
  },
  {
   "cell_type": "markdown",
   "id": "b666b655-f6c6-49d9-85b8-283eb7183408",
   "metadata": {},
   "source": [
    "## Extract random sample"
   ]
  },
  {
   "cell_type": "code",
   "execution_count": 17,
   "id": "7e046c7a-a46c-4e49-805a-aba03365fb30",
   "metadata": {},
   "outputs": [],
   "source": [
    "# threshold = 400\n",
    "# papers = papers.sample(threshold, random_state=0)"
   ]
  },
  {
   "cell_type": "markdown",
   "id": "71e514ca-a0ae-471f-bf64-df8b1901dd04",
   "metadata": {},
   "source": [
    "## Create papers matrix"
   ]
  },
  {
   "cell_type": "code",
   "execution_count": 18,
   "id": "8b92cf3f-d0e3-413b-9784-9cc632e2e600",
   "metadata": {
    "tags": []
   },
   "outputs": [],
   "source": [
    "# Get unique list of authors from papers\n",
    "authors_papers = list(set(papers.sum()))\n",
    "authors_papers.sort()\n",
    "\n",
    "# Get list of authors from institution\n",
    "authors_inst = pd.read_csv(f'./data/nodelist_{institution}.csv', usecols=['id'])\n",
    "authors_inst = authors_inst['id']\n",
    "authors_inst = authors_inst.unique()\n",
    "authors_inst.sort()\n",
    "\n",
    "# Combine both\n",
    "authors_index = list(set(authors_papers) & set(authors_inst))\n",
    "authors_index.sort()\n",
    "\n",
    "# Create boolean matrix with papers\n",
    "paper_bool_df = pd.DataFrame(columns=authors_index, index=range(len(papers)))\n",
    "\n",
    "for i, paper in enumerate(papers):\n",
    "    paper_bool_df.loc[i,:] = 0\n",
    "    for orcid in paper:\n",
    "        if orcid in paper_bool_df.columns: # only count authors in institution\n",
    "            paper_bool_df.loc[i,orcid] = 1\n",
    "        \n",
    "# Convert to numpy\n",
    "papers_mat = paper_bool_df.to_numpy()"
   ]
  },
  {
   "cell_type": "markdown",
   "id": "317e5f9a-2365-42a4-a3ec-97d11d548cdc",
   "metadata": {},
   "source": [
    "# Calculate collaborations"
   ]
  },
  {
   "cell_type": "markdown",
   "id": "0ddf6209-a7fa-4995-a9db-e742e392d681",
   "metadata": {},
   "source": [
    "## Fast computation\n",
    "\n",
    "1. create df to store all author combinations\n",
    "\n",
    "2. loop through papers, order authors alphabetically, add all combinations to store_df"
   ]
  },
  {
   "cell_type": "code",
   "execution_count": 47,
   "id": "19eefed3-4e63-4cad-8b19-289505a1d421",
   "metadata": {},
   "outputs": [],
   "source": [
    "# 1. create df to store all combinations\n",
    "author_combinations = combinations(authors_index,2)\n",
    "collabs_df = pd.DataFrame(list(author_combinations), columns=['source', 'target'])\n",
    "collabs_df['value'] = 0\n",
    "\n",
    "collabs_df = collabs_df.set_index(['source', 'target'])\n",
    "\n",
    "# 2. loop through papers\n",
    "for paper in papers:\n",
    "    paper = list(set(paper))\n",
    "    paper.sort()\n",
    "    author_pairs = combinations(paper, 2)\n",
    "    for pair in author_pairs:\n",
    "        try:\n",
    "            collabs_df.loc[pair] += 1\n",
    "        except:\n",
    "            pass\n",
    "\n",
    "collabs_df = collabs_df.reset_index()"
   ]
  },
  {
   "cell_type": "markdown",
   "id": "f7a24dba-57f5-4e5b-82d7-1cd9a084cd45",
   "metadata": {},
   "source": [
    "## Check"
   ]
  },
  {
   "cell_type": "code",
   "execution_count": 52,
   "id": "1024908f-b2dc-4c99-9183-9848662a701d",
   "metadata": {
    "tags": []
   },
   "outputs": [],
   "source": [
    "# pairs with multiple joint publications\n",
    "pos_pairs = collabs_df.loc[collabs_df['value'] > 0]\n",
    "\n",
    "# Count number of errors\n",
    "errors = 0\n",
    "count = 0\n",
    "# for idx, row in collabs_df.iterrows():\n",
    "for idx, row in pos_pairs.iterrows():\n",
    "    print(f\"{count}/{len(pos_pairs)}\", end=\"\\r\")\n",
    "    sum=0\n",
    "    for paper in papers:\n",
    "        if row['source'] in paper and row['target'] in paper:\n",
    "            sum += 1\n",
    "                \n",
    "    result = row['value'] == sum\n",
    "    if not result:\n",
    "        errors += 1\n",
    "        \n",
    "    count += 1\n",
    "        \n",
    "print('done')\n",
    "    \n",
    "errors"
   ]
  },
  {
   "cell_type": "code",
   "execution_count": 45,
   "id": "6ec1ebb2-ccc9-4cf9-b854-0395749c925c",
   "metadata": {},
   "outputs": [
    {
     "data": {
      "text/plain": [
       "source    0000-0001-9016-0515\n",
       "target    0000-0002-1436-5823\n",
       "value                       2\n",
       "Name: 44791, dtype: object"
      ]
     },
     "execution_count": 45,
     "metadata": {},
     "output_type": "execute_result"
    }
   ],
   "source": [
    "row = pos_pairs.iloc[2]\n",
    "row = pos_pairs.loc[44791]\n",
    "row"
   ]
  },
  {
   "cell_type": "code",
   "execution_count": 46,
   "id": "21b53ebe-83ee-499f-80f1-0d7d800bc2d1",
   "metadata": {},
   "outputs": [
    {
     "name": "stdout",
     "output_type": "stream",
     "text": [
      "0000-0001-9016-0515\n",
      "0000-0002-1436-5823\n",
      "['0000-0001-9016-0515', '0000-0001-9975-407X', '0000-0002-0153-291X', '0000-0002-0548-5778', '0000-0002-1436-5823', '0000-0002-1436-5823', '0000-0002-5215-7363', '0000-0002-6396-1162', '0000-0003-3232-4598', '0000-0003-3982-7577']\n",
      "1\n",
      "2\n"
     ]
    }
   ],
   "source": [
    "sum=0\n",
    "for paper in papers:\n",
    "    if row['source'] in paper and row['target'] in paper:\n",
    "        print(row['source'])\n",
    "        print(row['target'])\n",
    "        print(paper)\n",
    "        sum += 1\n",
    "        \n",
    "print(sum)\n",
    "print(row['value'])"
   ]
  },
  {
   "cell_type": "code",
   "execution_count": 92,
   "id": "59333d22-c486-40dc-8f4c-c67bbe9cf589",
   "metadata": {},
   "outputs": [
    {
     "data": {
      "text/html": [
       "<div>\n",
       "<style scoped>\n",
       "    .dataframe tbody tr th:only-of-type {\n",
       "        vertical-align: middle;\n",
       "    }\n",
       "\n",
       "    .dataframe tbody tr th {\n",
       "        vertical-align: top;\n",
       "    }\n",
       "\n",
       "    .dataframe thead th {\n",
       "        text-align: right;\n",
       "    }\n",
       "</style>\n",
       "<table border=\"1\" class=\"dataframe\">\n",
       "  <thead>\n",
       "    <tr style=\"text-align: right;\">\n",
       "      <th></th>\n",
       "      <th>source</th>\n",
       "      <th>target</th>\n",
       "      <th>value</th>\n",
       "    </tr>\n",
       "  </thead>\n",
       "  <tbody>\n",
       "    <tr>\n",
       "      <th>679</th>\n",
       "      <td>0000-0001-5105-9836</td>\n",
       "      <td>0000-0002-1436-5823</td>\n",
       "      <td>2</td>\n",
       "    </tr>\n",
       "    <tr>\n",
       "      <th>1178</th>\n",
       "      <td>0000-0001-5119-2266</td>\n",
       "      <td>0000-0002-1196-4724</td>\n",
       "      <td>16</td>\n",
       "    </tr>\n",
       "    <tr>\n",
       "      <th>1457</th>\n",
       "      <td>0000-0001-5119-2266</td>\n",
       "      <td>0000-0003-2661-9525</td>\n",
       "      <td>41</td>\n",
       "    </tr>\n",
       "    <tr>\n",
       "      <th>1541</th>\n",
       "      <td>0000-0001-5143-4042</td>\n",
       "      <td>0000-0001-5915-5515</td>\n",
       "      <td>3</td>\n",
       "    </tr>\n",
       "    <tr>\n",
       "      <th>1611</th>\n",
       "      <td>0000-0001-5143-4042</td>\n",
       "      <td>0000-0001-8750-0195</td>\n",
       "      <td>7</td>\n",
       "    </tr>\n",
       "    <tr>\n",
       "      <th>...</th>\n",
       "      <td>...</td>\n",
       "      <td>...</td>\n",
       "      <td>...</td>\n",
       "    </tr>\n",
       "    <tr>\n",
       "      <th>129373</th>\n",
       "      <td>0000-0003-3932-788X</td>\n",
       "      <td>0000-0003-4427-9413</td>\n",
       "      <td>4</td>\n",
       "    </tr>\n",
       "    <tr>\n",
       "      <th>129375</th>\n",
       "      <td>0000-0003-3932-788X</td>\n",
       "      <td>0000-0003-4564-1963</td>\n",
       "      <td>2</td>\n",
       "    </tr>\n",
       "    <tr>\n",
       "      <th>129424</th>\n",
       "      <td>0000-0003-3982-7577</td>\n",
       "      <td>0000-0003-4126-2202</td>\n",
       "      <td>3</td>\n",
       "    </tr>\n",
       "    <tr>\n",
       "      <th>129623</th>\n",
       "      <td>0000-0003-4126-2202</td>\n",
       "      <td>0000-0003-4947-4648</td>\n",
       "      <td>10</td>\n",
       "    </tr>\n",
       "    <tr>\n",
       "      <th>129741</th>\n",
       "      <td>0000-0003-4653-9805</td>\n",
       "      <td>0000-0003-4725-537X</td>\n",
       "      <td>2</td>\n",
       "    </tr>\n",
       "  </tbody>\n",
       "</table>\n",
       "<p>686 rows × 3 columns</p>\n",
       "</div>"
      ],
      "text/plain": [
       "                     source               target  value\n",
       "679     0000-0001-5105-9836  0000-0002-1436-5823      2\n",
       "1178    0000-0001-5119-2266  0000-0002-1196-4724     16\n",
       "1457    0000-0001-5119-2266  0000-0003-2661-9525     41\n",
       "1541    0000-0001-5143-4042  0000-0001-5915-5515      3\n",
       "1611    0000-0001-5143-4042  0000-0001-8750-0195      7\n",
       "...                     ...                  ...    ...\n",
       "129373  0000-0003-3932-788X  0000-0003-4427-9413      4\n",
       "129375  0000-0003-3932-788X  0000-0003-4564-1963      2\n",
       "129424  0000-0003-3982-7577  0000-0003-4126-2202      3\n",
       "129623  0000-0003-4126-2202  0000-0003-4947-4648     10\n",
       "129741  0000-0003-4653-9805  0000-0003-4725-537X      2\n",
       "\n",
       "[686 rows x 3 columns]"
      ]
     },
     "execution_count": 92,
     "metadata": {},
     "output_type": "execute_result"
    }
   ],
   "source": [
    "pos_pairs"
   ]
  },
  {
   "cell_type": "code",
   "execution_count": 54,
   "id": "b132a99d-4f61-4737-9613-186a9577ee7f",
   "metadata": {},
   "outputs": [
    {
     "data": {
      "text/plain": [
       "value    0\n",
       "Name: (0000-0001-5049-3673, 0000-0001-5105-9836), dtype: int64"
      ]
     },
     "execution_count": 54,
     "metadata": {},
     "output_type": "execute_result"
    }
   ],
   "source": [
    "collabs_df.loc[myindex]"
   ]
  },
  {
   "cell_type": "code",
   "execution_count": 23,
   "id": "a30ec9cb-4250-4207-abea-124b2ae25de4",
   "metadata": {},
   "outputs": [
    {
     "name": "stdout",
     "output_type": "stream",
     "text": [
      "['0000-0001-5445-4508', '0000-0001-5694-0921', '0000-0001-9531-961X', '0000-0002-0325-2233', '0000-0002-6403-3317', '0000-0002-7529-9399', '0000-0003-2593-833X', '0000-0003-3051-3926']\n",
      "['0000-0001-5445-4508', '0000-0001-5694-0921', '0000-0001-9531-961X', '0000-0002-0325-2233', '0000-0002-6403-3317', '0000-0002-7529-9399', '0000-0003-2593-833X', '0000-0003-3051-3926']\n",
      "['0000-0001-7888-0309', '0000-0001-8159-2455']\n",
      "['0000-0001-7888-0309', '0000-0001-8159-2455']\n",
      "['0000-0001-5709-6443', '0000-0001-6944-6383', '0000-0001-8865-8111', '0000-0002-1808-5968', '0000-0002-3725-0180', '0000-0002-4763-5252', '0000-0002-5601-4466', '0000-0002-6736-1535', '0000-0003-0493-5340', '0000-0003-3116-1352']\n",
      "['0000-0001-5709-6443', '0000-0001-6944-6383', '0000-0001-8865-8111', '0000-0002-1808-5968', '0000-0002-3725-0180', '0000-0002-4763-5252', '0000-0002-5601-4466', '0000-0002-6736-1535', '0000-0003-0493-5340', '0000-0003-3116-1352']\n",
      "['0000-0002-1968-9966', '0000-0002-5119-7929', '0000-0002-5272-0806']\n",
      "['0000-0002-1968-9966', '0000-0002-5119-7929', '0000-0002-5272-0806']\n",
      "['0000-0001-8306-5798', '0000-0002-5909-676X', '0000-0002-9233-1776', '0000-0002-9865-7427']\n",
      "['0000-0001-8306-5798', '0000-0002-5909-676X', '0000-0002-9233-1776', '0000-0002-9865-7427']\n",
      "['0000-0001-8306-5798', '0000-0002-9233-1776', '0000-0002-9865-7427']\n",
      "['0000-0001-8306-5798', '0000-0002-9233-1776', '0000-0002-9865-7427']\n"
     ]
    }
   ],
   "source": [
    "i = 0\n",
    "for paper in papers:\n",
    "    paper.sort()\n",
    "    if i > 5:\n",
    "        break\n",
    "    print(paper)\n",
    "    print(paper)\n",
    "    i += 1"
   ]
  },
  {
   "cell_type": "code",
   "execution_count": null,
   "id": "5be13640-8a02-4c97-8c8d-a722a5543da9",
   "metadata": {},
   "outputs": [],
   "source": []
  },
  {
   "cell_type": "code",
   "execution_count": 17,
   "id": "c2af7101-63c4-4b2a-8de4-49eb62a65ab3",
   "metadata": {},
   "outputs": [],
   "source": [
    "# collabs_df"
   ]
  },
  {
   "cell_type": "markdown",
   "id": "954a78fa-deb1-4c18-9760-37b4173f271d",
   "metadata": {},
   "source": [
    "## Alternative method"
   ]
  },
  {
   "cell_type": "markdown",
   "id": "117fb6dd-b420-4166-98ea-ec6ceaf52bbb",
   "metadata": {},
   "source": [
    "Main loop is inefficient, ends up with a large matrix with too much detail. not only you know how many collaborations but you are also storing in which exact paper.\n",
    "\n",
    "Only thing we need is for a given paper\n",
    "\n",
    "`[1 0 1 0 0 0 ]`\n",
    "\n",
    "to add 1 into the right coordinate of a results list, in this case\n",
    "\n",
    "`results[0][2] + = 1`"
   ]
  },
  {
   "cell_type": "markdown",
   "id": "385010a8-f671-4872-abc1-12178ad83e2b",
   "metadata": {},
   "source": [
    "## Main loop: calculate collaborations"
   ]
  },
  {
   "cell_type": "code",
   "execution_count": 7,
   "id": "054d4151-a1f8-4ad1-9733-613010306362",
   "metadata": {},
   "outputs": [],
   "source": [
    "# Build collaboration vector to store results\n",
    "n_authors = len(authors_index)\n",
    "collabs_length = int(n_authors*(n_authors+1)/2 - n_authors) \n",
    "collabs = np.zeros(shape=(collabs_length))\n",
    "\n",
    "# Store copy of papers_mat for iterative updating\n",
    "papers_mat_i = papers_mat"
   ]
  },
  {
   "cell_type": "code",
   "execution_count": null,
   "id": "b22b3485-57c0-4e9d-b639-4317ec325f00",
   "metadata": {},
   "outputs": [
    {
     "name": "stdout",
     "output_type": "stream",
     "text": [
      "Running main loop\n",
      "Progress: 0%. Researcher: 0/510. Inner product. P (1937, 510) x C (510, 509)      \r"
     ]
    }
   ],
   "source": [
    "print(\"Running main loop\")\n",
    "# Initialize writing position\n",
    "start_pos = 0\n",
    "\n",
    "for i in range(0, n_authors-1): #last author loop is unnecessary\n",
    "    print(f\"Progress: {i/(n_authors-2)*100:.0f}%. Researcher: {i}/{n_authors}.\", end=\"\\r\", flush=True)\n",
    "    \n",
    "    # Initialize matrix\n",
    "    \n",
    "    print(f\"Progress: {i/(n_authors-2)*100:.0f}%. Researcher: {i}/{n_authors}. Generating Identity matrix.\", end=\"\\r\", flush=True)\n",
    "    C = np.identity(n_authors-i)\n",
    "    C = C[:,1:] # remove first column (self-referencing)\n",
    "    C[0] = 1\n",
    "    \n",
    "    # Main inner product\n",
    "    print(f\"Progress: {i/(n_authors-2)*100:.0f}%. Researcher: {i}/{n_authors}. Inner product. P {papers_mat_i.shape} x C {C.shape}      \", end=\"\\r\", flush=True)\n",
    "#     ones_mat = np.ones(shape=(1,papers_mat_i.shape[0]))\n",
    "#     temp_mat = np.dot(ones_mat, papers_mat_i)\n",
    "#     result = np.dot(temp_mat, C)\n",
    "    result = np.dot(papers_mat_i, C)\n",
    "\n",
    "    # Calculate number of collaborations\n",
    "    print(f\"Progress: {i/(n_authors-2)*100:.0f}%. Researcher: {i}/{n_authors}. Calculating collaborations.\", end=\"\\r\", flush=True)\n",
    "    result = result - 1\n",
    "    result = result.clip(0)\n",
    "    collabs_author = result.sum(axis=0)\n",
    "#     collabs_author = result\n",
    "\n",
    "    # Store in collabs vector\n",
    "    end_pos = start_pos + n_authors - i - 1\n",
    "    \n",
    "    print(f\"Progress: {i/(n_authors-2)*100:.0f}%. Researcher: {i}/{n_authors}. Storing results.           \", end=\"\\r\", flush=True)\n",
    "    collabs[start_pos:end_pos] = collabs_author\n",
    "    \n",
    "    # Update start_pos for writing next loop\n",
    "    start_pos = end_pos \n",
    "    \n",
    "    # Remove first author from papers_mat for next loop\n",
    "    print(f\"Progress: {i/(n_authors-2)*100:.0f}%. Researcher: {i}/{n_authors}. Updating matrix next loop. \", end=\"\\r\", flush=True)\n",
    "    papers_mat_i = papers_mat_i[:,1:]\n",
    "    "
   ]
  },
  {
   "cell_type": "markdown",
   "id": "bf43e5d0-adf6-41a4-961c-27f59d8b1226",
   "metadata": {},
   "source": [
    "## Create Dataframe"
   ]
  },
  {
   "cell_type": "code",
   "execution_count": 10,
   "id": "2652d6d4-5254-456c-93ec-2e9b29bd13b1",
   "metadata": {},
   "outputs": [],
   "source": [
    "author_combinations = combinations(authors_index,2)\n",
    "collabs_df = pd.DataFrame(list(author_combinations), columns=['source', 'target'])\n",
    "collabs_df['value']=collabs"
   ]
  },
  {
   "cell_type": "code",
   "execution_count": 12,
   "id": "50f658b5-2703-422a-901c-0d6ae0a6e321",
   "metadata": {},
   "outputs": [
    {
     "data": {
      "text/html": [
       "<div>\n",
       "<style scoped>\n",
       "    .dataframe tbody tr th:only-of-type {\n",
       "        vertical-align: middle;\n",
       "    }\n",
       "\n",
       "    .dataframe tbody tr th {\n",
       "        vertical-align: top;\n",
       "    }\n",
       "\n",
       "    .dataframe thead th {\n",
       "        text-align: right;\n",
       "    }\n",
       "</style>\n",
       "<table border=\"1\" class=\"dataframe\">\n",
       "  <thead>\n",
       "    <tr style=\"text-align: right;\">\n",
       "      <th></th>\n",
       "      <th>source</th>\n",
       "      <th>target</th>\n",
       "      <th>value</th>\n",
       "    </tr>\n",
       "  </thead>\n",
       "  <tbody>\n",
       "    <tr>\n",
       "      <th>0</th>\n",
       "      <td>0000-0001-5049-3673</td>\n",
       "      <td>0000-0001-5105-9836</td>\n",
       "      <td>3.0</td>\n",
       "    </tr>\n",
       "    <tr>\n",
       "      <th>1</th>\n",
       "      <td>0000-0001-5049-3673</td>\n",
       "      <td>0000-0001-5119-2266</td>\n",
       "      <td>42.0</td>\n",
       "    </tr>\n",
       "    <tr>\n",
       "      <th>2</th>\n",
       "      <td>0000-0001-5049-3673</td>\n",
       "      <td>0000-0001-5143-4042</td>\n",
       "      <td>27.0</td>\n",
       "    </tr>\n",
       "    <tr>\n",
       "      <th>3</th>\n",
       "      <td>0000-0001-5049-3673</td>\n",
       "      <td>0000-0001-5144-2165</td>\n",
       "      <td>15.0</td>\n",
       "    </tr>\n",
       "    <tr>\n",
       "      <th>4</th>\n",
       "      <td>0000-0001-5049-3673</td>\n",
       "      <td>0000-0001-5154-0013</td>\n",
       "      <td>39.0</td>\n",
       "    </tr>\n",
       "    <tr>\n",
       "      <th>...</th>\n",
       "      <td>...</td>\n",
       "      <td>...</td>\n",
       "      <td>...</td>\n",
       "    </tr>\n",
       "    <tr>\n",
       "      <th>129790</th>\n",
       "      <td>0000-0003-4898-3424</td>\n",
       "      <td>0000-0003-4939-8411</td>\n",
       "      <td>6.0</td>\n",
       "    </tr>\n",
       "    <tr>\n",
       "      <th>129791</th>\n",
       "      <td>0000-0003-4898-3424</td>\n",
       "      <td>0000-0003-4947-4648</td>\n",
       "      <td>25.0</td>\n",
       "    </tr>\n",
       "    <tr>\n",
       "      <th>129792</th>\n",
       "      <td>0000-0003-4902-9739</td>\n",
       "      <td>0000-0003-4939-8411</td>\n",
       "      <td>10.0</td>\n",
       "    </tr>\n",
       "    <tr>\n",
       "      <th>129793</th>\n",
       "      <td>0000-0003-4902-9739</td>\n",
       "      <td>0000-0003-4947-4648</td>\n",
       "      <td>29.0</td>\n",
       "    </tr>\n",
       "    <tr>\n",
       "      <th>129794</th>\n",
       "      <td>0000-0003-4939-8411</td>\n",
       "      <td>0000-0003-4947-4648</td>\n",
       "      <td>29.0</td>\n",
       "    </tr>\n",
       "  </tbody>\n",
       "</table>\n",
       "<p>129795 rows × 3 columns</p>\n",
       "</div>"
      ],
      "text/plain": [
       "                     source               target  value\n",
       "0       0000-0001-5049-3673  0000-0001-5105-9836    3.0\n",
       "1       0000-0001-5049-3673  0000-0001-5119-2266   42.0\n",
       "2       0000-0001-5049-3673  0000-0001-5143-4042   27.0\n",
       "3       0000-0001-5049-3673  0000-0001-5144-2165   15.0\n",
       "4       0000-0001-5049-3673  0000-0001-5154-0013   39.0\n",
       "...                     ...                  ...    ...\n",
       "129790  0000-0003-4898-3424  0000-0003-4939-8411    6.0\n",
       "129791  0000-0003-4898-3424  0000-0003-4947-4648   25.0\n",
       "129792  0000-0003-4902-9739  0000-0003-4939-8411   10.0\n",
       "129793  0000-0003-4902-9739  0000-0003-4947-4648   29.0\n",
       "129794  0000-0003-4939-8411  0000-0003-4947-4648   29.0\n",
       "\n",
       "[129795 rows x 3 columns]"
      ]
     },
     "execution_count": 12,
     "metadata": {},
     "output_type": "execute_result"
    }
   ],
   "source": [
    "collabs_df"
   ]
  },
  {
   "cell_type": "code",
   "execution_count": 13,
   "id": "46e61e03-1246-40cc-a611-5e8bcee0c80d",
   "metadata": {},
   "outputs": [
    {
     "name": "stdout",
     "output_type": "stream",
     "text": [
      "0\n"
     ]
    }
   ],
   "source": [
    "row = 0\n",
    "source = collabs_df.loc[row, 'source']\n",
    "# source = '0000-0002-6403-3317'\n",
    "target = collabs_df.loc[row, 'target']\n",
    "# target = '0000-0001-5694-0921'\n",
    "\n",
    "sum = 0\n",
    "for paper in papers:\n",
    "    if source in paper:\n",
    "        if target in paper:\n",
    "            sum +=1\n",
    "\n",
    "print(sum) "
   ]
  },
  {
   "cell_type": "code",
   "execution_count": 43,
   "id": "717f4a7e-e368-4d7c-af91-c483c4906872",
   "metadata": {},
   "outputs": [
    {
     "data": {
      "text/plain": [
       "0       [0000-0002-6403-3317, 0000-0001-5694-0921, 000...\n",
       "1              [0000-0001-8159-2455, 0000-0001-7888-0309]\n",
       "2       [0000-0002-6736-1535, 0000-0002-4763-5252, 000...\n",
       "3       [0000-0002-5272-0806, 0000-0002-5119-7929, 000...\n",
       "4       [0000-0001-8306-5798, 0000-0002-9233-1776, 000...\n",
       "                              ...                        \n",
       "1932    [0000-0003-1713-7110, 0000-0003-1615-4592, 000...\n",
       "1933           [0000-0003-1713-7110, 0000-0002-0295-1307]\n",
       "1934    [0000-0003-1713-7110, 0000-0003-1615-4592, 000...\n",
       "1935           [0000-0002-3064-1648, 0000-0001-9372-1007]\n",
       "1936           [0000-0001-8159-2455, 0000-0001-7888-0309]\n",
       "Name: orcids, Length: 1937, dtype: object"
      ]
     },
     "execution_count": 43,
     "metadata": {},
     "output_type": "execute_result"
    }
   ],
   "source": [
    "papers"
   ]
  },
  {
   "cell_type": "code",
   "execution_count": 27,
   "id": "0bc6b7ea-69ff-48b4-a1b4-6cf79cbec43d",
   "metadata": {},
   "outputs": [
    {
     "data": {
      "text/html": [
       "<div>\n",
       "<style scoped>\n",
       "    .dataframe tbody tr th:only-of-type {\n",
       "        vertical-align: middle;\n",
       "    }\n",
       "\n",
       "    .dataframe tbody tr th {\n",
       "        vertical-align: top;\n",
       "    }\n",
       "\n",
       "    .dataframe thead th {\n",
       "        text-align: right;\n",
       "    }\n",
       "</style>\n",
       "<table border=\"1\" class=\"dataframe\">\n",
       "  <thead>\n",
       "    <tr style=\"text-align: right;\">\n",
       "      <th></th>\n",
       "      <th>source</th>\n",
       "      <th>target</th>\n",
       "      <th>value</th>\n",
       "    </tr>\n",
       "  </thead>\n",
       "  <tbody>\n",
       "    <tr>\n",
       "      <th>0</th>\n",
       "      <td>0000-0001-5049-3673</td>\n",
       "      <td>0000-0001-5105-9836</td>\n",
       "      <td>2.0</td>\n",
       "    </tr>\n",
       "    <tr>\n",
       "      <th>1</th>\n",
       "      <td>0000-0001-5049-3673</td>\n",
       "      <td>0000-0001-5119-2266</td>\n",
       "      <td>41.0</td>\n",
       "    </tr>\n",
       "    <tr>\n",
       "      <th>2</th>\n",
       "      <td>0000-0001-5049-3673</td>\n",
       "      <td>0000-0001-5143-4042</td>\n",
       "      <td>26.0</td>\n",
       "    </tr>\n",
       "    <tr>\n",
       "      <th>3</th>\n",
       "      <td>0000-0001-5049-3673</td>\n",
       "      <td>0000-0001-5144-2165</td>\n",
       "      <td>14.0</td>\n",
       "    </tr>\n",
       "    <tr>\n",
       "      <th>4</th>\n",
       "      <td>0000-0001-5049-3673</td>\n",
       "      <td>0000-0001-5154-0013</td>\n",
       "      <td>38.0</td>\n",
       "    </tr>\n",
       "    <tr>\n",
       "      <th>...</th>\n",
       "      <td>...</td>\n",
       "      <td>...</td>\n",
       "      <td>...</td>\n",
       "    </tr>\n",
       "    <tr>\n",
       "      <th>129790</th>\n",
       "      <td>0000-0003-4898-3424</td>\n",
       "      <td>0000-0003-4939-8411</td>\n",
       "      <td>5.0</td>\n",
       "    </tr>\n",
       "    <tr>\n",
       "      <th>129791</th>\n",
       "      <td>0000-0003-4898-3424</td>\n",
       "      <td>0000-0003-4947-4648</td>\n",
       "      <td>24.0</td>\n",
       "    </tr>\n",
       "    <tr>\n",
       "      <th>129792</th>\n",
       "      <td>0000-0003-4902-9739</td>\n",
       "      <td>0000-0003-4939-8411</td>\n",
       "      <td>9.0</td>\n",
       "    </tr>\n",
       "    <tr>\n",
       "      <th>129793</th>\n",
       "      <td>0000-0003-4902-9739</td>\n",
       "      <td>0000-0003-4947-4648</td>\n",
       "      <td>28.0</td>\n",
       "    </tr>\n",
       "    <tr>\n",
       "      <th>129794</th>\n",
       "      <td>0000-0003-4939-8411</td>\n",
       "      <td>0000-0003-4947-4648</td>\n",
       "      <td>28.0</td>\n",
       "    </tr>\n",
       "  </tbody>\n",
       "</table>\n",
       "<p>129795 rows × 3 columns</p>\n",
       "</div>"
      ],
      "text/plain": [
       "                     source               target  value\n",
       "0       0000-0001-5049-3673  0000-0001-5105-9836    2.0\n",
       "1       0000-0001-5049-3673  0000-0001-5119-2266   41.0\n",
       "2       0000-0001-5049-3673  0000-0001-5143-4042   26.0\n",
       "3       0000-0001-5049-3673  0000-0001-5144-2165   14.0\n",
       "4       0000-0001-5049-3673  0000-0001-5154-0013   38.0\n",
       "...                     ...                  ...    ...\n",
       "129790  0000-0003-4898-3424  0000-0003-4939-8411    5.0\n",
       "129791  0000-0003-4898-3424  0000-0003-4947-4648   24.0\n",
       "129792  0000-0003-4902-9739  0000-0003-4939-8411    9.0\n",
       "129793  0000-0003-4902-9739  0000-0003-4947-4648   28.0\n",
       "129794  0000-0003-4939-8411  0000-0003-4947-4648   28.0\n",
       "\n",
       "[129795 rows x 3 columns]"
      ]
     },
     "execution_count": 27,
     "metadata": {},
     "output_type": "execute_result"
    }
   ],
   "source": [
    "collabs_df"
   ]
  },
  {
   "cell_type": "markdown",
   "id": "48167e8b-61e0-4265-8450-c3ff3220145b",
   "metadata": {},
   "source": [
    "## Save"
   ]
  },
  {
   "cell_type": "code",
   "execution_count": null,
   "id": "70bbb556-30ff-4cca-9701-ed298a366e9c",
   "metadata": {},
   "outputs": [],
   "source": [
    "collabs_df.to_csv(f'./data/edges_{institution}.csv')"
   ]
  },
  {
   "cell_type": "markdown",
   "id": "e15fe3e8-0142-4872-867a-51b2d2b3558f",
   "metadata": {
    "tags": []
   },
   "source": [
    "## Helper functions"
   ]
  },
  {
   "cell_type": "code",
   "execution_count": null,
   "id": "be02552d-aa30-455f-a12c-c53217ddbf0e",
   "metadata": {},
   "outputs": [],
   "source": [
    "def convert_to_list(x):\n",
    "    \"\"\"Convert string column to list\"\"\"\n",
    "    try:\n",
    "        result = literal_eval(x)\n",
    "    except ValueError:\n",
    "        result = np.nan\n",
    "    return result\n",
    "\n",
    "def belongs_to_list(row, df):\n",
    "    try:\n",
    "        result = bool(set(row['orcids']) & set(df))\n",
    "    except TypeError:\n",
    "        result = False\n",
    "    return result"
   ]
  },
  {
   "cell_type": "markdown",
   "id": "d381627c-a51d-43aa-9182-0989dd24aa47",
   "metadata": {},
   "source": [
    "## Define main function"
   ]
  },
  {
   "cell_type": "code",
   "execution_count": null,
   "id": "006b9d55-3122-43a8-b022-9696dee21a3a",
   "metadata": {},
   "outputs": [],
   "source": [
    "# Load edges\n",
    "papers_df = pd.read_csv('./data/papers.csv')\n",
    "res_df = pd.read_csv('./data/nodelist.csv')\n",
    "\n",
    "def calculate_collaborations(institution, papers_df, res_df, save=False, threshold=None):\n",
    "\n",
    "    # Filter researchers\n",
    "    res_df_inst = res_df.loc[res_df['institution'] == institution]\n",
    "    res_inst = res_df_inst['id'].unique()\n",
    "\n",
    "    # Convert strings to list of coauthors\n",
    "    papers_df['orcids'] = papers_df['orcids'].apply(lambda x: convert_to_list(x))\n",
    "\n",
    "    # Identify authors in institution\n",
    "    institution_df = res_inst\n",
    "    mask = papers_df.apply(lambda x: belongs_to_list(x, institution_df), axis=1)\n",
    "\n",
    "    selected_df = papers_df[mask]\n",
    "    \n",
    "    # Test with n papers for debugging (max 2800)\n",
    "    if threshold:\n",
    "        selected_df = selected_df[:threshold]\n",
    "\n",
    "    # Get papers column\n",
    "    papers = selected_df['orcids'].copy()\n",
    "    papers = papers.reset_index(drop=True)\n",
    "\n",
    "    # Get unique list of authors from papers\n",
    "    authors_index = list(set(papers.sum()))\n",
    "\n",
    "    authors_index.sort()\n",
    "\n",
    "    # Create boolean matrix with papers\n",
    "    paper_bool_df = pd.DataFrame(columns=authors_index, index=range(len(papers)))\n",
    "\n",
    "    for i, paper in enumerate(papers):\n",
    "        paper_bool_df.loc[i,:] = 0\n",
    "        for orcid in paper:\n",
    "            paper_bool_df.loc[i,orcid] = 1\n",
    "\n",
    "    # Create papers matrix in numpy\n",
    "    papers_mat = paper_bool_df.to_numpy()\n",
    "\n",
    "    # Build collaboration vector to store results\n",
    "    n_authors = len(authors_index)\n",
    "    collabs_length = int(n_authors*(n_authors+1)/2 - n_authors) \n",
    "    collabs = np.zeros(shape=(collabs_length))\n",
    "\n",
    "    # Store copy of papers_mat for iterative updating\n",
    "    papers_mat_i = papers_mat\n",
    "\n",
    "    # Initialize writing position\n",
    "    start_pos = 0\n",
    "\n",
    "    for i in range(0, n_authors-1): #last author loop is unnecessary\n",
    "        print(f\"Progress: {i/(n_authors-2)*100:.0f}%.\", end=\"\\r\")\n",
    "\n",
    "        # Initialize matrix\n",
    "        C = np.identity(n_authors-i)\n",
    "        C = C[:,1:]\n",
    "        C[0] = 1\n",
    "\n",
    "        # Main inner product\n",
    "        result = np.dot(papers_mat_i, C)\n",
    "\n",
    "        # Calculate number of collaborations\n",
    "        result = result - 1\n",
    "        result = result.clip(0)\n",
    "        collabs_author = result.sum(axis=0)\n",
    "\n",
    "        # Store in collabs vector\n",
    "        end_pos = start_pos + n_authors - i - 1\n",
    "\n",
    "        collabs[start_pos:end_pos] = collabs_author\n",
    "\n",
    "        # Update start_pos for writing next loop\n",
    "        start_pos = end_pos \n",
    "\n",
    "        # Remove first author from papers_mat for next loop\n",
    "        papers_mat_i = papers_mat_i[:,1:]\n",
    "\n",
    "    author_combinations = combinations(authors_index,2)\n",
    "    collabs_df = pd.DataFrame(list(author_combinations), columns=['source', 'target'])\n",
    "    collabs_df['value']=collabs\n",
    "\n",
    "    if save:\n",
    "        collabs_df.to_csv(f'./data/edges_{institution}.csv')"
   ]
  },
  {
   "cell_type": "markdown",
   "id": "a627dcb7-49b2-44da-bdb5-280165222b8a",
   "metadata": {},
   "source": [
    "## Execute"
   ]
  },
  {
   "cell_type": "code",
   "execution_count": null,
   "id": "41307be8-77a1-4b49-abcc-6e533bc33931",
   "metadata": {},
   "outputs": [],
   "source": [
    "# Select institution\n",
    "institution_list = ['IGTP']\n",
    "\n",
    "for institution in institution_list:\n",
    "    calculate_collaborations(institution, papers_df, res_df, save=True, threshold=100)"
   ]
  }
 ],
 "metadata": {
  "kernelspec": {
   "display_name": "Python 3 (ipykernel)",
   "language": "python",
   "name": "python3"
  },
  "language_info": {
   "codemirror_mode": {
    "name": "ipython",
    "version": 3
   },
   "file_extension": ".py",
   "mimetype": "text/x-python",
   "name": "python",
   "nbconvert_exporter": "python",
   "pygments_lexer": "ipython3",
   "version": "3.9.6"
  }
 },
 "nbformat": 4,
 "nbformat_minor": 5
}
