{
 "cells": [
  {
   "cell_type": "markdown",
   "id": "93360b1b-2db1-41e5-81f2-128839c6635f",
   "metadata": {
    "tags": []
   },
   "source": [
    "# Async vs Sync test"
   ]
  },
  {
   "cell_type": "markdown",
   "id": "0a3fb252-e4cc-44f8-93f1-5cd99d578ee1",
   "metadata": {},
   "source": [
    "## Import modules"
   ]
  },
  {
   "cell_type": "code",
   "execution_count": 1,
   "id": "fb2abea5-ed33-43fa-819e-caaaa1e05ce7",
   "metadata": {},
   "outputs": [],
   "source": [
    "import pandas as pd\n",
    "from requests_html import HTMLSession, AsyncHTMLSession\n",
    "import time\n",
    "import asyncio"
   ]
  },
  {
   "cell_type": "markdown",
   "id": "a9c403a7-a638-46b2-8bdd-abe3a0682f02",
   "metadata": {},
   "source": [
    "## Speed Test: Sync vs Async"
   ]
  },
  {
   "cell_type": "code",
   "execution_count": null,
   "id": "f48c79c9-ca6c-4920-a254-78aefaf90948",
   "metadata": {},
   "outputs": [],
   "source": [
    "url_root = 'https://portalrecerca.csuc.cat/simple-search?query=&location=crisrp&filter_field_1=resourcetype&filter_type_1=equals&filter_value_1=Researchers&sort_by=crisrp.fullName_sort&order=asc&rpp=300&etal=0&start='\n",
    "\n",
    "urls = [url_root + str(page*100) for page in range(3)]"
   ]
  },
  {
   "cell_type": "code",
   "execution_count": null,
   "id": "948c23e1-d21d-49ce-977c-43650099bdce",
   "metadata": {},
   "outputs": [],
   "source": [
    "from requests_html import HTMLSession, AsyncHTMLSession\n",
    "import time\n",
    "import asyncio\n",
    "\n",
    "def get_author_links_sync(s, url):\n",
    "    print(f\"Getting url: {url}\")\n",
    "    r = s.get(url)\n",
    "    table = r.html.find('div.panel.panel-info table.table', first=True)\n",
    "    rows = table.find('tr')\n",
    "    return rows\n",
    "    \n",
    "def main_sync(urls):\n",
    "    s = HTMLSession()\n",
    "    result = []\n",
    "    for url in urls:\n",
    "        rows = get_author_links_sync(s, url)\n",
    "        result.append(rows)\n",
    "    return rows\n",
    "        \n",
    "async def get_author_links(s, url):\n",
    "    print(f\"Getting url: {url}\")\n",
    "    r = await s.get(url)\n",
    "    table = r.html.find('div.panel.panel-info table.table', first=True)\n",
    "    rows = table.find('tr')\n",
    "    return rows\n",
    "\n",
    "async def main(urls):\n",
    "    s = AsyncHTMLSession()\n",
    "    tasks = (get_author_links(s, url) for url in urls)\n",
    "    return await asyncio.gather(*tasks)\n",
    "        \n",
    "t1 = time.perf_counter()\n",
    "result = await main(urls)\n",
    "t2 = time.perf_counter()\n",
    "print(f\"Async: {t2-t1:.2f} seconds.)\")\n",
    "\n",
    "t1 = time.perf_counter()\n",
    "result_sync = main_sync(urls)\n",
    "t2 = time.perf_counter()\n",
    "print(f\"Sync: {t2-t1:.2f} seconds.)\")"
   ]
  }
 ],
 "metadata": {
  "kernelspec": {
   "display_name": "Python 3 (ipykernel)",
   "language": "python",
   "name": "python3"
  },
  "language_info": {
   "codemirror_mode": {
    "name": "ipython",
    "version": 3
   },
   "file_extension": ".py",
   "mimetype": "text/x-python",
   "name": "python",
   "nbconvert_exporter": "python",
   "pygments_lexer": "ipython3",
   "version": "3.9.6"
  }
 },
 "nbformat": 4,
 "nbformat_minor": 5
}
