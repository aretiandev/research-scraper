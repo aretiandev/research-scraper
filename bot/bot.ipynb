{
 "cells": [
  {
   "cell_type": "code",
   "execution_count": 6,
   "id": "a5ff4e9a-1712-4b78-bc1a-4d68ed88f2c2",
   "metadata": {},
   "outputs": [],
   "source": [
    "from slack_sdk import WebClient\n",
    "from slack_sdk.errors import SlackApiError\n",
    "from dotenv import load_dotenv\n",
    "import requests\n",
    "import os\n",
    "\n",
    "# Load token\n",
    "load_dotenv() \n",
    "slack_token = os.environ[\"SLACK_BOT_TOKEN\"]\n",
    "\n",
    "# Start client\n",
    "client = WebClient(token=slack_token)\n",
    "\n",
    "while True:\n",
    "    sleep(60)\n",
    "    url = 'https://portalrecerca.csuc.cat/'\n",
    "    r = requests.get(url)\n",
    "\n",
    "    if r.url != 'https://portalrecerca.manteniment.csuc.cat':\n",
    "        break\n",
    "    \n",
    "    if not r.history[0].is_redirect:\n",
    "        break"
   ]
  },
  {
   "cell_type": "code",
   "execution_count": 10,
   "id": "cf15cabd-09e7-4148-8a99-616553aa4c82",
   "metadata": {},
   "outputs": [],
   "source": [
    "    \n",
    "try:\n",
    "    message = \":globe_with_meridians: Seems like Portal de la Reserca is back online: https://portalrecerca.csuc.cat\"\n",
    "    message = \"test\"\n",
    "    response = client.chat_postMessage(\n",
    "        channel=\"#proj-city_barcelona\",\n",
    "        text=\"Test :tada:\"\n",
    "    )\n",
    "except SlackApiError as e:\n",
    "    # You will get a SlackApiError if \"ok\" is False\n",
    "    assert e.response[\"error\"]    # str like 'invalid_auth', 'channel_not_found'"
   ]
  },
  {
   "cell_type": "code",
   "execution_count": null,
   "id": "f781ebb2-74eb-4a92-af53-1c6740931b30",
   "metadata": {},
   "outputs": [],
   "source": []
  }
 ],
 "metadata": {
  "kernelspec": {
   "display_name": "Python 3 (ipykernel)",
   "language": "python",
   "name": "python3"
  },
  "language_info": {
   "codemirror_mode": {
    "name": "ipython",
    "version": 3
   },
   "file_extension": ".py",
   "mimetype": "text/x-python",
   "name": "python",
   "nbconvert_exporter": "python",
   "pygments_lexer": "ipython3",
   "version": "3.9.6"
  }
 },
 "nbformat": 4,
 "nbformat_minor": 5
}
