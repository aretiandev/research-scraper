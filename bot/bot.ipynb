{
 "cells": [
  {
   "cell_type": "code",
   "execution_count": 6,
   "id": "a5ff4e9a-1712-4b78-bc1a-4d68ed88f2c2",
   "metadata": {},
   "outputs": [],
   "source": [
    "from slack_sdk import WebClient\n",
    "from slack_sdk.errors import SlackApiError\n",
    "from dotenv import load_dotenv\n",
    "import requests\n",
    "import os\n",
    "\n",
    "# Load token\n",
    "load_dotenv() \n",
    "slack_token = os.environ[\"SLACK_BOT_TOKEN\"]\n",
    "\n",
    "# Start client\n",
    "client = WebClient(token=slack_token)\n",
    "\n",
    "while True:\n",
    "    sleep(60)\n",
    "    url = 'https://portalrecerca.csuc.cat/'\n",
    "    r = requests.get(url)\n",
    "\n",
    "    if r.url != 'https://portalrecerca.manteniment.csuc.cat':\n",
    "        break\n",
    "    \n",
    "    if not r.history[0].is_redirect:\n",
    "        break"
   ]
  },
  {
   "cell_type": "markdown",
   "id": "bd4c28b3-442f-4fbd-9842-3326113ed925",
   "metadata": {},
   "source": [
    "# Debugging bot"
   ]
  },
  {
   "cell_type": "code",
   "execution_count": 21,
   "id": "7965585a-5e91-45e5-b0a4-97c902546314",
   "metadata": {},
   "outputs": [
    {
     "name": "stdout",
     "output_type": "stream",
     "text": [
      "301\n",
      "http://harvard.edu/\n",
      "301\n",
      "https://harvard.edu/\n"
     ]
    }
   ],
   "source": [
    "import requests\n",
    "\n",
    "url = 'https://stackoverflow.com/'\n",
    "url = 'https://portalrecerca.csuc.cat/'\n",
    "url = 'https://bioinformatics.stackexchange.com/'\n",
    "url = 'http://harvard.edu/'\n",
    "r = requests.get(url)\n",
    "r.status_code\n",
    "# from bot import ping_and_wait\n",
    "for res in r.history:\n",
    "    print(res.status_code)\n",
    "    print(res.url)"
   ]
  },
  {
   "cell_type": "code",
   "execution_count": 35,
   "id": "8a587add-6075-4624-ba2b-43c300b8801a",
   "metadata": {},
   "outputs": [
    {
     "data": {
      "text/plain": [
       "True"
      ]
     },
     "execution_count": 35,
     "metadata": {},
     "output_type": "execute_result"
    }
   ],
   "source": [
    "mylist =[302,503,301]\n",
    "# all(mylist != 1)\n",
    "\n",
    "all([x != 200for x in mylist])"
   ]
  },
  {
   "cell_type": "markdown",
   "id": "df6da3f9-6971-4311-a730-b0789fbc21f1",
   "metadata": {},
   "source": [
    "## Older code"
   ]
  },
  {
   "cell_type": "code",
   "execution_count": 10,
   "id": "cf15cabd-09e7-4148-8a99-616553aa4c82",
   "metadata": {},
   "outputs": [],
   "source": [
    "try:\n",
    "    message = \":globe_with_meridians: Seems like Portal de la Reserca is back online: https://portalrecerca.csuc.cat\"\n",
    "    message = \"test\"\n",
    "    response = client.chat_postMessage(\n",
    "        channel=\"#proj-city_barcelona\",\n",
    "        text=\"Test :tada:\"\n",
    "    )\n",
    "except SlackApiError as e:\n",
    "    # You will get a SlackApiError if \"ok\" is False\n",
    "    assert e.response[\"error\"]    # str like 'invalid_auth', 'channel_not_found'"
   ]
  },
  {
   "cell_type": "code",
   "execution_count": 11,
   "id": "f781ebb2-74eb-4a92-af53-1c6740931b30",
   "metadata": {},
   "outputs": [],
   "source": [
    "message_template = \"\"\":warning: There was an error in rule {rule_name}.\n",
    "Full error message:\n",
    "{e}\"\"\""
   ]
  },
  {
   "cell_type": "code",
   "execution_count": 12,
   "id": "00268732-c6d4-46e2-a048-483ab613663f",
   "metadata": {},
   "outputs": [
    {
     "data": {
      "text/plain": [
       "':warning: There was an error in rule hello.\\nFull error message:\\nworld'"
      ]
     },
     "execution_count": 12,
     "metadata": {},
     "output_type": "execute_result"
    }
   ],
   "source": [
    "message_template.format(rule_name='hello', e='world')"
   ]
  },
  {
   "cell_type": "code",
   "execution_count": null,
   "id": "b23ed4e8-8c56-439c-a833-7b50d1a7c1f2",
   "metadata": {},
   "outputs": [],
   "source": []
  }
 ],
 "metadata": {
  "kernelspec": {
   "display_name": "Python 3 (ipykernel)",
   "language": "python",
   "name": "python3"
  },
  "language_info": {
   "codemirror_mode": {
    "name": "ipython",
    "version": 3
   },
   "file_extension": ".py",
   "mimetype": "text/x-python",
   "name": "python",
   "nbconvert_exporter": "python",
   "pygments_lexer": "ipython3",
   "version": "3.9.6"
  }
 },
 "nbformat": 4,
 "nbformat_minor": 5
}
