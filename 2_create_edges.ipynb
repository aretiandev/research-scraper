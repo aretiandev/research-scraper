{
 "cells": [
  {
   "cell_type": "markdown",
   "id": "a9722fea-7375-40cd-be0d-91abd54100a6",
   "metadata": {},
   "source": [
    "# Create edges\n",
    "\n",
    "This notebook processes the publications data and achieves the following:\n",
    "\n",
    "- Creates the edges between authors"
   ]
  },
  {
   "cell_type": "markdown",
   "id": "9d27f59b-cfdd-4f38-bcf0-38e4e5e44cd1",
   "metadata": {
    "tags": []
   },
   "source": [
    "# Import modules"
   ]
  },
  {
   "cell_type": "code",
   "execution_count": 1,
   "id": "553d9af1-da9d-4718-b27a-45d4ef954fac",
   "metadata": {},
   "outputs": [],
   "source": [
    "import numpy as np\n",
    "import pandas as pd\n",
    "from itertools import combinations"
   ]
  },
  {
   "cell_type": "markdown",
   "id": "e3a5d3c8-6249-48ae-aaf9-3f16dc12e501",
   "metadata": {
    "tags": []
   },
   "source": [
    "# Select institution"
   ]
  },
  {
   "cell_type": "code",
   "execution_count": 2,
   "id": "b6c38d9a-4a34-4dbf-b8ac-70d21d1b9149",
   "metadata": {},
   "outputs": [],
   "source": [
    "# Select institution\n",
    "# institution_list = ['IGTP', 'UPC', 'UB', 'UPF', 'UVic-UCC', 'UOC']\n",
    "institution_list = ['IGTP+', 'UPC_CIMNE', 'UB', 'UPF', 'UVic-UCC', 'UOC']\n",
    "\n",
    "# institution = 'IGTP+'\n",
    "# institution = 'UPC_CIMNE'\n",
    "# institution = 'UB'\n",
    "# institution = 'UPF'\n",
    "# institution = 'UVic-UCC'\n",
    "# institution = 'UOC'"
   ]
  },
  {
   "cell_type": "markdown",
   "id": "d665e1b0-d48e-4b3c-92ad-2821cd98d9f4",
   "metadata": {},
   "source": [
    "# Create edgelist"
   ]
  },
  {
   "cell_type": "code",
   "execution_count": 3,
   "id": "d55b5f3c-a1f5-4ad7-b2ef-a3bc0103fd98",
   "metadata": {
    "tags": []
   },
   "outputs": [],
   "source": [
    "def create_edgelist(institution, save=True):\n",
    "    print(f\"Institution: {institution}.\")\n",
    "    ## Get authors from papers\n",
    "\n",
    "    # Set date for file versions\n",
    "    date_today = '20220309'\n",
    "\n",
    "    # Load papers with coauthors list\n",
    "    print(f\"{institution} - Loading papers.\")\n",
    "    papers_df = pd.read_csv(f'./data/papers_{institution}_2plus_{date_today}.csv', converters = {'orcids': eval})\n",
    "    papers = papers_df['orcids'].copy()\n",
    "\n",
    "    # Get unique list of authors from papers\n",
    "    authors_papers = list(set(papers.sum()))\n",
    "    authors_papers.sort()\n",
    "\n",
    "    ## Get authors from institution\n",
    "\n",
    "    # Get list of authors from institution\n",
    "    print(f\"{institution} - Loading nodes.\")\n",
    "    authors_inst_df = pd.read_csv(f'./data/nodes_{institution}_{date_today}.csv')\n",
    "\n",
    "    authors_inst = authors_inst_df['id']\n",
    "    authors_inst = authors_inst.unique()\n",
    "    authors_inst.sort()\n",
    "\n",
    "    ## Combine authors\n",
    "\n",
    "    # Combine both\n",
    "    authors_index = list(set(authors_papers) & set(authors_inst))\n",
    "    authors_index.sort()\n",
    "    \n",
    "    ## Create df to store collaborations\n",
    "\n",
    "    print(f\"{institution} - Calculting combinations of authors.\")\n",
    "    author_combinations = combinations(authors_index,2)\n",
    "    collabs_df = pd.DataFrame(list(author_combinations), columns=['Source', 'Target'])\n",
    "    collabs_df['Weight'] = 0\n",
    "    collabs_df = collabs_df.set_index(['Source', 'Target'])\n",
    "\n",
    "    # Calculate collaborations\n",
    "\n",
    "    ## Main loop: add collaborations to df\n",
    "\n",
    "    print(f\"{institution} - Main loop: counting collaborations.\")\n",
    "    for i, paper in enumerate(papers):\n",
    "        print(f\"{institution} - Progress: {i/len(papers)*100:.0f}%. ({i:,.0f}/{len(papers):,.0f}).\", end=\"\\r\")\n",
    "\n",
    "        # Store collaboration\n",
    "        paper = list(set(paper))\n",
    "        paper.sort()\n",
    "        author_pairs = combinations(paper, 2)\n",
    "        for pair in author_pairs:\n",
    "            try:\n",
    "                collabs_df.loc[pair] += 1\n",
    "            except:\n",
    "                pass\n",
    "    collabs_df = collabs_df.reset_index()\n",
    "    \n",
    "    if save:\n",
    "        ## Save\n",
    "        outfile = f'./data/edges_{institution}_{date_today}.csv'\n",
    "        collabs_df.to_csv(outfile, index=None)\n",
    "        print(f\"{institution} - Done. Saved '{outfile}'.\")\n",
    "        \n",
    "    return collabs_df"
   ]
  },
  {
   "cell_type": "markdown",
   "id": "1f950a64-5368-4951-b145-e0d48cb6da02",
   "metadata": {},
   "source": [
    "# MAIN LOOP: Institution"
   ]
  },
  {
   "cell_type": "code",
   "execution_count": 4,
   "id": "759c3e7d-cd00-49ae-ac2d-26ee1f5edd18",
   "metadata": {},
   "outputs": [
    {
     "name": "stdout",
     "output_type": "stream",
     "text": [
      "Institution: IGTP+.\n",
      "IGTP+ - Loading papers.\n",
      "IGTP+ - Loading nodes.\n",
      "IGTP+ - Calculting combinations of authors.\n",
      "IGTP+ - Main loop: counting collaborations.\n",
      "IGTP+ - Done. Saved './data/edges_IGTP+_20220309.csv'.\n",
      "Institution: UPC_CIMNE.\n",
      "UPC_CIMNE - Loading papers.\n",
      "UPC_CIMNE - Loading nodes.\n",
      "UPC_CIMNE - Calculting combinations of authors.\n",
      "UPC_CIMNE - Main loop: counting collaborations.\n",
      "UPC_CIMNE - Done. Saved './data/edges_UPC_CIMNE_20220309.csv'.\n",
      "Institution: UB.\n",
      "UB - Loading papers.\n",
      "UB - Loading nodes.\n",
      "UB - Calculting combinations of authors.\n",
      "UB - Main loop: counting collaborations.\n",
      "UB - Done. Saved './data/edges_UB_20220309.csv'.\n",
      "Institution: UPF.\n",
      "UPF - Loading papers.\n",
      "UPF - Loading nodes.\n",
      "UPF - Calculting combinations of authors.\n",
      "UPF - Main loop: counting collaborations.\n",
      "UPF - Done. Saved './data/edges_UPF_20220309.csv'.\n",
      "Institution: UVic-UCC.\n",
      "UVic-UCC - Loading papers.\n",
      "UVic-UCC - Loading nodes.\n",
      "UVic-UCC - Calculting combinations of authors.\n",
      "UVic-UCC - Main loop: counting collaborations.\n",
      "UVic-UCC - Done. Saved './data/edges_UVic-UCC_20220309.csv'.\n",
      "Institution: UOC.\n",
      "UOC - Loading papers.\n",
      "UOC - Loading nodes.\n",
      "UOC - Calculting combinations of authors.\n",
      "UOC - Main loop: counting collaborations.\n",
      "UOC - Done. Saved './data/edges_UOC_20220309.csv'.\n"
     ]
    }
   ],
   "source": [
    "for institution in institution_list:\n",
    "    collabs_df = create_edgelist(institution)"
   ]
  },
  {
   "cell_type": "markdown",
   "id": "a33fa4d7-f5b0-4f76-85fb-f31e5bbbbb70",
   "metadata": {},
   "source": [
    "# EXTRA CODE"
   ]
  },
  {
   "cell_type": "markdown",
   "id": "f7a24dba-57f5-4e5b-82d7-1cd9a084cd45",
   "metadata": {},
   "source": [
    "# Check results"
   ]
  },
  {
   "cell_type": "code",
   "execution_count": null,
   "id": "1024908f-b2dc-4c99-9183-9848662a701d",
   "metadata": {
    "tags": []
   },
   "outputs": [],
   "source": [
    "# Check for pairs with joint publications\n",
    "pos_pairs = collabs_df.loc[collabs_df['value'] > 0]\n",
    "\n",
    "# Count number of errors\n",
    "errors = 0\n",
    "count = 0\n",
    "# for idx, row in collabs_df.iterrows():\n",
    "for idx, row in pos_pairs.iterrows():\n",
    "    print(f\"{count}/{len(pos_pairs)}\", end=\"\\r\")\n",
    "    sum=0\n",
    "    for paper in papers:\n",
    "        if row['Source'] in paper and row['Target'] in paper:\n",
    "            sum += 1\n",
    "                \n",
    "    result = row['Weight'] == sum\n",
    "    if not result:\n",
    "        errors += 1\n",
    "        \n",
    "    count += 1\n",
    "        \n",
    "print(f\"Done. Found {errors} errors.\")"
   ]
  }
 ],
 "metadata": {
  "kernelspec": {
   "display_name": "Python 3 (ipykernel)",
   "language": "python",
   "name": "python3"
  },
  "language_info": {
   "codemirror_mode": {
    "name": "ipython",
    "version": 3
   },
   "file_extension": ".py",
   "mimetype": "text/x-python",
   "name": "python",
   "nbconvert_exporter": "python",
   "pygments_lexer": "ipython3",
   "version": "3.9.6"
  }
 },
 "nbformat": 4,
 "nbformat_minor": 5
}
