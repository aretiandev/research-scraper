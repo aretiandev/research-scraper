{
 "cells": [
  {
   "cell_type": "markdown",
   "id": "606b03fa-86d4-4e0b-893e-080d96e50aaa",
   "metadata": {},
   "source": [
    "# Debug Scraper"
   ]
  },
  {
   "cell_type": "markdown",
   "id": "77e00729-86eb-4308-a396-3a68d854177a",
   "metadata": {},
   "source": [
    "## Test scrape()"
   ]
  },
  {
   "cell_type": "code",
   "execution_count": null,
   "id": "33ff9c31-ce72-4621-9377-bb2f4b538fd8",
   "metadata": {
    "tags": []
   },
   "outputs": [],
   "source": [
    "from requests_html import AsyncHTMLSession\n",
    "\n",
    "url1 = 'https://portalrecerca.csuc.cat/simple-search?query=&location=crisrp&filter_field_1=resourcetype&filter_type_1=equals&filter_value_1=Researchers&filter_field_2=&filter_type_2=&filter_value_2=&sort_by=crisrp.fullName_sort&order=asc&rpp=300&etal=0&start=5400'\n",
    "url2 = 'https://portalrecerca.csuc.cat/simple-search?query=&location=crisrp&filter_field_1=resourcetype&filter_type_1=equals&filter_value_1=Researchers&filter_field_2=&filter_type_2=&filter_value_2=&sort_by=crisrp.fullName_sort&order=asc&rpp=300&etal=0&start=5700'\n",
    "batch = [url1,url2]\n",
    "\n",
    "items = 'author_links'\n",
    "\n",
    "async def main():\n",
    "    s = AsyncHTMLSession()\n",
    "    tasks = (scrape_url(s, url, items=items) for url in batch)\n",
    "    batch_result = await asyncio.gather(*tasks)\n",
    "\n",
    "await main()"
   ]
  },
  {
   "cell_type": "markdown",
   "id": "be7bd151-6606-4481-8d7a-1a39560f7c98",
   "metadata": {},
   "source": [
    "## Custom Test"
   ]
  },
  {
   "cell_type": "code",
   "execution_count": null,
   "id": "450b9046-25c8-4973-9cdc-c7e1818decf7",
   "metadata": {
    "tags": []
   },
   "outputs": [],
   "source": [
    "# Custom test script to show different results between JupyterLab and python script\n",
    "from src.test_single import test_scrape\n",
    "test_scrape()"
   ]
  },
  {
   "cell_type": "markdown",
   "id": "825016ef-f2ab-48eb-b54c-f63cd9843652",
   "metadata": {},
   "source": [
    "## Test scrape_authors"
   ]
  },
  {
   "cell_type": "markdown",
   "id": "140b61b0-2483-4c2f-8c97-795cf4ffd486",
   "metadata": {},
   "source": [
    "### From script"
   ]
  },
  {
   "cell_type": "code",
   "execution_count": null,
   "id": "53c47626-16e9-446a-bbb2-95992a030f03",
   "metadata": {
    "tags": []
   },
   "outputs": [],
   "source": [
    "from src.test_scrape import test_scrape_authors\n",
    "\n",
    "await test_scrape_authors()"
   ]
  },
  {
   "cell_type": "markdown",
   "id": "3550024d-c64c-46b9-ba8f-245dbe6475bf",
   "metadata": {},
   "source": [
    "### From Snakefile"
   ]
  },
  {
   "cell_type": "code",
   "execution_count": null,
   "id": "54e3204f-3aa0-4e00-b5b8-c961514422e5",
   "metadata": {},
   "outputs": [],
   "source": [
    "import pandas as pd\n",
    "from datetime import date\n",
    "import asyncio\n",
    "from src.helpers import scrape\n",
    "\n",
    "date_today = date.today().strftime(\"%Y%m%d\")\n",
    "\n",
    "author_urls = pd.read_csv(f'data/author_urls_{date_today}.csv')\n",
    "author_urls = list(author_urls['0'])\n",
    "url_root = 'https://portalrecerca.csuc.cat'\n",
    "urls = [url_root + url for url in author_urls]\n",
    "\n",
    "items = 'authors'\n",
    "start_pos = 13100\n",
    "batch_size = 100\n",
    "out_file = f'data/nodes_{date_today}_test.csv'\n",
    "await scrape(items=items, urls=urls, start_pos=start_pos, batch_size=batch_size, out_file=out_file)"
   ]
  },
  {
   "cell_type": "code",
   "execution_count": null,
   "id": "00a26869-7537-4bf3-bb24-75187d40b4de",
   "metadata": {
    "tags": []
   },
   "outputs": [],
   "source": [
    "mydict = {'name':'fernando', 'age':35}\n",
    "print(mydict.keys())\n",
    "for k,v in mydict.items():\n",
    "    print(k,v)"
   ]
  },
  {
   "cell_type": "code",
   "execution_count": null,
   "id": "1cfde032-159b-46ed-8e08-8dd2c60431f2",
   "metadata": {},
   "outputs": [],
   "source": [
    "result['hello']='world'"
   ]
  },
  {
   "cell_type": "code",
   "execution_count": null,
   "id": "5e58c356-0f79-4dfe-9772-c2330a3dde10",
   "metadata": {},
   "outputs": [],
   "source": []
  },
  {
   "cell_type": "markdown",
   "id": "bdb9655a-f812-45ae-8ed4-7013f27644e9",
   "metadata": {},
   "source": [
    "# Debugging pandas read_html"
   ]
  },
  {
   "cell_type": "code",
   "execution_count": null,
   "id": "ebcc99ab-a074-493f-b7d6-ce5b475d66ec",
   "metadata": {},
   "outputs": [],
   "source": [
    "# Delete this\n",
    "import pandas as pd\n",
    "df = pd.read_csv('data/author_data_20220311.csv')\n",
    "df = df.rename(columns={'project':'projects', 'group':'groups'})\n",
    "df.to_csv('data/author_data_20220311_2.csv', index=None)"
   ]
  },
  {
   "cell_type": "code",
   "execution_count": null,
   "id": "1f8769fe-816e-4bad-a7a0-4cef671889f8",
   "metadata": {},
   "outputs": [],
   "source": [
    "import pandas as pd\n",
    "from requests_html import HTMLSession"
   ]
  },
  {
   "cell_type": "code",
   "execution_count": null,
   "id": "a12fc998-3a1c-4954-b2f1-8d2c11e380ea",
   "metadata": {},
   "outputs": [],
   "source": [
    "url = 'https://portalrecerca.csuc.cat/cris/ou/ou167744?onlytab=true&locale=en'\n",
    "url = 'https://portalrecerca.csuc.cat/cris/project/pj3453346?onlytab=true&locale=en'"
   ]
  },
  {
   "cell_type": "code",
   "execution_count": null,
   "id": "9871488d-7ca1-40ac-b10a-03ed8b10b07a",
   "metadata": {},
   "outputs": [],
   "source": [
    "session = HTMLSession()\n",
    "r = session.get(url)"
   ]
  },
  {
   "cell_type": "code",
   "execution_count": null,
   "id": "8ef8e76e-520d-4919-b033-11c0be462cb0",
   "metadata": {},
   "outputs": [],
   "source": [
    "tables_lst = pd.read_html(r.text)\n",
    "len(tables_lst)"
   ]
  },
  {
   "cell_type": "code",
   "execution_count": null,
   "id": "4d19f244-d12f-46bf-8a0a-c53eb02481bf",
   "metadata": {},
   "outputs": [],
   "source": [
    "table = tables_lst[0].set_index(0).to_dict()[1]\n",
    "table"
   ]
  },
  {
   "cell_type": "code",
   "execution_count": null,
   "id": "26a7bcb4-2a36-4201-bb7a-6aeb85c9904c",
   "metadata": {},
   "outputs": [],
   "source": [
    "attr_keys = {'name':'Name', 'acronym':'Acronym','institution':'Universities or CERCA centres'}\n",
    "attr_keys = {\n",
    "    'title':'Title', \n",
    "    'code':'Official code',\n",
    "    'url':'URL',\n",
    "    'start_date':'Start date',\n",
    "    'end_date':'End date',\n",
    "    'institution':'Universities or CERCA centres'}\n",
    "\n",
    "result = {attr_name:table[table_key] for attr_name,table_key in attr_keys.items()}\n",
    "result"
   ]
  },
  {
   "cell_type": "code",
   "execution_count": null,
   "id": "c042ff23-abba-4840-a025-1206a9de89ac",
   "metadata": {},
   "outputs": [],
   "source": [
    "{k for k,v in result.items()}"
   ]
  },
  {
   "cell_type": "code",
   "execution_count": null,
   "id": "0d562136-135f-4be8-b4b1-4c81912d2560",
   "metadata": {},
   "outputs": [],
   "source": [
    "mydf[0].to_dict()"
   ]
  },
  {
   "cell_type": "code",
   "execution_count": null,
   "id": "8bd202ee-9759-4c57-a1de-adbd39306998",
   "metadata": {},
   "outputs": [],
   "source": [
    "len(df)"
   ]
  },
  {
   "cell_type": "code",
   "execution_count": null,
   "id": "38ed7276-f589-4da2-bbef-ab6607fc4b8e",
   "metadata": {},
   "outputs": [],
   "source": [
    "url = 'https://portalrecerca.csuc.cat/cris/ou/ou167744/researchersorg.html?onlytab=true&locale=en'\n",
    "tables = pd.read_html(url)\n",
    "tables[0]"
   ]
  },
  {
   "cell_type": "code",
   "execution_count": null,
   "id": "2e7f9906-09f3-478d-af18-84b20bcdfa3d",
   "metadata": {},
   "outputs": [],
   "source": [
    "len(tables)"
   ]
  },
  {
   "cell_type": "code",
   "execution_count": null,
   "id": "91210ef8-753c-43e7-97a5-c321115abf8b",
   "metadata": {},
   "outputs": [],
   "source": [
    "tables[0]['Fullname'].to_list()\n",
    "tables[0]['Universities or CERCA centres'].to_list()"
   ]
  },
  {
   "cell_type": "code",
   "execution_count": null,
   "id": "91907b5a-5653-4a06-9ef2-ead6eeb4f5f4",
   "metadata": {},
   "outputs": [],
   "source": [
    "tables[1]['Fullname'].to_list()\n",
    "tables[1]['Universities or CERCA centres'].to_list()"
   ]
  },
  {
   "cell_type": "code",
   "execution_count": null,
   "id": "80d35ef8-e92c-4e06-bf2b-695384b81a8a",
   "metadata": {},
   "outputs": [],
   "source": [
    "# Get max pages"
   ]
  },
  {
   "cell_type": "code",
   "execution_count": null,
   "id": "a049623b-a14f-4b8e-85d3-6aa9d6232280",
   "metadata": {},
   "outputs": [],
   "source": [
    "from src.scrape import get_max_pages"
   ]
  },
  {
   "cell_type": "markdown",
   "id": "b58a61d8-0e04-485a-abc6-5617522fc99f",
   "metadata": {},
   "source": [
    "# 2022-03-13 debug scrape_url(paper_links)"
   ]
  },
  {
   "cell_type": "code",
   "execution_count": null,
   "id": "10f7f694-c6bf-4aa0-ab70-70811d96c898",
   "metadata": {},
   "outputs": [],
   "source": [
    "import os\n",
    "import sys\n",
    "from requests_html import AsyncHTMLSession\n",
    "\n",
    "sys.path.append('../src/')\n",
    "from scrape import scrape, scrape_url, retry_url"
   ]
  },
  {
   "cell_type": "markdown",
   "id": "9ef18ea9-25b9-4b35-b376-c1758da8a2f2",
   "metadata": {},
   "source": [
    "## Reproducing the error"
   ]
  },
  {
   "cell_type": "code",
   "execution_count": null,
   "id": "25530910-4621-47e8-a61e-6645ba526477",
   "metadata": {
    "tags": []
   },
   "outputs": [],
   "source": [
    "await scrape(items=items, batch_start_pos=2, batch_size=50 )"
   ]
  },
  {
   "cell_type": "markdown",
   "id": "d0a6edb3-d560-4fdb-ad3c-f47880de0e0d",
   "metadata": {},
   "source": [
    "## Debugging the error"
   ]
  },
  {
   "cell_type": "code",
   "execution_count": null,
   "id": "412fc9e6-32fd-474f-b61c-374a3f68ea9e",
   "metadata": {
    "tags": []
   },
   "outputs": [],
   "source": [
    "s = AsyncHTMLSession()\n",
    "# url = 'https://portalrecerca.csuc.cat/simple-search?query=&location=publications&filter_field_1=resourcetype&filter_type_1=equals&filter_value_1=Items&filter_field_2=itemtype&filter_type_2=notequals&filter_value_2=Phd+Thesis&sort_by=dc.contributor.authors_sort&order=asc&rpp=300&etal=0&start=102300'\n",
    "# url = 'https://portalrecerca.csuc.cat/simple-search?query=&location=publications&filter_field_1=resourcetype&filter_type_1=equals&filter_value_1=Items&filter_field_2=itemtype&filter_type_2=notequals&filter_value_2=Phd+Thesis&sort_by=dc.contributor.authors_sort&order=asc&rpp=300&etal=0&start=72900'\n",
    "url = 'https://portalrecerca.csuc.cat/simple-search?query=&location=publications&filter_field_1=resourcetype&filter_type_1=equals&filter_value_1=Items&filter_field_2=itemtype&filter_type_2=notequals&filter_value_2=Phd+Thesis&sort_by=dc.contributor.authors_sort&order=asc&rpp=300&etal=0&start=73200'\n",
    "url = 'https://portalrecerca.csuc.cat/simple-search?query=&location=publications&filter_field_1=resourcetype&filter_type_1=equals&filter_value_1=Items&filter_field_2=itemtype&filter_type_2=notequals&filter_value_2=Phd+Thesis&sort_by=dc.contributor.authors_sort&order=asc&rpp=300&etal=0&start=116400'\n",
    "url = 'https://portalrecerca.csuc.cat/simple-search?query=&location=publications&filter_field_1=resourcetype&filter_type_1=equals&filter_value_1=Items&filter_field_2=itemtype&filter_type_2=notequals&filter_value_2=Phd+Thesis&sort_by=dc.contributor.authors_sort&order=asc&rpp=300&etal=0&start=102900'\n",
    "\n",
    "items = 'paper_links'\n",
    "selector = 'div.panel.panel-info table.table'\n",
    "r = await retry_url(s, url, selector)\n",
    "# result = await scrape_url(s, url, items)\n",
    "\n",
    "table = r.html.find('div.panel.panel-info table.table', first=True)\n",
    "rows = table.find('tr')\n",
    "rows"
   ]
  },
  {
   "cell_type": "markdown",
   "id": "5e8332f5-1eda-43d9-a7b4-b82e320d773b",
   "metadata": {},
   "source": [
    "# 2022-03-14 debug scrape(author)"
   ]
  },
  {
   "cell_type": "code",
   "execution_count": null,
   "id": "05aaf3ac-0483-4c9a-a31d-bc8ea8a2a92d",
   "metadata": {},
   "outputs": [],
   "source": [
    "import os\n",
    "import sys\n",
    "from requests_html import AsyncHTMLSession\n",
    "\n",
    "sys.path.append('../src/')\n",
    "from scrape import scrape, scrape_url, retry_url"
   ]
  },
  {
   "cell_type": "code",
   "execution_count": null,
   "id": "6ddf1140-75a2-4f80-90df-f819d7931155",
   "metadata": {},
   "outputs": [],
   "source": [
    "s = AsyncHTMLSession()\n",
    "\n",
    "url = 'https://portalrecerca.csuc.cat/orcid/0000-0003-4265-1656?locale=en'\n",
    "r = await retry_url(s, url, attempts=5, debug=True)  # Debug\n",
    "\n",
    "# r = await s.get(url)\n",
    "r"
   ]
  },
  {
   "cell_type": "code",
   "execution_count": null,
   "id": "e36b7856-e174-4446-bf17-b005cbf0467d",
   "metadata": {},
   "outputs": [],
   "source": []
  }
 ],
 "metadata": {
  "kernelspec": {
   "display_name": "Python 3 (ipykernel)",
   "language": "python",
   "name": "python3"
  },
  "language_info": {
   "codemirror_mode": {
    "name": "ipython",
    "version": 3
   },
   "file_extension": ".py",
   "mimetype": "text/x-python",
   "name": "python",
   "nbconvert_exporter": "python",
   "pygments_lexer": "ipython3",
   "version": "3.9.6"
  }
 },
 "nbformat": 4,
 "nbformat_minor": 5
}
