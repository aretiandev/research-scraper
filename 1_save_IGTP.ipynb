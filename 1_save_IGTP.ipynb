{
 "cells": [
  {
   "cell_type": "markdown",
   "id": "a9722fea-7375-40cd-be0d-91abd54100a6",
   "metadata": {},
   "source": [
    "# Save IGTP\n",
    "\n",
    "This notebook gets research groups from IGTP."
   ]
  },
  {
   "cell_type": "markdown",
   "id": "9d27f59b-cfdd-4f38-bcf0-38e4e5e44cd1",
   "metadata": {
    "tags": []
   },
   "source": [
    "# Import modules"
   ]
  },
  {
   "cell_type": "code",
   "execution_count": 26,
   "id": "553d9af1-da9d-4718-b27a-45d4ef954fac",
   "metadata": {},
   "outputs": [],
   "source": [
    "import numpy as np\n",
    "import pandas as pd\n",
    "from ast import literal_eval\n",
    "from itertools import combinations\n",
    "import random"
   ]
  },
  {
   "cell_type": "code",
   "execution_count": 27,
   "id": "d967080c-5023-4b6e-8f0d-5a2aa21e6f04",
   "metadata": {},
   "outputs": [
    {
     "data": {
      "text/html": [
       "<div>\n",
       "<style scoped>\n",
       "    .dataframe tbody tr th:only-of-type {\n",
       "        vertical-align: middle;\n",
       "    }\n",
       "\n",
       "    .dataframe tbody tr th {\n",
       "        vertical-align: top;\n",
       "    }\n",
       "\n",
       "    .dataframe thead th {\n",
       "        text-align: right;\n",
       "    }\n",
       "</style>\n",
       "<table border=\"1\" class=\"dataframe\">\n",
       "  <thead>\n",
       "    <tr style=\"text-align: right;\">\n",
       "      <th></th>\n",
       "      <th>name</th>\n",
       "      <th>id</th>\n",
       "      <th>department</th>\n",
       "      <th>institution</th>\n",
       "      <th>projects</th>\n",
       "      <th>groups</th>\n",
       "    </tr>\n",
       "  </thead>\n",
       "  <tbody>\n",
       "    <tr>\n",
       "      <th>0</th>\n",
       "      <td>Aasen, Trond</td>\n",
       "      <td>0000-0003-0763-2695</td>\n",
       "      <td>Àrea de Oncologia</td>\n",
       "      <td>VHIR</td>\n",
       "      <td>['/cris/project/pj3440995', '/cris/project/pj3...</td>\n",
       "      <td>['/cris/ou/ou168865']</td>\n",
       "    </tr>\n",
       "    <tr>\n",
       "      <th>1</th>\n",
       "      <td>Abad Calvo, Pilar</td>\n",
       "      <td>0000-0002-6078-0956</td>\n",
       "      <td>Institut de Recerca Germans Trias i Pujol</td>\n",
       "      <td>IGTP</td>\n",
       "      <td>[]</td>\n",
       "      <td>[]</td>\n",
       "    </tr>\n",
       "    <tr>\n",
       "      <th>2</th>\n",
       "      <td>Abad Capa, Jorge</td>\n",
       "      <td>0000-0002-8129-7859</td>\n",
       "      <td>Departament de Medicina</td>\n",
       "      <td>UAB</td>\n",
       "      <td>[]</td>\n",
       "      <td>[]</td>\n",
       "    </tr>\n",
       "    <tr>\n",
       "      <th>3</th>\n",
       "      <td>Abad Cuñado, Vanessa</td>\n",
       "      <td>0000-0003-4265-1656</td>\n",
       "      <td>Departament d'Enginyeria Química, Biològica i ...</td>\n",
       "      <td>UAB</td>\n",
       "      <td>[]</td>\n",
       "      <td>['/sgr/2017SGR0014']</td>\n",
       "    </tr>\n",
       "    <tr>\n",
       "      <th>4</th>\n",
       "      <td>Abad Lázaro, Aina</td>\n",
       "      <td>0000-0003-0260-9170</td>\n",
       "      <td>NaN</td>\n",
       "      <td>NaN</td>\n",
       "      <td>[]</td>\n",
       "      <td>['/cris/ou/ou167707']</td>\n",
       "    </tr>\n",
       "    <tr>\n",
       "      <th>...</th>\n",
       "      <td>...</td>\n",
       "      <td>...</td>\n",
       "      <td>...</td>\n",
       "      <td>...</td>\n",
       "      <td>...</td>\n",
       "      <td>...</td>\n",
       "    </tr>\n",
       "    <tr>\n",
       "      <th>19045</th>\n",
       "      <td>Zurczak, Marek</td>\n",
       "      <td>0000-0003-4184-3410</td>\n",
       "      <td>NaN</td>\n",
       "      <td>NaN</td>\n",
       "      <td>[]</td>\n",
       "      <td>[]</td>\n",
       "    </tr>\n",
       "    <tr>\n",
       "      <th>19046</th>\n",
       "      <td>Zuriguel Pérez, Esperanza</td>\n",
       "      <td>0000-0002-0622-8423</td>\n",
       "      <td>Àrea de Malalties Digestives i Hepàtiques</td>\n",
       "      <td>VHIR</td>\n",
       "      <td>['/cris/project/pj3459159', '/cris/project/pj3...</td>\n",
       "      <td>['/cris/ou/ou168823']</td>\n",
       "    </tr>\n",
       "    <tr>\n",
       "      <th>19047</th>\n",
       "      <td>Zwart, Marta</td>\n",
       "      <td>0000-0003-4888-0927</td>\n",
       "      <td>Institut de Recerca Germans Trias i Pujol</td>\n",
       "      <td>IGTP</td>\n",
       "      <td>[]</td>\n",
       "      <td>[]</td>\n",
       "    </tr>\n",
       "    <tr>\n",
       "      <th>19048</th>\n",
       "      <td>Zweizig, John</td>\n",
       "      <td>0000-0002-1521-3397</td>\n",
       "      <td>Institut d'Estudis Espacials de Catalunya</td>\n",
       "      <td>IEEC</td>\n",
       "      <td>[]</td>\n",
       "      <td>[]</td>\n",
       "    </tr>\n",
       "    <tr>\n",
       "      <th>19049</th>\n",
       "      <td>Zwiernik, Piotr</td>\n",
       "      <td>0000-0003-3431-131X</td>\n",
       "      <td>Departament d'Economia i Empresa</td>\n",
       "      <td>UPF</td>\n",
       "      <td>['/cris/project/pj3451447', '/cris/project/pj3...</td>\n",
       "      <td>['/cris/ou/ou167287']</td>\n",
       "    </tr>\n",
       "  </tbody>\n",
       "</table>\n",
       "<p>19050 rows × 6 columns</p>\n",
       "</div>"
      ],
      "text/plain": [
       "                            name                   id  \\\n",
       "0                   Aasen, Trond  0000-0003-0763-2695   \n",
       "1              Abad Calvo, Pilar  0000-0002-6078-0956   \n",
       "2               Abad Capa, Jorge  0000-0002-8129-7859   \n",
       "3           Abad Cuñado, Vanessa  0000-0003-4265-1656   \n",
       "4              Abad Lázaro, Aina  0000-0003-0260-9170   \n",
       "...                          ...                  ...   \n",
       "19045             Zurczak, Marek  0000-0003-4184-3410   \n",
       "19046  Zuriguel Pérez, Esperanza  0000-0002-0622-8423   \n",
       "19047               Zwart, Marta  0000-0003-4888-0927   \n",
       "19048              Zweizig, John  0000-0002-1521-3397   \n",
       "19049            Zwiernik, Piotr  0000-0003-3431-131X   \n",
       "\n",
       "                                              department institution  \\\n",
       "0                                      Àrea de Oncologia        VHIR   \n",
       "1              Institut de Recerca Germans Trias i Pujol        IGTP   \n",
       "2                                Departament de Medicina         UAB   \n",
       "3      Departament d'Enginyeria Química, Biològica i ...         UAB   \n",
       "4                                                    NaN         NaN   \n",
       "...                                                  ...         ...   \n",
       "19045                                                NaN         NaN   \n",
       "19046          Àrea de Malalties Digestives i Hepàtiques        VHIR   \n",
       "19047          Institut de Recerca Germans Trias i Pujol        IGTP   \n",
       "19048          Institut d'Estudis Espacials de Catalunya        IEEC   \n",
       "19049                   Departament d'Economia i Empresa         UPF   \n",
       "\n",
       "                                                projects  \\\n",
       "0      ['/cris/project/pj3440995', '/cris/project/pj3...   \n",
       "1                                                     []   \n",
       "2                                                     []   \n",
       "3                                                     []   \n",
       "4                                                     []   \n",
       "...                                                  ...   \n",
       "19045                                                 []   \n",
       "19046  ['/cris/project/pj3459159', '/cris/project/pj3...   \n",
       "19047                                                 []   \n",
       "19048                                                 []   \n",
       "19049  ['/cris/project/pj3451447', '/cris/project/pj3...   \n",
       "\n",
       "                      groups  \n",
       "0      ['/cris/ou/ou168865']  \n",
       "1                         []  \n",
       "2                         []  \n",
       "3       ['/sgr/2017SGR0014']  \n",
       "4      ['/cris/ou/ou167707']  \n",
       "...                      ...  \n",
       "19045                     []  \n",
       "19046  ['/cris/ou/ou168823']  \n",
       "19047                     []  \n",
       "19048                     []  \n",
       "19049  ['/cris/ou/ou167287']  \n",
       "\n",
       "[19050 rows x 6 columns]"
      ]
     },
     "execution_count": 27,
     "metadata": {},
     "output_type": "execute_result"
    }
   ],
   "source": [
    "# TODO: get all research groups for IGTP from here: http://www.germanstrias.org/research/\n",
    "nodes_df = pd.read_csv('./data/nodes.csv')\n",
    "nodes_df"
   ]
  },
  {
   "cell_type": "code",
   "execution_count": 31,
   "id": "0017839d-a52b-48b3-8a24-c5b616b196c4",
   "metadata": {},
   "outputs": [
    {
     "data": {
      "text/html": [
       "<div>\n",
       "<style scoped>\n",
       "    .dataframe tbody tr th:only-of-type {\n",
       "        vertical-align: middle;\n",
       "    }\n",
       "\n",
       "    .dataframe tbody tr th {\n",
       "        vertical-align: top;\n",
       "    }\n",
       "\n",
       "    .dataframe thead th {\n",
       "        text-align: right;\n",
       "    }\n",
       "</style>\n",
       "<table border=\"1\" class=\"dataframe\">\n",
       "  <thead>\n",
       "    <tr style=\"text-align: right;\">\n",
       "      <th></th>\n",
       "      <th>name</th>\n",
       "      <th>id</th>\n",
       "      <th>department</th>\n",
       "      <th>institution</th>\n",
       "      <th>projects</th>\n",
       "      <th>groups</th>\n",
       "    </tr>\n",
       "  </thead>\n",
       "  <tbody>\n",
       "    <tr>\n",
       "      <th>11897</th>\n",
       "      <td>Muga Bustamante, Roberto</td>\n",
       "      <td>0000-0001-6301-431X</td>\n",
       "      <td>Departament de Medicina</td>\n",
       "      <td>UAB</td>\n",
       "      <td>[]</td>\n",
       "      <td>[]</td>\n",
       "    </tr>\n",
       "  </tbody>\n",
       "</table>\n",
       "</div>"
      ],
      "text/plain": [
       "                           name                   id               department  \\\n",
       "11897  Muga Bustamante, Roberto  0000-0001-6301-431X  Departament de Medicina   \n",
       "\n",
       "      institution projects groups  \n",
       "11897         UAB       []     []  "
      ]
     },
     "execution_count": 31,
     "metadata": {},
     "output_type": "execute_result"
    }
   ],
   "source": [
    "nodes_df.loc[nodes_df['id'] == '0000-0001-6301-431X']"
   ]
  },
  {
   "cell_type": "markdown",
   "id": "ae84a20d-e53d-44ef-8531-9acea4b5b4c8",
   "metadata": {
    "tags": []
   },
   "source": [
    "# Save papers by institution"
   ]
  },
  {
   "cell_type": "markdown",
   "id": "7dc4de9a-b4b8-481a-9c67-9ca127c0429c",
   "metadata": {},
   "source": [
    "## Helper Functions"
   ]
  },
  {
   "cell_type": "code",
   "execution_count": 5,
   "id": "cfc57f49-adbb-49dd-b756-42e94ca06496",
   "metadata": {
    "tags": []
   },
   "outputs": [],
   "source": [
    "def convert_to_list(x):\n",
    "    \"\"\"Convert string column to list\"\"\"\n",
    "    try:\n",
    "        result = literal_eval(x)\n",
    "    except ValueError:\n",
    "        result = np.nan\n",
    "    return result\n",
    "\n",
    "def has_1_author(row, df):\n",
    "    try:\n",
    "        result = bool(set(row['orcids']) & set(df))\n",
    "    except TypeError:\n",
    "        result = False\n",
    "    return result\n",
    "\n",
    "def has_2_authors(row, df):\n",
    "    try:\n",
    "        result = len(set(row['orcids']) & set(df)) > 1\n",
    "    except TypeError:\n",
    "        result = False\n",
    "    return result"
   ]
  },
  {
   "cell_type": "markdown",
   "id": "e5b81a54-3f93-4d10-bc76-ceaf8fa5e67e",
   "metadata": {},
   "source": [
    "## Combine scraped data into single file\n",
    "(takes ~5mins, often gets stuck)"
   ]
  },
  {
   "cell_type": "code",
   "execution_count": 6,
   "id": "cce7e15b-9a0a-4905-8f7f-e9acde871000",
   "metadata": {},
   "outputs": [],
   "source": [
    "# Combine papers datasets that were downloaded in two batches\n",
    "# papers0_df = pd.read_csv('./data/papers_0.csv')\n",
    "# papers1_df = pd.read_csv('./data/papers_1.csv')\n",
    "# papers_df = papers0_df.append(papers1_df)\n",
    "# papers_df = papers_df.drop_duplicates()\n",
    "# papers_df.to_csv('./data/papers.csv', index=False)"
   ]
  },
  {
   "cell_type": "markdown",
   "id": "9c6dc022-f147-452f-ab22-c46bf1710a27",
   "metadata": {},
   "source": [
    "## Save papers and authors by institution"
   ]
  },
  {
   "cell_type": "markdown",
   "id": "ec76b1ab-62d5-48b7-923e-750a2c2e0009",
   "metadata": {},
   "source": [
    "### Load papers and authors"
   ]
  },
  {
   "cell_type": "code",
   "execution_count": 8,
   "id": "80bd2d1a-1867-44ef-a929-21f0d1472208",
   "metadata": {
    "tags": []
   },
   "outputs": [],
   "source": [
    "# Load papers\n",
    "papers_df = pd.read_csv('./data/papers.csv')\n",
    "# Convert strings to list of coauthors\n",
    "papers_df['orcids'] = papers_df['orcids'].apply(lambda x: convert_to_list(x))\n",
    "# Load authors\n",
    "authors_df = pd.read_csv('./data/nodes.csv')"
   ]
  },
  {
   "cell_type": "markdown",
   "id": "b2c3bf86-5d0b-4395-9d99-e77f438b5873",
   "metadata": {},
   "source": [
    "### Filter papers and authors"
   ]
  },
  {
   "cell_type": "code",
   "execution_count": 9,
   "id": "06d43d35-3332-4def-8a4d-148ce05ea031",
   "metadata": {
    "tags": []
   },
   "outputs": [
    {
     "name": "stdout",
     "output_type": "stream",
     "text": [
      "Extracting authors from IGTP.\n"
     ]
    }
   ],
   "source": [
    "# institution_list = ['IGTP', 'UPC', 'UB', 'UPF', 'UVic-UCC', 'UOC']\n",
    "institution_list = ['IGTP']\n",
    "\n",
    "for institution in institution_list:\n",
    "    # Extract authors from institution\n",
    "    print(f\"Extracting authors from {institution}.\")\n",
    "    authors_inst_df = authors_df.loc[authors_df['institution'] == institution]\n",
    "    authors_inst_df = authors_inst_df.rename(columns={'name':'label'})\n",
    "    authors_inst = authors_inst_df['id'].unique()\n",
    "#     # Save\n",
    "#     authors_inst_df.to_csv(f'./data/nodes_{institution}.csv', index=None)\n",
    "#     print(f\"Saved './data/nodes_{institution}.csv'\")\n",
    "\n",
    "#     # Extract papers with authors from institution\n",
    "#     print(f\"Extracting papers of researchers from {institution}.\")\n",
    "#     mask = papers_df.apply(lambda x: has_2_authors(x, authors_inst), axis=1)\n",
    "#     papers_inst_df = papers_df[mask]\n",
    "#     # Save\n",
    "#     papers_inst_df.to_csv(f'./data/papers_{institution}.csv', index=None)\n",
    "#     print(f\"Saved './data/papers_{institution}.csv'\")"
   ]
  },
  {
   "cell_type": "code",
   "execution_count": 25,
   "id": "ceca62dc-a227-4f0b-900c-48b2ead21a2a",
   "metadata": {},
   "outputs": [
    {
     "data": {
      "text/html": [
       "<div>\n",
       "<style scoped>\n",
       "    .dataframe tbody tr th:only-of-type {\n",
       "        vertical-align: middle;\n",
       "    }\n",
       "\n",
       "    .dataframe tbody tr th {\n",
       "        vertical-align: top;\n",
       "    }\n",
       "\n",
       "    .dataframe thead th {\n",
       "        text-align: right;\n",
       "    }\n",
       "</style>\n",
       "<table border=\"1\" class=\"dataframe\">\n",
       "  <thead>\n",
       "    <tr style=\"text-align: right;\">\n",
       "      <th></th>\n",
       "      <th>name</th>\n",
       "      <th>id</th>\n",
       "      <th>department</th>\n",
       "      <th>institution</th>\n",
       "      <th>projects</th>\n",
       "      <th>groups</th>\n",
       "    </tr>\n",
       "  </thead>\n",
       "  <tbody>\n",
       "    <tr>\n",
       "      <th>5726</th>\n",
       "      <td>Farre Albaladejo, Magi</td>\n",
       "      <td>0000-0001-8338-7543</td>\n",
       "      <td>Departament de Farmacologia, Terapèutica i Tox...</td>\n",
       "      <td>UAB</td>\n",
       "      <td>['/cris/project/pj3423401']</td>\n",
       "      <td>[]</td>\n",
       "    </tr>\n",
       "  </tbody>\n",
       "</table>\n",
       "</div>"
      ],
      "text/plain": [
       "                        name                   id  \\\n",
       "5726  Farre Albaladejo, Magi  0000-0001-8338-7543   \n",
       "\n",
       "                                             department institution  \\\n",
       "5726  Departament de Farmacologia, Terapèutica i Tox...         UAB   \n",
       "\n",
       "                         projects groups  \n",
       "5726  ['/cris/project/pj3423401']     []  "
      ]
     },
     "execution_count": 25,
     "metadata": {},
     "output_type": "execute_result"
    }
   ],
   "source": [
    "authors_df.loc[authors_df['name'].str.split(\",\").str[0]=='Farre Albaladejo']\n",
    "# authors_inst_df['label'].str.split(\",\").str[0].str[:4]\n",
    "# authors_inst_df['label'].str.split(\",\").str[0]\n",
    "# authors_inst_df['label'].str.split(\",\")[0]\n",
    "# authors_inst_df['label'].str.split(\",\", 0).str[0]"
   ]
  },
  {
   "cell_type": "markdown",
   "id": "8e88ddfc-2c48-459c-b684-f6065b737f63",
   "metadata": {},
   "source": [
    "# Remove this block"
   ]
  },
  {
   "cell_type": "code",
   "execution_count": 7,
   "id": "42206159-8d7e-4d5e-854d-9ee48dff0cf5",
   "metadata": {
    "tags": []
   },
   "outputs": [
    {
     "name": "stdout",
     "output_type": "stream",
     "text": [
      "Extracting authors from UPC.\n"
     ]
    },
    {
     "ename": "NameError",
     "evalue": "name 'authors_df' is not defined",
     "output_type": "error",
     "traceback": [
      "\u001b[0;31m---------------------------------------------------------------------------\u001b[0m",
      "\u001b[0;31mNameError\u001b[0m                                 Traceback (most recent call last)",
      "\u001b[0;32m/tmp/ipykernel_3654/2368316212.py\u001b[0m in \u001b[0;36m<module>\u001b[0;34m\u001b[0m\n\u001b[1;32m      6\u001b[0m     \u001b[0;31m# Extract authors from institution\u001b[0m\u001b[0;34m\u001b[0m\u001b[0;34m\u001b[0m\u001b[0;34m\u001b[0m\u001b[0m\n\u001b[1;32m      7\u001b[0m     \u001b[0mprint\u001b[0m\u001b[0;34m(\u001b[0m\u001b[0;34mf\"Extracting authors from {institution}.\"\u001b[0m\u001b[0;34m)\u001b[0m\u001b[0;34m\u001b[0m\u001b[0;34m\u001b[0m\u001b[0m\n\u001b[0;32m----> 8\u001b[0;31m     \u001b[0mauthors_inst_df\u001b[0m \u001b[0;34m=\u001b[0m \u001b[0mauthors_df\u001b[0m\u001b[0;34m.\u001b[0m\u001b[0mloc\u001b[0m\u001b[0;34m[\u001b[0m\u001b[0mauthors_df\u001b[0m\u001b[0;34m[\u001b[0m\u001b[0;34m'institution'\u001b[0m\u001b[0;34m]\u001b[0m \u001b[0;34m==\u001b[0m \u001b[0minstitution\u001b[0m\u001b[0;34m]\u001b[0m\u001b[0;34m\u001b[0m\u001b[0;34m\u001b[0m\u001b[0m\n\u001b[0m\u001b[1;32m      9\u001b[0m     \u001b[0mauthors_inst_df\u001b[0m \u001b[0;34m=\u001b[0m \u001b[0mauthors_inst_df\u001b[0m\u001b[0;34m.\u001b[0m\u001b[0mrename\u001b[0m\u001b[0;34m(\u001b[0m\u001b[0mcolumns\u001b[0m\u001b[0;34m=\u001b[0m\u001b[0;34m{\u001b[0m\u001b[0;34m'name'\u001b[0m\u001b[0;34m:\u001b[0m\u001b[0;34m'label'\u001b[0m\u001b[0;34m}\u001b[0m\u001b[0;34m)\u001b[0m\u001b[0;34m\u001b[0m\u001b[0;34m\u001b[0m\u001b[0m\n\u001b[1;32m     10\u001b[0m     \u001b[0mauthors_inst\u001b[0m \u001b[0;34m=\u001b[0m \u001b[0mauthors_inst_df\u001b[0m\u001b[0;34m[\u001b[0m\u001b[0;34m'id'\u001b[0m\u001b[0;34m]\u001b[0m\u001b[0;34m.\u001b[0m\u001b[0munique\u001b[0m\u001b[0;34m(\u001b[0m\u001b[0;34m)\u001b[0m\u001b[0;34m\u001b[0m\u001b[0;34m\u001b[0m\u001b[0m\n",
      "\u001b[0;31mNameError\u001b[0m: name 'authors_df' is not defined"
     ]
    }
   ],
   "source": [
    "# institution_list = ['IGTP', 'UPC', 'UB', 'UPF', 'UVic-UCC', 'UOC']\n",
    "# institution_list = ['IGTP']\n",
    "institution_list = ['UPC']\n",
    "\n",
    "for institution in institution_list:\n",
    "    # Extract authors from institution\n",
    "    print(f\"Extracting authors from {institution}.\")\n",
    "    authors_inst_df = authors_df.loc[authors_df['institution'] == institution]\n",
    "    authors_inst_df = authors_inst_df.rename(columns={'name':'label'})\n",
    "    authors_inst = authors_inst_df['id'].unique()\n",
    "    \n",
    "authors_inst_df.head()"
   ]
  },
  {
   "cell_type": "markdown",
   "id": "f9ce27fa-7c3b-402d-afda-9b42d52ef97f",
   "metadata": {},
   "source": [
    "## Todo: Add columns to nodes"
   ]
  },
  {
   "cell_type": "markdown",
   "id": "952c9f24-060c-446c-8f05-fdc52d39de7d",
   "metadata": {},
   "source": [
    "## Create papers matrix\n",
    "This block is not necessary since its output is not used in the next steps."
   ]
  },
  {
   "cell_type": "code",
   "execution_count": null,
   "id": "ce552375-2ef2-4774-8752-88c65b04a729",
   "metadata": {
    "tags": []
   },
   "outputs": [],
   "source": [
    "for institution in institution_list:\n",
    "    print(f\"Institution: {institution}.\")\n",
    "    papers_inst_df = pd.read_csv(f'./data/papers_{institution}.csv', converters = {'orcids': eval})\n",
    "    # Get papers column\n",
    "    papers = papers_inst_df['orcids'].copy()\n",
    "    papers = papers.reset_index(drop=True)\n",
    "\n",
    "    # Get unique list of authors from papers\n",
    "    authors_index = list(set(papers.sum()))\n",
    "\n",
    "    authors_index.sort()\n",
    "\n",
    "    # Create boolean matrix with papers\n",
    "    paper_bool_df = pd.DataFrame(columns=authors_index, index=range(len(papers)))\n",
    "    for i, paper in enumerate(papers):\n",
    "        paper_bool_df.loc[i,:] = 0\n",
    "        for orcid in paper:\n",
    "            paper_bool_df.loc[i,orcid] = 1\n",
    "\n",
    "    paper_bool_df.to_csv(f\"./data/paper_author_matrix_{institution}.csv\", index=None)"
   ]
  }
 ],
 "metadata": {
  "kernelspec": {
   "display_name": "Python 3 (ipykernel)",
   "language": "python",
   "name": "python3"
  },
  "language_info": {
   "codemirror_mode": {
    "name": "ipython",
    "version": 3
   },
   "file_extension": ".py",
   "mimetype": "text/x-python",
   "name": "python",
   "nbconvert_exporter": "python",
   "pygments_lexer": "ipython3",
   "version": "3.9.6"
  }
 },
 "nbformat": 4,
 "nbformat_minor": 5
}
