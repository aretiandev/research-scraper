{
 "cells": [
  {
   "cell_type": "markdown",
   "id": "93360b1b-2db1-41e5-81f2-128839c6635f",
   "metadata": {
    "tags": []
   },
   "source": [
    "# Scraping Portal de la Reserca\n",
    "\n",
    "This notebook asynchrnously scrapes information in Portal de la Reserca. It can download the following items:\n",
    "\n",
    "- Links to author portals\n",
    "- Author information from the author portals."
   ]
  },
  {
   "cell_type": "markdown",
   "id": "0a3fb252-e4cc-44f8-93f1-5cd99d578ee1",
   "metadata": {
    "tags": []
   },
   "source": [
    "# Import modules"
   ]
  },
  {
   "cell_type": "code",
   "execution_count": 11,
   "id": "fb2abea5-ed33-43fa-819e-caaaa1e05ce7",
   "metadata": {},
   "outputs": [],
   "source": [
    "import pandas as pd\n",
    "# from requests_html import HTMLSession, AsyncHTMLSession\n",
    "# import time\n",
    "# import asyncio\n",
    "# import ast\n",
    "from datetime import date"
   ]
  },
  {
   "cell_type": "markdown",
   "id": "d3bb4382-8dbc-4b12-93d5-e4700342dec4",
   "metadata": {},
   "source": [
    "# Run Scraper"
   ]
  },
  {
   "cell_type": "markdown",
   "id": "0a39a41e-7dd5-432b-88c3-598abd0d1e83",
   "metadata": {
    "tags": []
   },
   "source": [
    "## Nodes: Scrape authors"
   ]
  },
  {
   "cell_type": "markdown",
   "id": "135df11e-5c71-4611-86a5-33a83e7c4da9",
   "metadata": {},
   "source": [
    "### Get links to author pages"
   ]
  },
  {
   "cell_type": "code",
   "execution_count": 8,
   "id": "a055fcbb-a448-4525-b55b-f3fce37653cb",
   "metadata": {},
   "outputs": [],
   "source": [
    "from src.helpers import (get_max_pages, retry_url,\n",
    "                         scrape, scrape_url,\n",
    "                         scrape_author, scrape_project, scrape_group)"
   ]
  },
  {
   "cell_type": "code",
   "execution_count": 9,
   "id": "2d990062-5b71-4cb7-9a9b-c557b330d97f",
   "metadata": {},
   "outputs": [
    {
     "name": "stdout",
     "output_type": "stream",
     "text": [
      "Scraping author_links from Portal de la Reserca.\n",
      "Saving results to ./data/author_urls_20220304.csv.\n",
      "Retrieving number of URLs to scrape: 64.\n",
      "Scraping author_links from 64 URLs in 4 batches of 20, starting at 0.\n",
      "Progress: 100% (4/4). URLs: 60-79. Batch time: 10.30s. Time left: 0h0m10s.\n",
      "Done.\n"
     ]
    }
   ],
   "source": [
    "items = 'author_links'\n",
    "batch_size = 20\n",
    "date_today = date.today().strftime(\"%Y%m%d\")\n",
    "out_file = f'./data/author_urls_{date_today}.csv'\n",
    "author_urls = await scrape(items=items, batch_size=batch_size, out_file=out_file)"
   ]
  },
  {
   "cell_type": "markdown",
   "id": "3804c31d-3924-433c-99a7-fd01e4cc7fdb",
   "metadata": {},
   "source": [
    "### Scrape author pages"
   ]
  },
  {
   "cell_type": "code",
   "execution_count": null,
   "id": "c4cd5dcd-18dd-407e-bc12-fb7dd00cfa8b",
   "metadata": {
    "tags": []
   },
   "outputs": [
    {
     "name": "stdout",
     "output_type": "stream",
     "text": [
      "Scraping authors from Portal de la Reserca.\n",
      "Saving results to ./data/nodes_20220304.csv.\n",
      "Scraping authors from 19,050 URLs in 191 batches of 100, starting at 0.\n",
      "Progress: 19% (37/191). URLs: 3600-3699. Batch time: 79.93s. Time left: 3h26m29s.\r"
     ]
    }
   ],
   "source": [
    "# Build urls\n",
    "date_today = date.today().strftime(\"%Y%m%d\")\n",
    "author_urls = pd.read_csv(f'./data/author_urls_{date_today}.csv')\n",
    "author_urls = list(author_urls['0'])\n",
    "url_root = 'https://portalrecerca.csuc.cat'\n",
    "urls = [url_root + url for url in author_urls]\n",
    "\n",
    "# Get author data in batch\n",
    "items = 'authors'\n",
    "batch_size = 100\n",
    "date_today = date.today().strftime(\"%Y%m%d\")\n",
    "out_file = f'./data/nodes_{date_today}.csv'\n",
    "author_data = await scrape(items=items, urls=urls, batch_size=batch_size, out_file=out_file)"
   ]
  },
  {
   "cell_type": "code",
   "execution_count": null,
   "id": "e9db55f9-d397-417a-b07e-7e038cd4725d",
   "metadata": {
    "tags": []
   },
   "outputs": [],
   "source": [
    "# Last batch got stuck \n",
    "# Scraping authors from Portal de la Reserca.\n",
    "# Saving results to ./data/nodes_20220301.csv.\n",
    "# Scraping authors from 19,050 URLs in 191 batches of 100, starting at 0.\n",
    "# Progress: 58% (111/191). URLs: 11000-11099. Batch time: 22.55s. Time left: 0h30m27s.\n",
    "author_data = await scrape(items=items, urls=urls, batch_size=batch_size, out_file=out_file, start_pos=11000)"
   ]
  },
  {
   "cell_type": "markdown",
   "id": "2a99fc0f-43da-4fa1-9abe-ad6d72bbd16f",
   "metadata": {},
   "source": [
    "## Troubleshooting (delete following block)"
   ]
  },
  {
   "cell_type": "code",
   "execution_count": null,
   "id": "42e1bc4f-f857-46ee-ac87-9a8c1079b88e",
   "metadata": {},
   "outputs": [],
   "source": [
    "# df = pd.read_csv('./data/nodes_20220301.csv')\n",
    "# df.shape\n",
    "# url = urls[0]\n",
    "url = 'https://portalrecerca.csuc.cat/orcid/0000-0002-5701-7650'\n",
    "print(url)\n",
    "s = AsyncHTMLSession()\n",
    "result = await scrape_author(s, url, 'profile')\n",
    "print(result)"
   ]
  },
  {
   "cell_type": "code",
   "execution_count": null,
   "id": "2594f06b-7a60-432f-8c24-632bec441a67",
   "metadata": {},
   "outputs": [],
   "source": [
    "mystring = \"Fernando\"\n",
    "mylist = [\"Fernando\", \"Yu\"]\n",
    "# [x for x in mystring.split(\"\\n\")]\n",
    "len(mystring)"
   ]
  },
  {
   "cell_type": "code",
   "execution_count": null,
   "id": "19c35b1f-a88a-4590-b10e-e285597a8fc5",
   "metadata": {},
   "outputs": [],
   "source": [
    "len(None)"
   ]
  },
  {
   "cell_type": "code",
   "execution_count": null,
   "id": "721688ea-2f79-4208-b157-344ecc6779db",
   "metadata": {},
   "outputs": [],
   "source": [
    "len([])"
   ]
  },
  {
   "cell_type": "code",
   "execution_count": null,
   "id": "42edafea-880a-4b07-b017-1d7d9327dead",
   "metadata": {},
   "outputs": [],
   "source": [
    "[singleitem] = mylist\n",
    "singleitem"
   ]
  },
  {
   "cell_type": "code",
   "execution_count": null,
   "id": "cf22e7d4-02b2-4ea1-ae45-271d00a7cbb0",
   "metadata": {},
   "outputs": [],
   "source": [
    "df.loc[df['name'].notnull()]"
   ]
  },
  {
   "cell_type": "markdown",
   "id": "9d41d042-1de5-43de-b1c3-91820088595f",
   "metadata": {},
   "source": [
    "## Nodes: Scrape projects"
   ]
  },
  {
   "cell_type": "markdown",
   "id": "1db5ef93-d776-4422-918d-e6ee0ccf6d0a",
   "metadata": {
    "tags": []
   },
   "source": [
    "### Get links to projects from Portal de la Reserca"
   ]
  },
  {
   "cell_type": "code",
   "execution_count": null,
   "id": "8a79c1f1-f104-4a9d-aa97-a3051cfc2971",
   "metadata": {
    "tags": []
   },
   "outputs": [],
   "source": [
    "items = 'project_links'\n",
    "batch_size = 10\n",
    "date_today = date.today().strftime(\"%Y%m%d\")\n",
    "out_file = f'./data/project_links_{date_today}.csv'\n",
    "project_urls = await scrape(items=items, batch_size=batch_size, out_file=out_file)"
   ]
  },
  {
   "cell_type": "markdown",
   "id": "2f3317e1-2fe9-446a-bd57-3ac019298c62",
   "metadata": {},
   "source": [
    "### Alternative: get links to projects from nodes"
   ]
  },
  {
   "cell_type": "code",
   "execution_count": null,
   "id": "57e300af-11fb-47be-bcad-c05ee4c37dfc",
   "metadata": {},
   "outputs": [],
   "source": [
    "# nodes_df = pd.read_csv(\"./data/nodes.csv\")\n",
    "# projects = set()\n",
    "# for projects_string in nodes_df['projects']:\n",
    "#     projects_list = ast.literal_eval(projects_string)\n",
    "#     projects.update(projects_list)"
   ]
  },
  {
   "cell_type": "markdown",
   "id": "c064fb1e-9a01-442b-950a-4f6afc04d7d1",
   "metadata": {},
   "source": [
    "### Build URLS"
   ]
  },
  {
   "cell_type": "code",
   "execution_count": null,
   "id": "78d50d42-85cd-49e2-bb08-c318609f67ec",
   "metadata": {},
   "outputs": [],
   "source": [
    "project_urls = pd.read_csv(f'./data/project_links_{date_today}.csv')\n",
    "project_urls = list(project_urls['0'])\n",
    "url_root = 'https://portalrecerca.csuc.cat'\n",
    "urls = [url_root + url for url in project_urls]"
   ]
  },
  {
   "cell_type": "markdown",
   "id": "bab5ab93-f4e5-4793-bd4e-4605dc5c41f0",
   "metadata": {},
   "source": [
    "### Scrape projects"
   ]
  },
  {
   "cell_type": "code",
   "execution_count": null,
   "id": "f4caea71-e5b2-48e4-bac8-12f62f58d3b2",
   "metadata": {
    "tags": []
   },
   "outputs": [],
   "source": [
    "items = 'projects'\n",
    "batch_size = 10\n",
    "date_today = date.today().strftime(\"%Y%m%d\")\n",
    "out_file = f'./data/projects_{date_today}.csv'\n",
    "projects = await scrape(items=items, urls=urls, batch_size=batch_size, out_file=out_file)"
   ]
  },
  {
   "cell_type": "markdown",
   "id": "c3c942a8-d8be-4082-9312-063ad719669e",
   "metadata": {
    "tags": []
   },
   "source": [
    "## Nodes: Scrape groups"
   ]
  },
  {
   "cell_type": "markdown",
   "id": "96cb90c2-faad-43ed-a8e6-424b1daaad53",
   "metadata": {
    "tags": []
   },
   "source": [
    "### Get links to groups from Portal de la Reserca"
   ]
  },
  {
   "cell_type": "code",
   "execution_count": null,
   "id": "da5ca8eb-610d-4d14-a7a4-6ff13ef1cd78",
   "metadata": {
    "tags": []
   },
   "outputs": [],
   "source": [
    "items = 'group_links'\n",
    "batch_size = 10\n",
    "date_today = date.today().strftime(\"%Y%m%d\")\n",
    "out_file = f'./data/group_links_{date_today}.csv'\n",
    "group_urls = await scrape(items=items, batch_size=batch_size, out_file=out_file)"
   ]
  },
  {
   "cell_type": "markdown",
   "id": "d7377314-ed1d-4760-8013-839a2a73285d",
   "metadata": {},
   "source": [
    "### Alternative: get links to groups from nodes"
   ]
  },
  {
   "cell_type": "code",
   "execution_count": null,
   "id": "05a24889-3744-4d31-b70d-f7dc3a3f89e7",
   "metadata": {},
   "outputs": [],
   "source": [
    "# nodes_df = pd.read_csv(\"./data/nodes.csv\")\n",
    "# groups = set()\n",
    "# for groups_string in nodes_df['groups']:\n",
    "#     groups_list = ast.literal_eval(groups_string)\n",
    "#     groups.update(groups_list)"
   ]
  },
  {
   "cell_type": "markdown",
   "id": "f3b54832-14e1-421e-9040-d7b2cde4fcd9",
   "metadata": {},
   "source": [
    "### Build URLs"
   ]
  },
  {
   "cell_type": "code",
   "execution_count": null,
   "id": "316c5dfa-d26f-4a81-917f-4bcf28d3bbf2",
   "metadata": {},
   "outputs": [],
   "source": [
    "group_urls = pd.read_csv(f'./data/group_links_{date_today}.csv')\n",
    "group_urls = list(group_urls['0'])\n",
    "url_root = 'https://portalrecerca.csuc.cat'\n",
    "urls = [url_root + url for url in group_urls]"
   ]
  },
  {
   "cell_type": "markdown",
   "id": "da17297a-32d4-4c43-a0b4-810dd9cde7b1",
   "metadata": {},
   "source": [
    "###  Scrape groups"
   ]
  },
  {
   "cell_type": "code",
   "execution_count": null,
   "id": "ffcc09d0-1a02-4515-ab4b-4ec8275e6b05",
   "metadata": {
    "tags": []
   },
   "outputs": [],
   "source": [
    "items = 'groups'\n",
    "batch_size = 10\n",
    "date_today = date.today().strftime(\"%Y%m%d\")\n",
    "out_file = f'./data/groups_{date_today}.csv'\n",
    "groups = await scrape(items=items, urls=urls, batch_size=batch_size, out_file=out_file)"
   ]
  },
  {
   "cell_type": "markdown",
   "id": "940415cc-f81d-4c3e-a774-666723f2c783",
   "metadata": {},
   "source": [
    "## Edgelist: scrape publications"
   ]
  },
  {
   "cell_type": "markdown",
   "id": "82e484bc-cc8f-4c23-a346-700c8057a180",
   "metadata": {},
   "source": [
    "### Get links to papers"
   ]
  },
  {
   "cell_type": "code",
   "execution_count": null,
   "id": "27ea2dbe-687a-435d-832c-5ebc1e8ecc79",
   "metadata": {
    "tags": []
   },
   "outputs": [],
   "source": [
    "items = 'paper_links'\n",
    "batch_size = 10\n",
    "date_today = date.today().strftime(\"%Y%m%d\")\n",
    "out_file = f'./data/paper_links_{date_today}.csv'\n",
    "\n",
    "paper_urls = await scrape(items=items, batch_size=batch_size, out_file=out_file)"
   ]
  },
  {
   "cell_type": "markdown",
   "id": "cbe64e77-08d4-4bde-b1ac-1d017c5f5217",
   "metadata": {},
   "source": [
    "### Get coauthors in paper pages"
   ]
  },
  {
   "cell_type": "code",
   "execution_count": null,
   "id": "30836817-ad61-4766-9c75-6050400d8e5f",
   "metadata": {
    "tags": []
   },
   "outputs": [],
   "source": [
    "# Build urls\n",
    "paper_urls = pd.read_csv(f'./data/paper_links_{date_today}.csv')\n",
    "paper_urls = list(paper_urls['0'])\n",
    "url_root = 'https://portalrecerca.csuc.cat'\n",
    "urls = [url_root + url + '?mode=full' for url in paper_urls]\n",
    "\n",
    "# Run in batch\n",
    "items = 'papers'\n",
    "batch_size = 10\n",
    "start_pos = 56040 # old starting position with problems\n",
    "# start_pos = 0\n",
    "date_today = date.today().strftime(\"%Y%m%d\")\n",
    "out_file = f'./data/papers_{date_today}.csv'\n",
    "\n",
    "papers = await scrape(items=items, urls=urls, start_pos=start_pos, batch_size=batch_size, out_file=out_file)"
   ]
  },
  {
   "cell_type": "markdown",
   "id": "3c5c8900-e322-4924-ab6c-e1f83947da81",
   "metadata": {},
   "source": [
    "# For script execution"
   ]
  },
  {
   "cell_type": "code",
   "execution_count": null,
   "id": "e8804152-56e7-4368-8dca-e2c53dda814a",
   "metadata": {},
   "outputs": [],
   "source": [
    "if __name__ == \"__main__\":\n",
    "    import sys\n",
    "    if len(sys.argv) == 2:\n",
    "        items = sys.argv[1]\n",
    "        batch_size = 20\n",
    "    elif len(sys.argv) == 3:\n",
    "        items = sys.argv[1]\n",
    "        batch_size = sys.argv[2]\n",
    "    elif len(sys.argv) > 3:\n",
    "        print(\"Too many arguments. Choose argument 1: author_links, paper_links, authors, papers, projects, groups. Choose argument 2: batch size.\")\n",
    "        return 1\n",
    "    else:\n",
    "        print(\"Choose argument 1: author_links, paper_links, authors, papers, projects, groups. Choose argument 2: batch size.\")\n",
    "        return 1\n",
    "\n",
    "    date_today = date.today().strftime(\"%Y%m%d\")\n",
    "    url_root = 'https://portalrecerca.csuc.cat'\n",
    "    \n",
    "    if items == 'author_links':\n",
    "        urls = None\n",
    "        out_file = f'./data/author_urls_{date_today}.csv'\n",
    "        \n",
    "    elif items == 'authors':\n",
    "        author_urls = pd.read_csv(f'./data/author_urls_{date_today}.csv')\n",
    "        author_urls = list(author_urls['author_urls'])\n",
    "        urls = [url_root + url for url in author_urls]\n",
    "        out_file = f'./data/nodes_{date_today}.csv'\n",
    "        \n",
    "    elif items == 'project_links':\n",
    "        urls=None\n",
    "        out_file = f'./data/project_links_{date_today}.csv'\n",
    "        \n",
    "    elif items == 'projects:\n",
    "        project_urls = pd.read_csv(f'./data/project_links_{date_today}.csv')\n",
    "        project_urls = list(project_urls['0'])\n",
    "        urls = [url_root + url for url in project_urls]\n",
    "        out_file = f'./data/projects_{date_today}.csv'\n",
    "    \n",
    "    elif items == 'group_links':\n",
    "        urls=None\n",
    "        out_file = f'./data/group_links_{date_today}.csv'\n",
    "        \n",
    "    elif items == 'groups':\n",
    "        group_urls = pd.read_csv(f'./data/group_links_{date_today}.csv')\n",
    "        group_urls = list(group_urls['0'])\n",
    "        urls = [url_root + url for url in group_urls]\n",
    "        out_file = f'./data/groups_{date_today}.csv'\n",
    "    \n",
    "    elif items == 'paper_links':\n",
    "        urls = None\n",
    "        out_file = f'./data/paper_links_{date_today}.csv'\n",
    "        \n",
    "    elif items == 'papers':\n",
    "        paper_urls = pd.read_csv(f'./data/paper_links_{date_today}.csv')\n",
    "        paper_urls = list(paper_urls['0'])\n",
    "        urls = [url_root + url + '?mode=full' for url in paper_urls]\n",
    "        out_file = f'./data/papers_{date_today}.csv'\n",
    "\n",
    "    asyncio.run(scrape(items=items, urls=urls, batch_size=batch_size, out_file=out_file))"
   ]
  }
 ],
 "metadata": {
  "kernelspec": {
   "display_name": "Python 3 (ipykernel)",
   "language": "python",
   "name": "python3"
  },
  "language_info": {
   "codemirror_mode": {
    "name": "ipython",
    "version": 3
   },
   "file_extension": ".py",
   "mimetype": "text/x-python",
   "name": "python",
   "nbconvert_exporter": "python",
   "pygments_lexer": "ipython3",
   "version": "3.9.6"
  }
 },
 "nbformat": 4,
 "nbformat_minor": 5
}
