{
 "cells": [
  {
   "cell_type": "markdown",
   "id": "93360b1b-2db1-41e5-81f2-128839c6635f",
   "metadata": {
    "tags": []
   },
   "source": [
    "# Scraping Portal de la Reserca\n",
    "\n",
    "This notebook asynchrnously scrapes information in Portal de la Reserca. It can download the following items:\n",
    "\n",
    "- Links to author portals\n",
    "- Author information from the author portals."
   ]
  },
  {
   "cell_type": "markdown",
   "id": "0a3fb252-e4cc-44f8-93f1-5cd99d578ee1",
   "metadata": {
    "tags": []
   },
   "source": [
    "# Import modules"
   ]
  },
  {
   "cell_type": "code",
   "execution_count": 2,
   "id": "18082f83-4949-4970-8558-eeb993450977",
   "metadata": {},
   "outputs": [],
   "source": [
    "import pandas as pd\n",
    "import asyncio\n",
    "from datetime import date\n",
    "\n",
    "# Helper functions\n",
    "from src.scrape import (get_max_pages, retry_url,\n",
    "                         scrape, scrape_url,\n",
    "                         scrape_author, scrape_project, scrape_group)"
   ]
  },
  {
   "cell_type": "markdown",
   "id": "d3bb4382-8dbc-4b12-93d5-e4700342dec4",
   "metadata": {},
   "source": [
    "# Run Scraper"
   ]
  },
  {
   "cell_type": "markdown",
   "id": "0a39a41e-7dd5-432b-88c3-598abd0d1e83",
   "metadata": {
    "tags": []
   },
   "source": [
    "## Nodes: Scrape authors"
   ]
  },
  {
   "cell_type": "markdown",
   "id": "135df11e-5c71-4611-86a5-33a83e7c4da9",
   "metadata": {},
   "source": [
    "### Get links to author pages"
   ]
  },
  {
   "cell_type": "code",
   "execution_count": null,
   "id": "2d990062-5b71-4cb7-9a9b-c557b330d97f",
   "metadata": {},
   "outputs": [],
   "source": [
    "items = 'author_links'\n",
    "batch_size = 20\n",
    "date_today = date.today().strftime(\"%Y%m%d\")\n",
    "out_file = f'./data/author_urls_{date_today}.csv'\n",
    "author_urls = await scrape(items=items, batch_size=batch_size, out_file=out_file)"
   ]
  },
  {
   "cell_type": "markdown",
   "id": "3804c31d-3924-433c-99a7-fd01e4cc7fdb",
   "metadata": {},
   "source": [
    "### Scrape author pages"
   ]
  },
  {
   "cell_type": "code",
   "execution_count": 3,
   "id": "d2268b19-5043-439b-9ca2-0fa47506c806",
   "metadata": {
    "collapsed": true,
    "jupyter": {
     "outputs_hidden": true
    },
    "tags": []
   },
   "outputs": [
    {
     "name": "stdout",
     "output_type": "stream",
     "text": [
      "Scraping authors from Portal de la Reserca.\n",
      "Saving results to ./data/nodes_20220309.csv.\n",
      "Scraping authors from 18,900 URLs in 189 batches of 100, starting at 0.\n",
      "Progress: 3% (6/189). URLs: 500-599. Batch time: 11.02s. Time left: 0h33m47s.\r"
     ]
    },
    {
     "ename": "CancelledError",
     "evalue": "",
     "output_type": "error",
     "traceback": [
      "\u001b[0;31m---------------------------------------------------------------------------\u001b[0m",
      "\u001b[0;31mCancelledError\u001b[0m                            Traceback (most recent call last)",
      "\u001b[0;32m~/work/src/helpers.py\u001b[0m in \u001b[0;36mretry_url\u001b[0;34m(s, url, attempts)\u001b[0m\n\u001b[1;32m     32\u001b[0m             \u001b[0;31m# print(f\"Debug: Attempt {_}.\")\u001b[0m\u001b[0;34m\u001b[0m\u001b[0;34m\u001b[0m\u001b[0;34m\u001b[0m\u001b[0m\n\u001b[0;32m---> 33\u001b[0;31m             \u001b[0mr\u001b[0m \u001b[0;34m=\u001b[0m \u001b[0;32mawait\u001b[0m \u001b[0ms\u001b[0m\u001b[0;34m.\u001b[0m\u001b[0mget\u001b[0m\u001b[0;34m(\u001b[0m\u001b[0murl\u001b[0m\u001b[0;34m)\u001b[0m\u001b[0;34m\u001b[0m\u001b[0;34m\u001b[0m\u001b[0m\n\u001b[0m\u001b[1;32m     34\u001b[0m             \u001b[0;32mbreak\u001b[0m\u001b[0;34m\u001b[0m\u001b[0;34m\u001b[0m\u001b[0m\n",
      "\u001b[0;31mCancelledError\u001b[0m: ",
      "\nDuring handling of the above exception, another exception occurred:\n",
      "\u001b[0;31mCancelledError\u001b[0m                            Traceback (most recent call last)",
      "\u001b[0;31mCancelledError\u001b[0m: ",
      "\nDuring handling of the above exception, another exception occurred:\n",
      "\u001b[0;31mCancelledError\u001b[0m                            Traceback (most recent call last)",
      "\u001b[0;32m/tmp/ipykernel_98/3467206817.py\u001b[0m in \u001b[0;36m<module>\u001b[0;34m\u001b[0m\n\u001b[1;32m     11\u001b[0m \u001b[0mdate_today\u001b[0m \u001b[0;34m=\u001b[0m \u001b[0mdate\u001b[0m\u001b[0;34m.\u001b[0m\u001b[0mtoday\u001b[0m\u001b[0;34m(\u001b[0m\u001b[0;34m)\u001b[0m\u001b[0;34m.\u001b[0m\u001b[0mstrftime\u001b[0m\u001b[0;34m(\u001b[0m\u001b[0;34m\"%Y%m%d\"\u001b[0m\u001b[0;34m)\u001b[0m\u001b[0;34m\u001b[0m\u001b[0;34m\u001b[0m\u001b[0m\n\u001b[1;32m     12\u001b[0m \u001b[0mout_file\u001b[0m \u001b[0;34m=\u001b[0m \u001b[0;34mf'./data/nodes_{date_today}.csv'\u001b[0m\u001b[0;34m\u001b[0m\u001b[0;34m\u001b[0m\u001b[0m\n\u001b[0;32m---> 13\u001b[0;31m \u001b[0mauthor_data\u001b[0m \u001b[0;34m=\u001b[0m \u001b[0;32mawait\u001b[0m \u001b[0mscrape\u001b[0m\u001b[0;34m(\u001b[0m\u001b[0mitems\u001b[0m\u001b[0;34m=\u001b[0m\u001b[0mitems\u001b[0m\u001b[0;34m,\u001b[0m \u001b[0murls\u001b[0m\u001b[0;34m=\u001b[0m\u001b[0murls\u001b[0m\u001b[0;34m,\u001b[0m \u001b[0mbatch_size\u001b[0m\u001b[0;34m=\u001b[0m\u001b[0mbatch_size\u001b[0m\u001b[0;34m,\u001b[0m \u001b[0mout_file\u001b[0m\u001b[0;34m=\u001b[0m\u001b[0mout_file\u001b[0m\u001b[0;34m)\u001b[0m\u001b[0;34m\u001b[0m\u001b[0;34m\u001b[0m\u001b[0m\n\u001b[0m",
      "\u001b[0;32m~/work/src/helpers.py\u001b[0m in \u001b[0;36mscrape\u001b[0;34m(items, urls, start_pos, n_pages, batch_size, out_file)\u001b[0m\n\u001b[1;32m    576\u001b[0m         \u001b[0mt1\u001b[0m \u001b[0;34m=\u001b[0m \u001b[0mtime\u001b[0m\u001b[0;34m.\u001b[0m\u001b[0mperf_counter\u001b[0m\u001b[0;34m(\u001b[0m\u001b[0;34m)\u001b[0m\u001b[0;34m\u001b[0m\u001b[0;34m\u001b[0m\u001b[0m\n\u001b[1;32m    577\u001b[0m         \u001b[0mtasks\u001b[0m \u001b[0;34m=\u001b[0m \u001b[0;34m(\u001b[0m\u001b[0mscrape_url\u001b[0m\u001b[0;34m(\u001b[0m\u001b[0ms\u001b[0m\u001b[0;34m,\u001b[0m \u001b[0murl\u001b[0m\u001b[0;34m,\u001b[0m \u001b[0mitems\u001b[0m\u001b[0;34m=\u001b[0m\u001b[0mitems\u001b[0m\u001b[0;34m)\u001b[0m \u001b[0;32mfor\u001b[0m \u001b[0murl\u001b[0m \u001b[0;32min\u001b[0m \u001b[0mbatch\u001b[0m\u001b[0;34m)\u001b[0m\u001b[0;34m\u001b[0m\u001b[0;34m\u001b[0m\u001b[0m\n\u001b[0;32m--> 578\u001b[0;31m         \u001b[0mbatch_result\u001b[0m \u001b[0;34m=\u001b[0m \u001b[0;32mawait\u001b[0m \u001b[0masyncio\u001b[0m\u001b[0;34m.\u001b[0m\u001b[0mgather\u001b[0m\u001b[0;34m(\u001b[0m\u001b[0;34m*\u001b[0m\u001b[0mtasks\u001b[0m\u001b[0;34m)\u001b[0m\u001b[0;34m\u001b[0m\u001b[0;34m\u001b[0m\u001b[0m\n\u001b[0m\u001b[1;32m    579\u001b[0m         \u001b[0mt2\u001b[0m \u001b[0;34m=\u001b[0m \u001b[0mtime\u001b[0m\u001b[0;34m.\u001b[0m\u001b[0mperf_counter\u001b[0m\u001b[0;34m(\u001b[0m\u001b[0;34m)\u001b[0m\u001b[0;34m\u001b[0m\u001b[0;34m\u001b[0m\u001b[0m\n\u001b[1;32m    580\u001b[0m \u001b[0;34m\u001b[0m\u001b[0m\n",
      "\u001b[0;31mCancelledError\u001b[0m: "
     ]
    }
   ],
   "source": [
    "# Build urls\n",
    "date_today = date.today().strftime(\"%Y%m%d\")\n",
    "author_urls = pd.read_csv(f'./data/author_urls_{date_today}.csv')\n",
    "author_urls = list(author_urls['0'])\n",
    "url_root = 'https://portalrecerca.csuc.cat'\n",
    "urls = [url_root + url for url in author_urls]\n",
    "\n",
    "# Get author data in batch\n",
    "items = 'authors'\n",
    "batch_size = 100\n",
    "date_today = date.today().strftime(\"%Y%m%d\")\n",
    "out_file = f'./data/nodes_{date_today}.csv'\n",
    "author_data = await scrape(items=items, urls=urls, batch_size=batch_size, out_file=out_file)"
   ]
  },
  {
   "cell_type": "code",
   "execution_count": null,
   "id": "e9db55f9-d397-417a-b07e-7e038cd4725d",
   "metadata": {
    "tags": []
   },
   "outputs": [],
   "source": [
    "# Last batch got stuck \n",
    "# Scraping authors from Portal de la Reserca.\n",
    "# Saving results to ./data/nodes_20220301.csv.\n",
    "# Scraping authors from 19,050 URLs in 191 batches of 100, starting at 0.\n",
    "# Progress: 58% (111/191). URLs: 11000-11099. Batch time: 22.55s. Time left: 0h30m27s.\n",
    "author_data = await scrape(items=items, urls=urls, batch_size=batch_size, out_file=out_file, start_pos=11000)"
   ]
  },
  {
   "cell_type": "markdown",
   "id": "9d41d042-1de5-43de-b1c3-91820088595f",
   "metadata": {},
   "source": [
    "## Nodes: Scrape projects"
   ]
  },
  {
   "cell_type": "markdown",
   "id": "1db5ef93-d776-4422-918d-e6ee0ccf6d0a",
   "metadata": {
    "tags": []
   },
   "source": [
    "### Get links to projects from Portal de la Reserca"
   ]
  },
  {
   "cell_type": "code",
   "execution_count": null,
   "id": "8a79c1f1-f104-4a9d-aa97-a3051cfc2971",
   "metadata": {
    "tags": []
   },
   "outputs": [],
   "source": [
    "items = 'project_links'\n",
    "batch_size = 10\n",
    "date_today = date.today().strftime(\"%Y%m%d\")\n",
    "out_file = f'./data/project_links_{date_today}.csv'\n",
    "project_urls = await scrape(items=items, batch_size=batch_size, out_file=out_file)"
   ]
  },
  {
   "cell_type": "markdown",
   "id": "2f3317e1-2fe9-446a-bd57-3ac019298c62",
   "metadata": {},
   "source": [
    "### Alternative: get links to projects from nodes"
   ]
  },
  {
   "cell_type": "code",
   "execution_count": null,
   "id": "57e300af-11fb-47be-bcad-c05ee4c37dfc",
   "metadata": {},
   "outputs": [],
   "source": [
    "# nodes_df = pd.read_csv(\"./data/nodes.csv\")\n",
    "# projects = set()\n",
    "# for projects_string in nodes_df['projects']:\n",
    "#     projects_list = ast.literal_eval(projects_string)\n",
    "#     projects.update(projects_list)"
   ]
  },
  {
   "cell_type": "markdown",
   "id": "c064fb1e-9a01-442b-950a-4f6afc04d7d1",
   "metadata": {},
   "source": [
    "### Build URLS"
   ]
  },
  {
   "cell_type": "code",
   "execution_count": null,
   "id": "78d50d42-85cd-49e2-bb08-c318609f67ec",
   "metadata": {},
   "outputs": [],
   "source": [
    "project_urls = pd.read_csv(f'./data/project_links_{date_today}.csv')\n",
    "project_urls = list(project_urls['0'])\n",
    "url_root = 'https://portalrecerca.csuc.cat'\n",
    "urls = [url_root + url for url in project_urls]"
   ]
  },
  {
   "cell_type": "markdown",
   "id": "bab5ab93-f4e5-4793-bd4e-4605dc5c41f0",
   "metadata": {},
   "source": [
    "### Scrape projects"
   ]
  },
  {
   "cell_type": "code",
   "execution_count": null,
   "id": "f4caea71-e5b2-48e4-bac8-12f62f58d3b2",
   "metadata": {
    "tags": []
   },
   "outputs": [],
   "source": [
    "items = 'projects'\n",
    "batch_size = 10\n",
    "date_today = date.today().strftime(\"%Y%m%d\")\n",
    "out_file = f'./data/projects_{date_today}.csv'\n",
    "projects = await scrape(items=items, urls=urls, batch_size=batch_size, out_file=out_file)"
   ]
  },
  {
   "cell_type": "markdown",
   "id": "c3c942a8-d8be-4082-9312-063ad719669e",
   "metadata": {
    "tags": []
   },
   "source": [
    "## Nodes: Scrape groups"
   ]
  },
  {
   "cell_type": "markdown",
   "id": "96cb90c2-faad-43ed-a8e6-424b1daaad53",
   "metadata": {
    "tags": []
   },
   "source": [
    "### Get links to groups from Portal de la Reserca"
   ]
  },
  {
   "cell_type": "code",
   "execution_count": null,
   "id": "da5ca8eb-610d-4d14-a7a4-6ff13ef1cd78",
   "metadata": {
    "tags": []
   },
   "outputs": [],
   "source": [
    "items = 'group_links'\n",
    "batch_size = 10\n",
    "date_today = date.today().strftime(\"%Y%m%d\")\n",
    "out_file = f'./data/group_links_{date_today}.csv'\n",
    "group_urls = await scrape(items=items, batch_size=batch_size, out_file=out_file)"
   ]
  },
  {
   "cell_type": "markdown",
   "id": "d7377314-ed1d-4760-8013-839a2a73285d",
   "metadata": {},
   "source": [
    "### Alternative: get links to groups from nodes"
   ]
  },
  {
   "cell_type": "code",
   "execution_count": null,
   "id": "05a24889-3744-4d31-b70d-f7dc3a3f89e7",
   "metadata": {},
   "outputs": [],
   "source": [
    "# nodes_df = pd.read_csv(\"./data/nodes.csv\")\n",
    "# groups = set()\n",
    "# for groups_string in nodes_df['groups']:\n",
    "#     groups_list = ast.literal_eval(groups_string)\n",
    "#     groups.update(groups_list)"
   ]
  },
  {
   "cell_type": "markdown",
   "id": "f3b54832-14e1-421e-9040-d7b2cde4fcd9",
   "metadata": {},
   "source": [
    "### Build URLs"
   ]
  },
  {
   "cell_type": "code",
   "execution_count": null,
   "id": "316c5dfa-d26f-4a81-917f-4bcf28d3bbf2",
   "metadata": {},
   "outputs": [],
   "source": [
    "group_urls = pd.read_csv(f'./data/group_links_{date_today}.csv')\n",
    "group_urls = list(group_urls['0'])\n",
    "url_root = 'https://portalrecerca.csuc.cat'\n",
    "urls = [url_root + url for url in group_urls]"
   ]
  },
  {
   "cell_type": "markdown",
   "id": "da17297a-32d4-4c43-a0b4-810dd9cde7b1",
   "metadata": {},
   "source": [
    "###  Scrape groups"
   ]
  },
  {
   "cell_type": "code",
   "execution_count": null,
   "id": "ffcc09d0-1a02-4515-ab4b-4ec8275e6b05",
   "metadata": {
    "tags": []
   },
   "outputs": [],
   "source": [
    "items = 'groups'\n",
    "batch_size = 10\n",
    "date_today = date.today().strftime(\"%Y%m%d\")\n",
    "out_file = f'./data/groups_{date_today}.csv'\n",
    "groups = await scrape(items=items, urls=urls, batch_size=batch_size, out_file=out_file)"
   ]
  },
  {
   "cell_type": "markdown",
   "id": "940415cc-f81d-4c3e-a774-666723f2c783",
   "metadata": {},
   "source": [
    "## Edgelist: scrape publications"
   ]
  },
  {
   "cell_type": "markdown",
   "id": "82e484bc-cc8f-4c23-a346-700c8057a180",
   "metadata": {},
   "source": [
    "### Get links to papers"
   ]
  },
  {
   "cell_type": "code",
   "execution_count": null,
   "id": "27ea2dbe-687a-435d-832c-5ebc1e8ecc79",
   "metadata": {
    "tags": []
   },
   "outputs": [],
   "source": [
    "items = 'paper_links'\n",
    "batch_size = 10\n",
    "date_today = date.today().strftime(\"%Y%m%d\")\n",
    "out_file = f'./data/paper_links_{date_today}.csv'\n",
    "\n",
    "paper_urls = await scrape(items=items, batch_size=batch_size, out_file=out_file)"
   ]
  },
  {
   "cell_type": "markdown",
   "id": "cbe64e77-08d4-4bde-b1ac-1d017c5f5217",
   "metadata": {},
   "source": [
    "### Get coauthors in paper pages"
   ]
  },
  {
   "cell_type": "code",
   "execution_count": null,
   "id": "30836817-ad61-4766-9c75-6050400d8e5f",
   "metadata": {
    "tags": []
   },
   "outputs": [],
   "source": [
    "# Build urls\n",
    "paper_urls = pd.read_csv(f'./data/paper_links_{date_today}.csv')\n",
    "paper_urls = list(paper_urls['0'])\n",
    "url_root = 'https://portalrecerca.csuc.cat'\n",
    "urls = [url_root + url + '?mode=full' for url in paper_urls]\n",
    "\n",
    "# Run in batch\n",
    "items = 'papers'\n",
    "batch_size = 10\n",
    "start_pos = 56040 # old starting position with problems\n",
    "# start_pos = 0\n",
    "date_today = date.today().strftime(\"%Y%m%d\")\n",
    "out_file = f'./data/papers_{date_today}.csv'\n",
    "\n",
    "papers = await scrape(items=items, urls=urls, start_pos=start_pos, batch_size=batch_size, out_file=out_file)"
   ]
  },
  {
   "cell_type": "markdown",
   "id": "3c5c8900-e322-4924-ab6c-e1f83947da81",
   "metadata": {},
   "source": [
    "# For script execution"
   ]
  },
  {
   "cell_type": "code",
   "execution_count": null,
   "id": "e8804152-56e7-4368-8dca-e2c53dda814a",
   "metadata": {},
   "outputs": [],
   "source": [
    "if __name__ == \"__main__\":\n",
    "    import sys\n",
    "    if len(sys.argv) == 2:\n",
    "        items = sys.argv[1]\n",
    "        batch_size = 20\n",
    "    elif len(sys.argv) == 3:\n",
    "        items = sys.argv[1]\n",
    "        batch_size = sys.argv[2]\n",
    "    elif len(sys.argv) > 3:\n",
    "        print(\"Too many arguments. Choose argument 1: author_links, paper_links, authors, papers, projects, groups. Choose argument 2: batch size.\")\n",
    "        return 1\n",
    "    else:\n",
    "        print(\"Choose argument 1: author_links, paper_links, authors, papers, projects, groups. Choose argument 2: batch size.\")\n",
    "        return 1\n",
    "\n",
    "    date_today = date.today().strftime(\"%Y%m%d\")\n",
    "    url_root = 'https://portalrecerca.csuc.cat'\n",
    "    \n",
    "    if items == 'author_links':\n",
    "        urls = None\n",
    "        out_file = f'./data/author_urls_{date_today}.csv'\n",
    "        \n",
    "    elif items == 'authors':\n",
    "        author_urls = pd.read_csv(f'./data/author_urls_{date_today}.csv')\n",
    "        author_urls = list(author_urls['author_urls'])\n",
    "        urls = [url_root + url for url in author_urls]\n",
    "        out_file = f'./data/nodes_{date_today}.csv'\n",
    "        \n",
    "    elif items == 'project_links':\n",
    "        urls=None\n",
    "        out_file = f'./data/project_links_{date_today}.csv'\n",
    "        \n",
    "    elif items == 'projects:\n",
    "        project_urls = pd.read_csv(f'./data/project_links_{date_today}.csv')\n",
    "        project_urls = list(project_urls['0'])\n",
    "        urls = [url_root + url for url in project_urls]\n",
    "        out_file = f'./data/projects_{date_today}.csv'\n",
    "    \n",
    "    elif items == 'group_links':\n",
    "        urls=None\n",
    "        out_file = f'./data/group_links_{date_today}.csv'\n",
    "        \n",
    "    elif items == 'groups':\n",
    "        group_urls = pd.read_csv(f'./data/group_links_{date_today}.csv')\n",
    "        group_urls = list(group_urls['0'])\n",
    "        urls = [url_root + url for url in group_urls]\n",
    "        out_file = f'./data/groups_{date_today}.csv'\n",
    "    \n",
    "    elif items == 'paper_links':\n",
    "        urls = None\n",
    "        out_file = f'./data/paper_links_{date_today}.csv'\n",
    "        \n",
    "    elif items == 'papers':\n",
    "        paper_urls = pd.read_csv(f'./data/paper_links_{date_today}.csv')\n",
    "        paper_urls = list(paper_urls['0'])\n",
    "        urls = [url_root + url + '?mode=full' for url in paper_urls]\n",
    "        out_file = f'./data/papers_{date_today}.csv'\n",
    "\n",
    "    asyncio.run(scrape(items=items, urls=urls, batch_size=batch_size, out_file=out_file))"
   ]
  }
 ],
 "metadata": {
  "kernelspec": {
   "display_name": "Python 3 (ipykernel)",
   "language": "python",
   "name": "python3"
  },
  "language_info": {
   "codemirror_mode": {
    "name": "ipython",
    "version": 3
   },
   "file_extension": ".py",
   "mimetype": "text/x-python",
   "name": "python",
   "nbconvert_exporter": "python",
   "pygments_lexer": "ipython3",
   "version": "3.9.6"
  }
 },
 "nbformat": 4,
 "nbformat_minor": 5
}
