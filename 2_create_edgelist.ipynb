{
 "cells": [
  {
   "cell_type": "markdown",
   "id": "a9722fea-7375-40cd-be0d-91abd54100a6",
   "metadata": {},
   "source": [
    "# Create edgetlist\n",
    "\n",
    "This notebook creates the edgelist based on scraped data from Portal de la Reserca."
   ]
  },
  {
   "cell_type": "markdown",
   "id": "9d27f59b-cfdd-4f38-bcf0-38e4e5e44cd1",
   "metadata": {
    "tags": []
   },
   "source": [
    "# Import modules"
   ]
  },
  {
   "cell_type": "code",
   "execution_count": 3,
   "id": "553d9af1-da9d-4718-b27a-45d4ef954fac",
   "metadata": {},
   "outputs": [],
   "source": [
    "import numpy as np\n",
    "import pandas as pd\n",
    "from itertools import combinations"
   ]
  },
  {
   "cell_type": "markdown",
   "id": "e3a5d3c8-6249-48ae-aaf9-3f16dc12e501",
   "metadata": {
    "tags": []
   },
   "source": [
    "# Select institution"
   ]
  },
  {
   "cell_type": "code",
   "execution_count": 4,
   "id": "b6c38d9a-4a34-4dbf-b8ac-70d21d1b9149",
   "metadata": {},
   "outputs": [],
   "source": [
    "# Select institution\n",
    "institution_list = ['IGTP', 'UPC', 'UB', 'UPF', 'UVic-UCC', 'UOC']\n",
    "\n",
    "institution = 'IGTP'\n",
    "# institution = 'UPC'\n",
    "# institution = 'UB'\n",
    "# institution = 'UPF'\n",
    "# institution = 'UVic-UCC'\n",
    "# institution = 'UOC'"
   ]
  },
  {
   "cell_type": "markdown",
   "id": "d665e1b0-d48e-4b3c-92ad-2821cd98d9f4",
   "metadata": {},
   "source": [
    "# Create DataFrame to store collaborations"
   ]
  },
  {
   "cell_type": "markdown",
   "id": "fc4b6154-c28b-44fc-a245-0334aa19f466",
   "metadata": {
    "tags": []
   },
   "source": [
    "## Get authors from papers"
   ]
  },
  {
   "cell_type": "code",
   "execution_count": null,
   "id": "b3513f5c-88a1-49a4-8858-3223a596a57e",
   "metadata": {
    "tags": []
   },
   "outputs": [],
   "source": [
    "# Load papers with coauthors list\n",
    "print(f\"{institution} - Loading papers.\")\n",
    "papers = pd.read_csv(f'./data/papers_{institution}.csv', converters = {'orcids': eval}, usecols=['orcids'])\n",
    "papers = papers['orcids']\n",
    "\n",
    "# Get unique list of authors from papers\n",
    "authors_papers = list(set(papers.sum()))\n",
    "authors_papers.sort()"
   ]
  },
  {
   "cell_type": "markdown",
   "id": "71e514ca-a0ae-471f-bf64-df8b1901dd04",
   "metadata": {},
   "source": [
    "## Get authors from institution"
   ]
  },
  {
   "cell_type": "code",
   "execution_count": null,
   "id": "cca8141c-8fbd-4e4d-8072-e813eb9f0a3c",
   "metadata": {
    "tags": []
   },
   "outputs": [],
   "source": [
    "# Get list of authors from institution\n",
    "print(f\"{institution} - Loading nodelist.\")\n",
    "authors_inst = pd.read_csv(f'./data/nodelist_{institution}.csv', usecols=['id'])\n",
    "authors_inst = authors_inst['id']\n",
    "authors_inst = authors_inst.unique()\n",
    "authors_inst.sort()"
   ]
  },
  {
   "cell_type": "markdown",
   "id": "b33c7643-880b-4730-a363-0a61a0f3be91",
   "metadata": {},
   "source": [
    "## Combine authors"
   ]
  },
  {
   "cell_type": "code",
   "execution_count": null,
   "id": "9ba43f0a-1261-4abe-aab1-588e95f5e4ac",
   "metadata": {
    "tags": []
   },
   "outputs": [],
   "source": [
    "# Combine both\n",
    "authors_index = list(set(authors_papers) & set(authors_inst))\n",
    "authors_index.sort()"
   ]
  },
  {
   "cell_type": "markdown",
   "id": "7d19e322-1abc-425d-af98-d50afc372da9",
   "metadata": {},
   "source": [
    "## Create df to store collaborations"
   ]
  },
  {
   "cell_type": "code",
   "execution_count": null,
   "id": "afa649f9-610d-4d78-9081-39f453b9f5bc",
   "metadata": {},
   "outputs": [],
   "source": [
    "print(f\"{institution} - Calculting combinations of authors.\")\n",
    "author_combinations = combinations(authors_index,2)\n",
    "collabs_df = pd.DataFrame(list(author_combinations), columns=['Source', 'Target'])\n",
    "collabs_df['Weight'] = 0\n",
    "collabs_df = collabs_df.set_index(['Source', 'Target'])"
   ]
  },
  {
   "cell_type": "markdown",
   "id": "317e5f9a-2365-42a4-a3ec-97d11d548cdc",
   "metadata": {},
   "source": [
    "# Calculate collaborations"
   ]
  },
  {
   "cell_type": "markdown",
   "id": "52d959aa-4730-4476-bf7f-6f3162aba9c5",
   "metadata": {},
   "source": [
    "## Main loop: add collaborations to df"
   ]
  },
  {
   "cell_type": "code",
   "execution_count": null,
   "id": "7fe1bea7-8b52-46e4-b9be-0c51070d4dab",
   "metadata": {},
   "outputs": [],
   "source": [
    "print(f\"{institution} - Main loop: counting collaborations.\")\n",
    "for i, paper in enumerate(papers):\n",
    "    print(f\"{institution} - Progress: {i/len(papers)*100:.0f}%. ({i:,.0f}/{len(papers):,.0f}).\", end=\"\\r\")\n",
    "    paper = list(set(paper))\n",
    "    paper.sort()\n",
    "    author_pairs = combinations(paper, 2)\n",
    "    for pair in author_pairs:\n",
    "        try:\n",
    "            collabs_df.loc[pair] += 1\n",
    "        except:\n",
    "            pass\n",
    "\n",
    "collabs_df = collabs_df.reset_index()"
   ]
  },
  {
   "cell_type": "markdown",
   "id": "48167e8b-61e0-4265-8450-c3ff3220145b",
   "metadata": {
    "tags": []
   },
   "source": [
    "## Save"
   ]
  },
  {
   "cell_type": "code",
   "execution_count": null,
   "id": "70bbb556-30ff-4cca-9701-ed298a366e9c",
   "metadata": {},
   "outputs": [],
   "source": [
    "collabs_df.to_csv(f'./data/edgelist_{institution}.csv', index=None)\n",
    "print(f\"{institution} - Done. Saved './data/edgelist_{institution}.csv'.\")"
   ]
  },
  {
   "cell_type": "markdown",
   "id": "f7a24dba-57f5-4e5b-82d7-1cd9a084cd45",
   "metadata": {},
   "source": [
    "# Check results"
   ]
  },
  {
   "cell_type": "code",
   "execution_count": null,
   "id": "1024908f-b2dc-4c99-9183-9848662a701d",
   "metadata": {
    "tags": []
   },
   "outputs": [],
   "source": [
    "# Check for pairs with joint publications\n",
    "pos_pairs = collabs_df.loc[collabs_df['value'] > 0]\n",
    "\n",
    "# Count number of errors\n",
    "errors = 0\n",
    "count = 0\n",
    "# for idx, row in collabs_df.iterrows():\n",
    "for idx, row in pos_pairs.iterrows():\n",
    "    print(f\"{count}/{len(pos_pairs)}\", end=\"\\r\")\n",
    "    sum=0\n",
    "    for paper in papers:\n",
    "        if row['Source'] in paper and row['Target'] in paper:\n",
    "            sum += 1\n",
    "                \n",
    "    result = row['Weight'] == sum\n",
    "    if not result:\n",
    "        errors += 1\n",
    "        \n",
    "    count += 1\n",
    "        \n",
    "print(f\"Done. Found {errors} errors.\")"
   ]
  }
 ],
 "metadata": {
  "kernelspec": {
   "display_name": "Python 3 (ipykernel)",
   "language": "python",
   "name": "python3"
  },
  "language_info": {
   "codemirror_mode": {
    "name": "ipython",
    "version": 3
   },
   "file_extension": ".py",
   "mimetype": "text/x-python",
   "name": "python",
   "nbconvert_exporter": "python",
   "pygments_lexer": "ipython3",
   "version": "3.9.6"
  }
 },
 "nbformat": 4,
 "nbformat_minor": 5
}
