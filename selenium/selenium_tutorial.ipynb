{
 "cells": [
  {
   "cell_type": "markdown",
   "id": "5c1808d8-9d10-4a7f-af00-ac3d80c33a90",
   "metadata": {},
   "source": [
    "# Scraping Example"
   ]
  },
  {
   "cell_type": "code",
   "execution_count": null,
   "id": "d6789ab0-eee0-41bb-bce6-3c3d2ec739f9",
   "metadata": {
    "tags": []
   },
   "outputs": [],
   "source": [
    "from selenium import webdriver\n",
    "from selenium.webdriver.chrome.service import Service\n",
    "from selenium.webdriver.common.keys import Keys\n",
    "from selenium.webdriver.common.by import By\n",
    "from selenium.webdriver.support.ui import WebDriverWait\n",
    "from selenium.webdriver.support import expected_conditions as EC\n",
    "import time\n",
    "\n",
    "s=Service('/Users/fer/Dropbox/datascience/selenium/chromedriver')\n",
    "driver = webdriver.Chrome(service=s)\n",
    "\n",
    "driver.get(\"https://techwithtim.net\")\n",
    "print(driver.title)\n",
    "\n",
    "search = driver.find_element_by_name(\"s\")\n",
    "\n",
    "search.send_keys(\"test\")\n",
    "\n",
    "search.send_keys(Keys.RETURN)\n",
    "\n",
    "try:\n",
    "    main = WebDriverWait(driver, 10).until(\n",
    "        EC.presence_of_element_located((By.ID, \"main\"))\n",
    "    )\n",
    "    print(main.text)\n",
    "    articles = main.find_elements_by_tag_name(\"article\")\n",
    "    for article in articles:\n",
    "        header = article.find_element_by_class_name(\"entry-title\")\n",
    "        print(header.text)\n",
    "finally:\n",
    "    driver.quit()"
   ]
  },
  {
   "cell_type": "markdown",
   "id": "0a0894dd-fdea-4052-8688-fe35355db879",
   "metadata": {},
   "source": [
    "# Clicking example"
   ]
  },
  {
   "cell_type": "code",
   "execution_count": null,
   "id": "b389f563-3dd9-4d0d-b880-f5c5b561f7fb",
   "metadata": {},
   "outputs": [],
   "source": [
    "s=Service('/Users/fer/Dropbox/datascience/selenium/chromedriver')\n",
    "driver = webdriver.Chrome(service=s)\n",
    "\n",
    "driver.get(\"https://techwithtim.net\")\n",
    "\n",
    "link = driver.find_element_by_link_text(\"Python Programming\")\n",
    "link.click()\n",
    "\n",
    "try:\n",
    "    element = WebDriverWait(driver, 10).until(\n",
    "        EC.presence_of_element_located((By.LINK_TEXT, \"Beginner Python Tutorials\"))\n",
    "    )\n",
    "    element.click()\n",
    "    \n",
    "    driver.back()\n",
    "    driver.back()\n",
    "    driver.forward()\n",
    "    \n",
    "    # element = WebDriverWait(driver, 10).until(\n",
    "    #     EC.presence_of_element_located((By.XPATH, '//*[@id=\"sow-button-19310003\"]'))\n",
    "    # )\n",
    "    # element.click()\n",
    "except Exception as e:\n",
    "    print(e)\n",
    "    # driver.quit()\n",
    "    "
   ]
  },
  {
   "cell_type": "markdown",
   "id": "eb5fa6b2-259d-418d-adae-4f4de45317d4",
   "metadata": {},
   "source": [
    "# DNB example"
   ]
  },
  {
   "cell_type": "code",
   "execution_count": null,
   "id": "5a80c591-e1fd-42da-9281-75d0ee93a9e8",
   "metadata": {},
   "outputs": [],
   "source": [
    "## Load modules"
   ]
  },
  {
   "cell_type": "code",
   "execution_count": null,
   "id": "e2fad32f-baad-426d-952c-8fd4f44a3974",
   "metadata": {},
   "outputs": [],
   "source": [
    "from selenium import webdriver\n",
    "from selenium.webdriver.chrome.service import Service\n",
    "from selenium.webdriver.common.keys import Keys\n",
    "from selenium.webdriver.common.by import By\n",
    "from selenium.webdriver.support.ui import WebDriverWait\n",
    "from selenium.webdriver.support import expected_conditions as EC\n",
    "import time"
   ]
  },
  {
   "cell_type": "code",
   "execution_count": null,
   "id": "ea200c08-c992-4bf8-a092-45d70a916613",
   "metadata": {},
   "outputs": [],
   "source": [
    "s=Service('/Users/fer/Dropbox/datascience/selenium/chromedriver')\n",
    "driver = webdriver.Chrome(service=s)\n",
    "driver.get(\"https://app.dnbhoovers.com\")\n",
    "\n",
    "try:\n",
    "    # Input username\n",
    "    username = driver.find_element(by=By.CSS_SELECTOR, value='input#username')\n",
    "    username.send_keys(\"fernando@aretian.com\")\n",
    "    driver.find_element(by=By.CSS_SELECTOR, value='form#login button.continue-btn').click()\n",
    "    \n",
    "    # Input password\n",
    "    password = WebDriverWait(driver, 10).until(\n",
    "        EC.element_to_be_clickable((By.CSS_SELECTOR, \"input#password\"))\n",
    "    )\n",
    "    password.send_keys(\"6jZQ%T0OCFRJ%!UgF3wZ\")\n",
    "    driver.find_element(by=By.CSS_SELECTOR, value='form#login button.continue-btn').click()\n",
    "    \n",
    "        \n",
    "    # Click on Search & Build a List\n",
    "    selector = '#main > section > div.headroom-wrapper > div > header > ul.ant-menu-overflow.ant-menu.ant-menu-root.ant-menu-horizontal.ant-menu-dark.nav-menu > li:nth-child(2)'\n",
    "    search_build_btn = WebDriverWait(driver, 10).until(\n",
    "        EC.element_to_be_clickable((By.CSS_SELECTOR, selector)))\n",
    "    search_build_btn.click()\n",
    "    \n",
    "    \n",
    "except Exception as e:\n",
    "    print(e)\n",
    "finally:\n",
    "    # Get logout popup\n",
    "    selector = '//*[@id=\"main\"]/section/div[2]/div/header/ul[2]/li[3]'\n",
    "    account_btn = WebDriverWait(driver, 10).until(\n",
    "        EC.element_to_be_clickable((By.XPATH, selector)))\n",
    "    account_btn.click()\n",
    "    \n",
    "    # Click on logout button\n",
    "    selector = 'ul[data-menu-list=\"true\"].ant-menu.ant-menu-sub.ant-menu-vertical > li:nth-child(4)'\n",
    "    logout_btn = WebDriverWait(driver, 10).until(\n",
    "        EC.element_to_be_clickable((By.CSS_SELECTOR, selector)))\n",
    "    logout_btn.click()\n",
    "    # driver.quit()"
   ]
  },
  {
   "cell_type": "code",
   "execution_count": null,
   "id": "4510a6fe-96f4-4bdf-8cf2-acd0c1858817",
   "metadata": {},
   "outputs": [],
   "source": []
  }
 ],
 "metadata": {
  "kernelspec": {
   "display_name": "Python 3 (ipykernel)",
   "language": "python",
   "name": "python3"
  },
  "language_info": {
   "codemirror_mode": {
    "name": "ipython",
    "version": 3
   },
   "file_extension": ".py",
   "mimetype": "text/x-python",
   "name": "python",
   "nbconvert_exporter": "python",
   "pygments_lexer": "ipython3",
   "version": "3.10.2"
  }
 },
 "nbformat": 4,
 "nbformat_minor": 5
}
