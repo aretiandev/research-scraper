{
 "cells": [
  {
   "cell_type": "markdown",
   "id": "7bd51148-b8a7-420c-b047-31f580987d9f",
   "metadata": {},
   "source": [
    "# Add variables\n",
    "\n",
    "This notebook adds additional variables to the nodelists of academic institutions in Catalunya.\n",
    "- number of publications\n",
    "- number of research groups\n",
    "- number of research projects"
   ]
  },
  {
   "cell_type": "markdown",
   "id": "5c9b2b21-5675-4148-933f-b46fc2144c2e",
   "metadata": {},
   "source": [
    "# Load modules"
   ]
  },
  {
   "cell_type": "code",
   "execution_count": 54,
   "id": "24c87ef5-5f60-41ac-a28d-62faf3a9b6cd",
   "metadata": {},
   "outputs": [],
   "source": [
    "import pandas as pd"
   ]
  },
  {
   "cell_type": "markdown",
   "id": "08e9a3b6-09a0-4ed6-917b-8456231027d1",
   "metadata": {},
   "source": [
    "# Add publications, projects and groups"
   ]
  },
  {
   "cell_type": "code",
   "execution_count": 48,
   "id": "0ec9f90e-75ee-479d-b51f-e7b989ef3ec4",
   "metadata": {},
   "outputs": [],
   "source": [
    "from dataclasses import dataclass"
   ]
  },
  {
   "cell_type": "code",
   "execution_count": 88,
   "id": "10f3f81a-93b4-4bb3-9a08-c0875aca03d1",
   "metadata": {},
   "outputs": [
    {
     "name": "stdout",
     "output_type": "stream",
     "text": [
      "0\n",
      "False\n",
      "Paper has no title!\n"
     ]
    }
   ],
   "source": [
    "class Publication():\n",
    "    def __init__(self, title):\n",
    "        self.title = title\n",
    "    \n",
    "    def show(self):\n",
    "        print(f\"Title: {self.title}.\")\n",
    "        \n",
    "    def __repr__(self):\n",
    "        return f\"Publication('{self.title}')\"\n",
    "        \n",
    "\n",
    "class Paper(Publication):\n",
    "    def __init__(self, title, field):\n",
    "        super().__init__(title)\n",
    "        self.field = field\n",
    "        \n",
    "    def show(self):\n",
    "        print(f\"Title: {self.title}, Field: {self.field}.\")\n",
    "    \n",
    "    def __repr__(self):\n",
    "        return f\"Paper('{self.title}', '{self.field}')\"\n",
    "    \n",
    "    def __str__(self):\n",
    "        return f\"{self.title}\"\n",
    "    \n",
    "    def __enter__(self):\n",
    "        print('Opening paper...')\n",
    "        return self\n",
    "    \n",
    "    def __exit__(self, exc_type, exc_value, tb):\n",
    "        print('Closing paper...')\n",
    "        \n",
    "    def __bool__(self):\n",
    "        if len(self) == 0:\n",
    "            return False\n",
    "        return True\n",
    "        \n",
    "    def __len__(self):\n",
    "        return len(paper.title)\n",
    "        \n",
    "# title = \"Urban Morphometrics\"\n",
    "title = \"\"\n",
    "field = \"Urban Science\"\n",
    "paper = Paper(title, field)\n",
    "print(len(paper.title))\n",
    "print(bool(paper))\n",
    "if paper:\n",
    "    print('Paper has title!')\n",
    "else:\n",
    "    print('Paper has no title!')\n",
    "    \n",
    "# with Paper(title, field) as p:\n",
    "#     p.show()\n",
    "        \n",
    "# paper = Paper(\"Urban Morphometrics\", \"Urban Science\")\n",
    "# paper.title = \"Urban Science\"\n",
    "# paper.show()"
   ]
  },
  {
   "cell_type": "code",
   "execution_count": 74,
   "id": "82ee2c46-13b0-4447-a6ce-ef55f7166a1c",
   "metadata": {},
   "outputs": [
    {
     "name": "stdout",
     "output_type": "stream",
     "text": [
      "255\n"
     ]
    }
   ],
   "source": [
    "from collections import namedtuple\n",
    "\n",
    "Color = namedtuple('Color', ['red', 'green', 'blue'])\n",
    "color = Color(red=55, blue=155, green=255)\n",
    "print(color.green)"
   ]
  },
  {
   "cell_type": "code",
   "execution_count": 68,
   "id": "bf2e5d73-b1e5-44b4-8edc-dbe4466b6acd",
   "metadata": {},
   "outputs": [
    {
     "data": {
      "text/plain": [
       "float"
      ]
     },
     "execution_count": 68,
     "metadata": {},
     "output_type": "execute_result"
    }
   ],
   "source": [
    "type(float('nan'))"
   ]
  },
  {
   "cell_type": "code",
   "execution_count": 71,
   "id": "42eb42ca-242f-40ed-9779-ee717d6a75a7",
   "metadata": {},
   "outputs": [
    {
     "ename": "TypeError",
     "evalue": "'tuple' object does not support item assignment",
     "output_type": "error",
     "traceback": [
      "\u001b[0;31m---------------------------------------------------------------------------\u001b[0m",
      "\u001b[0;31mTypeError\u001b[0m                                 Traceback (most recent call last)",
      "\u001b[0;32m/tmp/ipykernel_14900/24732266.py\u001b[0m in \u001b[0;36m<module>\u001b[0;34m\u001b[0m\n\u001b[1;32m      1\u001b[0m \u001b[0mmytuple\u001b[0m \u001b[0;34m=\u001b[0m \u001b[0;34m(\u001b[0m\u001b[0;36m1\u001b[0m\u001b[0;34m,\u001b[0m\u001b[0;36m2\u001b[0m\u001b[0;34m,\u001b[0m\u001b[0;36m3\u001b[0m\u001b[0;34m)\u001b[0m\u001b[0;34m\u001b[0m\u001b[0;34m\u001b[0m\u001b[0m\n\u001b[0;32m----> 2\u001b[0;31m \u001b[0mmytuple\u001b[0m\u001b[0;34m[\u001b[0m\u001b[0;36m3\u001b[0m\u001b[0;34m]\u001b[0m \u001b[0;34m=\u001b[0m \u001b[0;36m2\u001b[0m\u001b[0;34m\u001b[0m\u001b[0;34m\u001b[0m\u001b[0m\n\u001b[0m",
      "\u001b[0;31mTypeError\u001b[0m: 'tuple' object does not support item assignment"
     ]
    }
   ],
   "source": [
    "mytuple = (1,2,3)\n",
    "mytuple[3] = 2"
   ]
  },
  {
   "cell_type": "code",
   "execution_count": 64,
   "id": "3477d6a7-b54a-4e98-ad7a-5ee03f18cc0b",
   "metadata": {},
   "outputs": [],
   "source": [
    "import numpy as np"
   ]
  },
  {
   "cell_type": "code",
   "execution_count": 65,
   "id": "972c7ef9-c99a-4d9c-9518-e34ab2e5a98e",
   "metadata": {},
   "outputs": [
    {
     "data": {
      "text/plain": [
       "float"
      ]
     },
     "execution_count": 65,
     "metadata": {},
     "output_type": "execute_result"
    }
   ],
   "source": [
    "type(np.nan)"
   ]
  },
  {
   "cell_type": "code",
   "execution_count": 61,
   "id": "3262d264-9c31-4ae7-85d6-8af7022b87e0",
   "metadata": {},
   "outputs": [
    {
     "name": "stdout",
     "output_type": "stream",
     "text": [
      "Hi!\n"
     ]
    }
   ],
   "source": [
    "from abc import ABC, abstractmethod\n",
    "\n",
    "\n",
    "class Animal():\n",
    "    def __init__(self):\n",
    "        pass\n",
    "    \n",
    "    @abstractmethod\n",
    "    def greet(self):\n",
    "        \"\"\"Greeting method\"\"\"\n",
    "        pass\n",
    "        \n",
    "    \n",
    "class Cat(Animal):\n",
    "    pass\n",
    "\n",
    "    def greet(self):\n",
    "        print(\"Hi!\")\n",
    "\n",
    "\n",
    "cat = Cat()\n",
    "cat.greet()\n"
   ]
  },
  {
   "cell_type": "code",
   "execution_count": 47,
   "id": "08c51a86-095c-4389-adcb-484a8f8aeab4",
   "metadata": {},
   "outputs": [
    {
     "name": "stdout",
     "output_type": "stream",
     "text": [
      "1\n",
      "4\n",
      "9\n",
      "16\n",
      "25\n"
     ]
    }
   ],
   "source": [
    "def square_nums(lst):\n",
    "    for item in lst:\n",
    "        yield item*item\n",
    "        \n",
    "my_nums = (x*x for x in [1,2,3,4,5])\n",
    "# my_nums = square_nums([1,2,3,4])\n",
    "\n",
    "for num in my_nums:\n",
    "    print(num)\n"
   ]
  },
  {
   "cell_type": "code",
   "execution_count": 40,
   "id": "8f07f53a-367c-4ed7-88a2-050b88a80f94",
   "metadata": {},
   "outputs": [
    {
     "data": {
      "text/plain": [
       "Paper('Urban Morphometrics', 'Urban Science')"
      ]
     },
     "execution_count": 40,
     "metadata": {},
     "output_type": "execute_result"
    }
   ],
   "source": [
    "paper"
   ]
  },
  {
   "cell_type": "code",
   "execution_count": 39,
   "id": "69761428-87a0-442f-9a4a-d6b36e750872",
   "metadata": {},
   "outputs": [
    {
     "name": "stdout",
     "output_type": "stream",
     "text": [
      "Urban Morphometrics\n"
     ]
    }
   ],
   "source": [
    "print(paper)"
   ]
  },
  {
   "cell_type": "markdown",
   "id": "81f8e6aa-4c25-42fa-a67f-30cd31f905c9",
   "metadata": {},
   "source": [
    "# Choose institution"
   ]
  },
  {
   "cell_type": "code",
   "execution_count": 59,
   "id": "7d655f73-fc2e-48f1-b19b-26af02d180fa",
   "metadata": {},
   "outputs": [],
   "source": [
    "institution_list = ['IGTP', 'UPC', 'UB', 'UPF', 'UVic-UCC', 'UOC']\n",
    "# institution = 'UPC'\n",
    "# institution = 'IGTP'"
   ]
  },
  {
   "cell_type": "code",
   "execution_count": 60,
   "id": "f7a70f9a-b304-4bd2-8f12-8556b398a510",
   "metadata": {},
   "outputs": [
    {
     "name": "stdout",
     "output_type": "stream",
     "text": [
      "Institution: IGTP.\n",
      "Loading data.\n",
      "Adding publications.\n",
      "Adding projects and groups.\n",
      "Saved './data/nodes_IGTP_ext.csv'.\n"
     ]
    }
   ],
   "source": [
    "for institution in institution_list:\n",
    "\n",
    "    print(f\"Institution: {institution}.\")\n",
    "    # Load data\n",
    "\n",
    "    print(\"Loading data.\")\n",
    "    nodes_df = pd.read_csv(f'./data/nodes_{institution}.csv')\n",
    "\n",
    "    edges_df = pd.read_csv(f'./data/edges_{institution}.csv')\n",
    "\n",
    "    # Calculate number of publications\n",
    "\n",
    "    print(\"Adding publications.\")\n",
    "    source = edges_df.groupby('Source').sum()\n",
    "    source.index.names = ['id']\n",
    "\n",
    "    target = edges_df.groupby('Target').sum()\n",
    "    target.index.names = ['id']\n",
    "\n",
    "    pubs_df = source.merge(target, left_index=True, right_index=True)\n",
    "\n",
    "    pubs_df['n_publications'] = pubs_df['Weight_x'] + pubs_df['Weight_y']\n",
    "\n",
    "    pubs_df = pubs_df.reset_index()\n",
    "\n",
    "    pubs_df = pubs_df[['id', 'n_publications']]\n",
    "\n",
    "    nodes_df = nodes_df.merge(pubs_df, how='left', on='id')\n",
    "\n",
    "    nodes_df['n_publications'] = nodes_df['n_publications'].fillna(0)\n",
    "\n",
    "    # Add projects and groups\n",
    "    print(\"Adding projects and groups.\")\n",
    "\n",
    "    nodes_df['n_projects'] = nodes_df['projects'].apply(lambda x: len(x))\n",
    "    nodes_df['n_groups'] = nodes_df['groups'].apply(lambda x: len(x))\n",
    "\n",
    "    # Save\n",
    "\n",
    "    nodes_df.to_csv(f'./data/nodes_{institution}_ext.csv', index=None)\n",
    "    \n",
    "    print(f\"Saved './data/nodes_{institution}_ext.csv'.\")"
   ]
  },
  {
   "cell_type": "code",
   "execution_count": 61,
   "id": "8a88bd16-b424-4361-b1ce-6a8d196645f9",
   "metadata": {},
   "outputs": [
    {
     "data": {
      "text/html": [
       "<div>\n",
       "<style scoped>\n",
       "    .dataframe tbody tr th:only-of-type {\n",
       "        vertical-align: middle;\n",
       "    }\n",
       "\n",
       "    .dataframe tbody tr th {\n",
       "        vertical-align: top;\n",
       "    }\n",
       "\n",
       "    .dataframe thead th {\n",
       "        text-align: right;\n",
       "    }\n",
       "</style>\n",
       "<table border=\"1\" class=\"dataframe\">\n",
       "  <thead>\n",
       "    <tr style=\"text-align: right;\">\n",
       "      <th></th>\n",
       "      <th>label</th>\n",
       "      <th>id</th>\n",
       "      <th>department</th>\n",
       "      <th>institution</th>\n",
       "      <th>projects</th>\n",
       "      <th>groups</th>\n",
       "      <th>n_publications</th>\n",
       "      <th>n_projects</th>\n",
       "      <th>n_groups</th>\n",
       "    </tr>\n",
       "  </thead>\n",
       "  <tbody>\n",
       "    <tr>\n",
       "      <th>0</th>\n",
       "      <td>Abad Calvo, Pilar</td>\n",
       "      <td>0000-0002-6078-0956</td>\n",
       "      <td>Institut de Recerca Germans Trias i Pujol</td>\n",
       "      <td>IGTP</td>\n",
       "      <td>[]</td>\n",
       "      <td>[]</td>\n",
       "      <td>0.0</td>\n",
       "      <td>2</td>\n",
       "      <td>2</td>\n",
       "    </tr>\n",
       "    <tr>\n",
       "      <th>1</th>\n",
       "      <td>Aguilar-Gurrieri, Carmen</td>\n",
       "      <td>0000-0002-5701-7650</td>\n",
       "      <td>Institut de Recerca Germans Trias i Pujol</td>\n",
       "      <td>IGTP</td>\n",
       "      <td>[]</td>\n",
       "      <td>[]</td>\n",
       "      <td>5.0</td>\n",
       "      <td>2</td>\n",
       "      <td>2</td>\n",
       "    </tr>\n",
       "    <tr>\n",
       "      <th>2</th>\n",
       "      <td>Agulla Freire, Jesús</td>\n",
       "      <td>0000-0001-9574-2549</td>\n",
       "      <td>Institut de Recerca Germans Trias i Pujol</td>\n",
       "      <td>IGTP</td>\n",
       "      <td>[]</td>\n",
       "      <td>[]</td>\n",
       "      <td>3.0</td>\n",
       "      <td>2</td>\n",
       "      <td>2</td>\n",
       "    </tr>\n",
       "    <tr>\n",
       "      <th>3</th>\n",
       "      <td>Agustí, Cristina</td>\n",
       "      <td>0000-0002-5259-2242</td>\n",
       "      <td>Institut de Recerca Germans Trias i Pujol</td>\n",
       "      <td>IGTP</td>\n",
       "      <td>[]</td>\n",
       "      <td>[]</td>\n",
       "      <td>2.0</td>\n",
       "      <td>2</td>\n",
       "      <td>2</td>\n",
       "    </tr>\n",
       "    <tr>\n",
       "      <th>4</th>\n",
       "      <td>Aguyé Batista, Amada</td>\n",
       "      <td>0000-0002-2674-3633</td>\n",
       "      <td>Institut de Recerca Germans Trias i Pujol</td>\n",
       "      <td>IGTP</td>\n",
       "      <td>[]</td>\n",
       "      <td>[]</td>\n",
       "      <td>3.0</td>\n",
       "      <td>2</td>\n",
       "      <td>2</td>\n",
       "    </tr>\n",
       "    <tr>\n",
       "      <th>...</th>\n",
       "      <td>...</td>\n",
       "      <td>...</td>\n",
       "      <td>...</td>\n",
       "      <td>...</td>\n",
       "      <td>...</td>\n",
       "      <td>...</td>\n",
       "      <td>...</td>\n",
       "      <td>...</td>\n",
       "      <td>...</td>\n",
       "    </tr>\n",
       "    <tr>\n",
       "      <th>620</th>\n",
       "      <td>Yébenes, Juan C.</td>\n",
       "      <td>0000-0002-9192-5134</td>\n",
       "      <td>Institut de Recerca Germans Trias i Pujol</td>\n",
       "      <td>IGTP</td>\n",
       "      <td>[]</td>\n",
       "      <td>[]</td>\n",
       "      <td>7.0</td>\n",
       "      <td>2</td>\n",
       "      <td>2</td>\n",
       "    </tr>\n",
       "    <tr>\n",
       "      <th>621</th>\n",
       "      <td>Zabalegui Yarnoz, Adelaida</td>\n",
       "      <td>0000-0003-1205-3997</td>\n",
       "      <td>Institut de Recerca Germans Trias i Pujol</td>\n",
       "      <td>IGTP</td>\n",
       "      <td>[]</td>\n",
       "      <td>['/cris/ou/ou169102']</td>\n",
       "      <td>7.0</td>\n",
       "      <td>2</td>\n",
       "      <td>21</td>\n",
       "    </tr>\n",
       "    <tr>\n",
       "      <th>622</th>\n",
       "      <td>Zamora, Lurdes</td>\n",
       "      <td>0000-0003-1713-7110</td>\n",
       "      <td>Institut de Recerca Germans Trias i Pujol</td>\n",
       "      <td>IGTP</td>\n",
       "      <td>['/cris/project/pj3447793', '/cris/project/pj3...</td>\n",
       "      <td>['/cris/ou/ou169184']</td>\n",
       "      <td>123.0</td>\n",
       "      <td>54</td>\n",
       "      <td>21</td>\n",
       "    </tr>\n",
       "    <tr>\n",
       "      <th>623</th>\n",
       "      <td>Zazzi, Maurizio</td>\n",
       "      <td>0000-0002-0344-6281</td>\n",
       "      <td>Institut de Recerca Germans Trias i Pujol</td>\n",
       "      <td>IGTP</td>\n",
       "      <td>[]</td>\n",
       "      <td>[]</td>\n",
       "      <td>0.0</td>\n",
       "      <td>2</td>\n",
       "      <td>2</td>\n",
       "    </tr>\n",
       "    <tr>\n",
       "      <th>624</th>\n",
       "      <td>Zwart, Marta</td>\n",
       "      <td>0000-0003-4888-0927</td>\n",
       "      <td>Institut de Recerca Germans Trias i Pujol</td>\n",
       "      <td>IGTP</td>\n",
       "      <td>[]</td>\n",
       "      <td>[]</td>\n",
       "      <td>0.0</td>\n",
       "      <td>2</td>\n",
       "      <td>2</td>\n",
       "    </tr>\n",
       "  </tbody>\n",
       "</table>\n",
       "<p>625 rows × 9 columns</p>\n",
       "</div>"
      ],
      "text/plain": [
       "                          label                   id  \\\n",
       "0             Abad Calvo, Pilar  0000-0002-6078-0956   \n",
       "1      Aguilar-Gurrieri, Carmen  0000-0002-5701-7650   \n",
       "2          Agulla Freire, Jesús  0000-0001-9574-2549   \n",
       "3              Agustí, Cristina  0000-0002-5259-2242   \n",
       "4          Aguyé Batista, Amada  0000-0002-2674-3633   \n",
       "..                          ...                  ...   \n",
       "620            Yébenes, Juan C.  0000-0002-9192-5134   \n",
       "621  Zabalegui Yarnoz, Adelaida  0000-0003-1205-3997   \n",
       "622              Zamora, Lurdes  0000-0003-1713-7110   \n",
       "623             Zazzi, Maurizio  0000-0002-0344-6281   \n",
       "624                Zwart, Marta  0000-0003-4888-0927   \n",
       "\n",
       "                                    department institution  \\\n",
       "0    Institut de Recerca Germans Trias i Pujol        IGTP   \n",
       "1    Institut de Recerca Germans Trias i Pujol        IGTP   \n",
       "2    Institut de Recerca Germans Trias i Pujol        IGTP   \n",
       "3    Institut de Recerca Germans Trias i Pujol        IGTP   \n",
       "4    Institut de Recerca Germans Trias i Pujol        IGTP   \n",
       "..                                         ...         ...   \n",
       "620  Institut de Recerca Germans Trias i Pujol        IGTP   \n",
       "621  Institut de Recerca Germans Trias i Pujol        IGTP   \n",
       "622  Institut de Recerca Germans Trias i Pujol        IGTP   \n",
       "623  Institut de Recerca Germans Trias i Pujol        IGTP   \n",
       "624  Institut de Recerca Germans Trias i Pujol        IGTP   \n",
       "\n",
       "                                              projects                 groups  \\\n",
       "0                                                   []                     []   \n",
       "1                                                   []                     []   \n",
       "2                                                   []                     []   \n",
       "3                                                   []                     []   \n",
       "4                                                   []                     []   \n",
       "..                                                 ...                    ...   \n",
       "620                                                 []                     []   \n",
       "621                                                 []  ['/cris/ou/ou169102']   \n",
       "622  ['/cris/project/pj3447793', '/cris/project/pj3...  ['/cris/ou/ou169184']   \n",
       "623                                                 []                     []   \n",
       "624                                                 []                     []   \n",
       "\n",
       "     n_publications  n_projects  n_groups  \n",
       "0               0.0           2         2  \n",
       "1               5.0           2         2  \n",
       "2               3.0           2         2  \n",
       "3               2.0           2         2  \n",
       "4               3.0           2         2  \n",
       "..              ...         ...       ...  \n",
       "620             7.0           2         2  \n",
       "621             7.0           2        21  \n",
       "622           123.0          54        21  \n",
       "623             0.0           2         2  \n",
       "624             0.0           2         2  \n",
       "\n",
       "[625 rows x 9 columns]"
      ]
     },
     "execution_count": 61,
     "metadata": {},
     "output_type": "execute_result"
    }
   ],
   "source": [
    "nodes_df"
   ]
  },
  {
   "cell_type": "markdown",
   "id": "bc4f9a4a-52cd-49c6-b42e-4fb60130b0dd",
   "metadata": {},
   "source": [
    "# Compress at research group level"
   ]
  },
  {
   "cell_type": "code",
   "execution_count": null,
   "id": "e224cc52-f335-4b64-addc-12eac2070ec8",
   "metadata": {},
   "outputs": [],
   "source": []
  }
 ],
 "metadata": {
  "kernelspec": {
   "display_name": "Python 3 (ipykernel)",
   "language": "python",
   "name": "python3"
  },
  "language_info": {
   "codemirror_mode": {
    "name": "ipython",
    "version": 3
   },
   "file_extension": ".py",
   "mimetype": "text/x-python",
   "name": "python",
   "nbconvert_exporter": "python",
   "pygments_lexer": "ipython3",
   "version": "3.9.6"
  }
 },
 "nbformat": 4,
 "nbformat_minor": 5
}
